{
 "cells": [
  {
   "cell_type": "markdown",
   "metadata": {
    "colab_type": "text",
    "id": "eXFfI0wi2OWc"
   },
   "source": [
    "> ### EEE4423: Deep Learning Lab\n",
    "\n",
    "# LAB \\#4: Limitation: Spatial Transformer Network(STN)"
   ]
  },
  {
   "cell_type": "markdown",
   "metadata": {
    "colab_type": "text",
    "id": "E_TAt1ul2OWd"
   },
   "source": [
    "<h4><div style=\"text-align: right\"> Due date: April 1, 2022.  </div> <br>\n",
    "<div style=\"text-align: right\"> Please upload your file @ LearnUs by 9 AM in the form of [ID_Name_Lab04.ipynb]. </div></h4>"
   ]
  },
  {
   "cell_type": "markdown",
   "metadata": {
    "colab_type": "text",
    "id": "JAd1A1R52OWe"
   },
   "source": [
    "### *Instructions:*\n",
    "- Write a program implementing a particular algorithm to solve a given problem.   \n",
    "- <span style=\"color:red\">**Report and discuss your results. Analyze the algorithm, theoretically and empirically.**</span> \n",
    "- Each team must write their own answers and codes (<span style=\"color:red\">**if not you will get a F grade**</span>)."
   ]
  },
  {
   "cell_type": "markdown",
   "metadata": {
    "colab_type": "text",
    "id": "7v-RdgrF2OWf"
   },
   "source": [
    "<h2><span style=\"color:blue\">[Insert your ID HERE] [Insert your name HERE]</span> </h2>"
   ]
  },
  {
   "cell_type": "code",
   "execution_count": 1,
   "metadata": {
    "colab": {},
    "colab_type": "code",
    "execution": {
     "iopub.execute_input": "2022-03-24T11:22:54.619950Z",
     "iopub.status.busy": "2022-03-24T11:22:54.619380Z",
     "iopub.status.idle": "2022-03-24T11:22:54.639314Z",
     "shell.execute_reply": "2022-03-24T11:22:54.638038Z",
     "shell.execute_reply.started": "2022-03-24T11:22:54.619799Z"
    },
    "id": "QsMlF0RR2OWg",
    "outputId": "6ba88b6c-4541-49f8-e21f-086706c61e66",
    "tags": []
   },
   "outputs": [
    {
     "name": "stdout",
     "output_type": "stream",
     "text": [
      "This code is written at 2022-03-25 04:19:52.430862\n"
     ]
    }
   ],
   "source": [
    "import datetime\n",
    "print(\"This code is written at \" + str(datetime.datetime.now()))"
   ]
  },
  {
   "cell_type": "markdown",
   "metadata": {
    "colab_type": "text",
    "id": "SxWW19iY2OWm"
   },
   "source": [
    "## Spatial Transformer Network for classification of distorted MNIST dataset"
   ]
  },
  {
   "cell_type": "markdown",
   "metadata": {
    "colab_type": "text",
    "id": "hzBuF0OV2OWn"
   },
   "source": [
    "## Spatial Transformer Network(STN) [1]\n",
    ">- CNNs are limited by the lack of ability to be spatially invariant to the input data\n",
    ">- Learnable module which explicitly allows the spatial manipulation of data within the network\n",
    ">- This differentiable module can be inserted into existing convolutional architectures\n",
    "\n",
    "<img src=\"http://drive.google.com/uc?export=view&id=1GV2Ix6wuikWdq6-tGkZv2vMQbqMokDbf\" alt=\"no_image\" style=\"width: 900px;\"/>\n",
    "\n",
    "### STN module\n",
    ">1. Localization Network\n",
    ">>- With given input feature map, this network outputs the parameters of the spatial transformation (e.g. 6 parameters for affine transformation)\n",
    ">>- Reference for affine transformation : [2],[3] <br>\n",
    ">> <img src=\"http://drive.google.com/uc?export=view&id=1qho08Gzea5qDTpmsnii0rvwiLzwy54K6\" alt=\"no_image\" style=\"width: 900px;\"/>\n",
    "\n",
    ">2. Parameterised sampling grid (Grid generator)\n",
    ">>- Set of points where the input feature map is sampled to produce the transformation which is a output of localization network  \n",
    ">>- Target coordinate and source coordinate are normalised ($ -1\\le(x_i^t, y_i^t)\\le1$,$ -1\\le(x_i^s, y_i^s)\\le1$ )\n",
    "<img src=\"http://drive.google.com/uc?export=view&id=1pRWzwevo1KjWi3WIC4K8SCkK4oYCD7FZ\" alt=\"no_image\" style=\"width: 500px;\"/>\n",
    ">3. Differentiable Image Sampling (Sampler)\n",
    ">>- Ouput feature map is produced by differentiable bilinear interpolation with input feature map and parameterised sampling grid\n",
    "    \n",
    "<img src=\"http://drive.google.com/uc?export=view&id=1EjoZ6CVLTD3QNl1CKbg1w3YiNf1CzOmH\" alt=\"no_image\" style=\"width: 900px;\"/>\n"
   ]
  },
  {
   "cell_type": "code",
   "execution_count": 2,
   "metadata": {
    "colab": {},
    "colab_type": "code",
    "execution": {
     "iopub.execute_input": "2022-03-24T11:22:55.073717Z",
     "iopub.status.busy": "2022-03-24T11:22:55.073385Z",
     "iopub.status.idle": "2022-03-24T11:22:56.645160Z",
     "shell.execute_reply": "2022-03-24T11:22:56.643931Z",
     "shell.execute_reply.started": "2022-03-24T11:22:55.073695Z"
    },
    "id": "0AoHVrM52OWo",
    "tags": []
   },
   "outputs": [],
   "source": [
    "import warnings\n",
    "import numpy as np\n",
    "import torch\n",
    "import torch.nn as nn\n",
    "import torch.optim as optim\n",
    "import torch.nn.init as init\n",
    "import torchvision.datasets as dset\n",
    "import torchvision.transforms as transforms\n",
    "from torch.utils.data import DataLoader\n",
    "from torch.autograd import Variable\n",
    "import torch.nn.functional as F\n",
    "import torchvision.utils as v_utils\n",
    "import matplotlib.pyplot as plt\n",
    "from PIL import Image\n",
    "import cv2\n",
    "import io\n",
    "import requests\n",
    "import os \n",
    "import copy\n",
    "import time\n",
    "%matplotlib inline\n",
    "\n",
    "warnings.filterwarnings(\"ignore\")"
   ]
  },
  {
   "cell_type": "code",
   "execution_count": 3,
   "metadata": {
    "colab": {},
    "colab_type": "code",
    "execution": {
     "iopub.execute_input": "2022-03-24T11:22:56.646961Z",
     "iopub.status.busy": "2022-03-24T11:22:56.646683Z",
     "iopub.status.idle": "2022-03-24T11:22:56.673943Z",
     "shell.execute_reply": "2022-03-24T11:22:56.673243Z",
     "shell.execute_reply.started": "2022-03-24T11:22:56.646928Z"
    },
    "id": "g84YJUCD2OWr",
    "outputId": "006c73a3-31d5-4b0c-982d-34a203b6f27a",
    "tags": []
   },
   "outputs": [
    {
     "data": {
      "text/plain": [
       "'NVIDIA GeForce RTX 3090'"
      ]
     },
     "execution_count": 3,
     "metadata": {},
     "output_type": "execute_result"
    }
   ],
   "source": [
    "device0 = torch.device(\"cuda:0\" if torch.cuda.is_available() else \"cpu\")\n",
    "torch.cuda.get_device_name(0)"
   ]
  },
  {
   "cell_type": "code",
   "execution_count": 4,
   "metadata": {
    "colab": {},
    "colab_type": "code",
    "execution": {
     "iopub.execute_input": "2022-03-24T11:22:56.675697Z",
     "iopub.status.busy": "2022-03-24T11:22:56.675415Z",
     "iopub.status.idle": "2022-03-24T11:22:56.679122Z",
     "shell.execute_reply": "2022-03-24T11:22:56.678477Z",
     "shell.execute_reply.started": "2022-03-24T11:22:56.675675Z"
    },
    "id": "-gaJ_3Gv2OWv",
    "tags": []
   },
   "outputs": [],
   "source": [
    "# parameters\n",
    "\n",
    "batch_size = 256\n",
    "learning_rate = 0.001\n",
    "num_epoch = 60\n",
    "num_classes = 10"
   ]
  },
  {
   "cell_type": "markdown",
   "metadata": {
    "colab_type": "text",
    "id": "HHuhiUfN2OWy"
   },
   "source": [
    "### 1. Dataset (Distorted MNIST, details in Appendix A.4 Distorted MNIST) [1point]\n",
    ">- Generate RTS(rotated, translated, scaled) MNIST \n",
    ">>- Use *torchvision.transforms*\n",
    ">>- Randomly rotating between $-45^\\circ, 45^\\circ$\n",
    ">>- Randomly scaling the digit by a factor of between $0.7,1.2$\n",
    ">>- Placing the digit in a random location in a $40\\times40$ region of image's center\n",
    ">>- Zerp padding to increase image's size for the digit's translation ($80\\times80$ image)\n",
    ">>- Images to tensor \n",
    ">>- Normalize data with MNIST dataset's mean and standard deviation printed in the 5th cell below\n"
   ]
  },
  {
   "cell_type": "markdown",
   "metadata": {
    "colab_type": "text",
    "id": "tFHJ42zM2OW0"
   },
   "source": [
    "#### 1.1 Write codes for dataset's transformation [1 point]\n"
   ]
  },
  {
   "cell_type": "code",
   "execution_count": 5,
   "metadata": {
    "colab": {},
    "colab_type": "code",
    "execution": {
     "iopub.execute_input": "2022-03-24T11:22:56.680045Z",
     "iopub.status.busy": "2022-03-24T11:22:56.679891Z",
     "iopub.status.idle": "2022-03-24T11:23:03.613166Z",
     "shell.execute_reply": "2022-03-24T11:23:03.611965Z",
     "shell.execute_reply.started": "2022-03-24T11:22:56.680027Z"
    },
    "id": "hJaXUT-12OW1",
    "outputId": "830a480e-708b-4bf5-b508-cfb78023e757",
    "tags": []
   },
   "outputs": [
    {
     "name": "stdout",
     "output_type": "stream",
     "text": [
      "STEP 1: DEFINE DATASET\n",
      "MNIST mean:  tensor(0.1307)\n",
      "MNIST std:  tensor(0.3081)\n"
     ]
    }
   ],
   "source": [
    "print('STEP 1: DEFINE DATASET')\n",
    "\n",
    "## 질문 1. mnist data set이 1channel인지 -> 맞다.\n",
    "# 질문 2. normalize의 이유 -> 학습이 더 빠르다., 분포를 맞춰준다.\n",
    "## 질문 4. translate 역할 -> Placing the digit in a random location in a  40×40  region of image's center\n",
    "##-> 첨언을 하자면 28 x 28 을 40x40까지 움직일 수 있으면 40/28은 이쁜 수가 아난데?5. \n",
    "## 질문 5. compose는 구성 순서대로 돌아가나? 그렇다면z zero padding 후에 randomlocation을 돌리는 것이 맞는 것이 아닌가?(질문 4와 연관됨)\n",
    "## 질문 5 답 -> padding을 먼저해라.\n",
    "# 질문 6 transform을 하면 mean값과 분산 값이 변하지 않는가? -> 변하지만 문제는 삼지 않는다.\n",
    "transform_train = transforms.Compose([\n",
    "    transforms.Pad(26, fill=0, padding_mode='constant'),\n",
    "    transforms.RandomAffine((-45,45),scale=(0.7,1.2),translate=(0.5,0.5)),\n",
    "    transforms.ToTensor(),\n",
    "    transforms.Normalize((0.1307,), (0.3081,))\n",
    "])\n",
    "\n",
    "transform_test = transforms.Compose([\n",
    "    transforms.Pad(26, fill=0, padding_mode='constant'),\n",
    "    transforms.RandomAffine((-45,45),scale=(0.7,1.2),translate=(0.5,0.5)),    \n",
    "    transforms.ToTensor(),\n",
    "    transforms.Normalize((0.1307,), (0.3081,)),\n",
    "])\n",
    "\n",
    "## 질문 3. target_transform의 의미\n",
    "train_dataset = dset.MNIST(root='../dataset/lab04/MNIST', train=True, \n",
    "                        transform=transform_train,\n",
    "                        target_transform=None,\n",
    "                        download=True)\n",
    "test_dataset = dset.MNIST(root='../dataset/lab04/MNIST', train=False, \n",
    "                        transform=transform_test,\n",
    "                        target_transform=None,\n",
    "                        download=False)\n",
    "\n",
    "train_size = len(train_dataset)\n",
    "test_size = len(test_dataset)\n",
    "\n",
    "#dataset mean and std for normalization\n",
    "print('MNIST mean: ',train_dataset.train_data.float().mean()/255)\n",
    "print('MNIST std: ',train_dataset.train_data.float().std()/255)"
   ]
  },
  {
   "cell_type": "code",
   "execution_count": 6,
   "metadata": {
    "colab": {},
    "colab_type": "code",
    "execution": {
     "iopub.execute_input": "2022-03-24T11:23:03.633179Z",
     "iopub.status.busy": "2022-03-24T11:23:03.632685Z",
     "iopub.status.idle": "2022-03-24T11:23:03.640291Z",
     "shell.execute_reply": "2022-03-24T11:23:03.639175Z",
     "shell.execute_reply.started": "2022-03-24T11:23:03.633131Z"
    },
    "id": "dmdruxLV2OW5",
    "outputId": "55ecb3fe-8846-4515-8299-44c879306370",
    "tags": []
   },
   "outputs": [
    {
     "name": "stdout",
     "output_type": "stream",
     "text": [
      "Train dataset size: 60000\n",
      "Test dataset size: 10000\n"
     ]
    }
   ],
   "source": [
    "print('Train dataset size: {}'.format(len(train_dataset)))\n",
    "print('Test dataset size: {}'.format(len(test_dataset)))"
   ]
  },
  {
   "cell_type": "code",
   "execution_count": 7,
   "metadata": {},
   "outputs": [
    {
     "data": {
      "text/plain": [
       "torch.Size([1, 80, 80])"
      ]
     },
     "execution_count": 7,
     "metadata": {},
     "output_type": "execute_result"
    }
   ],
   "source": [
    "train_dataset[0][0].size()"
   ]
  },
  {
   "cell_type": "markdown",
   "metadata": {
    "colab_type": "text",
    "id": "P9PliNxe2OW9"
   },
   "source": [
    "###  Visualize Dataset\n"
   ]
  },
  {
   "cell_type": "code",
   "execution_count": 8,
   "metadata": {
    "colab": {},
    "colab_type": "code",
    "execution": {
     "iopub.execute_input": "2022-03-24T11:23:03.642626Z",
     "iopub.status.busy": "2022-03-24T11:23:03.642072Z",
     "iopub.status.idle": "2022-03-24T11:23:04.162114Z",
     "shell.execute_reply": "2022-03-24T11:23:04.160696Z",
     "shell.execute_reply.started": "2022-03-24T11:23:03.642577Z"
    },
    "id": "D7MVg2wH2OW-",
    "outputId": "e0a1b9cb-c9db-477d-a825-91f0cacd88e7",
    "tags": []
   },
   "outputs": [
    {
     "data": {
      "image/png": "[encoded data removed]",
      "text/plain": [
       "<Figure size 432x288 with 5 Axes>"
      ]
     },
     "metadata": {
      "needs_background": "light"
     },
     "output_type": "display_data"
    }
   ],
   "source": [
    "figure = plt.figure()\n",
    "\n",
    "for i in range(train_size):\n",
    "    sample = train_dataset[i]\n",
    "    figure.add_subplot(1,5,i+1).set_title('Label:{}'.format(sample[1]))\n",
    "    imgplot = plt.imshow((sample[0].squeeze(0).cpu()+1)/2)\n",
    "    if i == 4:\n",
    "        plt.show()\n",
    "        break"
   ]
  },
  {
   "cell_type": "code",
   "execution_count": 9,
   "metadata": {
    "colab": {},
    "colab_type": "code",
    "execution": {
     "iopub.execute_input": "2022-03-24T11:23:18.076172Z",
     "iopub.status.busy": "2022-03-24T11:23:18.075699Z",
     "iopub.status.idle": "2022-03-24T11:23:18.086294Z",
     "shell.execute_reply": "2022-03-24T11:23:18.084946Z",
     "shell.execute_reply.started": "2022-03-24T11:23:18.076119Z"
    },
    "id": "h9wwuE7t2OXC",
    "outputId": "835d6b06-3445-4404-f5de-6f5869a060f5",
    "tags": []
   },
   "outputs": [
    {
     "name": "stdout",
     "output_type": "stream",
     "text": [
      "STEP 2: LOADING DATASET\n"
     ]
    }
   ],
   "source": [
    "print('STEP 2: LOADING DATASET')\n",
    "\n",
    "train_loader = torch.utils.data.DataLoader(train_dataset,batch_size=batch_size, shuffle=True,num_workers=4,drop_last=True)\n",
    "test_loader = torch.utils.data.DataLoader(test_dataset,batch_size=batch_size, shuffle=False,num_workers=4,drop_last=True)"
   ]
  },
  {
   "cell_type": "markdown",
   "metadata": {
    "colab_type": "text",
    "id": "WkYr7Cp_2OXG"
   },
   "source": [
    "##  Model\n",
    "### 2. CNN Model Setup (details in Appendix A.4 Distorted MNIST) [3points]\n",
    ">\n",
    ">1. CNN \n",
    ">>- 2 convolutional layers and 2 max-pooling layers before final classification layer\n",
    ">>- Two conv layers have 32 and 64 filters and use ReLU \n",
    ">2. Classifier\n",
    ">>- 2 fully-connected layers and the number of input features to the last layer is 128\n",
    ">>- Also use ReLU as an activation function\n",
    ">3. ST module\n",
    ">>- At the beginning of the network\n",
    ">>- 2 convolutional layer and 2 fully-connected layer in localization network\n",
    ">>- Initialize the *fc_loc*'s final regression layer with identity transformation\n",
    ">>- Produce affine transformation parameters for RTS dataset\n",
    ">>- Reference for grid generator function: [4] <br>\n",
    ">>- Reference for sampler function: [5] <br>\n",
    ">\n",
    "> **++Hint: All learnable parameters' sizes of model are in the 10th cell below** <br>\n",
    "> **++For RTS datasets, the network has average pooling layer after the ST module to downsample the output of the transformer by a factor of 2**\n",
    "\n",
    "| **Layer** | **Kernel size** | **stride** | **padding** |\n",
    "|:---:|:---:|:---:|:---:|\n",
    "| 1st Conv of *cnn* | 9 | 1 | 0 |\n",
    "| 2nd Conv of *cnn* | 7 | 1 | 0 |\n",
    "| 1st Conv of *localization* | 5 | 1 | 0 |\n",
    "| 2nd Conv of *localization* | 5 | 1 | 0 |\n",
    "| AvgPool | 2 | 2 | 0 |\n",
    "| MaxPool | 2 | 2 | 0 |\n"
   ]
  },
  {
   "cell_type": "markdown",
   "metadata": {
    "colab_type": "text",
    "id": "cYHuW3KR2OXH"
   },
   "source": [
    "#### 2.1 Write codes for the model class (STN_CNN) [3 points]\n"
   ]
  },
  {
   "cell_type": "code",
   "execution_count": 10,
   "metadata": {
    "colab": {},
    "colab_type": "code",
    "execution": {
     "iopub.execute_input": "2022-03-24T11:23:24.658238Z",
     "iopub.status.busy": "2022-03-24T11:23:24.657769Z",
     "iopub.status.idle": "2022-03-24T11:23:24.665973Z",
     "shell.execute_reply": "2022-03-24T11:23:24.664633Z",
     "shell.execute_reply.started": "2022-03-24T11:23:24.658187Z"
    },
    "id": "pT5hnJ6l2OXI",
    "outputId": "8ea84272-477f-4eb9-8574-c38f600d70c6",
    "scrolled": true,
    "tags": []
   },
   "outputs": [
    {
     "name": "stdout",
     "output_type": "stream",
     "text": [
      "STEP 3: CREATE MODEL CLASS (STN_CNN)\n"
     ]
    }
   ],
   "source": [
    "print('STEP 3: CREATE MODEL CLASS (STN_CNN)')\n",
    "\n",
    "# tunctional.grid_sample -> sampling\n",
    "\n",
    "# Conv -> Conv -> FC -> RC\n",
    "\n",
    "# input img    (1,80,80)\n",
    "# STN 1st conv (20,76,76) 질문 -> 오픈 소스를 봤는데 STN 다음에서도 conv 다음에서도 maxpooling를 사용하는데? \n",
    "# maxpooling    (20,38,38)\n",
    "# STN 2nd conv (20,34,34) 질문 -> 절대 23120이 나올수 없는데? -> 맨 마지막 maxmpooling을 제거하라 \n",
    "# maxpooling    (20,17,17)\n",
    "# STN output (batch size,23120=20x34x34)\n",
    "# STN fc_loc output (batchsize, 20) -> (batchsize, 6) -> (batchsize, 2,3)\n",
    "# CNN input (32)\n",
    "\n",
    "## 아래 시나리오는 걍 틀림.\n",
    "# 다음 시나리오\n",
    "# input img (1,80,80)\n",
    "# avg pooling (1,40,40)\n",
    "# STN 1st  conv (20,36,36)\n",
    "# STN 2nd  conv (20,32,32)\n",
    "\n",
    "\n",
    "# input img (1,80,80)\n",
    "# STN 1st  conv (20,76,76)\n",
    "# STN 2nd  conv (20,72,72)\n",
    "# avg pooling (20,36,36)\n",
    "\n",
    "class STN_CNN(nn.Module):\n",
    "    def __init__(self) :\n",
    "        super(STN_CNN, self).__init__()\n",
    "        self.cnn = nn.Sequential(\n",
    "            # (1,40,40)\n",
    "            nn.Conv2d(1, 32, kernel_size=9),nn.MaxPool2d(kernel_size=2, stride=2),nn.ReLU(),\n",
    "            # (32,32,32) -> (32,16,16)\n",
    "            nn.Conv2d(32, 64, kernel_size=7),nn.MaxPool2d(kernel_size=2, stride=2),nn.ReLU()\n",
    "            # (64,10,10) -> (64,5,5)\n",
    "        )\n",
    "        \n",
    "        self.classifier = nn.Sequential(\n",
    "            nn.Linear(1600, 128),nn.ReLU(),\n",
    "            nn.Linear(128, 10)\n",
    "        )\n",
    "        \n",
    "        # Spatial transformer localization-network\n",
    "        self.localization = nn.Sequential(\n",
    "            #(1,80,80)\n",
    "            nn.Conv2d(1, 20, kernel_size=5),\n",
    "            #(20,76,76)\n",
    "            nn.MaxPool2d(2, stride=2),nn.ReLU(True),\n",
    "            #(20,38,38)\n",
    "            nn.Conv2d(20, 20, kernel_size=5),nn.ReLU(True)\n",
    "            #(20,34,34)\n",
    "        )\n",
    "\n",
    "        # Regressor for the 3 * 2 affine matrix\n",
    "        self.fc_loc = nn.Sequential(\n",
    "            nn.Linear(20 * 34 * 34, 20),nn.ReLU(), # 23120 = 20 x34 x34\n",
    "            nn.Linear(20, 6)\n",
    "        )\n",
    "\n",
    "        # Initialize the weights/bias with identity transformation\n",
    "        self.fc_loc[2].weight.data.fill_(0)\n",
    "        self.fc_loc[2].bias.data = torch.FloatTensor([1, 0, 0, 0, 1, 0])\n",
    "        \n",
    "        self.avgpool = nn.AvgPool2d(2, stride=2)\n",
    "\n",
    "    # Spatial transformer network forward function\n",
    "    def stn(self, x):\n",
    "        # input feature map : (1, 80, 80)\n",
    "        xs = self.localization(x)\n",
    "        # localization은 2개의 conv layer를 통과한다.\n",
    "        # output feature map : (20, 34, 34)\n",
    "        # 아래를 통해  20, 34, 34, 이 linear 연산을 할 수 있는 1-D로 변환됨.\n",
    "        xs = xs.view(-1, 20 * 34 * 34)\n",
    "        # theta는 affine 변환을 위한 parameter.\n",
    "        theta = self.fc_loc(xs)\n",
    "        theta = theta.view(-1, 2, 3)\n",
    "\n",
    "        grid = F.affine_grid(theta, x.size())\n",
    "        x = F.grid_sample(x, grid)\n",
    "\n",
    "        return x\n",
    "\n",
    "    def forward(self, x):\n",
    "        # transform the input\n",
    "        # x : input (1, 80, 80)\n",
    "        x = self.stn(x)\n",
    "        # stn 통해 나온 결과는 str의 input과 동일한 size \n",
    "        # 즉 정규화된 이미지라고 생각하면 된다.\n",
    "        x = self.avgpool(x)\n",
    "        # 변형된 input (1,40,40)\n",
    "        # 여기서부터는 일반적인 classification을 위한 forward pass 와 동일\n",
    "        x = self.cnn(x)\n",
    "        x = x.view(-1, 1600)        \n",
    "        x = self.classifier(x)\n",
    "        return F.log_softmax(x,dim=1)"
   ]
  },
  {
   "cell_type": "code",
   "execution_count": 11,
   "metadata": {
    "colab": {},
    "colab_type": "code",
    "execution": {
     "iopub.execute_input": "2022-03-24T11:23:25.618588Z",
     "iopub.status.busy": "2022-03-24T11:23:25.618032Z",
     "iopub.status.idle": "2022-03-24T11:23:25.648656Z",
     "shell.execute_reply": "2022-03-24T11:23:25.647756Z",
     "shell.execute_reply.started": "2022-03-24T11:23:25.618539Z"
    },
    "id": "IjmaoyEv2OXM",
    "outputId": "bf5a432d-493d-4d2d-d8e6-fc3c8783cde6",
    "tags": []
   },
   "outputs": [
    {
     "name": "stdout",
     "output_type": "stream",
     "text": [
      "STEP 4: INSTANTIATE MODEL CLASS\n",
      "\n",
      "STN_CNN's state_dict:\n",
      "cnn.0.weight \t torch.Size([32, 1, 9, 9])\n",
      "cnn.0.bias \t torch.Size([32])\n",
      "cnn.3.weight \t torch.Size([64, 32, 7, 7])\n",
      "cnn.3.bias \t torch.Size([64])\n",
      "classifier.0.weight \t torch.Size([128, 1600])\n",
      "classifier.0.bias \t torch.Size([128])\n",
      "classifier.2.weight \t torch.Size([10, 128])\n",
      "classifier.2.bias \t torch.Size([10])\n",
      "localization.0.weight \t torch.Size([20, 1, 5, 5])\n",
      "localization.0.bias \t torch.Size([20])\n",
      "localization.3.weight \t torch.Size([20, 20, 5, 5])\n",
      "localization.3.bias \t torch.Size([20])\n",
      "fc_loc.0.weight \t torch.Size([20, 23120])\n",
      "fc_loc.0.bias \t torch.Size([20])\n",
      "fc_loc.2.weight \t torch.Size([6, 20])\n",
      "fc_loc.2.bias \t torch.Size([6])\n"
     ]
    }
   ],
   "source": [
    "print('STEP 4: INSTANTIATE MODEL CLASS\\n')\n",
    "model = STN_CNN()\n",
    "\n",
    "print(\"STN_CNN's state_dict:\")\n",
    "os.makedirs('weights/lab04', exist_ok=True)\n",
    "for param_tensor in model.state_dict():\n",
    "    print(param_tensor, \"\\t\", model.state_dict()[param_tensor].size())"
   ]
  },
  {
   "cell_type": "markdown",
   "metadata": {
    "colab_type": "text",
    "id": "SvfNJkk02OXQ"
   },
   "source": [
    "###  Parameter updates\n",
    "#### Scheduling (Annealing) the learning rate [6]\n",
    ">- In training deep networks, it is usually helpful to anneal the learning rate over time\n",
    ">>- With high learning rate, the optimizing system can't settle down into deeper parts of the loss function\n",
    ">- When to decay can be tricky\n",
    ">>- Slowly : Wasting computation with little improvement for a long time\n",
    ">>- Aggressively: Cooling too quickly, unable to find the best point\n",
    ">- 3 common types\n",
    ">>1. Step decay: Reduce the learning rate by some factor every few epochs (e.g. half every 5 epochs, or by 0.1 every 10 epochs)\n",
    ">>2. Exponential decay: In the form of mathematical formulation $\\alpha = \\alpha_0\\exp^{-kt}$, where $\\alpha_0, k$ are hyperparameters and $t$ is the iteration number(or units of epochs)\n",
    ">>3. $1/t$ decay : In the form of mathematical formulation $\\alpha = \\alpha_0/(1+kt)$, where $\\alpha_0, k$ are hyperparameters and $t$ is the iteration number\n",
    ">- In practice, the step decay is slightly preferable\n",
    "\n",
    "#### How to adjust learning rate in pytorch [7]\n",
    ">- *torch.optim.lr_scheduler* provides several methods based on the number of epochs\n",
    ">- For example, the step decay can be implemented by *torch.optim.lr_scheduler.StepLR* class (See reference for more types)\n",
    ">- We use *ReduceLROnPlateau* class in this lab which allows dynamic learning rate adjusting based on our validation measurements\n",
    ">>- Reduce the learning rate when our metric has stopped improving \n",
    ">>- The learning rate is reduced if no improvement of our metric is seen for a 'patience' number of epochs\n",
    ">>- See reference for more details \n"
   ]
  },
  {
   "cell_type": "code",
   "execution_count": 12,
   "metadata": {},
   "outputs": [
    {
     "name": "stdout",
     "output_type": "stream",
     "text": [
      "STEP 4: INSTANTIATE MODEL CLASS\n",
      "The number of parameters :  782344\n",
      "STN_CNN(\n",
      "  (cnn): Sequential(\n",
      "    (0): Conv2d(1, 32, kernel_size=(9, 9), stride=(1, 1))\n",
      "    (1): MaxPool2d(kernel_size=2, stride=2, padding=0, dilation=1, ceil_mode=False)\n",
      "    (2): ReLU()\n",
      "    (3): Conv2d(32, 64, kernel_size=(7, 7), stride=(1, 1))\n",
      "    (4): MaxPool2d(kernel_size=2, stride=2, padding=0, dilation=1, ceil_mode=False)\n",
      "    (5): ReLU()\n",
      "  )\n",
      "  (classifier): Sequential(\n",
      "    (0): Linear(in_features=1600, out_features=128, bias=True)\n",
      "    (1): ReLU()\n",
      "    (2): Linear(in_features=128, out_features=10, bias=True)\n",
      "  )\n",
      "  (localization): Sequential(\n",
      "    (0): Conv2d(1, 20, kernel_size=(5, 5), stride=(1, 1))\n",
      "    (1): MaxPool2d(kernel_size=2, stride=2, padding=0, dilation=1, ceil_mode=False)\n",
      "    (2): ReLU(inplace=True)\n",
      "    (3): Conv2d(20, 20, kernel_size=(5, 5), stride=(1, 1))\n",
      "    (4): ReLU(inplace=True)\n",
      "  )\n",
      "  (fc_loc): Sequential(\n",
      "    (0): Linear(in_features=23120, out_features=20, bias=True)\n",
      "    (1): ReLU()\n",
      "    (2): Linear(in_features=20, out_features=6, bias=True)\n",
      "  )\n",
      "  (avgpool): AvgPool2d(kernel_size=2, stride=2, padding=0)\n",
      ")\n",
      "cuda:0\n"
     ]
    }
   ],
   "source": [
    "print('STEP 4: INSTANTIATE MODEL CLASS')\n",
    "\n",
    "num_total_params = sum(p.numel() for p in model.parameters())\n",
    "print(\"The number of parameters : \", num_total_params)\n",
    "#######################\n",
    "#  USE GPU FOR MODEL  #\n",
    "#######################\n",
    "\n",
    "device = torch.device(\"cuda:0\" if torch.cuda.is_available() else \"cpu\")\n",
    "print(model.to(device))\n",
    "print(device)"
   ]
  },
  {
   "cell_type": "code",
   "execution_count": 13,
   "metadata": {
    "colab": {},
    "colab_type": "code",
    "execution": {
     "iopub.status.busy": "2022-03-24T11:23:04.166634Z",
     "iopub.status.idle": "2022-03-24T11:23:04.166865Z",
     "shell.execute_reply": "2022-03-24T11:23:04.166749Z",
     "shell.execute_reply.started": "2022-03-24T11:23:04.166739Z"
    },
    "id": "jLusumF82OXR",
    "outputId": "5830bff3-6ed8-41a4-f499-72bab0e13ad8",
    "tags": []
   },
   "outputs": [
    {
     "name": "stdout",
     "output_type": "stream",
     "text": [
      "STEP 5: INSTANTIATE OPTIMIZER CLASS\n"
     ]
    }
   ],
   "source": [
    "print('STEP 5: INSTANTIATE OPTIMIZER CLASS')\n",
    "\n",
    "optimizer = torch.optim.Adam(model.parameters(), lr=learning_rate)\n",
    "scheduler = optim.lr_scheduler.ReduceLROnPlateau(optimizer, mode='max', factor = 0.1, patience=6)\n",
    "\n",
    "\n",
    "def get_lr(optimizer):\n",
    "    for param_group in optimizer.param_groups:\n",
    "        return param_group['lr']"
   ]
  },
  {
   "cell_type": "markdown",
   "metadata": {
    "colab_type": "text",
    "id": "vvw4SWmz2OXY"
   },
   "source": [
    "### 3.Train/Test [2points]\n"
   ]
  },
  {
   "cell_type": "markdown",
   "metadata": {
    "colab_type": "text",
    "id": "bCEa1yPU2OXa"
   },
   "source": [
    "#### 3.1Tirain the STN_CNN model and print accuracy for every epochs [2 points]\n"
   ]
  },
  {
   "cell_type": "code",
   "execution_count": 14,
   "metadata": {
    "colab": {},
    "colab_type": "code",
    "execution": {
     "iopub.status.busy": "2022-03-24T11:23:04.167706Z",
     "iopub.status.idle": "2022-03-24T11:23:04.167921Z",
     "shell.execute_reply": "2022-03-24T11:23:04.167821Z",
     "shell.execute_reply.started": "2022-03-24T11:23:04.167810Z"
    },
    "id": "GyKtHA002OXb",
    "outputId": "0e82495e-393f-4624-e3c6-afd50cd69968",
    "scrolled": true,
    "tags": []
   },
   "outputs": [
    {
     "name": "stdout",
     "output_type": "stream",
     "text": [
      "STEP 6: INSTANTIATE LOSS CLASS\n",
      "STEP 7: TRAIN THE MODEL\n",
      "Train Epoch: 0 [0/60000 (0%) / Learning rate:0.001]\tLoss:2.305676  \n",
      "Train Epoch: 0 [51200/60000 (85%) / Learning rate:0.001]\tLoss:1.962329  \n",
      "////Epoch elapsed time: 7.80545449256897////\n",
      "\n",
      "Train Epoch: 1 [0/60000 (0%) / Learning rate:0.001]\tLoss:1.835403  \n",
      "Train Epoch: 1 [51200/60000 (85%) / Learning rate:0.001]\tLoss:1.404974  \n",
      "////Epoch elapsed time: 7.610682010650635////\n",
      "\n",
      "Train Epoch: 2 [0/60000 (0%) / Learning rate:0.001]\tLoss:1.271935  \n",
      "Train Epoch: 2 [51200/60000 (85%) / Learning rate:0.001]\tLoss:1.195376  \n",
      "////Epoch elapsed time: 7.599729061126709////\n",
      "\n",
      "Train Epoch: 3 [0/60000 (0%) / Learning rate:0.001]\tLoss:1.053214  \n",
      "Train Epoch: 3 [51200/60000 (85%) / Learning rate:0.001]\tLoss:1.019075  \n",
      "////Epoch elapsed time: 7.534734487533569////\n",
      "\n",
      "Train Epoch: 4 [0/60000 (0%) / Learning rate:0.001]\tLoss:1.040569  \n",
      "Train Epoch: 4 [51200/60000 (85%) / Learning rate:0.001]\tLoss:0.957519  \n",
      "////Epoch elapsed time: 7.6419901847839355////\n",
      "\n",
      "Train Epoch: 5 [0/60000 (0%) / Learning rate:0.001]\tLoss:0.871893  \n",
      "Train Epoch: 5 [51200/60000 (85%) / Learning rate:0.001]\tLoss:0.823977  \n",
      "////Epoch elapsed time: 7.701342582702637////\n",
      "\n",
      "Train Epoch: 6 [0/60000 (0%) / Learning rate:0.001]\tLoss:0.863755  \n",
      "Train Epoch: 6 [51200/60000 (85%) / Learning rate:0.001]\tLoss:0.867115  \n",
      "////Epoch elapsed time: 7.688823938369751////\n",
      "\n",
      "Train Epoch: 7 [0/60000 (0%) / Learning rate:0.001]\tLoss:0.883123  \n",
      "Train Epoch: 7 [51200/60000 (85%) / Learning rate:0.001]\tLoss:0.845813  \n",
      "////Epoch elapsed time: 7.584315538406372////\n",
      "\n",
      "Train Epoch: 8 [0/60000 (0%) / Learning rate:0.001]\tLoss:0.780050  \n",
      "Train Epoch: 8 [51200/60000 (85%) / Learning rate:0.001]\tLoss:0.677090  \n",
      "////Epoch elapsed time: 7.70842432975769////\n",
      "\n",
      "Train Epoch: 9 [0/60000 (0%) / Learning rate:0.001]\tLoss:0.610549  \n",
      "Train Epoch: 9 [51200/60000 (85%) / Learning rate:0.001]\tLoss:0.654955  \n",
      "////Epoch elapsed time: 7.481086254119873////\n",
      "\n",
      "Train Epoch: 10 [0/60000 (0%) / Learning rate:0.001]\tLoss:0.566824  \n",
      "Train Epoch: 10 [51200/60000 (85%) / Learning rate:0.001]\tLoss:0.619672  \n",
      "////Epoch elapsed time: 7.364072561264038////\n",
      "\n",
      "Train Epoch: 11 [0/60000 (0%) / Learning rate:0.001]\tLoss:0.746160  \n",
      "Train Epoch: 11 [51200/60000 (85%) / Learning rate:0.001]\tLoss:0.658847  \n",
      "////Epoch elapsed time: 7.653101444244385////\n",
      "\n",
      "Train Epoch: 12 [0/60000 (0%) / Learning rate:0.001]\tLoss:0.581239  \n",
      "Train Epoch: 12 [51200/60000 (85%) / Learning rate:0.001]\tLoss:0.509820  \n",
      "////Epoch elapsed time: 7.62168550491333////\n",
      "\n",
      "Train Epoch: 13 [0/60000 (0%) / Learning rate:0.001]\tLoss:0.605280  \n",
      "Train Epoch: 13 [51200/60000 (85%) / Learning rate:0.001]\tLoss:0.611626  \n",
      "////Epoch elapsed time: 7.730657577514648////\n",
      "\n",
      "Train Epoch: 14 [0/60000 (0%) / Learning rate:0.001]\tLoss:0.558927  \n",
      "Train Epoch: 14 [51200/60000 (85%) / Learning rate:0.001]\tLoss:0.668190  \n",
      "////Epoch elapsed time: 7.754278898239136////\n",
      "\n",
      "Train Epoch: 15 [0/60000 (0%) / Learning rate:0.001]\tLoss:0.575831  \n",
      "Train Epoch: 15 [51200/60000 (85%) / Learning rate:0.001]\tLoss:0.625714  \n",
      "////Epoch elapsed time: 7.6353795528411865////\n",
      "\n",
      "Train Epoch: 16 [0/60000 (0%) / Learning rate:0.001]\tLoss:0.649312  \n",
      "Train Epoch: 16 [51200/60000 (85%) / Learning rate:0.001]\tLoss:0.586632  \n",
      "////Epoch elapsed time: 7.581948518753052////\n",
      "\n",
      "Train Epoch: 17 [0/60000 (0%) / Learning rate:0.001]\tLoss:0.490585  \n",
      "Train Epoch: 17 [51200/60000 (85%) / Learning rate:0.001]\tLoss:0.572545  \n",
      "////Epoch elapsed time: 7.761411428451538////\n",
      "\n",
      "Train Epoch: 18 [0/60000 (0%) / Learning rate:0.001]\tLoss:0.559537  \n",
      "Train Epoch: 18 [51200/60000 (85%) / Learning rate:0.001]\tLoss:0.653369  \n",
      "////Epoch elapsed time: 7.445643424987793////\n",
      "\n",
      "Train Epoch: 19 [0/60000 (0%) / Learning rate:0.001]\tLoss:0.575584  \n",
      "Train Epoch: 19 [51200/60000 (85%) / Learning rate:0.001]\tLoss:0.617713  \n",
      "////Epoch elapsed time: 7.779289484024048////\n",
      "\n",
      "Train Epoch: 20 [0/60000 (0%) / Learning rate:0.001]\tLoss:0.413292  \n",
      "Train Epoch: 20 [51200/60000 (85%) / Learning rate:0.001]\tLoss:0.538658  \n",
      "////Epoch elapsed time: 7.817870378494263////\n",
      "\n",
      "Train Epoch: 21 [0/60000 (0%) / Learning rate:0.001]\tLoss:0.590897  \n",
      "Train Epoch: 21 [51200/60000 (85%) / Learning rate:0.001]\tLoss:0.516503  \n",
      "////Epoch elapsed time: 7.386025667190552////\n",
      "\n",
      "Train Epoch: 22 [0/60000 (0%) / Learning rate:0.001]\tLoss:0.457293  \n",
      "Train Epoch: 22 [51200/60000 (85%) / Learning rate:0.001]\tLoss:0.506669  \n",
      "////Epoch elapsed time: 7.598750352859497////\n",
      "\n",
      "Train Epoch: 23 [0/60000 (0%) / Learning rate:0.001]\tLoss:0.411200  \n",
      "Train Epoch: 23 [51200/60000 (85%) / Learning rate:0.001]\tLoss:0.587188  \n",
      "////Epoch elapsed time: 7.617165803909302////\n",
      "\n",
      "Train Epoch: 24 [0/60000 (0%) / Learning rate:0.001]\tLoss:0.549162  \n",
      "Train Epoch: 24 [51200/60000 (85%) / Learning rate:0.001]\tLoss:0.507670  \n",
      "////Epoch elapsed time: 7.7358338832855225////\n",
      "\n",
      "Train Epoch: 25 [0/60000 (0%) / Learning rate:0.001]\tLoss:0.537234  \n",
      "Train Epoch: 25 [51200/60000 (85%) / Learning rate:0.001]\tLoss:0.492189  \n",
      "////Epoch elapsed time: 7.5008344650268555////\n",
      "\n",
      "Train Epoch: 26 [0/60000 (0%) / Learning rate:0.001]\tLoss:0.520140  \n",
      "Train Epoch: 26 [51200/60000 (85%) / Learning rate:0.001]\tLoss:0.509233  \n",
      "////Epoch elapsed time: 7.52177357673645////\n",
      "\n",
      "Train Epoch: 27 [0/60000 (0%) / Learning rate:0.001]\tLoss:0.473716  \n",
      "Train Epoch: 27 [51200/60000 (85%) / Learning rate:0.001]\tLoss:0.499047  \n",
      "////Epoch elapsed time: 7.5102763175964355////\n",
      "\n",
      "Train Epoch: 28 [0/60000 (0%) / Learning rate:0.001]\tLoss:0.459996  \n",
      "Train Epoch: 28 [51200/60000 (85%) / Learning rate:0.001]\tLoss:0.456958  \n",
      "////Epoch elapsed time: 7.551578044891357////\n",
      "\n",
      "Train Epoch: 29 [0/60000 (0%) / Learning rate:0.001]\tLoss:0.556368  \n",
      "Train Epoch: 29 [51200/60000 (85%) / Learning rate:0.001]\tLoss:0.491976  \n",
      "////Epoch elapsed time: 7.658154487609863////\n",
      "\n",
      "Train Epoch: 30 [0/60000 (0%) / Learning rate:0.001]\tLoss:0.531696  \n",
      "Train Epoch: 30 [51200/60000 (85%) / Learning rate:0.001]\tLoss:0.393557  \n",
      "////Epoch elapsed time: 7.772494554519653////\n",
      "\n",
      "Train Epoch: 31 [0/60000 (0%) / Learning rate:0.001]\tLoss:0.442785  \n",
      "Train Epoch: 31 [51200/60000 (85%) / Learning rate:0.001]\tLoss:0.382050  \n",
      "////Epoch elapsed time: 8.045954465866089////\n",
      "\n",
      "Train Epoch: 32 [0/60000 (0%) / Learning rate:0.001]\tLoss:0.395593  \n",
      "Train Epoch: 32 [51200/60000 (85%) / Learning rate:0.001]\tLoss:0.484040  \n",
      "////Epoch elapsed time: 7.847379684448242////\n",
      "\n",
      "Train Epoch: 33 [0/60000 (0%) / Learning rate:0.001]\tLoss:0.435573  \n",
      "Train Epoch: 33 [51200/60000 (85%) / Learning rate:0.001]\tLoss:0.384311  \n",
      "////Epoch elapsed time: 7.685675144195557////\n",
      "\n",
      "Train Epoch: 34 [0/60000 (0%) / Learning rate:0.001]\tLoss:0.404241  \n",
      "Train Epoch: 34 [51200/60000 (85%) / Learning rate:0.001]\tLoss:0.483873  \n",
      "////Epoch elapsed time: 7.707061767578125////\n",
      "\n",
      "Train Epoch: 35 [0/60000 (0%) / Learning rate:0.001]\tLoss:0.470588  \n",
      "Train Epoch: 35 [51200/60000 (85%) / Learning rate:0.001]\tLoss:0.511673  \n",
      "////Epoch elapsed time: 7.565494060516357////\n",
      "\n",
      "Train Epoch: 36 [0/60000 (0%) / Learning rate:0.001]\tLoss:0.439972  \n",
      "Train Epoch: 36 [51200/60000 (85%) / Learning rate:0.001]\tLoss:0.371034  \n",
      "////Epoch elapsed time: 7.782118082046509////\n",
      "\n",
      "Train Epoch: 37 [0/60000 (0%) / Learning rate:0.0001]\tLoss:0.523618  \n",
      "Train Epoch: 37 [51200/60000 (85%) / Learning rate:0.0001]\tLoss:0.456951  \n",
      "////Epoch elapsed time: 7.664713621139526////\n",
      "\n",
      "Train Epoch: 38 [0/60000 (0%) / Learning rate:0.0001]\tLoss:0.363281  \n",
      "Train Epoch: 38 [51200/60000 (85%) / Learning rate:0.0001]\tLoss:0.352477  \n",
      "////Epoch elapsed time: 7.507754802703857////\n",
      "\n",
      "Train Epoch: 39 [0/60000 (0%) / Learning rate:0.0001]\tLoss:0.406295  \n",
      "Train Epoch: 39 [51200/60000 (85%) / Learning rate:0.0001]\tLoss:0.445412  \n",
      "////Epoch elapsed time: 7.57726263999939////\n",
      "\n",
      "Train Epoch: 40 [0/60000 (0%) / Learning rate:0.0001]\tLoss:0.315154  \n",
      "Train Epoch: 40 [51200/60000 (85%) / Learning rate:0.0001]\tLoss:0.343457  \n",
      "////Epoch elapsed time: 7.429585933685303////\n",
      "\n",
      "Train Epoch: 41 [0/60000 (0%) / Learning rate:0.0001]\tLoss:0.348273  \n",
      "Train Epoch: 41 [51200/60000 (85%) / Learning rate:0.0001]\tLoss:0.531713  \n",
      "////Epoch elapsed time: 7.758529186248779////\n",
      "\n",
      "Train Epoch: 42 [0/60000 (0%) / Learning rate:0.0001]\tLoss:0.394111  \n",
      "Train Epoch: 42 [51200/60000 (85%) / Learning rate:0.0001]\tLoss:0.448736  \n",
      "////Epoch elapsed time: 7.599625825881958////\n",
      "\n"
     ]
    },
    {
     "name": "stdout",
     "output_type": "stream",
     "text": [
      "Train Epoch: 43 [0/60000 (0%) / Learning rate:0.0001]\tLoss:0.363580  \n",
      "Train Epoch: 43 [51200/60000 (85%) / Learning rate:0.0001]\tLoss:0.361442  \n",
      "////Epoch elapsed time: 7.360799312591553////\n",
      "\n",
      "Train Epoch: 44 [0/60000 (0%) / Learning rate:0.0001]\tLoss:0.414489  \n",
      "Train Epoch: 44 [51200/60000 (85%) / Learning rate:0.0001]\tLoss:0.387016  \n",
      "////Epoch elapsed time: 7.5319273471832275////\n",
      "\n",
      "Train Epoch: 45 [0/60000 (0%) / Learning rate:0.0001]\tLoss:0.419072  \n",
      "Train Epoch: 45 [51200/60000 (85%) / Learning rate:0.0001]\tLoss:0.363652  \n",
      "////Epoch elapsed time: 7.73002815246582////\n",
      "\n",
      "Train Epoch: 46 [0/60000 (0%) / Learning rate:0.0001]\tLoss:0.428124  \n",
      "Train Epoch: 46 [51200/60000 (85%) / Learning rate:0.0001]\tLoss:0.406991  \n",
      "////Epoch elapsed time: 7.610511302947998////\n",
      "\n",
      "Train Epoch: 47 [0/60000 (0%) / Learning rate:0.0001]\tLoss:0.419095  \n",
      "Train Epoch: 47 [51200/60000 (85%) / Learning rate:0.0001]\tLoss:0.432694  \n",
      "////Epoch elapsed time: 7.744132041931152////\n",
      "\n",
      "Train Epoch: 48 [0/60000 (0%) / Learning rate:0.0001]\tLoss:0.380045  \n",
      "Train Epoch: 48 [51200/60000 (85%) / Learning rate:0.0001]\tLoss:0.370479  \n",
      "////Epoch elapsed time: 7.707335472106934////\n",
      "\n",
      "Train Epoch: 49 [0/60000 (0%) / Learning rate:0.0001]\tLoss:0.489380  \n",
      "Train Epoch: 49 [51200/60000 (85%) / Learning rate:0.0001]\tLoss:0.257450  \n",
      "////Epoch elapsed time: 7.608829498291016////\n",
      "\n",
      "Train Epoch: 50 [0/60000 (0%) / Learning rate:0.0001]\tLoss:0.367676  \n",
      "Train Epoch: 50 [51200/60000 (85%) / Learning rate:0.0001]\tLoss:0.389164  \n",
      "////Epoch elapsed time: 7.777193784713745////\n",
      "\n",
      "Train Epoch: 51 [0/60000 (0%) / Learning rate:0.0001]\tLoss:0.371462  \n",
      "Train Epoch: 51 [51200/60000 (85%) / Learning rate:0.0001]\tLoss:0.428229  \n",
      "////Epoch elapsed time: 7.681408405303955////\n",
      "\n",
      "Train Epoch: 52 [0/60000 (0%) / Learning rate:0.0001]\tLoss:0.349384  \n",
      "Train Epoch: 52 [51200/60000 (85%) / Learning rate:0.0001]\tLoss:0.291668  \n",
      "////Epoch elapsed time: 7.684643268585205////\n",
      "\n",
      "Train Epoch: 53 [0/60000 (0%) / Learning rate:0.0001]\tLoss:0.341386  \n",
      "Train Epoch: 53 [51200/60000 (85%) / Learning rate:0.0001]\tLoss:0.467460  \n",
      "////Epoch elapsed time: 7.59344744682312////\n",
      "\n",
      "Train Epoch: 54 [0/60000 (0%) / Learning rate:0.0001]\tLoss:0.438763  \n",
      "Train Epoch: 54 [51200/60000 (85%) / Learning rate:0.0001]\tLoss:0.434576  \n",
      "////Epoch elapsed time: 7.731200218200684////\n",
      "\n",
      "Train Epoch: 55 [0/60000 (0%) / Learning rate:0.0001]\tLoss:0.345333  \n",
      "Train Epoch: 55 [51200/60000 (85%) / Learning rate:0.0001]\tLoss:0.504815  \n",
      "////Epoch elapsed time: 7.511354923248291////\n",
      "\n",
      "Train Epoch: 56 [0/60000 (0%) / Learning rate:0.0001]\tLoss:0.461782  \n",
      "Train Epoch: 56 [51200/60000 (85%) / Learning rate:0.0001]\tLoss:0.376220  \n",
      "////Epoch elapsed time: 7.560535192489624////\n",
      "\n",
      "Train Epoch: 57 [0/60000 (0%) / Learning rate:0.0001]\tLoss:0.336222  \n",
      "Train Epoch: 57 [51200/60000 (85%) / Learning rate:0.0001]\tLoss:0.436059  \n",
      "////Epoch elapsed time: 7.565564155578613////\n",
      "\n",
      "Train Epoch: 58 [0/60000 (0%) / Learning rate:1e-05]\tLoss:0.363320  \n",
      "Train Epoch: 58 [51200/60000 (85%) / Learning rate:1e-05]\tLoss:0.425976  \n",
      "////Epoch elapsed time: 7.477216005325317////\n",
      "\n",
      "Train Epoch: 59 [0/60000 (0%) / Learning rate:1e-05]\tLoss:0.327083  \n",
      "Train Epoch: 59 [51200/60000 (85%) / Learning rate:1e-05]\tLoss:0.472548  \n",
      "////Epoch elapsed time: 7.547336101531982////\n",
      "\n"
     ]
    }
   ],
   "source": [
    "print('STEP 6: INSTANTIATE LOSS CLASS')\n",
    "criterion = nn.CrossEntropyLoss()\n",
    "# Model to GPU\n",
    "model.to(device)\n",
    "\n",
    "print('STEP 7: TRAIN THE MODEL')\n",
    "best_acc = 0\n",
    "\n",
    "for epoch in range(num_epoch):\n",
    "    #TRAIN\n",
    "    model.train()\n",
    "    start = time.time()\n",
    "    \n",
    "    for j,(img,label) in enumerate(train_loader):\n",
    "        images = img.to(device)\n",
    "        labels = label.to(device)\n",
    "        \n",
    "        # Clear gradients w.r.t. parameters\n",
    "        optimizer.zero_grad()\n",
    "\n",
    "        # Forward pass to get output/logits\n",
    "        outputs = model(images) \n",
    "\n",
    "        # Calculate Loss: softmax --> cross entropy loss\n",
    "        loss = criterion(outputs, labels)\n",
    "\n",
    "        # Getting gradients w.r.t. parameters\n",
    "        loss.backward()\n",
    "\n",
    "        # Updating parameters\n",
    "        optimizer.step()\n",
    "\n",
    "        if j % 200 == 0:\n",
    "            #0번째와 200x256(batch size)에서만 출력하겠다. \n",
    "            print('Train Epoch: {} [{}/{} ({:.0f}%) / Learning rate:{}]\\tLoss:{:.6f}  '.format(\n",
    "                    epoch, j * len(img), train_size,\n",
    "                    100. * j / len(train_loader),get_lr(optimizer), loss.item()))\n",
    "\n",
    "    #Test\n",
    "    model.eval()\n",
    "    correct = 0\n",
    "    total = 0\n",
    "    # Iterate through test dataset\n",
    "    for images, labels in test_loader:\n",
    "\n",
    "        images = images.to(device)\n",
    "        labels = labels.to(device)\n",
    "        \n",
    "        # Forward pass only to get logits/output\n",
    "        outputs = model(images)\n",
    "\n",
    "        # Get predictions from the maximum value\n",
    "        _, predicted = torch.max(outputs.data, 1)\n",
    "\n",
    "        # Total number of labels\n",
    "        total += labels.size(0)\n",
    "\n",
    "        # Total correct predictions\n",
    "        correct += (predicted == labels).sum()\n",
    "\n",
    "    accuracy = 100 * correct.item() / total\n",
    "    # Print Loss\n",
    "    print('////Epoch elapsed time: {}////\\n'.format(time.time() - start))  \n",
    "    \n",
    "    if accuracy > best_acc :\n",
    "        torch.save({\n",
    "            'epoch': epoch,\n",
    "            'model_state_dict': model.state_dict(),\n",
    "            'optimizer_state_dict': optimizer.state_dict(),\n",
    "            'loss': loss,\n",
    "            'accuracy': accuracy\n",
    "            \n",
    "            }, './weights/lab04/best_model_STN.tar')\n",
    "       \n",
    "        best_acc = accuracy\n",
    "    \n",
    "    scheduler.step(accuracy)\n"
   ]
  },
  {
   "cell_type": "markdown",
   "metadata": {
    "colab_type": "text",
    "id": "yhPP8ATu2OXg"
   },
   "source": [
    "### 4. Visualize original inputs and transformed inputs with best pre-trained model  [3points]\n"
   ]
  },
  {
   "cell_type": "code",
   "execution_count": 29,
   "metadata": {
    "colab": {},
    "colab_type": "code",
    "execution": {
     "iopub.status.busy": "2022-03-24T11:23:04.168898Z",
     "iopub.status.idle": "2022-03-24T11:23:04.169115Z",
     "shell.execute_reply": "2022-03-24T11:23:04.169010Z",
     "shell.execute_reply.started": "2022-03-24T11:23:04.168999Z"
    },
    "id": "aZj6oLi62OXi",
    "scrolled": true,
    "tags": []
   },
   "outputs": [
    {
     "data": {
      "text/plain": [
       "<All keys matched successfully>"
      ]
     },
     "execution_count": 29,
     "metadata": {},
     "output_type": "execute_result"
    }
   ],
   "source": [
    "model = STN_CNN()\n",
    "checkpoint = torch.load('./weights/lab04/best_model_STN.tar')\n",
    "model.load_state_dict(checkpoint['model_state_dict'])"
   ]
  },
  {
   "cell_type": "markdown",
   "metadata": {
    "colab_type": "text",
    "id": "h6WD4pCv2OXk"
   },
   "source": [
    "#### Our pretrained model's best accuracy\n"
   ]
  },
  {
   "cell_type": "code",
   "execution_count": 30,
   "metadata": {
    "colab": {},
    "colab_type": "code",
    "execution": {
     "iopub.status.busy": "2022-03-24T11:23:04.169841Z",
     "iopub.status.idle": "2022-03-24T11:23:04.170048Z",
     "shell.execute_reply": "2022-03-24T11:23:04.169950Z",
     "shell.execute_reply.started": "2022-03-24T11:23:04.169940Z"
    },
    "id": "UB4GmH2g2OXl",
    "outputId": "83e334ed-b093-4d82-d0be-c29ad5c4ee29",
    "tags": []
   },
   "outputs": [
    {
     "name": "stdout",
     "output_type": "stream",
     "text": [
      "Best accuracy of our model with ST module:  87.74038461538461\n"
     ]
    }
   ],
   "source": [
    "print('Best accuracy of our model with ST module: ', checkpoint['accuracy'])"
   ]
  },
  {
   "cell_type": "code",
   "execution_count": 31,
   "metadata": {
    "colab": {},
    "colab_type": "code",
    "execution": {
     "iopub.status.busy": "2022-03-24T11:23:04.171068Z",
     "iopub.status.idle": "2022-03-24T11:23:04.171286Z",
     "shell.execute_reply": "2022-03-24T11:23:04.171183Z",
     "shell.execute_reply.started": "2022-03-24T11:23:04.171171Z"
    },
    "id": "3F5ppqXP2OXr",
    "tags": []
   },
   "outputs": [],
   "source": [
    "# Tensor image to array image\n",
    "def reprocess_image(img):\n",
    "    \n",
    "    img_re = copy.copy(img.cpu().data.numpy())\n",
    "    \n",
    "    mean = [-0.1307,-0.1307,-0.1307]\n",
    "    std = [1/0.3081,1/0.3081,1/0.3081]\n",
    "    \n",
    "    for c in range(3):\n",
    "        img_re[c,:,:] /= std[c]\n",
    "        img_re[c,:,:] -= mean[c]\n",
    "        \n",
    "    img_re[img_re > 1] = 1\n",
    "    img_re[img_re < 0] = 0\n",
    "    \n",
    "    img_re = img_re.transpose(1,2,0)\n",
    "    \n",
    "    return img_re\n",
    "\n",
    "#made _grid 사용"
   ]
  },
  {
   "cell_type": "markdown",
   "metadata": {
    "colab_type": "text",
    "id": "suci-kWM2OXt"
   },
   "source": [
    "#### 4.1 Write codes for visualization of original inputsa and transformed inputs [3 points]\n",
    ">- VisualizeSTN class with an input of our pretrained model\n",
    ">- *forward_stn*: Forward pass of our pretrained STN module to produce transformed inputs\n",
    ">- *visualize*: Visualizing the original inputs and the transformed ones in a grid \n",
    ">>1. Forward pass of STN module to produce the transformed inputs\n",
    ">>2. Unnormalize both images using *reprocess_image* function\n",
    ">>3. Make grids of them \n",
    ">>4. Visualize \n"
   ]
  },
  {
   "cell_type": "code",
   "execution_count": 42,
   "metadata": {
    "colab": {},
    "colab_type": "code",
    "execution": {
     "iopub.status.busy": "2022-03-24T11:23:04.172104Z",
     "iopub.status.idle": "2022-03-24T11:23:04.172315Z",
     "shell.execute_reply": "2022-03-24T11:23:04.172214Z",
     "shell.execute_reply.started": "2022-03-24T11:23:04.172203Z"
    },
    "id": "zcdkczCj2OXu",
    "tags": []
   },
   "outputs": [],
   "source": [
    "class VisualizeSTN():\n",
    "    \n",
    "    def __init__(self, model):\n",
    "        self.model = model\n",
    "        self.model.to(device)\n",
    "        self.model.eval()\n",
    "    \n",
    "    # Output transformed inputs\n",
    "    def forward_stn(self,x):\n",
    "        self.input_tensor = x.cpu()\n",
    "        self.transformed_input_tensor = model.stn(x).cpu()\n",
    "    \n",
    "    def visualize(self, img):\n",
    "        self.forward_stn(img)\n",
    "        in_grid = reprocess_image(\n",
    "            v_utils.make_grid(self.input_tensor)\n",
    "        )\n",
    "\n",
    "        out_grid = reprocess_image(\n",
    "            v_utils.make_grid(self.transformed_input_tensor)\n",
    "        )\n",
    "        \n",
    "        # Plot the results side-by-side\n",
    "        f, axarr = plt.subplots(1, 2)\n",
    "        axarr[0].imshow(in_grid)\n",
    "        axarr[0].set_title('Dataset Images')\n",
    "\n",
    "        axarr[1].imshow(out_grid)\n",
    "        axarr[1].set_title('Transformed Images')\n",
    "        plt.ioff()\n",
    "        plt.show()"
   ]
  },
  {
   "cell_type": "code",
   "execution_count": 43,
   "metadata": {
    "colab": {},
    "colab_type": "code",
    "execution": {
     "iopub.status.busy": "2022-03-24T11:23:04.172945Z",
     "iopub.status.idle": "2022-03-24T11:23:04.173155Z",
     "shell.execute_reply": "2022-03-24T11:23:04.173056Z",
     "shell.execute_reply.started": "2022-03-24T11:23:04.173045Z"
    },
    "id": "-mkGExZk2OXx",
    "outputId": "b34b0bc7-6b72-407d-a7d1-868e3cbc1aaf",
    "scrolled": false,
    "tags": []
   },
   "outputs": [
    {
     "data": {
      "image/png": "[encoded data removed]",
      "text/plain": [
       "<Figure size 432x288 with 2 Axes>"
      ]
     },
     "metadata": {
      "needs_background": "light"
     },
     "output_type": "display_data"
    },
    {
     "data": {
      "image/png": "[encoded data removed]",
      "text/plain": [
       "<Figure size 432x288 with 2 Axes>"
      ]
     },
     "metadata": {
      "needs_background": "light"
     },
     "output_type": "display_data"
    },
    {
     "data": {
      "image/png": "[encoded data removed]",
      "text/plain": [
       "<Figure size 432x288 with 2 Axes>"
      ]
     },
     "metadata": {
      "needs_background": "light"
     },
     "output_type": "display_data"
    }
   ],
   "source": [
    "import torchvision.utils as v_utils\n",
    "\n",
    "\n",
    "visualize_stn = VisualizeSTN(model)\n",
    "for i, (image,label) in enumerate(test_loader):\n",
    "    \n",
    "    img = image[:16].to(device)\n",
    "    visualize_stn.visualize(img)\n",
    "    \n",
    "    if (i+1) == 3:\n",
    "        break"
   ]
  },
  {
   "cell_type": "markdown",
   "metadata": {
    "colab_type": "text",
    "id": "HEjhSogi2OX0"
   },
   "source": [
    "### 5.Comparison with the cnn model without ST module [1point]\n",
    ">- Model composed of cnn and classifier modules same with our pretrained CNN_STN model \n",
    ">- Use *cnn* and *classifier* modules you implemented \n"
   ]
  },
  {
   "cell_type": "markdown",
   "metadata": {
    "colab_type": "text",
    "id": "pecTLkVL2OX0"
   },
   "source": [
    "#### 5.1 Write codes for the model class"
   ]
  },
  {
   "cell_type": "code",
   "execution_count": 44,
   "metadata": {
    "colab": {},
    "colab_type": "code",
    "execution": {
     "iopub.status.busy": "2022-03-24T11:23:04.173797Z",
     "iopub.status.idle": "2022-03-24T11:23:04.174007Z",
     "shell.execute_reply": "2022-03-24T11:23:04.173907Z",
     "shell.execute_reply.started": "2022-03-24T11:23:04.173897Z"
    },
    "id": "cnhjymoE2OX2",
    "tags": []
   },
   "outputs": [
    {
     "name": "stdout",
     "output_type": "stream",
     "text": [
      "STEP 2: LOADING DATASET\n",
      "STEP 3: CREATE MODEL CLASS (STN_CNN)\n"
     ]
    }
   ],
   "source": [
    "print('STEP 2: LOADING DATASET')\n",
    "\n",
    "train_loader = torch.utils.data.DataLoader(train_dataset,batch_size=batch_size, shuffle=True,num_workers=4,drop_last=True)\n",
    "test_loader = torch.utils.data.DataLoader(test_dataset,batch_size=batch_size, shuffle=False,num_workers=4,drop_last=True)\n",
    "\n",
    "print('STEP 3: CREATE MODEL CLASS (STN_CNN)')\n",
    "\n",
    "class CNNWithoutSTN(nn.Module):\n",
    "    def __init__(self) :\n",
    "        super(CNNWithoutSTN, self).__init__()\n",
    "        self.cnn = nn.Sequential(\n",
    "            # (1,40,40)\n",
    "            nn.Conv2d(1, 32, kernel_size=9),nn.MaxPool2d(kernel_size=2, stride=2),nn.ReLU(),\n",
    "            # (32,32,32) -> (32,16,16)\n",
    "            nn.Conv2d(32, 64, kernel_size=7),nn.MaxPool2d(kernel_size=2, stride=2),nn.ReLU()\n",
    "            # (64,10,10) -> (64,5,5)\n",
    "        )\n",
    "        \n",
    "        self.classifier = nn.Sequential(\n",
    "            nn.Linear(1600, 128),nn.ReLU(),\n",
    "            nn.Linear(128, 10)\n",
    "        )\n",
    "        \n",
    "        self.avgpool = nn.AvgPool2d(2, stride=2)\n",
    "\n",
    "    def forward(self, x):\n",
    "        # transform the input\n",
    "        # x : input (1, 80, 80)\n",
    "        x = self.avgpool(x)\n",
    "        # 변형된 input (1,40,40)\n",
    "        # 여기서부터는 일반적인 classification을 위한 forward pass 와 동일\n",
    "        x = self.cnn(x)\n",
    "        x = x.view(-1, 1600)        \n",
    "        x = self.classifier(x)\n",
    "        return F.log_softmax(x,dim=1)\n",
    "\n",
    "# St moudle만 없고 나머지는 같게 실험만해봐라"
   ]
  },
  {
   "cell_type": "code",
   "execution_count": 45,
   "metadata": {
    "colab": {},
    "colab_type": "code",
    "execution": {
     "iopub.status.busy": "2022-03-24T11:23:04.174904Z",
     "iopub.status.idle": "2022-03-24T11:23:04.175115Z",
     "shell.execute_reply": "2022-03-24T11:23:04.175016Z",
     "shell.execute_reply.started": "2022-03-24T11:23:04.175006Z"
    },
    "id": "M0dtTNMV2OX4",
    "outputId": "a6c0f479-8a8c-425b-ae7d-ca71e688e5be",
    "tags": []
   },
   "outputs": [
    {
     "name": "stdout",
     "output_type": "stream",
     "text": [
      "STEP 4: INSTANTIATE MODEL CLASS\n",
      "\n",
      "CNN's state_dict:\n",
      "cnn.0.weight \t torch.Size([32, 1, 9, 9])\n",
      "cnn.0.bias \t torch.Size([32])\n",
      "cnn.3.weight \t torch.Size([64, 32, 7, 7])\n",
      "cnn.3.bias \t torch.Size([64])\n",
      "classifier.0.weight \t torch.Size([128, 1600])\n",
      "classifier.0.bias \t torch.Size([128])\n",
      "classifier.2.weight \t torch.Size([10, 128])\n",
      "classifier.2.bias \t torch.Size([10])\n"
     ]
    }
   ],
   "source": [
    "print('STEP 4: INSTANTIATE MODEL CLASS\\n')\n",
    "model_nostn = CNNWithoutSTN()\n",
    "\n",
    "print(\"CNN's state_dict:\")\n",
    "os.makedirs('weights/lab04', exist_ok=True)\n",
    "for param_tensor in model_nostn.state_dict():\n",
    "    print(param_tensor, \"\\t\", model_nostn.state_dict()[param_tensor].size())\n"
   ]
  },
  {
   "cell_type": "code",
   "execution_count": 46,
   "metadata": {
    "colab": {},
    "colab_type": "code",
    "execution": {
     "iopub.status.busy": "2022-03-24T11:23:04.176083Z",
     "iopub.status.idle": "2022-03-24T11:23:04.176303Z",
     "shell.execute_reply": "2022-03-24T11:23:04.176195Z",
     "shell.execute_reply.started": "2022-03-24T11:23:04.176185Z"
    },
    "id": "RTHfuIMJ2OX7",
    "tags": []
   },
   "outputs": [
    {
     "name": "stdout",
     "output_type": "stream",
     "text": [
      "STEP 5: INSTANTIATE OPTIMIZER CLASS\n"
     ]
    }
   ],
   "source": [
    "print('STEP 5: INSTANTIATE OPTIMIZER CLASS')\n",
    "\n",
    "optimizer = torch.optim.Adam(model_nostn.parameters(), lr=learning_rate)\n",
    "scheduler = optim.lr_scheduler.ReduceLROnPlateau(optimizer, mode='max', factor = 0.1, patience=6)\n",
    "\n",
    "def get_lr(optimizer):\n",
    "    for param_group in optimizer.param_groups:\n",
    "        return param_group['lr']"
   ]
  },
  {
   "cell_type": "markdown",
   "metadata": {
    "colab_type": "text",
    "id": "y-jXzO1Y2OX-",
    "tags": []
   },
   "source": [
    "#### 5.2 Train/Test"
   ]
  },
  {
   "cell_type": "code",
   "execution_count": null,
   "metadata": {
    "colab": {},
    "colab_type": "code",
    "execution": {
     "iopub.status.busy": "2022-03-24T11:23:04.177021Z",
     "iopub.status.idle": "2022-03-24T11:23:04.177236Z",
     "shell.execute_reply": "2022-03-24T11:23:04.177134Z",
     "shell.execute_reply.started": "2022-03-24T11:23:04.177124Z"
    },
    "id": "B1oDqtGl2OX_",
    "outputId": "f7052aca-d4bc-425c-80d4-0ec8142a84e9",
    "scrolled": true
   },
   "outputs": [
    {
     "name": "stdout",
     "output_type": "stream",
     "text": [
      "STEP 6: INSTANTIATE LOSS CLASS\n",
      "STEP 7: TRAIN THE MODEL\n",
      "Train Epoch: 0 [0/60000 (0%) / Learning rate:0.001]\tLoss:0.474862  \n",
      "Train Epoch: 0 [51200/60000 (85%) / Learning rate:0.001]\tLoss:0.318113  \n",
      "////Epoch elapsed time: 7.814685344696045////\n",
      "\n",
      "Train Epoch: 1 [0/60000 (0%) / Learning rate:0.001]\tLoss:0.414392  \n",
      "Train Epoch: 1 [51200/60000 (85%) / Learning rate:0.001]\tLoss:0.411988  \n",
      "////Epoch elapsed time: 7.755126953125////\n",
      "\n",
      "Train Epoch: 2 [0/60000 (0%) / Learning rate:0.001]\tLoss:0.411407  \n",
      "Train Epoch: 2 [51200/60000 (85%) / Learning rate:0.001]\tLoss:0.382838  \n",
      "////Epoch elapsed time: 7.521145820617676////\n",
      "\n",
      "Train Epoch: 3 [0/60000 (0%) / Learning rate:0.001]\tLoss:0.407773  \n",
      "Train Epoch: 3 [51200/60000 (85%) / Learning rate:0.001]\tLoss:0.400869  \n",
      "////Epoch elapsed time: 7.585670709609985////\n",
      "\n",
      "Train Epoch: 4 [0/60000 (0%) / Learning rate:0.001]\tLoss:0.450286  \n",
      "Train Epoch: 4 [51200/60000 (85%) / Learning rate:0.001]\tLoss:0.394029  \n",
      "////Epoch elapsed time: 7.6746509075164795////\n",
      "\n",
      "Train Epoch: 5 [0/60000 (0%) / Learning rate:0.001]\tLoss:0.375799  \n",
      "Train Epoch: 5 [51200/60000 (85%) / Learning rate:0.001]\tLoss:0.386436  \n",
      "////Epoch elapsed time: 7.494521617889404////\n",
      "\n",
      "Train Epoch: 6 [0/60000 (0%) / Learning rate:0.001]\tLoss:0.363109  \n",
      "Train Epoch: 6 [51200/60000 (85%) / Learning rate:0.001]\tLoss:0.470792  \n",
      "////Epoch elapsed time: 7.345250368118286////\n",
      "\n",
      "Train Epoch: 7 [0/60000 (0%) / Learning rate:0.001]\tLoss:0.395487  \n",
      "Train Epoch: 7 [51200/60000 (85%) / Learning rate:0.001]\tLoss:0.379444  \n",
      "////Epoch elapsed time: 7.42273473739624////\n",
      "\n",
      "Train Epoch: 8 [0/60000 (0%) / Learning rate:0.001]\tLoss:0.401329  \n",
      "Train Epoch: 8 [51200/60000 (85%) / Learning rate:0.001]\tLoss:0.429080  \n",
      "////Epoch elapsed time: 7.510607719421387////\n",
      "\n",
      "Train Epoch: 9 [0/60000 (0%) / Learning rate:0.001]\tLoss:0.368415  \n",
      "Train Epoch: 9 [51200/60000 (85%) / Learning rate:0.001]\tLoss:0.443375  \n",
      "////Epoch elapsed time: 7.735255002975464////\n",
      "\n",
      "Train Epoch: 10 [0/60000 (0%) / Learning rate:0.001]\tLoss:0.323555  \n",
      "Train Epoch: 10 [51200/60000 (85%) / Learning rate:0.001]\tLoss:0.366764  \n",
      "////Epoch elapsed time: 7.6404149532318115////\n",
      "\n",
      "Train Epoch: 11 [0/60000 (0%) / Learning rate:0.001]\tLoss:0.332649  \n",
      "Train Epoch: 11 [51200/60000 (85%) / Learning rate:0.001]\tLoss:0.418428  \n",
      "////Epoch elapsed time: 7.456894159317017////\n",
      "\n",
      "Train Epoch: 12 [0/60000 (0%) / Learning rate:0.001]\tLoss:0.391343  \n",
      "Train Epoch: 12 [51200/60000 (85%) / Learning rate:0.001]\tLoss:0.384670  \n",
      "////Epoch elapsed time: 7.556494951248169////\n",
      "\n",
      "Train Epoch: 13 [0/60000 (0%) / Learning rate:0.0001]\tLoss:0.377941  \n",
      "Train Epoch: 13 [51200/60000 (85%) / Learning rate:0.0001]\tLoss:0.507720  \n",
      "////Epoch elapsed time: 7.579466342926025////\n",
      "\n",
      "Train Epoch: 14 [0/60000 (0%) / Learning rate:0.0001]\tLoss:0.425569  \n",
      "Train Epoch: 14 [51200/60000 (85%) / Learning rate:0.0001]\tLoss:0.364858  \n",
      "////Epoch elapsed time: 7.4050562381744385////\n",
      "\n",
      "Train Epoch: 15 [0/60000 (0%) / Learning rate:0.0001]\tLoss:0.379236  \n",
      "Train Epoch: 15 [51200/60000 (85%) / Learning rate:0.0001]\tLoss:0.557577  \n",
      "////Epoch elapsed time: 7.532006025314331////\n",
      "\n",
      "Train Epoch: 16 [0/60000 (0%) / Learning rate:0.0001]\tLoss:0.323166  \n",
      "Train Epoch: 16 [51200/60000 (85%) / Learning rate:0.0001]\tLoss:0.406141  \n",
      "////Epoch elapsed time: 7.54067587852478////\n",
      "\n"
     ]
    }
   ],
   "source": [
    "print('STEP 6: INSTANTIATE LOSS CLASS')\n",
    "criterion = nn.CrossEntropyLoss()\n",
    "# Model to GPU\n",
    "model.to(device)\n",
    "\n",
    "print('STEP 7: TRAIN THE MODEL')\n",
    "best_acc = 0\n",
    "\n",
    "for epoch in range(num_epoch):\n",
    "    #TRAIN\n",
    "    model.train()\n",
    "    start = time.time()\n",
    "    \n",
    "    for j,(img,label) in enumerate(train_loader):\n",
    "        images = img.to(device)\n",
    "        labels = label.to(device)\n",
    "        \n",
    "        # Clear gradients w.r.t. parameters\n",
    "        optimizer.zero_grad()\n",
    "\n",
    "        # Forward pass to get output/logits\n",
    "        outputs = model(images) \n",
    "\n",
    "        # Calculate Loss: softmax --> cross entropy loss\n",
    "        loss = criterion(outputs, labels)\n",
    "\n",
    "        # Getting gradients w.r.t. parameters\n",
    "        loss.backward()\n",
    "\n",
    "        # Updating parameters\n",
    "        optimizer.step()\n",
    "\n",
    "        if j % 200 == 0:\n",
    "            #0번째와 200x256(batch size)에서만 출력하겠다. \n",
    "            print('Train Epoch: {} [{}/{} ({:.0f}%) / Learning rate:{}]\\tLoss:{:.6f}  '.format(\n",
    "                    epoch, j * len(img), train_size,\n",
    "                    100. * j / len(train_loader),get_lr(optimizer), loss.item()))\n",
    "\n",
    "    #Test\n",
    "    model.eval()\n",
    "    correct = 0\n",
    "    total = 0\n",
    "    # Iterate through test dataset\n",
    "    for images, labels in test_loader:\n",
    "\n",
    "        images = images.to(device)\n",
    "        labels = labels.to(device)\n",
    "        \n",
    "        # Forward pass only to get logits/output\n",
    "        outputs = model(images)\n",
    "\n",
    "        # Get predictions from the maximum value\n",
    "        _, predicted = torch.max(outputs.data, 1)\n",
    "\n",
    "        # Total number of labels\n",
    "        total += labels.size(0)\n",
    "\n",
    "        # Total correct predictions\n",
    "        correct += (predicted == labels).sum()\n",
    "\n",
    "    accuracy = 100 * correct.item() / total\n",
    "    # Print Loss\n",
    "    print('////Epoch elapsed time: {}////\\n'.format(time.time() - start))  \n",
    "    \n",
    "    if accuracy > best_acc :\n",
    "        torch.save({\n",
    "            'epoch': epoch,\n",
    "            'model_state_dict': model.state_dict(),\n",
    "            'optimizer_state_dict': optimizer.state_dict(),\n",
    "            'loss': loss,\n",
    "            'accuracy': accuracy\n",
    "            \n",
    "            }, './weights/lab04/best_model_CNNWithoutSTN.tar')\n",
    "       \n",
    "        best_acc = accuracy\n",
    "    \n",
    "    scheduler.step(accuracy)"
   ]
  },
  {
   "cell_type": "markdown",
   "metadata": {
    "colab_type": "text",
    "id": "EgPo5F4x2OYC"
   },
   "source": [
    "#### Best accuracy of the model without ST module\n"
   ]
  },
  {
   "cell_type": "code",
   "execution_count": null,
   "metadata": {
    "colab": {},
    "colab_type": "code",
    "execution": {
     "iopub.status.busy": "2022-03-24T11:23:04.177951Z",
     "iopub.status.idle": "2022-03-24T11:23:04.178163Z",
     "shell.execute_reply": "2022-03-24T11:23:04.178062Z",
     "shell.execute_reply.started": "2022-03-24T11:23:04.178051Z"
    },
    "id": "UAd8_Ss42OYC",
    "outputId": "bcd5d035-87c3-4d1e-b580-8c565d463798"
   },
   "outputs": [],
   "source": [
    "print('Best accuracy of our model without ST module: ', best_acc)"
   ]
  },
  {
   "cell_type": "markdown",
   "metadata": {
    "colab_type": "text",
    "id": "LLpVgYys2OYF"
   },
   "source": [
    "### *References*\n",
    "[1] https://arxiv.org/pdf/1506.02025.pdf <br>\n",
    "[2] https://en.wikipedia.org/wiki/Affine_transformation <br>\n",
    "[3] https://en.wikipedia.org/wiki/Transformation_matrix#Affine_transformations <br>\n",
    "[4] https://pytorch.org/docs/stable/nn.html#affine-grid <br>\n",
    "[5] https://pytorch.org/docs/stable/nn.html#torch.nn.functional.grid_sample <br>\n",
    "[6] http://cs231n.github.io/neural-networks-3/#anneal <br>\n",
    "[7] https://pytorch.org/docs/stable/optim.html#how-to-adjust-learning-rate <br>"
   ]
  }
 ],
 "metadata": {
  "colab": {
   "collapsed_sections": [],
   "name": "EEE4423_lab5_STN_problem.ipynb",
   "provenance": [],
   "version": "0.3.2"
  },
  "kernelspec": {
   "display_name": "torch1.9.0-py3.8-cuda11.1",
   "language": "python",
   "name": "torch1.9.0-py3.8-cuda11.1"
  },
  "language_info": {
   "codemirror_mode": {
    "name": "ipython",
    "version": 3
   },
   "file_extension": ".py",
   "mimetype": "text/x-python",
   "name": "python",
   "nbconvert_exporter": "python",
   "pygments_lexer": "ipython3",
   "version": "3.8.10"
  }
 },
 "nbformat": 4,
 "nbformat_minor": 4
}
