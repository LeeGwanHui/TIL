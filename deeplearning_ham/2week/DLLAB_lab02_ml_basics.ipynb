{
 "cells": [
  {
   "cell_type": "markdown",
   "metadata": {
    "colab_type": "text",
    "id": "H21FIVCxWV-r"
   },
   "source": [
    "> ### EEE4423: Deep Learning Lab\n",
    "\n",
    "# LAB \\#2: Machine Learning Basics:\n",
    "## Linear Regression, Logistic Regression, Multi-Layer Perceptron"
   ]
  },
  {
   "cell_type": "code",
   "execution_count": 1,
   "metadata": {
    "colab": {
     "base_uri": "https://localhost:8080/",
     "height": 34
    },
    "colab_type": "code",
    "execution": {
     "iopub.execute_input": "2022-03-11T00:51:31.807121Z",
     "iopub.status.busy": "2022-03-11T00:51:31.806564Z",
     "iopub.status.idle": "2022-03-11T00:51:31.826169Z",
     "shell.execute_reply": "2022-03-11T00:51:31.825248Z",
     "shell.execute_reply.started": "2022-03-11T00:51:31.806976Z"
    },
    "executionInfo": {
     "elapsed": 738,
     "status": "ok",
     "timestamp": 1584867176995,
     "user": {
      "displayName": "­김도형(대학원/일반대학원 전기전자공학과)",
      "photoUrl": "",
      "userId": "05486823788267165662"
     },
     "user_tz": -540
    },
    "id": "P5-VH04zWV-u",
    "outputId": "aec7e9bb-34e7-43e1-8feb-2f8caea883ef",
    "tags": []
   },
   "outputs": [
    {
     "name": "stdout",
     "output_type": "stream",
     "text": [
      "This code is written at 2022-03-11 01:53:52.041799\n"
     ]
    }
   ],
   "source": [
    "import datetime\n",
    "print(\"This code is written at \" + str(datetime.datetime.now()))"
   ]
  },
  {
   "cell_type": "markdown",
   "metadata": {
    "colab_type": "text",
    "id": "mSiVRrSYWV-z"
   },
   "source": [
    "# Linear Regression with PyTorch\n",
    "\n",
    "## 1. About Linear Regression\n",
    "\n",
    "\n",
    "### 1.1 Simple Linear Regression Basics\n",
    "- Allows us to understand **relationship** between two **continuous variables**\n",
    "- Example\n",
    "    - x: independent variable\n",
    "        - Weight\n",
    "    - y: dependent variable\n",
    "        - Height\n",
    "- $y=\\alpha x + \\beta$\n"
   ]
  },
  {
   "cell_type": "markdown",
   "metadata": {
    "colab_type": "text",
    "id": "pExHUUjhWV-0"
   },
   "source": [
    "### 1.2 Example of simple linear regression"
   ]
  },
  {
   "cell_type": "markdown",
   "metadata": {
    "colab_type": "text",
    "id": "00r7_zZlWV-1"
   },
   "source": [
    "**Create plot for simple linear regression**\n",
    "\n",
    "Take note that this code is not important at all. It simply creates random data points and does a simple best-fit line to best approximate the underlying function if one even exists."
   ]
  },
  {
   "cell_type": "code",
   "execution_count": 2,
   "metadata": {
    "colab": {},
    "colab_type": "code",
    "execution": {
     "iopub.execute_input": "2022-03-11T00:51:31.828236Z",
     "iopub.status.busy": "2022-03-11T00:51:31.827953Z",
     "iopub.status.idle": "2022-03-11T00:51:32.659913Z",
     "shell.execute_reply": "2022-03-11T00:51:32.658759Z",
     "shell.execute_reply.started": "2022-03-11T00:51:31.828202Z"
    },
    "id": "GJoHyD6HWV-2",
    "tags": []
   },
   "outputs": [],
   "source": [
    "import numpy as np\n",
    "import matplotlib.pyplot as plt\n",
    "%matplotlib inline"
   ]
  },
  {
   "cell_type": "code",
   "execution_count": 3,
   "metadata": {
    "colab": {},
    "colab_type": "code",
    "execution": {
     "iopub.execute_input": "2022-03-11T00:51:32.661324Z",
     "iopub.status.busy": "2022-03-11T00:51:32.661168Z",
     "iopub.status.idle": "2022-03-11T00:51:32.666251Z",
     "shell.execute_reply": "2022-03-11T00:51:32.665159Z",
     "shell.execute_reply.started": "2022-03-11T00:51:32.661306Z"
    },
    "id": "jLSxY6-0WV-6",
    "tags": []
   },
   "outputs": [],
   "source": [
    "# Creates 50 random x and y numbers\n",
    "np.random.seed(1)\n",
    "n = 50\n",
    "x = np.random.randn(n)\n",
    "y = x * np.random.randn(n)"
   ]
  },
  {
   "cell_type": "code",
   "execution_count": 8,
   "metadata": {},
   "outputs": [
    {
     "name": "stdout",
     "output_type": "stream",
     "text": [
      "[-2.3015387  -2.06014071 -1.11731035 -1.10061918 -1.09989127 -1.07296862\n",
      " -0.93576943 -0.88762896 -0.87785842 -0.84520564 -0.7612069  -0.74715829\n",
      " -0.69166075 -0.6871727  -0.68372786 -0.67124613 -0.63699565 -0.61175641\n",
      " -0.52817175 -0.39675353 -0.38405435 -0.3224172  -0.26788808 -0.24937038\n",
      " -0.19183555 -0.17242821 -0.12289023 -0.0126646   0.04221375  0.05080775\n",
      "  0.12015895  0.19091548  0.2344157   0.3190391   0.50249434  0.53035547\n",
      "  0.58281521  0.61720311  0.74204416  0.86540763  0.90085595  0.90159072\n",
      "  1.13376944  1.14472371  1.46210794  1.62434536  1.65980218  1.6924546\n",
      "  1.74481176  2.10025514]\n",
      "[ 4.87580268e-01  2.15491103e-01  6.03445839e-01  3.74833780e-01\n",
      " -1.80778663e-01 -1.35013597e+00  1.46386813e+00 -7.08761330e-01\n",
      "  9.11135221e-02 -2.20727984e-01 -1.10301122e+00 -2.58108469e+00\n",
      " -1.65377399e-01  1.14483851e-01  5.53866947e-01  8.31206672e-02\n",
      " -1.95124827e-01 -1.33418399e+00  9.22613266e-02 -8.13899310e-01\n",
      "  1.58941935e+00 -5.77474034e-01  1.44287937e-01  4.40269923e-01\n",
      "  2.84341620e-01  1.38263531e+00  3.76294802e-02 -7.74793363e-01\n",
      " -6.16396368e-02  4.04136795e-01  1.53775650e-01  7.96514719e-02\n",
      " -1.28199895e-01 -3.46577966e-01 -1.33107920e-01 -1.50719677e-03\n",
      "  7.49337913e-01  8.85068784e-02  2.02199211e-01  8.38126938e-01\n",
      " -2.29995074e-01 -1.64350199e-01  2.80397263e-01 -1.08102222e+00\n",
      "  2.15167973e-02 -4.92652868e-02 -6.56469911e-02  9.15645225e-02\n",
      " -7.44986519e-02  4.30827542e-01]\n"
     ]
    }
   ],
   "source": [
    "print(np.unique(x))"
   ]
  },
  {
   "cell_type": "code",
   "execution_count": 4,
   "metadata": {
    "colab": {},
    "colab_type": "code",
    "execution": {
     "iopub.execute_input": "2022-03-11T00:51:32.667151Z",
     "iopub.status.busy": "2022-03-11T00:51:32.667012Z",
     "iopub.status.idle": "2022-03-11T00:51:32.670561Z",
     "shell.execute_reply": "2022-03-11T00:51:32.669864Z",
     "shell.execute_reply.started": "2022-03-11T00:51:32.667134Z"
    },
    "id": "-3xsyphPWV-9",
    "tags": []
   },
   "outputs": [],
   "source": [
    "# Makes the dots colorful\n",
    "colors = np.random.rand(n)"
   ]
  },
  {
   "cell_type": "code",
   "execution_count": 5,
   "metadata": {
    "colab": {
     "base_uri": "https://localhost:8080/",
     "height": 265
    },
    "colab_type": "code",
    "execution": {
     "iopub.execute_input": "2022-03-11T00:51:32.672431Z",
     "iopub.status.busy": "2022-03-11T00:51:32.672011Z",
     "iopub.status.idle": "2022-03-11T00:51:32.764135Z",
     "shell.execute_reply": "2022-03-11T00:51:32.763515Z",
     "shell.execute_reply.started": "2022-03-11T00:51:32.672411Z"
    },
    "executionInfo": {
     "elapsed": 695,
     "status": "ok",
     "timestamp": 1584867226055,
     "user": {
      "displayName": "­김도형(대학원/일반대학원 전기전자공학과)",
      "photoUrl": "",
      "userId": "05486823788267165662"
     },
     "user_tz": -540
    },
    "id": "Rg7PWoagWV_A",
    "outputId": "ab9b3756-a115-4e49-c23e-dd1a0be3f4c7",
    "tags": []
   },
   "outputs": [
    {
     "data": {
      "image/png": "[encoded data removed]",
      "text/plain": [
       "<Figure size 432x288 with 1 Axes>"
      ]
     },
     "metadata": {
      "needs_background": "light"
     },
     "output_type": "display_data"
    }
   ],
   "source": [
    "# Plots best-fit line via polyfit\n",
    "plt.plot(np.unique(x), np.poly1d(np.polyfit(x, y, 1))(np.unique(x)))\n",
    "\n",
    "# Plots the random x and y data points we created\n",
    "# Interestingly, alpha makes it more aesthetically pleasing\n",
    "plt.scatter(x, y, c=colors, alpha=0.5)\n",
    "plt.show()"
   ]
  },
  {
   "cell_type": "markdown",
   "metadata": {
    "colab_type": "text",
    "id": "wdd4GyOMWV_E"
   },
   "source": [
    "### 1.3 Aim of Linear Regression\n",
    "- Minimize the distance between the points and the line ($y = \\alpha x + \\beta$)\n",
    "- Adjusting\n",
    "    - Coefficient: $\\alpha$\n",
    "    - Bias/intercept: $\\beta$"
   ]
  },
  {
   "cell_type": "markdown",
   "metadata": {
    "colab_type": "text",
    "id": "XC-40j8vWV_F"
   },
   "source": [
    "## 2. Building a Linear Regression Model with PyTorch\n",
    "\n",
    "### 2.1 Example\n",
    "- Coefficient: $\\alpha = 2$\n",
    "- Bias/intercept: $\\beta = 1$\n",
    "- Equation: $y = 2x + 1$\n",
    "\n",
    "### 2.2 Building a Toy Dataset"
   ]
  },
  {
   "cell_type": "markdown",
   "metadata": {
    "colab_type": "text",
    "id": "5_AC9TGFWV_G"
   },
   "source": [
    "**Create a list of values from 0 to 11**"
   ]
  },
  {
   "cell_type": "code",
   "execution_count": 9,
   "metadata": {
    "colab": {},
    "colab_type": "code",
    "execution": {
     "iopub.execute_input": "2022-03-11T00:51:32.765021Z",
     "iopub.status.busy": "2022-03-11T00:51:32.764883Z",
     "iopub.status.idle": "2022-03-11T00:51:32.768882Z",
     "shell.execute_reply": "2022-03-11T00:51:32.768150Z",
     "shell.execute_reply.started": "2022-03-11T00:51:32.765004Z"
    },
    "id": "hQL20qDpWV_H",
    "tags": []
   },
   "outputs": [],
   "source": [
    "x_values = [i for i in range(11)]"
   ]
  },
  {
   "cell_type": "code",
   "execution_count": 10,
   "metadata": {
    "colab": {
     "base_uri": "https://localhost:8080/",
     "height": 34
    },
    "colab_type": "code",
    "execution": {
     "iopub.execute_input": "2022-03-11T00:51:32.769713Z",
     "iopub.status.busy": "2022-03-11T00:51:32.769581Z",
     "iopub.status.idle": "2022-03-11T00:51:32.774420Z",
     "shell.execute_reply": "2022-03-11T00:51:32.773798Z",
     "shell.execute_reply.started": "2022-03-11T00:51:32.769697Z"
    },
    "executionInfo": {
     "elapsed": 532,
     "status": "ok",
     "timestamp": 1584867246777,
     "user": {
      "displayName": "­김도형(대학원/일반대학원 전기전자공학과)",
      "photoUrl": "",
      "userId": "05486823788267165662"
     },
     "user_tz": -540
    },
    "id": "hXRJmqH1WV_K",
    "outputId": "14e91eaa-d0dc-445f-ed6c-947a888481d7",
    "tags": []
   },
   "outputs": [
    {
     "data": {
      "text/plain": [
       "[0, 1, 2, 3, 4, 5, 6, 7, 8, 9, 10]"
      ]
     },
     "execution_count": 10,
     "metadata": {},
     "output_type": "execute_result"
    }
   ],
   "source": [
    "x_values"
   ]
  },
  {
   "cell_type": "markdown",
   "metadata": {
    "colab_type": "text",
    "id": "00T8PZlMWV_N"
   },
   "source": [
    "**Convert list of numbers to numpy array**"
   ]
  },
  {
   "cell_type": "code",
   "execution_count": 11,
   "metadata": {
    "colab": {
     "base_uri": "https://localhost:8080/",
     "height": 34
    },
    "colab_type": "code",
    "execution": {
     "iopub.execute_input": "2022-03-11T00:51:32.775457Z",
     "iopub.status.busy": "2022-03-11T00:51:32.775297Z",
     "iopub.status.idle": "2022-03-11T00:51:32.780051Z",
     "shell.execute_reply": "2022-03-11T00:51:32.779418Z",
     "shell.execute_reply.started": "2022-03-11T00:51:32.775439Z"
    },
    "executionInfo": {
     "elapsed": 695,
     "status": "ok",
     "timestamp": 1584867249081,
     "user": {
      "displayName": "­김도형(대학원/일반대학원 전기전자공학과)",
      "photoUrl": "",
      "userId": "05486823788267165662"
     },
     "user_tz": -540
    },
    "id": "OEe_XHNNWV_O",
    "outputId": "868095b5-efcf-4e20-cbf5-eba64d34f89e",
    "tags": []
   },
   "outputs": [
    {
     "data": {
      "text/plain": [
       "(11,)"
      ]
     },
     "execution_count": 11,
     "metadata": {},
     "output_type": "execute_result"
    }
   ],
   "source": [
    "# Convert to numpy\n",
    "x_train = np.array(x_values, dtype=np.float32)\n",
    "x_train.shape"
   ]
  },
  {
   "cell_type": "markdown",
   "metadata": {
    "colab_type": "text",
    "id": "faFTo1JoWV_R"
   },
   "source": [
    "**Convert to 2-dimensional array**\n",
    "\n",
    "If you don't this you will get an error stating you need 2D. Simply just reshape accordingly if you ever face such errors down the road."
   ]
  },
  {
   "cell_type": "code",
   "execution_count": 12,
   "metadata": {
    "colab": {
     "base_uri": "https://localhost:8080/",
     "height": 34
    },
    "colab_type": "code",
    "execution": {
     "iopub.execute_input": "2022-03-11T00:51:32.781121Z",
     "iopub.status.busy": "2022-03-11T00:51:32.780945Z",
     "iopub.status.idle": "2022-03-11T00:51:32.785750Z",
     "shell.execute_reply": "2022-03-11T00:51:32.785113Z",
     "shell.execute_reply.started": "2022-03-11T00:51:32.781102Z"
    },
    "executionInfo": {
     "elapsed": 651,
     "status": "ok",
     "timestamp": 1584867252162,
     "user": {
      "displayName": "­김도형(대학원/일반대학원 전기전자공학과)",
      "photoUrl": "",
      "userId": "05486823788267165662"
     },
     "user_tz": -540
    },
    "id": "lZl3oL6zWV_S",
    "outputId": "11c34a23-679c-4856-9a62-fe3dcc7744fc",
    "tags": []
   },
   "outputs": [
    {
     "data": {
      "text/plain": [
       "(11, 1)"
      ]
     },
     "execution_count": 12,
     "metadata": {},
     "output_type": "execute_result"
    }
   ],
   "source": [
    "# IMPORTANT: 2D required\n",
    "x_train = x_train.reshape(-1, 1)\n",
    "x_train.shape"
   ]
  },
  {
   "cell_type": "markdown",
   "metadata": {
    "colab_type": "text",
    "id": "gCbLqmbDWV_V"
   },
   "source": [
    "**Create list of y values**\n",
    "\n",
    "We want y values for every x value we have above. \n",
    "    \n",
    "$y = 2x + 1$"
   ]
  },
  {
   "cell_type": "code",
   "execution_count": 13,
   "metadata": {
    "colab": {},
    "colab_type": "code",
    "execution": {
     "iopub.execute_input": "2022-03-11T00:51:32.786684Z",
     "iopub.status.busy": "2022-03-11T00:51:32.786518Z",
     "iopub.status.idle": "2022-03-11T00:51:32.790205Z",
     "shell.execute_reply": "2022-03-11T00:51:32.789555Z",
     "shell.execute_reply.started": "2022-03-11T00:51:32.786664Z"
    },
    "id": "Hzt-9_sYWV_W",
    "tags": []
   },
   "outputs": [],
   "source": [
    "y_values = [2*i + 1 for i in x_values]"
   ]
  },
  {
   "cell_type": "code",
   "execution_count": 14,
   "metadata": {
    "colab": {
     "base_uri": "https://localhost:8080/",
     "height": 34
    },
    "colab_type": "code",
    "execution": {
     "iopub.execute_input": "2022-03-11T00:51:32.791218Z",
     "iopub.status.busy": "2022-03-11T00:51:32.791054Z",
     "iopub.status.idle": "2022-03-11T00:51:32.795790Z",
     "shell.execute_reply": "2022-03-11T00:51:32.795134Z",
     "shell.execute_reply.started": "2022-03-11T00:51:32.791198Z"
    },
    "executionInfo": {
     "elapsed": 518,
     "status": "ok",
     "timestamp": 1584867255274,
     "user": {
      "displayName": "­김도형(대학원/일반대학원 전기전자공학과)",
      "photoUrl": "",
      "userId": "05486823788267165662"
     },
     "user_tz": -540
    },
    "id": "0olLnf86WV_Y",
    "outputId": "4013b549-f18a-472b-95aa-26f4c88573e8",
    "tags": []
   },
   "outputs": [
    {
     "data": {
      "text/plain": [
       "[1, 3, 5, 7, 9, 11, 13, 15, 17, 19, 21]"
      ]
     },
     "execution_count": 14,
     "metadata": {},
     "output_type": "execute_result"
    }
   ],
   "source": [
    "y_values"
   ]
  },
  {
   "cell_type": "markdown",
   "metadata": {
    "colab_type": "text",
    "id": "MYVtUqLkWV_b"
   },
   "source": [
    "**Alternative to create list of y values**\n",
    "\n",
    "If you're weak in list iterators, this might be an easier alternative."
   ]
  },
  {
   "cell_type": "code",
   "execution_count": 15,
   "metadata": {
    "colab": {},
    "colab_type": "code",
    "execution": {
     "iopub.execute_input": "2022-03-11T00:51:32.796898Z",
     "iopub.status.busy": "2022-03-11T00:51:32.796712Z",
     "iopub.status.idle": "2022-03-11T00:51:32.800745Z",
     "shell.execute_reply": "2022-03-11T00:51:32.800059Z",
     "shell.execute_reply.started": "2022-03-11T00:51:32.796875Z"
    },
    "id": "_Hds8F2CWV_c",
    "tags": []
   },
   "outputs": [],
   "source": [
    "# In case you're weak in list iterators...\n",
    "y_values = []\n",
    "for i in x_values:\n",
    "    result = 2*i + 1\n",
    "    y_values.append(result) "
   ]
  },
  {
   "cell_type": "code",
   "execution_count": 16,
   "metadata": {
    "colab": {
     "base_uri": "https://localhost:8080/",
     "height": 34
    },
    "colab_type": "code",
    "execution": {
     "iopub.execute_input": "2022-03-11T00:51:32.801751Z",
     "iopub.status.busy": "2022-03-11T00:51:32.801567Z",
     "iopub.status.idle": "2022-03-11T00:51:32.806585Z",
     "shell.execute_reply": "2022-03-11T00:51:32.805898Z",
     "shell.execute_reply.started": "2022-03-11T00:51:32.801729Z"
    },
    "executionInfo": {
     "elapsed": 423,
     "status": "ok",
     "timestamp": 1584867257538,
     "user": {
      "displayName": "­김도형(대학원/일반대학원 전기전자공학과)",
      "photoUrl": "",
      "userId": "05486823788267165662"
     },
     "user_tz": -540
    },
    "id": "1c5uEEfVWV_f",
    "outputId": "8bf33dc7-c2da-4954-a080-68cc43531040",
    "tags": []
   },
   "outputs": [
    {
     "data": {
      "text/plain": [
       "[1, 3, 5, 7, 9, 11, 13, 15, 17, 19, 21]"
      ]
     },
     "execution_count": 16,
     "metadata": {},
     "output_type": "execute_result"
    }
   ],
   "source": [
    "y_values"
   ]
  },
  {
   "cell_type": "markdown",
   "metadata": {
    "colab_type": "text",
    "id": "TwNUI5a0WV_i"
   },
   "source": [
    "**Convert to numpy array**\n",
    "\n",
    "You will slowly get a hang on how when you deal with PyTorch tensors, you just keep on making sure your raw data is in numpy form to make sure everything's good."
   ]
  },
  {
   "cell_type": "code",
   "execution_count": 17,
   "metadata": {
    "colab": {
     "base_uri": "https://localhost:8080/",
     "height": 34
    },
    "colab_type": "code",
    "execution": {
     "iopub.execute_input": "2022-03-11T00:51:32.809669Z",
     "iopub.status.busy": "2022-03-11T00:51:32.809464Z",
     "iopub.status.idle": "2022-03-11T00:51:32.815201Z",
     "shell.execute_reply": "2022-03-11T00:51:32.814510Z",
     "shell.execute_reply.started": "2022-03-11T00:51:32.809644Z"
    },
    "executionInfo": {
     "elapsed": 612,
     "status": "ok",
     "timestamp": 1584867260205,
     "user": {
      "displayName": "­김도형(대학원/일반대학원 전기전자공학과)",
      "photoUrl": "",
      "userId": "05486823788267165662"
     },
     "user_tz": -540
    },
    "id": "qHcqgn0jWV_j",
    "outputId": "abf751a0-2305-499c-8b2b-a359b0dac16e",
    "tags": []
   },
   "outputs": [
    {
     "data": {
      "text/plain": [
       "(11,)"
      ]
     },
     "execution_count": 17,
     "metadata": {},
     "output_type": "execute_result"
    }
   ],
   "source": [
    "y_train = np.array(y_values, dtype=np.float32)\n",
    "y_train.shape"
   ]
  },
  {
   "cell_type": "markdown",
   "metadata": {
    "colab_type": "text",
    "id": "vwDiTxJMWV_m"
   },
   "source": [
    "**Reshape y numpy array to 2-dimension**"
   ]
  },
  {
   "cell_type": "code",
   "execution_count": 18,
   "metadata": {
    "colab": {
     "base_uri": "https://localhost:8080/",
     "height": 34
    },
    "colab_type": "code",
    "execution": {
     "iopub.execute_input": "2022-03-11T00:51:32.816450Z",
     "iopub.status.busy": "2022-03-11T00:51:32.816254Z",
     "iopub.status.idle": "2022-03-11T00:51:32.883151Z",
     "shell.execute_reply": "2022-03-11T00:51:32.882284Z",
     "shell.execute_reply.started": "2022-03-11T00:51:32.816426Z"
    },
    "executionInfo": {
     "elapsed": 659,
     "status": "ok",
     "timestamp": 1584867262598,
     "user": {
      "displayName": "­김도형(대학원/일반대학원 전기전자공학과)",
      "photoUrl": "",
      "userId": "05486823788267165662"
     },
     "user_tz": -540
    },
    "id": "7uQaz-R2WV_m",
    "outputId": "4dc70e14-8961-488d-adf6-c03953a0d7de",
    "tags": []
   },
   "outputs": [
    {
     "data": {
      "text/plain": [
       "(11, 1)"
      ]
     },
     "execution_count": 18,
     "metadata": {},
     "output_type": "execute_result"
    }
   ],
   "source": [
    "# IMPORTANT: 2D required\n",
    "y_train = y_train.reshape(-1, 1)\n",
    "y_train.shape"
   ]
  },
  {
   "cell_type": "markdown",
   "metadata": {
    "colab_type": "text",
    "id": "xNI_WS_KWV_p"
   },
   "source": [
    "### 2.3 Building Model"
   ]
  },
  {
   "cell_type": "markdown",
   "metadata": {
    "colab_type": "text",
    "id": "KolPNovxWV_q"
   },
   "source": [
    "**Critical Imports**"
   ]
  },
  {
   "cell_type": "code",
   "execution_count": 19,
   "metadata": {
    "colab": {},
    "colab_type": "code",
    "execution": {
     "iopub.execute_input": "2022-03-11T00:51:32.884227Z",
     "iopub.status.busy": "2022-03-11T00:51:32.884077Z",
     "iopub.status.idle": "2022-03-11T00:51:33.571746Z",
     "shell.execute_reply": "2022-03-11T00:51:33.569909Z",
     "shell.execute_reply.started": "2022-03-11T00:51:32.884209Z"
    },
    "id": "bNaMofNnWV_r",
    "tags": []
   },
   "outputs": [],
   "source": [
    "import torch\n",
    "import torch.nn as nn"
   ]
  },
  {
   "cell_type": "markdown",
   "metadata": {
    "colab_type": "text",
    "id": "EeNtJau5WV_u"
   },
   "source": [
    "**Create Model**\n",
    "\n",
    "1. Linear model\n",
    "    - True Equation: $y = 2x + 1$\n",
    "2. Forward\n",
    "    - Example\n",
    "        - Input $x = 1$\n",
    "        - Output $\\hat y = ?$"
   ]
  },
  {
   "cell_type": "code",
   "execution_count": 20,
   "metadata": {
    "colab": {},
    "colab_type": "code",
    "execution": {
     "iopub.execute_input": "2022-03-11T00:51:33.574890Z",
     "iopub.status.busy": "2022-03-11T00:51:33.574559Z",
     "iopub.status.idle": "2022-03-11T00:51:33.582751Z",
     "shell.execute_reply": "2022-03-11T00:51:33.581452Z",
     "shell.execute_reply.started": "2022-03-11T00:51:33.574855Z"
    },
    "id": "loixG608WV_u",
    "tags": []
   },
   "outputs": [],
   "source": [
    "# Create class\n",
    "class LinearRegressionModel(nn.Module):\n",
    "    def __init__(self, input_dim, output_dim):\n",
    "        super(LinearRegressionModel, self).__init__()\n",
    "        self.linear = nn.Linear(input_dim, output_dim)  \n",
    "\n",
    "    def forward(self, x):\n",
    "        out = self.linear(x)\n",
    "        return out"
   ]
  },
  {
   "cell_type": "markdown",
   "metadata": {
    "colab_type": "text",
    "id": "1bh7FcnPWV_x"
   },
   "source": [
    "**Instantiate Model Class**\n",
    "\n",
    "- input: [0, 1, 2, 3, 4, 5, 6, 7, 8, 9, 10]\n",
    "- desired output: [1, 3, 5, 7, 9, 11, 13, 15, 17, 19, 21]"
   ]
  },
  {
   "cell_type": "code",
   "execution_count": 21,
   "metadata": {
    "colab": {},
    "colab_type": "code",
    "execution": {
     "iopub.execute_input": "2022-03-11T00:51:33.584031Z",
     "iopub.status.busy": "2022-03-11T00:51:33.583829Z",
     "iopub.status.idle": "2022-03-11T00:51:33.590778Z",
     "shell.execute_reply": "2022-03-11T00:51:33.589797Z",
     "shell.execute_reply.started": "2022-03-11T00:51:33.584008Z"
    },
    "id": "fWGZCgY_WV_y",
    "tags": []
   },
   "outputs": [],
   "source": [
    "input_dim = 1\n",
    "output_dim = 1\n",
    "\n",
    "model = LinearRegressionModel(input_dim, output_dim)"
   ]
  },
  {
   "cell_type": "markdown",
   "metadata": {
    "colab_type": "text",
    "id": "aiUdthvCWV_0"
   },
   "source": [
    "**Instantiate Loss Class**\n",
    "- MSE Loss: Mean Squared Error\n",
    "- $MSE = \\frac{1}{n} \\sum_{i=1}^n(\\hat y_i - y_i)$\n",
    "    - $\\hat y$: prediction\n",
    "    - $y$: true value"
   ]
  },
  {
   "cell_type": "code",
   "execution_count": 22,
   "metadata": {
    "colab": {},
    "colab_type": "code",
    "execution": {
     "iopub.execute_input": "2022-03-11T00:51:33.592553Z",
     "iopub.status.busy": "2022-03-11T00:51:33.592238Z",
     "iopub.status.idle": "2022-03-11T00:51:33.596351Z",
     "shell.execute_reply": "2022-03-11T00:51:33.595641Z",
     "shell.execute_reply.started": "2022-03-11T00:51:33.592527Z"
    },
    "id": "4XlL472YWV_1",
    "tags": []
   },
   "outputs": [],
   "source": [
    "criterion = nn.MSELoss()"
   ]
  },
  {
   "cell_type": "markdown",
   "metadata": {
    "colab_type": "text",
    "id": "IU64zCNyWV_3"
   },
   "source": [
    "**Instantiate Optimizer Class**\n",
    "\n",
    "- Simplified equation\n",
    "    - $\\theta = \\theta - \\eta \\cdot \\nabla_\\theta$\n",
    "        - $\\theta$: parameters (our variables)\n",
    "        - $\\eta$: learning rate (how fast we want to learn)\n",
    "        - $\\nabla_\\theta$: parameters' gradients\n",
    "- Even simplier equation\n",
    "    - `parameters = parameters - learning_rate * parameters_gradients`\n",
    "        - parameters: $\\alpha$ and $\\beta$ in $y = \\alpha x + \\beta$\n",
    "        - desired parameters: $\\alpha = 2$ and $\\beta = 1$ in $ y = 2x + 1$ "
   ]
  },
  {
   "cell_type": "code",
   "execution_count": 24,
   "metadata": {
    "colab": {},
    "colab_type": "code",
    "execution": {
     "iopub.execute_input": "2022-03-11T00:51:33.597476Z",
     "iopub.status.busy": "2022-03-11T00:51:33.597278Z",
     "iopub.status.idle": "2022-03-11T00:51:33.601367Z",
     "shell.execute_reply": "2022-03-11T00:51:33.600655Z",
     "shell.execute_reply.started": "2022-03-11T00:51:33.597453Z"
    },
    "id": "36mStrUsWV_4",
    "tags": []
   },
   "outputs": [],
   "source": [
    "learning_rate = 0.01\n",
    "\n",
    "optimizer = torch.optim.SGD(model.parameters(), lr=learning_rate)"
   ]
  },
  {
   "cell_type": "markdown",
   "metadata": {
    "colab_type": "text",
    "id": "uhnu7VVkWV_7"
   },
   "source": [
    "**Train Model**\n",
    "\n",
    "- 1 epoch: going through the whole x_train data once\n",
    "    - 100 epochs: \n",
    "        - 100x mapping `x_train = [0, 1, 2, 3, 4, 5, 6, 7, 8, 9, 10]`\n",
    "            \n",
    "- Process \n",
    "    1. Convert inputs/labels to tensors with gradients\n",
    "    2. Clear gradient buffets\n",
    "    3. Get output given inputs \n",
    "    4. Get loss\n",
    "    5. Get gradients w.r.t. parameters\n",
    "    6. Update parameters using gradients\n",
    "        - `parameters = parameters - learning_rate * parameters_gradients`\n",
    "    7. REPEAT"
   ]
  },
  {
   "cell_type": "code",
   "execution_count": 25,
   "metadata": {
    "colab": {},
    "colab_type": "code",
    "execution": {
     "iopub.execute_input": "2022-03-11T00:51:33.602692Z",
     "iopub.status.busy": "2022-03-11T00:51:33.602369Z",
     "iopub.status.idle": "2022-03-11T00:51:33.606473Z",
     "shell.execute_reply": "2022-03-11T00:51:33.605519Z",
     "shell.execute_reply.started": "2022-03-11T00:51:33.602667Z"
    },
    "id": "-R7jgKO7WV_7",
    "tags": []
   },
   "outputs": [],
   "source": [
    "epochs = 100"
   ]
  },
  {
   "cell_type": "code",
   "execution_count": 26,
   "metadata": {
    "colab": {
     "base_uri": "https://localhost:8080/",
     "height": 1000
    },
    "colab_type": "code",
    "execution": {
     "iopub.execute_input": "2022-03-11T00:51:33.607599Z",
     "iopub.status.busy": "2022-03-11T00:51:33.607408Z",
     "iopub.status.idle": "2022-03-11T00:51:33.694147Z",
     "shell.execute_reply": "2022-03-11T00:51:33.693081Z",
     "shell.execute_reply.started": "2022-03-11T00:51:33.607577Z"
    },
    "executionInfo": {
     "elapsed": 842,
     "status": "ok",
     "timestamp": 1584681105004,
     "user": {
      "displayName": "­김도형(대학원/일반대학원 전기전자공학과)",
      "photoUrl": "",
      "userId": "05486823788267165662"
     },
     "user_tz": -540
    },
    "id": "CH9zgvqlWWAA",
    "outputId": "a16834e2-a52a-403a-8f0d-5f0753780c11",
    "tags": []
   },
   "outputs": [
    {
     "name": "stdout",
     "output_type": "stream",
     "text": [
      "epoch 1, loss 179.15908813476562\n",
      "epoch 2, loss 14.62222671508789\n",
      "epoch 3, loss 1.2013753652572632\n",
      "epoch 4, loss 0.10658162087202072\n",
      "epoch 5, loss 0.017186857759952545\n",
      "epoch 6, loss 0.009800303727388382\n",
      "epoch 7, loss 0.009104016236960888\n",
      "epoch 8, loss 0.008954486809670925\n",
      "epoch 9, loss 0.008850581012666225\n",
      "epoch 10, loss 0.008751451037824154\n",
      "epoch 11, loss 0.00865370873361826\n",
      "epoch 12, loss 0.008557009510695934\n",
      "epoch 13, loss 0.008461491204798222\n",
      "epoch 14, loss 0.008366993628442287\n",
      "epoch 15, loss 0.008273580111563206\n",
      "epoch 16, loss 0.008181187324225903\n",
      "epoch 17, loss 0.008089818991720676\n",
      "epoch 18, loss 0.007999480701982975\n",
      "epoch 19, loss 0.007910161279141903\n",
      "epoch 20, loss 0.007821813225746155\n",
      "epoch 21, loss 0.007734491024166346\n",
      "epoch 22, loss 0.0076481057330966\n",
      "epoch 23, loss 0.007562697399407625\n",
      "epoch 24, loss 0.007478280458599329\n",
      "epoch 25, loss 0.007394768297672272\n",
      "epoch 26, loss 0.007312166504561901\n",
      "epoch 27, loss 0.0072304862551391125\n",
      "epoch 28, loss 0.007149765267968178\n",
      "epoch 29, loss 0.007069976534694433\n",
      "epoch 30, loss 0.006990968715399504\n",
      "epoch 31, loss 0.0069129313342273235\n",
      "epoch 32, loss 0.0068357246927917\n",
      "epoch 33, loss 0.006759381387382746\n",
      "epoch 34, loss 0.006683921441435814\n",
      "epoch 35, loss 0.006609286647289991\n",
      "epoch 36, loss 0.006535479798913002\n",
      "epoch 37, loss 0.006462480407208204\n",
      "epoch 38, loss 0.006390318740159273\n",
      "epoch 39, loss 0.006318945903331041\n",
      "epoch 40, loss 0.006248404271900654\n",
      "epoch 41, loss 0.006178662180900574\n",
      "epoch 42, loss 0.006109675392508507\n",
      "epoch 43, loss 0.006041426677256823\n",
      "epoch 44, loss 0.005973971914499998\n",
      "epoch 45, loss 0.005907260347157717\n",
      "epoch 46, loss 0.005841284524649382\n",
      "epoch 47, loss 0.005776048172265291\n",
      "epoch 48, loss 0.005711559671908617\n",
      "epoch 49, loss 0.005647766869515181\n",
      "epoch 50, loss 0.005584698636084795\n",
      "epoch 51, loss 0.005522333551198244\n",
      "epoch 52, loss 0.005460647866129875\n",
      "epoch 53, loss 0.00539969839155674\n",
      "epoch 54, loss 0.0053394208662211895\n",
      "epoch 55, loss 0.005279775708913803\n",
      "epoch 56, loss 0.005220829974859953\n",
      "epoch 57, loss 0.005162534303963184\n",
      "epoch 58, loss 0.005104857962578535\n",
      "epoch 59, loss 0.005047895014286041\n",
      "epoch 60, loss 0.00499149551615119\n",
      "epoch 61, loss 0.004935737699270248\n",
      "epoch 62, loss 0.004880635067820549\n",
      "epoch 63, loss 0.00482611870393157\n",
      "epoch 64, loss 0.0047722491435706615\n",
      "epoch 65, loss 0.004718942567706108\n",
      "epoch 66, loss 0.00466621620580554\n",
      "epoch 67, loss 0.004614151082932949\n",
      "epoch 68, loss 0.004562639631330967\n",
      "epoch 69, loss 0.004511658567935228\n",
      "epoch 70, loss 0.004461273550987244\n",
      "epoch 71, loss 0.004411468282341957\n",
      "epoch 72, loss 0.004362184554338455\n",
      "epoch 73, loss 0.004313495010137558\n",
      "epoch 74, loss 0.0042653013952076435\n",
      "epoch 75, loss 0.004217689391225576\n",
      "epoch 76, loss 0.004170597996562719\n",
      "epoch 77, loss 0.004124002996832132\n",
      "epoch 78, loss 0.004077982623130083\n",
      "epoch 79, loss 0.004032418131828308\n",
      "epoch 80, loss 0.003987408243119717\n",
      "epoch 81, loss 0.003942873794585466\n",
      "epoch 82, loss 0.0038988618180155754\n",
      "epoch 83, loss 0.003855341812595725\n",
      "epoch 84, loss 0.0038122728001326323\n",
      "epoch 85, loss 0.0037696913350373507\n",
      "epoch 86, loss 0.0037275804206728935\n",
      "epoch 87, loss 0.0036859733518213034\n",
      "epoch 88, loss 0.0036448040045797825\n",
      "epoch 89, loss 0.0036041035782545805\n",
      "epoch 90, loss 0.0035638681147247553\n",
      "epoch 91, loss 0.003524074563756585\n",
      "epoch 92, loss 0.0034847126808017492\n",
      "epoch 93, loss 0.003445802489295602\n",
      "epoch 94, loss 0.0034073174465447664\n",
      "epoch 95, loss 0.0033692868892103434\n",
      "epoch 96, loss 0.003331637941300869\n",
      "epoch 97, loss 0.003294415771961212\n",
      "epoch 98, loss 0.0032576569356024265\n",
      "epoch 99, loss 0.0032212615478783846\n",
      "epoch 100, loss 0.0031853141263127327\n"
     ]
    }
   ],
   "source": [
    "for epoch in range(epochs):\n",
    "    epoch += 1\n",
    "    # Convert numpy array to torch Variable\n",
    "    inputs = torch.from_numpy(x_train)\n",
    "    labels = torch.from_numpy(y_train)\n",
    "\n",
    "    # Clear gradients w.r.t. parameters\n",
    "    optimizer.zero_grad() \n",
    "\n",
    "    # Forward to get output\n",
    "    outputs = model(inputs)\n",
    "\n",
    "    # Calculate Loss\n",
    "    loss = criterion(outputs, labels)\n",
    "\n",
    "    # Getting gradients w.r.t. parameters\n",
    "    loss.backward()\n",
    "\n",
    "    # Updating parameters\n",
    "    optimizer.step()\n",
    "\n",
    "    print('epoch {}, loss {}'.format(epoch, loss.item()))"
   ]
  },
  {
   "cell_type": "markdown",
   "metadata": {
    "colab_type": "text",
    "id": "gGYsO26pWWAD"
   },
   "source": [
    "**Looking at predicted values**"
   ]
  },
  {
   "cell_type": "code",
   "execution_count": 27,
   "metadata": {
    "colab": {},
    "colab_type": "code",
    "execution": {
     "iopub.execute_input": "2022-03-11T00:51:33.696164Z",
     "iopub.status.busy": "2022-03-11T00:51:33.695835Z",
     "iopub.status.idle": "2022-03-11T00:51:33.701761Z",
     "shell.execute_reply": "2022-03-11T00:51:33.700578Z",
     "shell.execute_reply.started": "2022-03-11T00:51:33.696126Z"
    },
    "id": "7juYuNDHWWAE",
    "tags": []
   },
   "outputs": [],
   "source": [
    "# Purely inference\n",
    "predicted = model(torch.from_numpy(x_train)).data.numpy()"
   ]
  },
  {
   "cell_type": "code",
   "execution_count": 28,
   "metadata": {
    "colab": {
     "base_uri": "https://localhost:8080/",
     "height": 204
    },
    "colab_type": "code",
    "execution": {
     "iopub.execute_input": "2022-03-11T00:51:33.703523Z",
     "iopub.status.busy": "2022-03-11T00:51:33.703238Z",
     "iopub.status.idle": "2022-03-11T00:51:33.712925Z",
     "shell.execute_reply": "2022-03-11T00:51:33.711967Z",
     "shell.execute_reply.started": "2022-03-11T00:51:33.703489Z"
    },
    "executionInfo": {
     "elapsed": 355,
     "status": "ok",
     "timestamp": 1584681106766,
     "user": {
      "displayName": "­김도형(대학원/일반대학원 전기전자공학과)",
      "photoUrl": "",
      "userId": "05486823788267165662"
     },
     "user_tz": -540
    },
    "id": "s-S8tXzOWWAG",
    "outputId": "1a0a7900-7752-4521-c3fe-1f737e850dc6",
    "tags": []
   },
   "outputs": [
    {
     "data": {
      "text/plain": [
       "array([[ 1.1049869],\n",
       "       [ 3.0898678],\n",
       "       [ 5.074749 ],\n",
       "       [ 7.0596294],\n",
       "       [ 9.044511 ],\n",
       "       [11.029391 ],\n",
       "       [13.014273 ],\n",
       "       [14.999154 ],\n",
       "       [16.984034 ],\n",
       "       [18.968914 ],\n",
       "       [20.953794 ]], dtype=float32)"
      ]
     },
     "execution_count": 28,
     "metadata": {},
     "output_type": "execute_result"
    }
   ],
   "source": [
    "predicted"
   ]
  },
  {
   "cell_type": "markdown",
   "metadata": {
    "colab_type": "text",
    "id": "s2R1izcgWWAJ"
   },
   "source": [
    "**Looking at training values**\n",
    "\n",
    "These are the true values, you can see how it's able to predict similar values."
   ]
  },
  {
   "cell_type": "code",
   "execution_count": 29,
   "metadata": {
    "colab": {
     "base_uri": "https://localhost:8080/",
     "height": 204
    },
    "colab_type": "code",
    "execution": {
     "iopub.execute_input": "2022-03-11T00:51:33.714835Z",
     "iopub.status.busy": "2022-03-11T00:51:33.714396Z",
     "iopub.status.idle": "2022-03-11T00:51:33.721374Z",
     "shell.execute_reply": "2022-03-11T00:51:33.720500Z",
     "shell.execute_reply.started": "2022-03-11T00:51:33.714796Z"
    },
    "executionInfo": {
     "elapsed": 537,
     "status": "ok",
     "timestamp": 1584681107898,
     "user": {
      "displayName": "­김도형(대학원/일반대학원 전기전자공학과)",
      "photoUrl": "",
      "userId": "05486823788267165662"
     },
     "user_tz": -540
    },
    "id": "JTpLzluvWWAK",
    "outputId": "bded641c-c7c1-44f1-94d6-c4f43226d0a8",
    "tags": []
   },
   "outputs": [
    {
     "data": {
      "text/plain": [
       "array([[ 1.],\n",
       "       [ 3.],\n",
       "       [ 5.],\n",
       "       [ 7.],\n",
       "       [ 9.],\n",
       "       [11.],\n",
       "       [13.],\n",
       "       [15.],\n",
       "       [17.],\n",
       "       [19.],\n",
       "       [21.]], dtype=float32)"
      ]
     },
     "execution_count": 29,
     "metadata": {},
     "output_type": "execute_result"
    }
   ],
   "source": [
    "# y = 2x + 1 \n",
    "y_train"
   ]
  },
  {
   "cell_type": "markdown",
   "metadata": {
    "colab_type": "text",
    "id": "md4edRRPWWAN"
   },
   "source": [
    "**Plot of predicted and actual values**"
   ]
  },
  {
   "cell_type": "code",
   "execution_count": 30,
   "metadata": {
    "colab": {
     "base_uri": "https://localhost:8080/",
     "height": 265
    },
    "colab_type": "code",
    "execution": {
     "iopub.execute_input": "2022-03-11T00:51:33.723154Z",
     "iopub.status.busy": "2022-03-11T00:51:33.722736Z",
     "iopub.status.idle": "2022-03-11T00:51:33.834908Z",
     "shell.execute_reply": "2022-03-11T00:51:33.834222Z",
     "shell.execute_reply.started": "2022-03-11T00:51:33.723118Z"
    },
    "executionInfo": {
     "elapsed": 1165,
     "status": "ok",
     "timestamp": 1584681109163,
     "user": {
      "displayName": "­김도형(대학원/일반대학원 전기전자공학과)",
      "photoUrl": "",
      "userId": "05486823788267165662"
     },
     "user_tz": -540
    },
    "id": "VlKxi_EuWWAO",
    "outputId": "c180f207-669d-4afc-ea25-8ce1f797e68e",
    "tags": []
   },
   "outputs": [
    {
     "data": {
      "image/png": "[encoded data removed]",
      "text/plain": [
       "<Figure size 432x288 with 1 Axes>"
      ]
     },
     "metadata": {
      "needs_background": "light"
     },
     "output_type": "display_data"
    }
   ],
   "source": [
    "# Clear figure\n",
    "plt.clf()\n",
    "\n",
    "# Get predictions\n",
    "predicted = model(torch.from_numpy(x_train)).data.numpy()\n",
    "\n",
    "# Plot true data\n",
    "plt.plot(x_train, y_train, 'go', label='True data', alpha=0.5)\n",
    "\n",
    "# Plot predictions\n",
    "plt.plot(x_train, predicted, '--', label='Predictions', alpha=0.5)\n",
    "\n",
    "# Legend and plot\n",
    "plt.legend(loc='best')\n",
    "plt.show()\n",
    "\n",
    "## 제법 잘 예측한다."
   ]
  },
  {
   "cell_type": "markdown",
   "metadata": {
    "colab_type": "text",
    "id": "KicYOw5TWWAR"
   },
   "source": [
    "**Save Model**"
   ]
  },
  {
   "cell_type": "code",
   "execution_count": 31,
   "metadata": {
    "colab": {},
    "colab_type": "code",
    "execution": {
     "iopub.execute_input": "2022-03-11T00:51:33.836100Z",
     "iopub.status.busy": "2022-03-11T00:51:33.835951Z",
     "iopub.status.idle": "2022-03-11T00:51:33.839836Z",
     "shell.execute_reply": "2022-03-11T00:51:33.839018Z",
     "shell.execute_reply.started": "2022-03-11T00:51:33.836083Z"
    },
    "id": "q-R-9NORWWAR",
    "tags": []
   },
   "outputs": [],
   "source": [
    "save_model = False\n",
    "if save_model is True:\n",
    "    # Saves only parameters\n",
    "    # alpha & beta\n",
    "    torch.save(model.state_dict(), 'awesome_model.pkl')"
   ]
  },
  {
   "cell_type": "markdown",
   "metadata": {
    "colab_type": "text",
    "id": "YpDCFot4WWAU"
   },
   "source": [
    "**Load Model**"
   ]
  },
  {
   "cell_type": "code",
   "execution_count": 32,
   "metadata": {
    "colab": {},
    "colab_type": "code",
    "execution": {
     "iopub.execute_input": "2022-03-11T00:51:33.840721Z",
     "iopub.status.busy": "2022-03-11T00:51:33.840583Z",
     "iopub.status.idle": "2022-03-11T00:51:33.844195Z",
     "shell.execute_reply": "2022-03-11T00:51:33.843575Z",
     "shell.execute_reply.started": "2022-03-11T00:51:33.840705Z"
    },
    "id": "ZZ0WXH_EWWAU",
    "tags": []
   },
   "outputs": [],
   "source": [
    "load_model = False\n",
    "if load_model is True:\n",
    "    model.load_state_dict(torch.load('awesome_model.pkl'))"
   ]
  },
  {
   "cell_type": "markdown",
   "metadata": {
    "colab_type": "text",
    "id": "6Owr3OKNWWAW"
   },
   "source": [
    "## 3. Building a Linear Regression Model with PyTorch (GPU)"
   ]
  },
  {
   "cell_type": "markdown",
   "metadata": {
    "colab_type": "text",
    "id": "Dm57JOaPWWAX"
   },
   "source": [
    "**CPU Summary**"
   ]
  },
  {
   "cell_type": "code",
   "execution_count": 33,
   "metadata": {
    "colab": {
     "base_uri": "https://localhost:8080/",
     "height": 1000
    },
    "colab_type": "code",
    "execution": {
     "iopub.execute_input": "2022-03-11T00:51:33.845136Z",
     "iopub.status.busy": "2022-03-11T00:51:33.844987Z",
     "iopub.status.idle": "2022-03-11T00:51:33.896978Z",
     "shell.execute_reply": "2022-03-11T00:51:33.896072Z",
     "shell.execute_reply.started": "2022-03-11T00:51:33.845119Z"
    },
    "executionInfo": {
     "elapsed": 813,
     "status": "ok",
     "timestamp": 1584681113589,
     "user": {
      "displayName": "­김도형(대학원/일반대학원 전기전자공학과)",
      "photoUrl": "",
      "userId": "05486823788267165662"
     },
     "user_tz": -540
    },
    "id": "P2QqtTJVWWAY",
    "outputId": "6293d920-581a-4eb1-aa1b-24d2eea89923",
    "tags": []
   },
   "outputs": [
    {
     "name": "stdout",
     "output_type": "stream",
     "text": [
      "epoch 1, loss 268.4530029296875\n",
      "epoch 2, loss 21.900102615356445\n",
      "epoch 3, loss 1.789526343345642\n",
      "epoch 4, loss 0.1491336226463318\n",
      "epoch 5, loss 0.015297248028218746\n",
      "epoch 6, loss 0.004345532041043043\n",
      "epoch 7, loss 0.003417687024921179\n",
      "epoch 8, loss 0.0033077849075198174\n",
      "epoch 9, loss 0.003264994127675891\n",
      "epoch 10, loss 0.0032280453015118837\n",
      "epoch 11, loss 0.0031919649336487055\n",
      "epoch 12, loss 0.0031563208904117346\n",
      "epoch 13, loss 0.0031210484448820353\n",
      "epoch 14, loss 0.0030862106941640377\n",
      "epoch 15, loss 0.0030517340637743473\n",
      "epoch 16, loss 0.0030176907312124968\n",
      "epoch 17, loss 0.0029839680064469576\n",
      "epoch 18, loss 0.0029506355058401823\n",
      "epoch 19, loss 0.002917716046795249\n",
      "epoch 20, loss 0.002885115332901478\n",
      "epoch 21, loss 0.00285289972089231\n",
      "epoch 22, loss 0.0028210803866386414\n",
      "epoch 23, loss 0.0027895586099475622\n",
      "epoch 24, loss 0.0027583916671574116\n",
      "epoch 25, loss 0.002727607963606715\n",
      "epoch 26, loss 0.002697120187804103\n",
      "epoch 27, loss 0.0026670321822166443\n",
      "epoch 28, loss 0.002637235214933753\n",
      "epoch 29, loss 0.0026077867951244116\n",
      "epoch 30, loss 0.00257867737673223\n",
      "epoch 31, loss 0.00254988600499928\n",
      "epoch 32, loss 0.0025214010383933783\n",
      "epoch 33, loss 0.0024932613596320152\n",
      "epoch 34, loss 0.002465411089360714\n",
      "epoch 35, loss 0.002437867457047105\n",
      "epoch 36, loss 0.0024106684140861034\n",
      "epoch 37, loss 0.002383737824857235\n",
      "epoch 38, loss 0.0023571003694087267\n",
      "epoch 39, loss 0.002330800285562873\n",
      "epoch 40, loss 0.002304763300344348\n",
      "epoch 41, loss 0.0022790387738496065\n",
      "epoch 42, loss 0.0022535885218530893\n",
      "epoch 43, loss 0.002228431636467576\n",
      "epoch 44, loss 0.0022035306319594383\n",
      "epoch 45, loss 0.0021789453458040953\n",
      "epoch 46, loss 0.0021545866038650274\n",
      "epoch 47, loss 0.00213052611798048\n",
      "epoch 48, loss 0.002106743399053812\n",
      "epoch 49, loss 0.0020832002628594637\n",
      "epoch 50, loss 0.0020599488634616137\n",
      "epoch 51, loss 0.0020369382109493017\n",
      "epoch 52, loss 0.002014206489548087\n",
      "epoch 53, loss 0.0019917190074920654\n",
      "epoch 54, loss 0.001969484146684408\n",
      "epoch 55, loss 0.0019474688451737165\n",
      "epoch 56, loss 0.001925742719322443\n",
      "epoch 57, loss 0.0019042346393689513\n",
      "epoch 58, loss 0.0018829532200470567\n",
      "epoch 59, loss 0.001861940952949226\n",
      "epoch 60, loss 0.0018411398632451892\n",
      "epoch 61, loss 0.001820579171180725\n",
      "epoch 62, loss 0.001800239086151123\n",
      "epoch 63, loss 0.0017801261274144053\n",
      "epoch 64, loss 0.0017602734733372927\n",
      "epoch 65, loss 0.0017406218685209751\n",
      "epoch 66, loss 0.001721183187328279\n",
      "epoch 67, loss 0.0017019443912431598\n",
      "epoch 68, loss 0.00168294133618474\n",
      "epoch 69, loss 0.0016641508555039763\n",
      "epoch 70, loss 0.0016455664299428463\n",
      "epoch 71, loss 0.001627197372727096\n",
      "epoch 72, loss 0.0016090412391349673\n",
      "epoch 73, loss 0.0015910606598481536\n",
      "epoch 74, loss 0.0015732814790681005\n",
      "epoch 75, loss 0.0015557360602542758\n",
      "epoch 76, loss 0.0015383361605927348\n",
      "epoch 77, loss 0.0015211757272481918\n",
      "epoch 78, loss 0.001504183979704976\n",
      "epoch 79, loss 0.0014873802429065108\n",
      "epoch 80, loss 0.0014707825612276793\n",
      "epoch 81, loss 0.0014543443685397506\n",
      "epoch 82, loss 0.0014381151413545012\n",
      "epoch 83, loss 0.001422045286744833\n",
      "epoch 84, loss 0.0014061745023354888\n",
      "epoch 85, loss 0.0013904719380661845\n",
      "epoch 86, loss 0.001374945743009448\n",
      "epoch 87, loss 0.0013595849741250277\n",
      "epoch 88, loss 0.0013444125652313232\n",
      "epoch 89, loss 0.0013293942902237177\n",
      "epoch 90, loss 0.0013145396951586008\n",
      "epoch 91, loss 0.001299874042160809\n",
      "epoch 92, loss 0.0012853482039645314\n",
      "epoch 93, loss 0.0012709953589364886\n",
      "epoch 94, loss 0.0012568039819598198\n",
      "epoch 95, loss 0.001242768601514399\n",
      "epoch 96, loss 0.0012288775760680437\n",
      "epoch 97, loss 0.0012151733972132206\n",
      "epoch 98, loss 0.001201594714075327\n",
      "epoch 99, loss 0.001188193098641932\n",
      "epoch 100, loss 0.0011749103432521224\n",
      "실행시간\n",
      "0.06647658348083496\n"
     ]
    }
   ],
   "source": [
    "import torch\n",
    "import torch.nn as nn\n",
    "import time \n",
    "\n",
    "'''\n",
    "STEP 1: CREATE MODEL CLASS\n",
    "'''\n",
    "start_time = time.time()\n",
    "\n",
    "class LinearRegressionModel(nn.Module):\n",
    "    def __init__(self, input_dim, output_dim):\n",
    "        super(LinearRegressionModel, self).__init__()\n",
    "        self.linear = nn.Linear(input_dim, output_dim)  \n",
    "\n",
    "    def forward(self, x):\n",
    "        out = self.linear(x)\n",
    "        return out\n",
    "\n",
    "'''\n",
    "STEP 2: INSTANTIATE MODEL CLASS\n",
    "'''\n",
    "input_dim = 1\n",
    "output_dim = 1\n",
    "\n",
    "model = LinearRegressionModel(input_dim, output_dim)\n",
    "\n",
    "'''\n",
    "STEP 3: INSTANTIATE LOSS CLASS\n",
    "'''\n",
    "\n",
    "criterion = nn.MSELoss()\n",
    "\n",
    "'''\n",
    "STEP 4: INSTANTIATE OPTIMIZER CLASS\n",
    "'''\n",
    "\n",
    "learning_rate = 0.01\n",
    "\n",
    "optimizer = torch.optim.SGD(model.parameters(), lr=learning_rate)\n",
    "\n",
    "'''\n",
    "STEP 5: TRAIN THE MODEL\n",
    "'''\n",
    "epochs = 100\n",
    "for epoch in range(epochs):\n",
    "    epoch += 1\n",
    "    # Convert numpy array to torch Variable\n",
    "    inputs = torch.from_numpy(x_train)\n",
    "    labels = torch.from_numpy(y_train)\n",
    "\n",
    "    # Clear gradients w.r.t. parameters\n",
    "    optimizer.zero_grad() \n",
    "\n",
    "    # Forward to get output\n",
    "    outputs = model(inputs)\n",
    "\n",
    "    # Calculate Loss\n",
    "    loss = criterion(outputs, labels)\n",
    "\n",
    "    # Getting gradients w.r.t. parameters\n",
    "    loss.backward()\n",
    "\n",
    "    # Updating parameters\n",
    "    optimizer.step()\n",
    "    \n",
    "    print('epoch {}, loss {}'.format(epoch, loss.item()))\n",
    "    \n",
    "end_time = time.time()\n",
    "print('실행시간')\n",
    "print(end_time - start_time)"
   ]
  },
  {
   "cell_type": "markdown",
   "metadata": {
    "colab_type": "text",
    "id": "BVPjhuXsWWAa"
   },
   "source": [
    "**GPU Summary**\n",
    "\n",
    "- Just remember always 2 things must be on GPU\n",
    "    - `model`\n",
    "    - `tensors`"
   ]
  },
  {
   "cell_type": "code",
   "execution_count": 34,
   "metadata": {
    "colab": {
     "base_uri": "https://localhost:8080/",
     "height": 1000
    },
    "colab_type": "code",
    "execution": {
     "iopub.execute_input": "2022-03-11T00:51:33.897924Z",
     "iopub.status.busy": "2022-03-11T00:51:33.897786Z",
     "iopub.status.idle": "2022-03-11T00:51:37.908512Z",
     "shell.execute_reply": "2022-03-11T00:51:37.907311Z",
     "shell.execute_reply.started": "2022-03-11T00:51:33.897908Z"
    },
    "executionInfo": {
     "elapsed": 629,
     "status": "ok",
     "timestamp": 1584681157468,
     "user": {
      "displayName": "­김도형(대학원/일반대학원 전기전자공학과)",
      "photoUrl": "",
      "userId": "05486823788267165662"
     },
     "user_tz": -540
    },
    "id": "2g55YhAFWWAb",
    "outputId": "823467a0-4d5d-4f99-f549-79bede1c5604",
    "tags": []
   },
   "outputs": [
    {
     "name": "stdout",
     "output_type": "stream",
     "text": [
      "epoch 1, loss 60.029930114746094\n",
      "epoch 2, loss 4.910656452178955\n",
      "epoch 3, loss 0.4252077639102936\n",
      "epoch 4, loss 0.0538712814450264\n",
      "epoch 5, loss 0.023693310096859932\n",
      "epoch 6, loss 0.021228864789009094\n",
      "epoch 7, loss 0.02093352936208248\n",
      "epoch 8, loss 0.020613087341189384\n",
      "epoch 9, loss 0.020401019603013992\n",
      "epoch 10, loss 0.02017759345471859\n",
      "epoch 11, loss 0.019975030794739723\n",
      "epoch 12, loss 0.0197103600949049\n",
      "epoch 13, loss 0.019475147128105164\n",
      "epoch 14, loss 0.019249293953180313\n",
      "epoch 15, loss 0.01903233863413334\n",
      "epoch 16, loss 0.018824035301804543\n",
      "epoch 17, loss 0.01862388662993908\n",
      "epoch 18, loss 0.01843169331550598\n",
      "epoch 19, loss 0.018247149884700775\n",
      "epoch 20, loss 0.018034450709819794\n",
      "epoch 21, loss 0.017809748649597168\n",
      "epoch 22, loss 0.017687665298581123\n",
      "epoch 23, loss 0.01741432584822178\n",
      "epoch 24, loss 0.017214123159646988\n",
      "epoch 25, loss 0.017021935433149338\n",
      "epoch 26, loss 0.016837304458022118\n",
      "epoch 27, loss 0.016660019755363464\n",
      "epoch 28, loss 0.016505079343914986\n",
      "epoch 29, loss 0.016301631927490234\n",
      "epoch 30, loss 0.016107438132166862\n",
      "epoch 31, loss 0.015971997752785683\n",
      "epoch 32, loss 0.01573966071009636\n",
      "epoch 33, loss 0.015552908182144165\n",
      "epoch 34, loss 0.015373536385595798\n",
      "epoch 35, loss 0.01520134974271059\n",
      "epoch 36, loss 0.015036001801490784\n",
      "epoch 37, loss 0.01487712748348713\n",
      "epoch 38, loss 0.014724581502377987\n",
      "epoch 39, loss 0.014577990397810936\n",
      "epoch 40, loss 0.01441478542983532\n",
      "epoch 41, loss 0.014279781840741634\n",
      "epoch 42, loss 0.01407954003661871\n",
      "epoch 43, loss 0.013908637687563896\n",
      "epoch 44, loss 0.013744592666625977\n",
      "epoch 45, loss 0.013587047345936298\n",
      "epoch 46, loss 0.013435712084174156\n",
      "epoch 47, loss 0.013290373608469963\n",
      "epoch 48, loss 0.013150831684470177\n",
      "epoch 49, loss 0.013016762211918831\n",
      "epoch 50, loss 0.012888032011687756\n",
      "epoch 51, loss 0.012746755965054035\n",
      "epoch 52, loss 0.012581836432218552\n",
      "epoch 53, loss 0.012491010129451752\n",
      "epoch 54, loss 0.012295191176235676\n",
      "epoch 55, loss 0.012148200534284115\n",
      "epoch 56, loss 0.012007005512714386\n",
      "epoch 57, loss 0.011871397495269775\n",
      "epoch 58, loss 0.011741218157112598\n",
      "epoch 59, loss 0.011616121977567673\n",
      "epoch 60, loss 0.011495986022055149\n",
      "epoch 61, loss 0.011380651034414768\n",
      "epoch 62, loss 0.011271350085735321\n",
      "epoch 63, loss 0.011143678799271584\n",
      "epoch 64, loss 0.010999900288879871\n",
      "epoch 65, loss 0.01092594861984253\n",
      "epoch 66, loss 0.010748717002570629\n",
      "epoch 67, loss 0.010619178414344788\n",
      "epoch 68, loss 0.010494724847376347\n",
      "epoch 69, loss 0.01037521380931139\n",
      "epoch 70, loss 0.01026040967553854\n",
      "epoch 71, loss 0.010150234214961529\n",
      "epoch 72, loss 0.010044356808066368\n",
      "epoch 73, loss 0.009942668490111828\n",
      "epoch 74, loss 0.009845038875937462\n",
      "epoch 75, loss 0.009748127311468124\n",
      "epoch 76, loss 0.009643000550568104\n",
      "epoch 77, loss 0.009513461031019688\n",
      "epoch 78, loss 0.00939196813851595\n",
      "epoch 79, loss 0.009361924603581429\n",
      "epoch 80, loss 0.009183783084154129\n",
      "epoch 81, loss 0.009075358510017395\n",
      "epoch 82, loss 0.008971281349658966\n",
      "epoch 83, loss 0.008871346712112427\n",
      "epoch 84, loss 0.008775291964411736\n",
      "epoch 85, loss 0.008683090098202229\n",
      "epoch 86, loss 0.008594543673098087\n",
      "epoch 87, loss 0.00850951112806797\n",
      "epoch 88, loss 0.008438792079687119\n",
      "epoch 89, loss 0.008332367986440659\n",
      "epoch 90, loss 0.008230510167777538\n",
      "epoch 91, loss 0.008169731125235558\n",
      "epoch 92, loss 0.008037681691348553\n",
      "epoch 93, loss 0.007936917245388031\n",
      "epoch 94, loss 0.007840126752853394\n",
      "epoch 95, loss 0.007747183088213205\n",
      "epoch 96, loss 0.00765792652964592\n",
      "epoch 97, loss 0.007572215516120195\n",
      "epoch 98, loss 0.0074898675084114075\n",
      "epoch 99, loss 0.007410811726003885\n",
      "epoch 100, loss 0.007334880065172911\n",
      "실행시간\n",
      "4.083359479904175\n"
     ]
    }
   ],
   "source": [
    "import torch\n",
    "import torch.nn as nn\n",
    "import numpy as np\n",
    "import time \n",
    "'''\n",
    "STEP 1: CREATE MODEL CLASS\n",
    "'''\n",
    "start_time = time.time()\n",
    "class LinearRegressionModel(nn.Module):\n",
    "    def __init__(self, input_dim, output_dim):\n",
    "        super(LinearRegressionModel, self).__init__()\n",
    "        self.linear = nn.Linear(input_dim, output_dim)  \n",
    "\n",
    "    def forward(self, x):\n",
    "        out = self.linear(x)\n",
    "        return out\n",
    "\n",
    "'''\n",
    "STEP 2: INSTANTIATE MODEL CLASS\n",
    "'''\n",
    "input_dim = 1\n",
    "output_dim = 1\n",
    "\n",
    "model = LinearRegressionModel(input_dim, output_dim)\n",
    "\n",
    "\n",
    "#######################\n",
    "#  USE GPU FOR MODEL  #\n",
    "#######################\n",
    "\n",
    "device = torch.device(\"cuda:0\" if torch.cuda.is_available() else \"cpu\")\n",
    "model.to(device)\n",
    "\n",
    "'''\n",
    "STEP 3: INSTANTIATE LOSS CLASS\n",
    "'''\n",
    "\n",
    "criterion = nn.MSELoss()\n",
    "\n",
    "'''\n",
    "STEP 4: INSTANTIATE OPTIMIZER CLASS\n",
    "'''\n",
    "\n",
    "learning_rate = 0.01\n",
    "\n",
    "optimizer = torch.optim.SGD(model.parameters(), lr=learning_rate)\n",
    "\n",
    "'''\n",
    "STEP 5: TRAIN THE MODEL\n",
    "'''\n",
    "epochs = 100\n",
    "for epoch in range(epochs):\n",
    "    epoch += 1\n",
    "    # Convert numpy array to torch Variable\n",
    "\n",
    "    #######################\n",
    "    #  USE GPU FOR MODEL  #\n",
    "    #######################\n",
    "    inputs = torch.from_numpy(x_train).to(device)\n",
    "    labels = torch.from_numpy(y_train).to(device)\n",
    "\n",
    "    # Clear gradients w.r.t. parameters\n",
    "    optimizer.zero_grad() \n",
    "\n",
    "    # Forward to get output\n",
    "    outputs = model(inputs)\n",
    "\n",
    "    # Calculate Loss\n",
    "    loss = criterion(outputs, labels)\n",
    "\n",
    "    # Getting gradients w.r.t. parameters\n",
    "    loss.backward()\n",
    "\n",
    "    # Updating parameters\n",
    "    optimizer.step()\n",
    "\n",
    "    # Logging\n",
    "    print('epoch {}, loss {}'.format(epoch, loss.item()))\n",
    "\n",
    "end_time = time.time()\n",
    "print('실행시간')\n",
    "print(end_time - start_time)\n",
    "\n",
    "## 실행시간이 더 긴데 아마 간단한 모델에다가 GPU로 올리는 시간이 들어서 CPU보다 더 많은 시간이 드는 것 같다."
   ]
  },
  {
   "cell_type": "markdown",
   "metadata": {
    "colab_type": "text",
    "id": "WSmV8ra6WWAd"
   },
   "source": [
    "## Summary\n",
    "\n",
    "We've learnt to...\n",
    "\n",
    "- Simple **linear regression basics**\n",
    "    - $y = Ax + B$\n",
    "    - $y = 2x + 1$\n",
    "- **Example** of simple linear regression\n",
    "- **Aim** of linear regression\n",
    "    - Minimizing distance between the points and the line\n",
    "        - Calculate \"distance\" through `MSE`\n",
    "        - Calculate `gradients`\n",
    "        - Update parameters with `parameters = parameters - learning_rate * gradients`\n",
    "        - Slowly update parameters $A$ and $B$ model the linear relationship between $y$ and $x$ of the form $y = 2x + 1$\n",
    "- Built a linear regression **model** in **CPU and GPU**\n",
    "    - Step 1: Create Model Class\n",
    "    - Step 2: Instantiate Model Class\n",
    "    - Step 3: Instantiate Loss Class\n",
    "    - Step 4: Instantiate Optimizer Class\n",
    "    - Step 5: Train Model\n",
    "- Important things to be on **GPU**\n",
    "    - `model`\n",
    "    - `tensors with gradients`\n",
    "- How to bring to **GPU**?\n",
    "    - `model_name.to(device)`  \n",
    "    - `variable_name.to(device)`"
   ]
  },
  {
   "cell_type": "markdown",
   "metadata": {
    "colab_type": "text",
    "id": "5fhTgUThWWAe"
   },
   "source": [
    "# Logistic Regression with PyTorch\n",
    "## 1. About Logistic Regression"
   ]
  },
  {
   "cell_type": "markdown",
   "metadata": {
    "colab_type": "text",
    "id": "Iqso7IK0WWAf"
   },
   "source": [
    "### 1.1 Logistic Regression Basics\n",
    "\n",
    "#### Classification algorithm\n",
    "- Example: Spam vs No Spam\n",
    "    - Input: Bunch of words\n",
    "    - Output: Probability spam or not\n",
    "\n",
    "#### Basic Comparison\n",
    "- **Linear regression**\n",
    "    - Output: numeric value given inputs\n",
    "- **Logistic regression**:\n",
    "    - Output: probability [0, 1] given input belonging to a class\n",
    "    \n",
    "    \n",
    "#### Input/Output Comparison\n",
    "- **Linear regression: Multiplication**\n",
    "    - Input: [1]\n",
    "        - Output: 2\n",
    "    - Input: [2]\n",
    "        - Output: 4\n",
    "    - Trying to model the relationship `y = 2x`\n",
    "- **Logistic regression: Spam**\n",
    "    - Input: \"Sign up to get 1 million dollars by tonight\"\n",
    "        - Output: p = 0.8\n",
    "    - Input: \"This is a receipt for your recent purchase with Amazon\"\n",
    "        - Output: p = 0.3\n",
    "    - **p: probability it is spam**\n",
    "        \n",
    "            "
   ]
  },
  {
   "cell_type": "markdown",
   "metadata": {
    "colab_type": "text",
    "id": "NVQPWpjqWWAg"
   },
   "source": [
    "### 1.2 Problems of Linear Regression\n",
    "- Example\n",
    "    - Fever\n",
    "    - **Input**: temperature\n",
    "    - **Output**: fever or no fever\n",
    "- Remember\n",
    "    - **Linear regression**: minimize error between points and line"
   ]
  },
  {
   "cell_type": "markdown",
   "metadata": {
    "colab_type": "text",
    "id": "vf5tS6pjWWAh"
   },
   "source": [
    "**Linear Regression Problem 1: Fever value can go negative (below 0) and positive (above 1)**\n",
    "\n",
    "If you simply tried to do a simple linear regression on this fever problem, you would realize an apparent error. Fever can go beyond 1 and below 0 which does not make sense in this context."
   ]
  },
  {
   "cell_type": "code",
   "execution_count": 35,
   "metadata": {
    "colab": {
     "base_uri": "https://localhost:8080/",
     "height": 279
    },
    "colab_type": "code",
    "execution": {
     "iopub.execute_input": "2022-03-11T00:51:37.910841Z",
     "iopub.status.busy": "2022-03-11T00:51:37.910451Z",
     "iopub.status.idle": "2022-03-11T00:51:38.036971Z",
     "shell.execute_reply": "2022-03-11T00:51:38.036288Z",
     "shell.execute_reply.started": "2022-03-11T00:51:37.910796Z"
    },
    "executionInfo": {
     "elapsed": 622,
     "status": "ok",
     "timestamp": 1584681161490,
     "user": {
      "displayName": "­김도형(대학원/일반대학원 전기전자공학과)",
      "photoUrl": "",
      "userId": "05486823788267165662"
     },
     "user_tz": -540
    },
    "id": "9viFrEpxWWAh",
    "outputId": "fb93f01c-9d73-4849-e1d6-bd8853800042",
    "tags": []
   },
   "outputs": [
    {
     "data": {
      "image/png": "[encoded data removed]",
      "text/plain": [
       "<Figure size 432x288 with 1 Axes>"
      ]
     },
     "metadata": {
      "needs_background": "light"
     },
     "output_type": "display_data"
    }
   ],
   "source": [
    "import numpy as np\n",
    "import matplotlib.pyplot as plt\n",
    "%matplotlib inline\n",
    "\n",
    "x = [1, 5, 10, 10, 25, 50, 70, 75, 100,]\n",
    "y = [0, 0, 0, 0, 0, 1, 1, 1, 1]\n",
    "\n",
    "colors = np.random.rand(len(x))\n",
    "plt.plot(np.unique(x), np.poly1d(np.polyfit(x, y, 1))(np.unique(x)))\n",
    "plt.ylabel(\"Fever\")\n",
    "plt.xlabel(\"Temperature\")\n",
    "\n",
    "plt.scatter(x, y, c=colors, alpha=0.5)\n",
    "plt.show()"
   ]
  },
  {
   "cell_type": "markdown",
   "metadata": {
    "colab_type": "text",
    "id": "LmAZV_tGWWAl"
   },
   "source": [
    "**Linear Regression Problem 2: Fever points are not predicted with the presence of outliers**\n",
    "    \n",
    "Previously at least some points could be properly predicted. However, with the presence of outliers, everything goes wonky for simple linear regression, having no predictive capacity at all.    "
   ]
  },
  {
   "cell_type": "code",
   "execution_count": 36,
   "metadata": {
    "colab": {
     "base_uri": "https://localhost:8080/",
     "height": 279
    },
    "colab_type": "code",
    "execution": {
     "iopub.execute_input": "2022-03-11T00:51:38.038041Z",
     "iopub.status.busy": "2022-03-11T00:51:38.037886Z",
     "iopub.status.idle": "2022-03-11T00:51:38.143208Z",
     "shell.execute_reply": "2022-03-11T00:51:38.142556Z",
     "shell.execute_reply.started": "2022-03-11T00:51:38.038024Z"
    },
    "executionInfo": {
     "elapsed": 729,
     "status": "ok",
     "timestamp": 1584681164009,
     "user": {
      "displayName": "­김도형(대학원/일반대학원 전기전자공학과)",
      "photoUrl": "",
      "userId": "05486823788267165662"
     },
     "user_tz": -540
    },
    "id": "ng2eoXL1WWAm",
    "outputId": "e1759692-bc0e-4f12-f358-637c541cb228",
    "tags": []
   },
   "outputs": [
    {
     "data": {
      "image/png": "[encoded data removed]",
      "text/plain": [
       "<Figure size 432x288 with 1 Axes>"
      ]
     },
     "metadata": {
      "needs_background": "light"
     },
     "output_type": "display_data"
    }
   ],
   "source": [
    "import numpy as np\n",
    "import matplotlib.pyplot as plt\n",
    "\n",
    "x = [1, 5, 10, 10, 25, 50, 70, 75, 300]\n",
    "y = [0, 0, 0, 0, 0, 1, 1, 1, 1]\n",
    "\n",
    "colors = np.random.rand(len(x))\n",
    "plt.plot(np.unique(x), np.poly1d(np.polyfit(x, y, 1))(np.unique(x)))\n",
    "plt.ylabel(\"Fever\")\n",
    "plt.xlabel(\"Temperature\")\n",
    "\n",
    "plt.scatter(x, y, c=colors, alpha=0.5)\n",
    "plt.show()"
   ]
  },
  {
   "cell_type": "markdown",
   "metadata": {
    "colab_type": "text",
    "id": "IAYxrGJmWWAp"
   },
   "source": [
    "### 1.3 Logistic Regression In-Depth\n",
    "\n",
    "#### Predicting Probability\n",
    "- Linear regression doesn't work\n",
    "- Instead of predicting direct values: **predict probability**\n",
    "\n",
    "<img src='https://docs.google.com/uc?export=view&id=1CIFcScqBjjk_jTM3-4bwooqULYKhhiDa' alt=\"no_image\" style=\"width: 900px;\"/>\n",
    "\n",
    "#### Logistic Function g()\n",
    "- **\"Two-class logistic regression\"w**\n",
    "- $\\boldsymbol{y} = A\\boldsymbol{x} + \\boldsymbol{b}$\n",
    "    - Where $\\boldsymbol{y}$ is a vector comprising the 2-class prediction $y_0$ and $y_1$\n",
    "    - Where the labels are $y_0 = 0$  and $y_1 = 1$\n",
    "    - Also, it's bolded because it's a vector, not a matrix.\n",
    "- $g(y_1) = \\frac {1} {1 + e^{-y_1}}$\n",
    "    - $g(y_1)$ = Estimated probability that $y = 1$\n",
    "- $g(y_0) = 1 - g(y_1)$\n",
    "    - $g(y_0)$ = Estimated probability that $y = 0$\n",
    "- For our illustration above, we have 4 classes, so we have to use softmax function explained below\n",
    "\n",
    "#### Softmax Function g()\n",
    "- **\"Multi-class logistic regression\"**\n",
    "    - Generalization of logistic function, where you can derive back to the logistic function if you've a 2 class classification problem\n",
    "    - Here, we will use a 4 class example (K = 4) as shown above to be very clear in how it relates back to that simple examaple.\n",
    "- $\\boldsymbol{y} = A\\boldsymbol{x} + \\boldsymbol{b}$\n",
    "    - Where $\\boldsymbol{y}$ is a vector comprising the 4-class prediction $y_0, y_1, y_2, y_3$\n",
    "    - Where the 4 labels (K = 4) are $y_0 = 0, y_1 = 1, y_2 = 2, y_3 = 3$\n",
    "- $g(y_i) = \\frac {e^{y_i} } {\\sum^K_i e^{y_i}}$ where K = 4 because we have 4 classes\n",
    "    - To put numbers to this equation in relation to the illustration above where we've $y_0 = 1.3, y_1 = 1.2, y = 4.5, y = 4.8$\n",
    "        - $g(y_0) = \\frac {e^{1.3}}{e^{1.3} + e^{1.2} + e^{4.5} + e^{4.8}} = 0.017$\n",
    "        - $g(y_1) = \\frac {e^{1.2}}{e^{1.3} + e^{1.2} + e^{4.5} + e^{4.8}} = 0.015$\n",
    "        - $g(y_2) = \\frac {e^{4.5}}{e^{1.3} + e^{1.2} + e^{4.5} + e^{4.8}} = 0.412$\n",
    "        - $g(y_3) = \\frac {e^{4.8}}{e^{1.3} + e^{1.2} + e^{4.5} + e^{4.8}} = 0.556$\n",
    "        - $g(y_0) + g(y_1) + g(y_2) + g(y_3) = 1.0$\n",
    "        - All softmax outputs have to sum to one as they represent a probability distribution over K classes. \n",
    "- Take note how these numbers are not exactly as in the illustration in the softmax box but the concept is important (intentionally made so).\n",
    "    - $y_0$ and $y_1$ are approximately similar in values and they return similar probabilities.\n",
    "    - Similarly, $y_2$ and $y_3$ are approximately similar in values and they return similar probabilities."
   ]
  },
  {
   "cell_type": "markdown",
   "metadata": {
    "colab_type": "text",
    "id": "uQic8jzAWWAq"
   },
   "source": [
    "#### Cross Entropy Function D() for 2 Class\n",
    "- Take note that here, $S$ is our softmax outputs and $L$ are our labels\n",
    "- $D(S, L) = -(L log S + (1-L)log(1-S))$\n",
    "    - If L = 0 (label)\n",
    "        - $D(S, 0) = - log(1-S)$\n",
    "            - $- log(1-S)$: less positive if $S \\longrightarrow 0$\n",
    "            - $- log(1-S)$: more positive if $S \\longrightarrow 1$ (BIGGER LOSS)\n",
    "    - If L = 1 (label)\n",
    "        - $D(S, 1) = - log S$\n",
    "            - $-log(S)$: less positive if $S \\longrightarrow 1$\n",
    "            - $-log(S)$: more positive if $S \\longrightarrow 0$ (BIGGER LOSS)"
   ]
  },
  {
   "cell_type": "markdown",
   "metadata": {
    "colab_type": "text",
    "id": "zlB6r0PDWWAr"
   },
   "source": [
    "**Numerical example of bigger or small loss**\n",
    "\n",
    "You get a small error of 1e-5 if your label = 0 and your S is closer to 0 (very correct prediction)."
   ]
  },
  {
   "cell_type": "code",
   "execution_count": 37,
   "metadata": {
    "colab": {
     "base_uri": "https://localhost:8080/",
     "height": 34
    },
    "colab_type": "code",
    "execution": {
     "iopub.execute_input": "2022-03-11T01:14:36.996502Z",
     "iopub.status.busy": "2022-03-11T01:14:36.995846Z",
     "iopub.status.idle": "2022-03-11T01:14:37.001998Z",
     "shell.execute_reply": "2022-03-11T01:14:37.000907Z",
     "shell.execute_reply.started": "2022-03-11T01:14:36.996465Z"
    },
    "executionInfo": {
     "elapsed": 738,
     "status": "ok",
     "timestamp": 1584682132216,
     "user": {
      "displayName": "­김도형(대학원/일반대학원 전기전자공학과)",
      "photoUrl": "",
      "userId": "05486823788267165662"
     },
     "user_tz": -540
    },
    "id": "1ccQQ9eaWWAr",
    "outputId": "66c631f0-69fc-4ea1-be83-58fff929ae30"
   },
   "outputs": [
    {
     "name": "stdout",
     "output_type": "stream",
     "text": [
      "1.0000050000287824e-05\n"
     ]
    }
   ],
   "source": [
    "import math\n",
    "print(-math.log(1 - 0.00001))"
   ]
  },
  {
   "cell_type": "markdown",
   "metadata": {
    "colab_type": "text",
    "id": "ubeGBW0KWWAv"
   },
   "source": [
    "You get a large error of 11.51 if your label is 0 and S is near to 1 (very wrong prediction)."
   ]
  },
  {
   "cell_type": "code",
   "execution_count": 38,
   "metadata": {
    "colab": {
     "base_uri": "https://localhost:8080/",
     "height": 34
    },
    "colab_type": "code",
    "execution": {
     "iopub.execute_input": "2022-03-11T01:14:36.445010Z",
     "iopub.status.busy": "2022-03-11T01:14:36.444859Z",
     "iopub.status.idle": "2022-03-11T01:14:36.449659Z",
     "shell.execute_reply": "2022-03-11T01:14:36.448762Z",
     "shell.execute_reply.started": "2022-03-11T01:14:36.444992Z"
    },
    "executionInfo": {
     "elapsed": 862,
     "status": "ok",
     "timestamp": 1584682133649,
     "user": {
      "displayName": "­김도형(대학원/일반대학원 전기전자공학과)",
      "photoUrl": "",
      "userId": "05486823788267165662"
     },
     "user_tz": -540
    },
    "id": "Zb_Do4A5WWAw",
    "outputId": "99f04b44-f649-41d4-ce7f-59e42acddd8d"
   },
   "outputs": [
    {
     "name": "stdout",
     "output_type": "stream",
     "text": [
      "11.51292546497478\n"
     ]
    }
   ],
   "source": [
    "print(-math.log(1 - 0.99999)) "
   ]
  },
  {
   "cell_type": "markdown",
   "metadata": {
    "colab_type": "text",
    "id": "RWyAntR0WWAy"
   },
   "source": [
    "You get a small error of 1e-5 if your label is 1 and S is near 1 (very correct prediction)."
   ]
  },
  {
   "cell_type": "code",
   "execution_count": 39,
   "metadata": {
    "colab": {
     "base_uri": "https://localhost:8080/",
     "height": 34
    },
    "colab_type": "code",
    "execution": {
     "iopub.execute_input": "2022-03-11T01:14:36.450592Z",
     "iopub.status.busy": "2022-03-11T01:14:36.450442Z",
     "iopub.status.idle": "2022-03-11T01:14:36.455110Z",
     "shell.execute_reply": "2022-03-11T01:14:36.454350Z",
     "shell.execute_reply.started": "2022-03-11T01:14:36.450575Z"
    },
    "executionInfo": {
     "elapsed": 534,
     "status": "ok",
     "timestamp": 1584682134147,
     "user": {
      "displayName": "­김도형(대학원/일반대학원 전기전자공학과)",
      "photoUrl": "",
      "userId": "05486823788267165662"
     },
     "user_tz": -540
    },
    "id": "KaMaish3WWAz",
    "outputId": "a096dd86-7aae-44e1-f077-cdba76a9133e"
   },
   "outputs": [
    {
     "name": "stdout",
     "output_type": "stream",
     "text": [
      "1.0000050000287824e-05\n"
     ]
    }
   ],
   "source": [
    "print(-math.log(0.99999))"
   ]
  },
  {
   "cell_type": "markdown",
   "metadata": {
    "colab_type": "text",
    "id": "B0re87o0WWA1"
   },
   "source": [
    "You get a big error of 11.51 if your label is 1 and S is near 0 (very wrong prediction)."
   ]
  },
  {
   "cell_type": "code",
   "execution_count": 40,
   "metadata": {
    "colab": {
     "base_uri": "https://localhost:8080/",
     "height": 34
    },
    "colab_type": "code",
    "execution": {
     "iopub.execute_input": "2022-03-11T01:14:36.456444Z",
     "iopub.status.busy": "2022-03-11T01:14:36.456134Z",
     "iopub.status.idle": "2022-03-11T01:14:36.460849Z",
     "shell.execute_reply": "2022-03-11T01:14:36.460092Z",
     "shell.execute_reply.started": "2022-03-11T01:14:36.456419Z"
    },
    "executionInfo": {
     "elapsed": 616,
     "status": "ok",
     "timestamp": 1584682135078,
     "user": {
      "displayName": "­김도형(대학원/일반대학원 전기전자공학과)",
      "photoUrl": "",
      "userId": "05486823788267165662"
     },
     "user_tz": -540
    },
    "id": "4uGg8dRbWWA1",
    "outputId": "f92b6484-d30d-4d30-cfe3-9c0f1cb13243"
   },
   "outputs": [
    {
     "name": "stdout",
     "output_type": "stream",
     "text": [
      "11.512925464970229\n"
     ]
    }
   ],
   "source": [
    "print(-math.log(0.00001))"
   ]
  },
  {
   "cell_type": "markdown",
   "metadata": {
    "colab_type": "text",
    "id": "9cPKaZcXWWA5"
   },
   "source": [
    "#### Cross Entropy Function D() for More Than 2 Class\n",
    "- For the case where we have more than 2 class, we need a more generalized function\n",
    "- $D(S, L) = - \\sum^K_1 L_i log(S_i)$\n",
    "    - $K$: number of classes\n",
    "    - $L_i$: label of i-th class, 1 if that's the class else 0\n",
    "    - $S_i$: output of softmax for i-th class\n",
    "\n",
    "#### Cross Entropy Loss over N samples\n",
    "- Goal: Minimizing Cross Entropy Loss, L\n",
    "- $Loss = \\frac {1}{N} \\sum_j^N D_j$\n",
    "    - $D_j$: j-th sample of cross entropy function $D(S, L)$\n",
    "    - $N$: number of samples\n",
    "    - $Loss$: average cross entropy loss over N samples"
   ]
  },
  {
   "cell_type": "markdown",
   "metadata": {
    "colab_type": "text",
    "id": "NCG191akWWA5"
   },
   "source": [
    "## 2. Building a Logistic Regression Model with PyTorch"
   ]
  },
  {
   "cell_type": "markdown",
   "metadata": {
    "colab_type": "text",
    "id": "1k5PdxUZWWA6"
   },
   "source": [
    "<img src=\"https://docs.google.com/uc?export=view&id=1hhZ0Y9atTpH4hJSzUVJYRCvPvfQ95_LP\" alt=\"no_image\" style=\"width: 900px;\"/>\n",
    "\n",
    "### Steps\n",
    "- Step 1: Load Dataset\n",
    "- Step 2: Make Dataset Iterable\n",
    "- Step 3: Create Model Class\n",
    "- Step 4: Instantiate Model Class\n",
    "- Step 5: Instantiate Loss Class\n",
    "- Step 6: Instantiate Optimizer Class\n",
    "- Step 7: Train Model"
   ]
  },
  {
   "cell_type": "markdown",
   "metadata": {
    "colab_type": "text",
    "id": "apuyrVriWWA6"
   },
   "source": [
    "### Step 1a: Loading MNIST Train Dataset\n",
    "#### Images from 1 to 9"
   ]
  },
  {
   "cell_type": "markdown",
   "metadata": {
    "colab_type": "text",
    "id": "NE3htQjvWWA7"
   },
   "source": [
    "**Inspect length of training dataset**\n",
    "\n",
    "You can easily load MNIST dataset with PyTorch. Here we inspect the training set, where our algorithms will learn from, and you will discover it is made up of 60,000 images."
   ]
  },
  {
   "cell_type": "code",
   "execution_count": 41,
   "metadata": {
    "colab": {},
    "colab_type": "code",
    "id": "rIu5__6hWWA8",
    "tags": []
   },
   "outputs": [],
   "source": [
    "import torch\n",
    "import torch.nn as nn\n",
    "import torchvision.transforms as transforms\n",
    "import torchvision.datasets as dsets"
   ]
  },
  {
   "cell_type": "code",
   "execution_count": 42,
   "metadata": {
    "colab": {
     "base_uri": "https://localhost:8080/",
     "height": 352,
     "referenced_widgets": [
      "f199c38217d3472fb6374b5bc481e78f",
      "ef0345372cae48b99587babad495d439",
      "d71ee3e053704985b7574018fc6614ee",
      "f6d6b24f9be54e81936f379b3459b012",
      "51fa724d0e5b4ad88118fffbc1975e98",
      "a0180d47f8cf449fb92330c51e90f456",
      "e1167a767af14e778371ee47d0da0ad1",
      "b396601030a34dbea60cc7bc12d14464",
      "7486b9fa622642a192d0aaf3dc0e2e3f",
      "10e3ce3d34514a10b9e4ab6db36ab442",
      "23626423d5814c92a3994ab7e6ca98d2",
      "be05cd1e23364d7480dffb730456771e",
      "343aa12028c14953b7fcade13a9033ba",
      "7297fddcd0f44e0597891094febaf59d",
      "44b05c284343474c81a4f897a3f18284",
      "8959fb24d8f743109195f6137ac84e8c",
      "e9a86a0d4d1a4804b5e3bfa3d153e1f4",
      "ab6de8e98731482598100d7685e50a8f",
      "ccf8583af1db4b5a89ac1050cd0e8260",
      "8a7eddb0c5664742aedceb923dbc49dd",
      "187946388ec34cb191aa2fe4133f7dd6",
      "a7ed5cfc8e714c5bbffc237f5dabdf2e",
      "4b2dffc2e7984cc98ff49c205477ab96",
      "ef50f38293b44ebda0502b4d33382f28",
      "c2c6f4d6a0ae4dc3a0d1fa863f08c968",
      "dae9d72a17da4626a3bec4d746bc482a",
      "8ec34f77808e4008bd7d4b370b824560",
      "66325593a984403cb8938b675cd27c53",
      "6f3da27183b04c2e820c9feec6f17fbc",
      "cedf4ef062544401a41a097511d27cf8",
      "2c42243b008547f883b5eea66f3c2a3e",
      "806abc6147a04789872952ff1393b0de"
     ]
    },
    "colab_type": "code",
    "executionInfo": {
     "elapsed": 5352,
     "status": "ok",
     "timestamp": 1584682144827,
     "user": {
      "displayName": "­김도형(대학원/일반대학원 전기전자공학과)",
      "photoUrl": "",
      "userId": "05486823788267165662"
     },
     "user_tz": -540
    },
    "id": "Vzxsq39HWWA9",
    "outputId": "fe244c4c-abe6-4bac-be34-05c3d56823a4",
    "tags": []
   },
   "outputs": [
    {
     "name": "stderr",
     "output_type": "stream",
     "text": [
      "/home/jovyan/.venv/torch1.9.0-py3.8-cuda11.1/lib/python3.8/site-packages/torchvision/datasets/mnist.py:498: UserWarning: The given NumPy array is not writeable, and PyTorch does not support non-writeable tensors. This means you can write to the underlying (supposedly non-writeable) NumPy array using the tensor. You may want to copy the array to protect its data or make it writeable before converting it to a tensor. This type of warning will be suppressed for the rest of this program. (Triggered internally at  /pytorch/torch/csrc/utils/tensor_numpy.cpp:180.)\n",
      "  return torch.from_numpy(parsed.astype(m[2], copy=False)).view(*s)\n"
     ]
    },
    {
     "data": {
      "text/plain": [
       "60000"
      ]
     },
     "execution_count": 42,
     "metadata": {},
     "output_type": "execute_result"
    }
   ],
   "source": [
    "train_dataset = dsets.MNIST(root='../dataset/lab02/MNIST/', \n",
    "                            train=True, \n",
    "                            transform=transforms.ToTensor(),\n",
    "                            download=True)\n",
    "\n",
    "len(train_dataset)"
   ]
  },
  {
   "cell_type": "markdown",
   "metadata": {
    "colab_type": "text",
    "id": "F2KnknXAWWBA"
   },
   "source": [
    "**Inspecting a single image**\n",
    "\n",
    "So this is how a single image is represented in numbers. It's actually a 28 pixel x 28 pixel image which is why you would end up with this 28x28 matrix of numbers."
   ]
  },
  {
   "cell_type": "code",
   "execution_count": 43,
   "metadata": {
    "colab": {
     "base_uri": "https://localhost:8080/",
     "height": 1000
    },
    "colab_type": "code",
    "executionInfo": {
     "elapsed": 4041,
     "status": "ok",
     "timestamp": 1584682144828,
     "user": {
      "displayName": "­김도형(대학원/일반대학원 전기전자공학과)",
      "photoUrl": "",
      "userId": "05486823788267165662"
     },
     "user_tz": -540
    },
    "id": "w2mFE-zwWWBA",
    "outputId": "f9ce66b0-07b5-486d-ae93-6f2ad4ec9078",
    "tags": []
   },
   "outputs": [
    {
     "data": {
      "text/plain": [
       "(tensor([[[0.0000, 0.0000, 0.0000, 0.0000, 0.0000, 0.0000, 0.0000, 0.0000,\n",
       "           0.0000, 0.0000, 0.0000, 0.0000, 0.0000, 0.0000, 0.0000, 0.0000,\n",
       "           0.0000, 0.0000, 0.0000, 0.0000, 0.0000, 0.0000, 0.0000, 0.0000,\n",
       "           0.0000, 0.0000, 0.0000, 0.0000],\n",
       "          [0.0000, 0.0000, 0.0000, 0.0000, 0.0000, 0.0000, 0.0000, 0.0000,\n",
       "           0.0000, 0.0000, 0.0000, 0.0000, 0.0000, 0.0000, 0.0000, 0.0000,\n",
       "           0.0000, 0.0000, 0.0000, 0.0000, 0.0000, 0.0000, 0.0000, 0.0000,\n",
       "           0.0000, 0.0000, 0.0000, 0.0000],\n",
       "          [0.0000, 0.0000, 0.0000, 0.0000, 0.0000, 0.0000, 0.0000, 0.0000,\n",
       "           0.0000, 0.0000, 0.0000, 0.0000, 0.0000, 0.0000, 0.0000, 0.0000,\n",
       "           0.0000, 0.0000, 0.0000, 0.0000, 0.0000, 0.0000, 0.0000, 0.0000,\n",
       "           0.0000, 0.0000, 0.0000, 0.0000],\n",
       "          [0.0000, 0.0000, 0.0000, 0.0000, 0.0000, 0.0000, 0.0000, 0.0000,\n",
       "           0.0000, 0.0000, 0.0000, 0.0000, 0.0000, 0.0000, 0.0000, 0.0000,\n",
       "           0.0000, 0.0000, 0.0000, 0.0000, 0.0000, 0.0000, 0.0000, 0.0000,\n",
       "           0.0000, 0.0000, 0.0000, 0.0000],\n",
       "          [0.0000, 0.0000, 0.0000, 0.0000, 0.0000, 0.0000, 0.0000, 0.0000,\n",
       "           0.0000, 0.0000, 0.0000, 0.0000, 0.0000, 0.0000, 0.0000, 0.0000,\n",
       "           0.0000, 0.0000, 0.0000, 0.0000, 0.0000, 0.0000, 0.0000, 0.0000,\n",
       "           0.0000, 0.0000, 0.0000, 0.0000],\n",
       "          [0.0000, 0.0000, 0.0000, 0.0000, 0.0000, 0.0000, 0.0000, 0.0000,\n",
       "           0.0000, 0.0000, 0.0000, 0.0000, 0.0118, 0.0706, 0.0706, 0.0706,\n",
       "           0.4941, 0.5333, 0.6863, 0.1020, 0.6510, 1.0000, 0.9686, 0.4980,\n",
       "           0.0000, 0.0000, 0.0000, 0.0000],\n",
       "          [0.0000, 0.0000, 0.0000, 0.0000, 0.0000, 0.0000, 0.0000, 0.0000,\n",
       "           0.1176, 0.1412, 0.3686, 0.6039, 0.6667, 0.9922, 0.9922, 0.9922,\n",
       "           0.9922, 0.9922, 0.8824, 0.6745, 0.9922, 0.9490, 0.7647, 0.2510,\n",
       "           0.0000, 0.0000, 0.0000, 0.0000],\n",
       "          [0.0000, 0.0000, 0.0000, 0.0000, 0.0000, 0.0000, 0.0000, 0.1922,\n",
       "           0.9333, 0.9922, 0.9922, 0.9922, 0.9922, 0.9922, 0.9922, 0.9922,\n",
       "           0.9922, 0.9843, 0.3647, 0.3216, 0.3216, 0.2196, 0.1529, 0.0000,\n",
       "           0.0000, 0.0000, 0.0000, 0.0000],\n",
       "          [0.0000, 0.0000, 0.0000, 0.0000, 0.0000, 0.0000, 0.0000, 0.0706,\n",
       "           0.8588, 0.9922, 0.9922, 0.9922, 0.9922, 0.9922, 0.7765, 0.7137,\n",
       "           0.9686, 0.9451, 0.0000, 0.0000, 0.0000, 0.0000, 0.0000, 0.0000,\n",
       "           0.0000, 0.0000, 0.0000, 0.0000],\n",
       "          [0.0000, 0.0000, 0.0000, 0.0000, 0.0000, 0.0000, 0.0000, 0.0000,\n",
       "           0.3137, 0.6118, 0.4196, 0.9922, 0.9922, 0.8039, 0.0431, 0.0000,\n",
       "           0.1686, 0.6039, 0.0000, 0.0000, 0.0000, 0.0000, 0.0000, 0.0000,\n",
       "           0.0000, 0.0000, 0.0000, 0.0000],\n",
       "          [0.0000, 0.0000, 0.0000, 0.0000, 0.0000, 0.0000, 0.0000, 0.0000,\n",
       "           0.0000, 0.0549, 0.0039, 0.6039, 0.9922, 0.3529, 0.0000, 0.0000,\n",
       "           0.0000, 0.0000, 0.0000, 0.0000, 0.0000, 0.0000, 0.0000, 0.0000,\n",
       "           0.0000, 0.0000, 0.0000, 0.0000],\n",
       "          [0.0000, 0.0000, 0.0000, 0.0000, 0.0000, 0.0000, 0.0000, 0.0000,\n",
       "           0.0000, 0.0000, 0.0000, 0.5451, 0.9922, 0.7451, 0.0078, 0.0000,\n",
       "           0.0000, 0.0000, 0.0000, 0.0000, 0.0000, 0.0000, 0.0000, 0.0000,\n",
       "           0.0000, 0.0000, 0.0000, 0.0000],\n",
       "          [0.0000, 0.0000, 0.0000, 0.0000, 0.0000, 0.0000, 0.0000, 0.0000,\n",
       "           0.0000, 0.0000, 0.0000, 0.0431, 0.7451, 0.9922, 0.2745, 0.0000,\n",
       "           0.0000, 0.0000, 0.0000, 0.0000, 0.0000, 0.0000, 0.0000, 0.0000,\n",
       "           0.0000, 0.0000, 0.0000, 0.0000],\n",
       "          [0.0000, 0.0000, 0.0000, 0.0000, 0.0000, 0.0000, 0.0000, 0.0000,\n",
       "           0.0000, 0.0000, 0.0000, 0.0000, 0.1373, 0.9451, 0.8824, 0.6275,\n",
       "           0.4235, 0.0039, 0.0000, 0.0000, 0.0000, 0.0000, 0.0000, 0.0000,\n",
       "           0.0000, 0.0000, 0.0000, 0.0000],\n",
       "          [0.0000, 0.0000, 0.0000, 0.0000, 0.0000, 0.0000, 0.0000, 0.0000,\n",
       "           0.0000, 0.0000, 0.0000, 0.0000, 0.0000, 0.3176, 0.9412, 0.9922,\n",
       "           0.9922, 0.4667, 0.0980, 0.0000, 0.0000, 0.0000, 0.0000, 0.0000,\n",
       "           0.0000, 0.0000, 0.0000, 0.0000],\n",
       "          [0.0000, 0.0000, 0.0000, 0.0000, 0.0000, 0.0000, 0.0000, 0.0000,\n",
       "           0.0000, 0.0000, 0.0000, 0.0000, 0.0000, 0.0000, 0.1765, 0.7294,\n",
       "           0.9922, 0.9922, 0.5882, 0.1059, 0.0000, 0.0000, 0.0000, 0.0000,\n",
       "           0.0000, 0.0000, 0.0000, 0.0000],\n",
       "          [0.0000, 0.0000, 0.0000, 0.0000, 0.0000, 0.0000, 0.0000, 0.0000,\n",
       "           0.0000, 0.0000, 0.0000, 0.0000, 0.0000, 0.0000, 0.0000, 0.0627,\n",
       "           0.3647, 0.9882, 0.9922, 0.7333, 0.0000, 0.0000, 0.0000, 0.0000,\n",
       "           0.0000, 0.0000, 0.0000, 0.0000],\n",
       "          [0.0000, 0.0000, 0.0000, 0.0000, 0.0000, 0.0000, 0.0000, 0.0000,\n",
       "           0.0000, 0.0000, 0.0000, 0.0000, 0.0000, 0.0000, 0.0000, 0.0000,\n",
       "           0.0000, 0.9765, 0.9922, 0.9765, 0.2510, 0.0000, 0.0000, 0.0000,\n",
       "           0.0000, 0.0000, 0.0000, 0.0000],\n",
       "          [0.0000, 0.0000, 0.0000, 0.0000, 0.0000, 0.0000, 0.0000, 0.0000,\n",
       "           0.0000, 0.0000, 0.0000, 0.0000, 0.0000, 0.0000, 0.1804, 0.5098,\n",
       "           0.7176, 0.9922, 0.9922, 0.8118, 0.0078, 0.0000, 0.0000, 0.0000,\n",
       "           0.0000, 0.0000, 0.0000, 0.0000],\n",
       "          [0.0000, 0.0000, 0.0000, 0.0000, 0.0000, 0.0000, 0.0000, 0.0000,\n",
       "           0.0000, 0.0000, 0.0000, 0.0000, 0.1529, 0.5804, 0.8980, 0.9922,\n",
       "           0.9922, 0.9922, 0.9804, 0.7137, 0.0000, 0.0000, 0.0000, 0.0000,\n",
       "           0.0000, 0.0000, 0.0000, 0.0000],\n",
       "          [0.0000, 0.0000, 0.0000, 0.0000, 0.0000, 0.0000, 0.0000, 0.0000,\n",
       "           0.0000, 0.0000, 0.0941, 0.4471, 0.8667, 0.9922, 0.9922, 0.9922,\n",
       "           0.9922, 0.7882, 0.3059, 0.0000, 0.0000, 0.0000, 0.0000, 0.0000,\n",
       "           0.0000, 0.0000, 0.0000, 0.0000],\n",
       "          [0.0000, 0.0000, 0.0000, 0.0000, 0.0000, 0.0000, 0.0000, 0.0000,\n",
       "           0.0902, 0.2588, 0.8353, 0.9922, 0.9922, 0.9922, 0.9922, 0.7765,\n",
       "           0.3176, 0.0078, 0.0000, 0.0000, 0.0000, 0.0000, 0.0000, 0.0000,\n",
       "           0.0000, 0.0000, 0.0000, 0.0000],\n",
       "          [0.0000, 0.0000, 0.0000, 0.0000, 0.0000, 0.0000, 0.0706, 0.6706,\n",
       "           0.8588, 0.9922, 0.9922, 0.9922, 0.9922, 0.7647, 0.3137, 0.0353,\n",
       "           0.0000, 0.0000, 0.0000, 0.0000, 0.0000, 0.0000, 0.0000, 0.0000,\n",
       "           0.0000, 0.0000, 0.0000, 0.0000],\n",
       "          [0.0000, 0.0000, 0.0000, 0.0000, 0.2157, 0.6745, 0.8863, 0.9922,\n",
       "           0.9922, 0.9922, 0.9922, 0.9569, 0.5216, 0.0431, 0.0000, 0.0000,\n",
       "           0.0000, 0.0000, 0.0000, 0.0000, 0.0000, 0.0000, 0.0000, 0.0000,\n",
       "           0.0000, 0.0000, 0.0000, 0.0000],\n",
       "          [0.0000, 0.0000, 0.0000, 0.0000, 0.5333, 0.9922, 0.9922, 0.9922,\n",
       "           0.8314, 0.5294, 0.5176, 0.0627, 0.0000, 0.0000, 0.0000, 0.0000,\n",
       "           0.0000, 0.0000, 0.0000, 0.0000, 0.0000, 0.0000, 0.0000, 0.0000,\n",
       "           0.0000, 0.0000, 0.0000, 0.0000],\n",
       "          [0.0000, 0.0000, 0.0000, 0.0000, 0.0000, 0.0000, 0.0000, 0.0000,\n",
       "           0.0000, 0.0000, 0.0000, 0.0000, 0.0000, 0.0000, 0.0000, 0.0000,\n",
       "           0.0000, 0.0000, 0.0000, 0.0000, 0.0000, 0.0000, 0.0000, 0.0000,\n",
       "           0.0000, 0.0000, 0.0000, 0.0000],\n",
       "          [0.0000, 0.0000, 0.0000, 0.0000, 0.0000, 0.0000, 0.0000, 0.0000,\n",
       "           0.0000, 0.0000, 0.0000, 0.0000, 0.0000, 0.0000, 0.0000, 0.0000,\n",
       "           0.0000, 0.0000, 0.0000, 0.0000, 0.0000, 0.0000, 0.0000, 0.0000,\n",
       "           0.0000, 0.0000, 0.0000, 0.0000],\n",
       "          [0.0000, 0.0000, 0.0000, 0.0000, 0.0000, 0.0000, 0.0000, 0.0000,\n",
       "           0.0000, 0.0000, 0.0000, 0.0000, 0.0000, 0.0000, 0.0000, 0.0000,\n",
       "           0.0000, 0.0000, 0.0000, 0.0000, 0.0000, 0.0000, 0.0000, 0.0000,\n",
       "           0.0000, 0.0000, 0.0000, 0.0000]]]),\n",
       " 5)"
      ]
     },
     "execution_count": 43,
     "metadata": {},
     "output_type": "execute_result"
    }
   ],
   "source": [
    "train_dataset[0]"
   ]
  },
  {
   "cell_type": "markdown",
   "metadata": {
    "colab_type": "text",
    "id": "hKAdg8WdWWBD"
   },
   "source": [
    "**Inspecting a single data point in the training dataset**\n",
    "\n",
    "When you load MNIST dataset, each data point is actually a tuple containing the image matrix and the label."
   ]
  },
  {
   "cell_type": "code",
   "execution_count": 44,
   "metadata": {
    "colab": {
     "base_uri": "https://localhost:8080/",
     "height": 34
    },
    "colab_type": "code",
    "executionInfo": {
     "elapsed": 618,
     "status": "ok",
     "timestamp": 1584682148858,
     "user": {
      "displayName": "­김도형(대학원/일반대학원 전기전자공학과)",
      "photoUrl": "",
      "userId": "05486823788267165662"
     },
     "user_tz": -540
    },
    "id": "QgBRFHjuWWBD",
    "outputId": "99c23898-48ef-4eb5-a701-b38d840d6013",
    "tags": []
   },
   "outputs": [
    {
     "data": {
      "text/plain": [
       "tuple"
      ]
     },
     "execution_count": 44,
     "metadata": {},
     "output_type": "execute_result"
    }
   ],
   "source": [
    "type(train_dataset[0])"
   ]
  },
  {
   "cell_type": "markdown",
   "metadata": {
    "colab_type": "text",
    "id": "Nw0x-PuiWWBF"
   },
   "source": [
    "**Inspecting training dataset first element of tuple**\n",
    "\n",
    "This means to access the image, you need to access the first element in the tuple."
   ]
  },
  {
   "cell_type": "code",
   "execution_count": 45,
   "metadata": {
    "colab": {
     "base_uri": "https://localhost:8080/",
     "height": 34
    },
    "colab_type": "code",
    "executionInfo": {
     "elapsed": 624,
     "status": "ok",
     "timestamp": 1584682152982,
     "user": {
      "displayName": "­김도형(대학원/일반대학원 전기전자공학과)",
      "photoUrl": "",
      "userId": "05486823788267165662"
     },
     "user_tz": -540
    },
    "id": "vck67Vg0WWBF",
    "outputId": "f45f0756-4279-4f3e-90d4-38e4ef5c961f",
    "tags": []
   },
   "outputs": [
    {
     "data": {
      "text/plain": [
       "torch.Size([1, 28, 28])"
      ]
     },
     "execution_count": 45,
     "metadata": {},
     "output_type": "execute_result"
    }
   ],
   "source": [
    "# Input Matrix\n",
    "train_dataset[0][0].size()"
   ]
  },
  {
   "cell_type": "markdown",
   "metadata": {
    "colab_type": "text",
    "id": "u3KZ0fJqWWBH"
   },
   "source": [
    "**Inspecting training dataset second element of tuple**\n",
    "\n",
    "The second element actually represents the image's label. Meaning if the second element says 5, it means the 28x28 matrix of numbers represent a digit 5."
   ]
  },
  {
   "cell_type": "code",
   "execution_count": 46,
   "metadata": {
    "colab": {
     "base_uri": "https://localhost:8080/",
     "height": 34
    },
    "colab_type": "code",
    "executionInfo": {
     "elapsed": 542,
     "status": "ok",
     "timestamp": 1584682154415,
     "user": {
      "displayName": "­김도형(대학원/일반대학원 전기전자공학과)",
      "photoUrl": "",
      "userId": "05486823788267165662"
     },
     "user_tz": -540
    },
    "id": "SqtwDi-2WWBH",
    "outputId": "e7e06e01-02a6-4b09-9aa4-25ecd28c521d",
    "tags": []
   },
   "outputs": [
    {
     "data": {
      "text/plain": [
       "5"
      ]
     },
     "execution_count": 46,
     "metadata": {},
     "output_type": "execute_result"
    }
   ],
   "source": [
    "# Label\n",
    "train_dataset[0][1]"
   ]
  },
  {
   "cell_type": "markdown",
   "metadata": {
    "colab_type": "text",
    "id": "hZ_tlbTnWWBJ"
   },
   "source": [
    "#### Displaying MNIST"
   ]
  },
  {
   "cell_type": "markdown",
   "metadata": {
    "colab_type": "text",
    "id": "2zmYC6qfWWBK"
   },
   "source": [
    "**Verifying shape of MNIST image**\n",
    "\n",
    "As mentioned, a single MNIST image is of the shape 28 pixel x 28 pixel."
   ]
  },
  {
   "cell_type": "code",
   "execution_count": 47,
   "metadata": {
    "colab": {},
    "colab_type": "code",
    "id": "aICCiuB-WWBK",
    "tags": []
   },
   "outputs": [],
   "source": [
    "import matplotlib.pyplot as plt\n",
    "%matplotlib inline  \n",
    "import numpy as np"
   ]
  },
  {
   "cell_type": "code",
   "execution_count": 48,
   "metadata": {
    "colab": {
     "base_uri": "https://localhost:8080/",
     "height": 34
    },
    "colab_type": "code",
    "executionInfo": {
     "elapsed": 545,
     "status": "ok",
     "timestamp": 1584682156385,
     "user": {
      "displayName": "­김도형(대학원/일반대학원 전기전자공학과)",
      "photoUrl": "",
      "userId": "05486823788267165662"
     },
     "user_tz": -540
    },
    "id": "yIRbN-5AWWBM",
    "outputId": "6788f528-6658-4f8b-a24c-40b9cdf0fb3c",
    "tags": []
   },
   "outputs": [
    {
     "data": {
      "text/plain": [
       "(1, 28, 28)"
      ]
     },
     "execution_count": 48,
     "metadata": {},
     "output_type": "execute_result"
    }
   ],
   "source": [
    "train_dataset[0][0].numpy().shape"
   ]
  },
  {
   "cell_type": "markdown",
   "metadata": {
    "colab_type": "text",
    "id": "M2jbyLLcWWBN"
   },
   "source": [
    "**Plot image of MNIST image**"
   ]
  },
  {
   "cell_type": "code",
   "execution_count": 49,
   "metadata": {
    "colab": {},
    "colab_type": "code",
    "id": "qbSDzCC3WWBO",
    "tags": []
   },
   "outputs": [],
   "source": [
    "show_img = train_dataset[0][0].numpy().reshape(28, 28)"
   ]
  },
  {
   "cell_type": "code",
   "execution_count": 50,
   "metadata": {
    "colab": {
     "base_uri": "https://localhost:8080/",
     "height": 282
    },
    "colab_type": "code",
    "executionInfo": {
     "elapsed": 799,
     "status": "ok",
     "timestamp": 1584682157555,
     "user": {
      "displayName": "­김도형(대학원/일반대학원 전기전자공학과)",
      "photoUrl": "",
      "userId": "05486823788267165662"
     },
     "user_tz": -540
    },
    "id": "AfOJV7mkWWBR",
    "outputId": "b7be57b8-43fc-4e02-b511-91709e64e70b",
    "tags": []
   },
   "outputs": [
    {
     "data": {
      "text/plain": [
       "<matplotlib.image.AxesImage at 0x7fad50b03bb0>"
      ]
     },
     "execution_count": 50,
     "metadata": {},
     "output_type": "execute_result"
    },
    {
     "data": {
      "image/png": "[encoded data removed]",
      "text/plain": [
       "<Figure size 432x288 with 1 Axes>"
      ]
     },
     "metadata": {
      "needs_background": "light"
     },
     "output_type": "display_data"
    }
   ],
   "source": [
    "plt.imshow(show_img, cmap='gray')"
   ]
  },
  {
   "cell_type": "markdown",
   "metadata": {
    "colab_type": "text",
    "id": "7gcfNJG9WWBS"
   },
   "source": [
    "**Second element of tuple shows label**\n",
    "\n",
    "As you would expect, the label is 5."
   ]
  },
  {
   "cell_type": "code",
   "execution_count": 51,
   "metadata": {
    "colab": {
     "base_uri": "https://localhost:8080/",
     "height": 34
    },
    "colab_type": "code",
    "executionInfo": {
     "elapsed": 568,
     "status": "ok",
     "timestamp": 1584682158567,
     "user": {
      "displayName": "­김도형(대학원/일반대학원 전기전자공학과)",
      "photoUrl": "",
      "userId": "05486823788267165662"
     },
     "user_tz": -540
    },
    "id": "qdLe2gfVWWBT",
    "outputId": "c69e0804-c329-4604-c3ec-48452bd34aa6",
    "tags": []
   },
   "outputs": [
    {
     "data": {
      "text/plain": [
       "5"
      ]
     },
     "execution_count": 51,
     "metadata": {},
     "output_type": "execute_result"
    }
   ],
   "source": [
    "# Label\n",
    "train_dataset[0][1]"
   ]
  },
  {
   "cell_type": "markdown",
   "metadata": {
    "colab_type": "text",
    "id": "vxXbx2C8WWBU"
   },
   "source": [
    "**Plot second image of MNIST image**"
   ]
  },
  {
   "cell_type": "code",
   "execution_count": 52,
   "metadata": {
    "colab": {},
    "colab_type": "code",
    "id": "WlREkxcwWWBV",
    "tags": []
   },
   "outputs": [],
   "source": [
    "show_img = train_dataset[1][0].numpy().reshape(28, 28)"
   ]
  },
  {
   "cell_type": "code",
   "execution_count": 53,
   "metadata": {
    "colab": {
     "base_uri": "https://localhost:8080/",
     "height": 282
    },
    "colab_type": "code",
    "executionInfo": {
     "elapsed": 639,
     "status": "ok",
     "timestamp": 1584682160082,
     "user": {
      "displayName": "­김도형(대학원/일반대학원 전기전자공학과)",
      "photoUrl": "",
      "userId": "05486823788267165662"
     },
     "user_tz": -540
    },
    "id": "5RvH0LGiWWBX",
    "outputId": "108f5c59-cd8f-4a91-c21f-40017f26c418",
    "tags": []
   },
   "outputs": [
    {
     "data": {
      "text/plain": [
       "<matplotlib.image.AxesImage at 0x7fad594e6a60>"
      ]
     },
     "execution_count": 53,
     "metadata": {},
     "output_type": "execute_result"
    },
    {
     "data": {
      "image/png": "[encoded data removed]",
      "text/plain": [
       "<Figure size 432x288 with 1 Axes>"
      ]
     },
     "metadata": {
      "needs_background": "light"
     },
     "output_type": "display_data"
    }
   ],
   "source": [
    "plt.imshow(show_img, cmap='gray')"
   ]
  },
  {
   "cell_type": "markdown",
   "metadata": {
    "colab_type": "text",
    "id": "1BxcHhbxWWBc"
   },
   "source": [
    "**Second element of tuple shows label**\n",
    "\n",
    "We should see 0 here as the label."
   ]
  },
  {
   "cell_type": "code",
   "execution_count": 54,
   "metadata": {
    "colab": {
     "base_uri": "https://localhost:8080/",
     "height": 34
    },
    "colab_type": "code",
    "executionInfo": {
     "elapsed": 793,
     "status": "ok",
     "timestamp": 1584682160772,
     "user": {
      "displayName": "­김도형(대학원/일반대학원 전기전자공학과)",
      "photoUrl": "",
      "userId": "05486823788267165662"
     },
     "user_tz": -540
    },
    "id": "3y2JQ-8rWWBd",
    "outputId": "31f5591f-1694-498b-bab6-909f835f9da2",
    "tags": []
   },
   "outputs": [
    {
     "data": {
      "text/plain": [
       "0"
      ]
     },
     "execution_count": 54,
     "metadata": {},
     "output_type": "execute_result"
    }
   ],
   "source": [
    "# Label\n",
    "train_dataset[1][1]"
   ]
  },
  {
   "cell_type": "markdown",
   "metadata": {
    "colab_type": "text",
    "id": "s54lryPMWWBf"
   },
   "source": [
    "### Step 1b: Loading MNIST Test Dataset\n",
    "- Show our algorithm works beyond the data we have trained on.\n",
    "- Out-of-sample"
   ]
  },
  {
   "cell_type": "markdown",
   "metadata": {
    "colab_type": "text",
    "id": "K9Tusu5yWWBg"
   },
   "source": [
    "**Load test dataset**\n",
    "\n",
    "Compared to the 60k images in the training set, the testing set where the model will not be trained on has 10k images to check for its out-of-sample performance."
   ]
  },
  {
   "cell_type": "code",
   "execution_count": 55,
   "metadata": {
    "colab": {},
    "colab_type": "code",
    "id": "nyQWiiNUWWBh",
    "tags": []
   },
   "outputs": [],
   "source": [
    "test_dataset = dsets.MNIST(root='../dataset/lab02/MNIST/', \n",
    "                           train=False, \n",
    "                           transform=transforms.ToTensor())"
   ]
  },
  {
   "cell_type": "code",
   "execution_count": 56,
   "metadata": {
    "colab": {
     "base_uri": "https://localhost:8080/",
     "height": 34
    },
    "colab_type": "code",
    "executionInfo": {
     "elapsed": 727,
     "status": "ok",
     "timestamp": 1584682162071,
     "user": {
      "displayName": "­김도형(대학원/일반대학원 전기전자공학과)",
      "photoUrl": "",
      "userId": "05486823788267165662"
     },
     "user_tz": -540
    },
    "id": "MNr1pKUtWWBj",
    "outputId": "cccee5c7-15e4-4023-f3be-4c88c7a6f71b",
    "tags": []
   },
   "outputs": [
    {
     "data": {
      "text/plain": [
       "10000"
      ]
     },
     "execution_count": 56,
     "metadata": {},
     "output_type": "execute_result"
    }
   ],
   "source": [
    "len(test_dataset)"
   ]
  },
  {
   "cell_type": "markdown",
   "metadata": {
    "colab_type": "text",
    "id": "-Q--qCiyWWBl"
   },
   "source": [
    "**Test dataset elements**\n",
    "\n",
    "Exactly like the training set, the testing set has 10k tuples containing the 28x28 matrices and their respective labels."
   ]
  },
  {
   "cell_type": "code",
   "execution_count": 57,
   "metadata": {
    "colab": {
     "base_uri": "https://localhost:8080/",
     "height": 34
    },
    "colab_type": "code",
    "executionInfo": {
     "elapsed": 758,
     "status": "ok",
     "timestamp": 1584682162728,
     "user": {
      "displayName": "­김도형(대학원/일반대학원 전기전자공학과)",
      "photoUrl": "",
      "userId": "05486823788267165662"
     },
     "user_tz": -540
    },
    "id": "sWm08WE_WWBm",
    "outputId": "0d02473f-4a0a-48d1-ccd6-d4bdcb244b89",
    "tags": []
   },
   "outputs": [
    {
     "data": {
      "text/plain": [
       "tuple"
      ]
     },
     "execution_count": 57,
     "metadata": {},
     "output_type": "execute_result"
    }
   ],
   "source": [
    "type(test_dataset[0])"
   ]
  },
  {
   "cell_type": "markdown",
   "metadata": {
    "colab_type": "text",
    "id": "ort4r5RlWWBn"
   },
   "source": [
    "**Test dataset first element in tuple**\n",
    "\n",
    "This contains the image matrix, similar to the training set."
   ]
  },
  {
   "cell_type": "code",
   "execution_count": 58,
   "metadata": {
    "colab": {
     "base_uri": "https://localhost:8080/",
     "height": 34
    },
    "colab_type": "code",
    "executionInfo": {
     "elapsed": 413,
     "status": "ok",
     "timestamp": 1584682163018,
     "user": {
      "displayName": "­김도형(대학원/일반대학원 전기전자공학과)",
      "photoUrl": "",
      "userId": "05486823788267165662"
     },
     "user_tz": -540
    },
    "id": "_API8PibWWBo",
    "outputId": "a1d64e75-36dd-4903-9880-7ddd27870b13",
    "tags": []
   },
   "outputs": [
    {
     "data": {
      "text/plain": [
       "torch.Size([1, 28, 28])"
      ]
     },
     "execution_count": 58,
     "metadata": {},
     "output_type": "execute_result"
    }
   ],
   "source": [
    "# Image matrix\n",
    "test_dataset[0][0].size()"
   ]
  },
  {
   "cell_type": "markdown",
   "metadata": {
    "colab_type": "text",
    "id": "KbUtD602WWBq"
   },
   "source": [
    "**Plot image sample from test dataset**"
   ]
  },
  {
   "cell_type": "code",
   "execution_count": 59,
   "metadata": {
    "colab": {
     "base_uri": "https://localhost:8080/",
     "height": 282
    },
    "colab_type": "code",
    "executionInfo": {
     "elapsed": 689,
     "status": "ok",
     "timestamp": 1584682163855,
     "user": {
      "displayName": "­김도형(대학원/일반대학원 전기전자공학과)",
      "photoUrl": "",
      "userId": "05486823788267165662"
     },
     "user_tz": -540
    },
    "id": "NMlBWQ8HWWBr",
    "outputId": "da9784e6-cc7c-49f6-f4f4-0943c5ce8c58",
    "tags": []
   },
   "outputs": [
    {
     "data": {
      "image/png": "[encoded data removed]",
      "text/plain": [
       "<Figure size 432x288 with 1 Axes>"
      ]
     },
     "metadata": {
      "needs_background": "light"
     },
     "output_type": "display_data"
    }
   ],
   "source": [
    "show_img = test_dataset[0][0].numpy().reshape(28, 28)\n",
    "plt.imshow(show_img, cmap='gray')\n",
    "plt.show()"
   ]
  },
  {
   "cell_type": "markdown",
   "metadata": {
    "colab_type": "text",
    "id": "WGu91fD-WWBt"
   },
   "source": [
    "**Test dataset second element in tuple**"
   ]
  },
  {
   "cell_type": "code",
   "execution_count": 60,
   "metadata": {
    "colab": {
     "base_uri": "https://localhost:8080/",
     "height": 34
    },
    "colab_type": "code",
    "executionInfo": {
     "elapsed": 385,
     "status": "ok",
     "timestamp": 1584682164125,
     "user": {
      "displayName": "­김도형(대학원/일반대학원 전기전자공학과)",
      "photoUrl": "",
      "userId": "05486823788267165662"
     },
     "user_tz": -540
    },
    "id": "UUerjRblWWBt",
    "outputId": "9268ffca-b6dc-44ba-9fd3-ed33a3fd55bd",
    "tags": []
   },
   "outputs": [
    {
     "data": {
      "text/plain": [
       "7"
      ]
     },
     "execution_count": 60,
     "metadata": {},
     "output_type": "execute_result"
    }
   ],
   "source": [
    "# Label\n",
    "test_dataset[0][1]"
   ]
  },
  {
   "cell_type": "markdown",
   "metadata": {
    "colab_type": "text",
    "id": "oiqVm3SXWWBw"
   },
   "source": [
    "### Step 2: Make Dataset Iterable\n",
    "- Aim: make the dataset iterable\n",
    "- **totaldata**: 60000\n",
    "- **minibatch**: 100\n",
    "    - Number of examples in 1 iteration\n",
    "- **iterations**: 3000\n",
    "    - 1 iteration: one mini-batch forward & backward pass\n",
    "- **epochs**\n",
    "    - 1 epoch: running through the whole dataset once\n",
    "    - $epochs = iterations \\div \\frac{totaldata}{minibatch} = 3000 \\div \\frac{60000}{100} = 5$"
   ]
  },
  {
   "cell_type": "markdown",
   "metadata": {
    "colab_type": "text",
    "id": "prLPWma_WWBw"
   },
   "source": [
    "**Recap training dataset**\n",
    "\n",
    "Remember training dataset has 60k images and testing dataset has 10k images."
   ]
  },
  {
   "cell_type": "code",
   "execution_count": 61,
   "metadata": {
    "colab": {
     "base_uri": "https://localhost:8080/",
     "height": 34
    },
    "colab_type": "code",
    "executionInfo": {
     "elapsed": 526,
     "status": "ok",
     "timestamp": 1584682165938,
     "user": {
      "displayName": "­김도형(대학원/일반대학원 전기전자공학과)",
      "photoUrl": "",
      "userId": "05486823788267165662"
     },
     "user_tz": -540
    },
    "id": "wjtsRTRuWWBx",
    "outputId": "66f280b4-04e8-483e-9c03-15c09f673abf",
    "tags": []
   },
   "outputs": [
    {
     "data": {
      "text/plain": [
       "60000"
      ]
     },
     "execution_count": 61,
     "metadata": {},
     "output_type": "execute_result"
    }
   ],
   "source": [
    "len(train_dataset)"
   ]
  },
  {
   "cell_type": "markdown",
   "metadata": {
    "colab_type": "text",
    "id": "CVVBw4MkWWBy"
   },
   "source": [
    "**Defining epochs**\n",
    "\n",
    "When the model goes through the whole 60k images once, learning how to classify 0-9, it's consider 1 epoch.\n",
    "\n",
    "However, there's a concept of batch size where it means the model would look at 100 images before updating the model's weights, thereby learning. When the model updates its weights (parameters) after looking at all the images, this is considered 1 iteration."
   ]
  },
  {
   "cell_type": "code",
   "execution_count": 62,
   "metadata": {
    "colab": {},
    "colab_type": "code",
    "id": "gUb3wv5YWWBz",
    "tags": []
   },
   "outputs": [],
   "source": [
    "batch_size = 100"
   ]
  },
  {
   "cell_type": "markdown",
   "metadata": {
    "colab_type": "text",
    "id": "zlKW15ETWWB2"
   },
   "source": [
    "We arbitrarily set 3000 iterations here which means the model would update 3000 times."
   ]
  },
  {
   "cell_type": "code",
   "execution_count": 63,
   "metadata": {
    "colab": {},
    "colab_type": "code",
    "id": "cxV5RpciWWB3",
    "tags": []
   },
   "outputs": [],
   "source": [
    "n_iters = 3000"
   ]
  },
  {
   "cell_type": "markdown",
   "metadata": {
    "colab_type": "text",
    "id": "B6fkVzUYWWB4"
   },
   "source": [
    "One epoch consists of 60,000 / 100 = 600 iterations. Because we would like to go through 3000 iterations, this implies we would have 3000 / 600 = 5 epochs as each epoch has 600 iterations."
   ]
  },
  {
   "cell_type": "code",
   "execution_count": 64,
   "metadata": {
    "colab": {
     "base_uri": "https://localhost:8080/",
     "height": 34
    },
    "colab_type": "code",
    "executionInfo": {
     "elapsed": 615,
     "status": "ok",
     "timestamp": 1584682168684,
     "user": {
      "displayName": "­김도형(대학원/일반대학원 전기전자공학과)",
      "photoUrl": "",
      "userId": "05486823788267165662"
     },
     "user_tz": -540
    },
    "id": "jJ9G1YrpWWB5",
    "outputId": "2613b6a0-c237-4572-870e-9f8155e0dd1b",
    "tags": []
   },
   "outputs": [
    {
     "data": {
      "text/plain": [
       "5"
      ]
     },
     "execution_count": 64,
     "metadata": {},
     "output_type": "execute_result"
    }
   ],
   "source": [
    "num_epochs = n_iters / (len(train_dataset) / batch_size)\n",
    "num_epochs = int(num_epochs)\n",
    "num_epochs"
   ]
  },
  {
   "cell_type": "markdown",
   "metadata": {
    "colab_type": "text",
    "id": "FFnCCmiqWWB7"
   },
   "source": [
    "**Create Iterable Object: Training Dataset**"
   ]
  },
  {
   "cell_type": "code",
   "execution_count": 65,
   "metadata": {
    "colab": {},
    "colab_type": "code",
    "id": "8saBat2kWWB7",
    "tags": []
   },
   "outputs": [],
   "source": [
    "train_loader = torch.utils.data.DataLoader(dataset=train_dataset, \n",
    "                                           batch_size=batch_size, \n",
    "                                           shuffle=True)"
   ]
  },
  {
   "cell_type": "markdown",
   "metadata": {
    "colab_type": "text",
    "id": "G7lEysGLWWB9"
   },
   "source": [
    "**Check Iterability**"
   ]
  },
  {
   "cell_type": "code",
   "execution_count": 66,
   "metadata": {
    "colab": {
     "base_uri": "https://localhost:8080/",
     "height": 34
    },
    "colab_type": "code",
    "executionInfo": {
     "elapsed": 580,
     "status": "ok",
     "timestamp": 1584682169681,
     "user": {
      "displayName": "­김도형(대학원/일반대학원 전기전자공학과)",
      "photoUrl": "",
      "userId": "05486823788267165662"
     },
     "user_tz": -540
    },
    "id": "cO0yThzZWWB9",
    "outputId": "483653bf-805a-403f-e742-5cc4f7a148ec",
    "tags": []
   },
   "outputs": [
    {
     "name": "stderr",
     "output_type": "stream",
     "text": [
      "/tmp/ipykernel_19410/3280445577.py:2: DeprecationWarning: Using or importing the ABCs from 'collections' instead of from 'collections.abc' is deprecated since Python 3.3, and in 3.10 it will stop working\n",
      "  isinstance(train_loader, collections.Iterable)\n"
     ]
    },
    {
     "data": {
      "text/plain": [
       "True"
      ]
     },
     "execution_count": 66,
     "metadata": {},
     "output_type": "execute_result"
    }
   ],
   "source": [
    "import collections\n",
    "isinstance(train_loader, collections.Iterable)\n",
    "## train_loader이 collections.Iterable인지 확인\n",
    "## An Iterable is a collection of elements that can be accessed sequentially."
   ]
  },
  {
   "cell_type": "markdown",
   "metadata": {
    "colab_type": "text",
    "id": "4ziufQaZWWB_"
   },
   "source": [
    "**Create Iterable Object: Testing Dataset**"
   ]
  },
  {
   "cell_type": "code",
   "execution_count": 67,
   "metadata": {
    "colab": {},
    "colab_type": "code",
    "id": "zoAxM-jaWWB_",
    "tags": []
   },
   "outputs": [],
   "source": [
    "# Iterable object\n",
    "test_loader = torch.utils.data.DataLoader(dataset=test_dataset, \n",
    "                                          batch_size=batch_size, \n",
    "                                          shuffle=False)"
   ]
  },
  {
   "cell_type": "markdown",
   "metadata": {
    "colab_type": "text",
    "id": "Vg0nGQv_WWCA"
   },
   "source": [
    "**Check iterability of testing dataset**"
   ]
  },
  {
   "cell_type": "code",
   "execution_count": 68,
   "metadata": {
    "colab": {
     "base_uri": "https://localhost:8080/",
     "height": 34
    },
    "colab_type": "code",
    "executionInfo": {
     "elapsed": 572,
     "status": "ok",
     "timestamp": 1584682170766,
     "user": {
      "displayName": "­김도형(대학원/일반대학원 전기전자공학과)",
      "photoUrl": "",
      "userId": "05486823788267165662"
     },
     "user_tz": -540
    },
    "id": "imw2njzQWWCB",
    "outputId": "d70cdffa-9e8b-4ea2-84e9-d2389e10ae3c",
    "tags": []
   },
   "outputs": [
    {
     "data": {
      "text/plain": [
       "True"
      ]
     },
     "execution_count": 68,
     "metadata": {},
     "output_type": "execute_result"
    }
   ],
   "source": [
    "isinstance(test_loader, collections.Iterable)"
   ]
  },
  {
   "cell_type": "markdown",
   "metadata": {
    "colab_type": "text",
    "id": "fadzuMjbWWCD"
   },
   "source": [
    "**Iterate through dataset**\n",
    "\n",
    "This is just a simplified example of what we're doing above where we're creating an iterable object `lst` to loop through so we can access all the images `img_1` and `img_2`.\n",
    "    \n",
    "Above, the equivalent of `lst` is `train_loader` and `test_loader`.\n",
    "    "
   ]
  },
  {
   "cell_type": "code",
   "execution_count": 69,
   "metadata": {
    "colab": {},
    "colab_type": "code",
    "id": "bmYIi9S3WWCE",
    "tags": []
   },
   "outputs": [],
   "source": [
    "img_1 = np.ones((28, 28))\n",
    "img_2 = np.ones((28, 28))\n",
    "lst = [img_1, img_2]"
   ]
  },
  {
   "cell_type": "code",
   "execution_count": 70,
   "metadata": {
    "colab": {
     "base_uri": "https://localhost:8080/",
     "height": 51
    },
    "colab_type": "code",
    "executionInfo": {
     "elapsed": 778,
     "status": "ok",
     "timestamp": 1584682171811,
     "user": {
      "displayName": "­김도형(대학원/일반대학원 전기전자공학과)",
      "photoUrl": "",
      "userId": "05486823788267165662"
     },
     "user_tz": -540
    },
    "id": "uTzuFhHSWWCF",
    "outputId": "6ab330a6-5709-4496-df56-228e27120af7",
    "tags": []
   },
   "outputs": [
    {
     "name": "stdout",
     "output_type": "stream",
     "text": [
      "(28, 28)\n",
      "(28, 28)\n"
     ]
    }
   ],
   "source": [
    "# Need to iterate\n",
    "# Think of numbers as the images\n",
    "for i in lst:\n",
    "    print(i.shape)"
   ]
  },
  {
   "cell_type": "markdown",
   "metadata": {
    "colab_type": "text",
    "id": "iOdd8GttWWCH"
   },
   "source": [
    "### Step 3: Building Model"
   ]
  },
  {
   "cell_type": "markdown",
   "metadata": {
    "colab_type": "text",
    "id": "MOMEy3YOWWCI"
   },
   "source": [
    "**Create model class**"
   ]
  },
  {
   "cell_type": "code",
   "execution_count": 71,
   "metadata": {
    "colab": {},
    "colab_type": "code",
    "id": "nGnZnz6AWWCI",
    "tags": []
   },
   "outputs": [],
   "source": [
    "# Same as linear regression! \n",
    "class LogisticRegressionModel(nn.Module):\n",
    "    def __init__(self, input_dim, output_dim):\n",
    "        super(LogisticRegressionModel, self).__init__()\n",
    "        self.linear = nn.Linear(input_dim, output_dim)\n",
    "\n",
    "    def forward(self, x):\n",
    "        out = self.linear(x)\n",
    "        return out"
   ]
  },
  {
   "cell_type": "markdown",
   "metadata": {
    "colab_type": "text",
    "id": "6498xTikWWCK"
   },
   "source": [
    "### Step 4: Instantiate Model Class\n",
    "- Input dimension: \n",
    "    - Size of image\n",
    "    - $28 \\times 28 = 784$\n",
    "- Output dimension: 10\n",
    "    - 0, 1, 2, 3, 4, 5, 6, 7, 8, 9"
   ]
  },
  {
   "cell_type": "markdown",
   "metadata": {
    "colab_type": "text",
    "id": "NT9hkGTQWWCM"
   },
   "source": [
    "**Check size of dataset**\n",
    "\n",
    "This should be 28x28."
   ]
  },
  {
   "cell_type": "code",
   "execution_count": 72,
   "metadata": {
    "colab": {
     "base_uri": "https://localhost:8080/",
     "height": 34
    },
    "colab_type": "code",
    "executionInfo": {
     "elapsed": 855,
     "status": "ok",
     "timestamp": 1584682175200,
     "user": {
      "displayName": "­김도형(대학원/일반대학원 전기전자공학과)",
      "photoUrl": "",
      "userId": "05486823788267165662"
     },
     "user_tz": -540
    },
    "id": "cXWJVuMeWWCN",
    "outputId": "dd87b3fb-e7f2-4ff8-cdd1-1d187ba0bc3b",
    "tags": []
   },
   "outputs": [
    {
     "data": {
      "text/plain": [
       "torch.Size([1, 28, 28])"
      ]
     },
     "execution_count": 72,
     "metadata": {},
     "output_type": "execute_result"
    }
   ],
   "source": [
    "# Size of images\n",
    "train_dataset[0][0].size()"
   ]
  },
  {
   "cell_type": "markdown",
   "metadata": {
    "colab_type": "text",
    "id": "8bCR-0o9WWCO"
   },
   "source": [
    "**Instantiate model class based on input and out dimensions**\n",
    "\n",
    "As we're trying to classify digits 0-9 a total of 10 classes, our output dimension is 10.\n",
    "\n",
    "And we're feeding the model with 28x28 images, hence our input dimension is 28x28."
   ]
  },
  {
   "cell_type": "code",
   "execution_count": 73,
   "metadata": {
    "colab": {},
    "colab_type": "code",
    "id": "SEEd_h22WWCP",
    "tags": []
   },
   "outputs": [],
   "source": [
    "input_dim = 28*28\n",
    "output_dim = 10\n",
    "\n",
    "model = LogisticRegressionModel(input_dim, output_dim)"
   ]
  },
  {
   "cell_type": "markdown",
   "metadata": {
    "colab_type": "text",
    "id": "uHXS9ZJ5WWCR"
   },
   "source": [
    "### Step 5: Instantiate Loss Class\n",
    "- **Logistic Regression**: Cross Entropy Loss\n",
    "    - _Linear Regression: MSE_\n",
    "   "
   ]
  },
  {
   "cell_type": "markdown",
   "metadata": {
    "colab_type": "text",
    "id": "bIJvPKQJWWCR"
   },
   "source": [
    "**Create Cross Entry Loss Class**\n",
    "\n",
    "Unlike linear regression, we do not use MSE here, we need Cross Entry Loss to calculate our loss before we backpropagate and update our parameters."
   ]
  },
  {
   "cell_type": "code",
   "execution_count": 74,
   "metadata": {
    "colab": {},
    "colab_type": "code",
    "id": "xsH1M9ysWWCT",
    "tags": []
   },
   "outputs": [],
   "source": [
    "criterion = nn.CrossEntropyLoss()  "
   ]
  },
  {
   "cell_type": "markdown",
   "metadata": {
    "colab_type": "text",
    "id": "GtwHdjNTWWCU"
   },
   "source": [
    "**What happens in `nn.CrossEntropyLoss()`?**\n",
    "\n",
    "It does 2 things at the same time.\n",
    "\n",
    "\n",
    "1. Computes softmax (logistic/softmax function) \n",
    "2. Computes cross entropy\n",
    "\n",
    "<img src=\"https://docs.google.com/uc?export=view&id=1CIFcScqBjjk_jTM3-4bwooqULYKhhiDa\" alt=\"no_image\" style=\"width: 900px;\"/>"
   ]
  },
  {
   "cell_type": "markdown",
   "metadata": {
    "colab_type": "text",
    "id": "JgFCxKGvWWCV"
   },
   "source": [
    "### Step 6: Instantiate Optimizer Class\n",
    "- Simplified equation\n",
    "    - $\\theta = \\theta - \\eta \\cdot \\nabla_\\theta $\n",
    "        - $\\theta$: parameters (our variables)\n",
    "        - $\\eta$: learning rate (how fast we want to learn)\n",
    "        - $\\nabla_\\theta$: parameters' gradients\n",
    "- Even simplier equation\n",
    "    - `parameters = parameters - learning_rate * parameters_gradients`\n",
    "    - **At every iteration, we update our model's parameters**"
   ]
  },
  {
   "cell_type": "markdown",
   "metadata": {
    "colab_type": "text",
    "id": "Ti5yMxL1WWCV"
   },
   "source": [
    "**Create optimizer**\n",
    "\n",
    "Similar to what we've covered above, this calculates the parameters' gradients and update them subsequently."
   ]
  },
  {
   "cell_type": "code",
   "execution_count": 75,
   "metadata": {
    "colab": {},
    "colab_type": "code",
    "id": "pH7E2AC9WWCW",
    "tags": []
   },
   "outputs": [],
   "source": [
    "learning_rate = 0.001\n",
    "\n",
    "optimizer = torch.optim.SGD(model.parameters(), lr=learning_rate)  "
   ]
  },
  {
   "cell_type": "markdown",
   "metadata": {
    "colab_type": "text",
    "id": "QaZsACayWWCX"
   },
   "source": [
    "**Parameters In-Depth**\n",
    "\n",
    "\n",
    "You'll realize we have 2 sets of parameters, 10x784 which is A and 10x1 which is b in the $y = AX + b$ equation where X is our input of size 784.\n",
    "    \n",
    "We'll go into details subsequently how these parameters interact with our input to produce our 10x1 output. "
   ]
  },
  {
   "cell_type": "code",
   "execution_count": 76,
   "metadata": {
    "colab": {
     "base_uri": "https://localhost:8080/",
     "height": 34
    },
    "colab_type": "code",
    "executionInfo": {
     "elapsed": 674,
     "status": "ok",
     "timestamp": 1584682178150,
     "user": {
      "displayName": "­김도형(대학원/일반대학원 전기전자공학과)",
      "photoUrl": "",
      "userId": "05486823788267165662"
     },
     "user_tz": -540
    },
    "id": "vfmPwQSVWWCX",
    "outputId": "5d67c4e4-f6b5-4cd5-8965-a81666548ca8",
    "tags": []
   },
   "outputs": [
    {
     "name": "stdout",
     "output_type": "stream",
     "text": [
      "<generator object Module.parameters at 0x7fad1d5cb2e0>\n"
     ]
    }
   ],
   "source": [
    "# Type of parameter object\n",
    "print(model.parameters())"
   ]
  },
  {
   "cell_type": "code",
   "execution_count": 81,
   "metadata": {},
   "outputs": [
    {
     "data": {
      "text/plain": [
       "[Parameter containing:\n",
       " tensor([[-0.0150,  0.0270, -0.0209,  ...,  0.0082, -0.0206, -0.0082],\n",
       "         [-0.0089,  0.0333, -0.0226,  ..., -0.0270,  0.0342,  0.0353],\n",
       "         [ 0.0236,  0.0132, -0.0023,  ..., -0.0233, -0.0216, -0.0022],\n",
       "         ...,\n",
       "         [-0.0037, -0.0006, -0.0056,  ...,  0.0020,  0.0216,  0.0310],\n",
       "         [ 0.0179,  0.0099,  0.0218,  ...,  0.0193,  0.0164,  0.0113],\n",
       "         [ 0.0176, -0.0181, -0.0030,  ...,  0.0331, -0.0339,  0.0094]],\n",
       "        requires_grad=True),\n",
       " Parameter containing:\n",
       " tensor([ 0.0223, -0.0207,  0.0030, -0.0263,  0.0174,  0.0081, -0.0079, -0.0182,\n",
       "          0.0005, -0.0113], requires_grad=True)]"
      ]
     },
     "execution_count": 81,
     "metadata": {},
     "output_type": "execute_result"
    }
   ],
   "source": [
    "list(model.parameters())"
   ]
  },
  {
   "cell_type": "code",
   "execution_count": 77,
   "metadata": {
    "colab": {
     "base_uri": "https://localhost:8080/",
     "height": 34
    },
    "colab_type": "code",
    "executionInfo": {
     "elapsed": 414,
     "status": "ok",
     "timestamp": 1584682178150,
     "user": {
      "displayName": "­김도형(대학원/일반대학원 전기전자공학과)",
      "photoUrl": "",
      "userId": "05486823788267165662"
     },
     "user_tz": -540
    },
    "id": "6WZjX6aVWWCa",
    "outputId": "80605814-3e11-4fec-b546-9aefb5a5cbae",
    "tags": []
   },
   "outputs": [
    {
     "name": "stdout",
     "output_type": "stream",
     "text": [
      "2\n"
     ]
    }
   ],
   "source": [
    "# Length of parameters\n",
    "print(len(list(model.parameters())))\n",
    "## tensor의 갯수를 살려줌"
   ]
  },
  {
   "cell_type": "code",
   "execution_count": 78,
   "metadata": {
    "colab": {
     "base_uri": "https://localhost:8080/",
     "height": 204
    },
    "colab_type": "code",
    "executionInfo": {
     "elapsed": 469,
     "status": "ok",
     "timestamp": 1584682178465,
     "user": {
      "displayName": "­김도형(대학원/일반대학원 전기전자공학과)",
      "photoUrl": "",
      "userId": "05486823788267165662"
     },
     "user_tz": -540
    },
    "id": "h3v78UekWWCb",
    "outputId": "872bded4-66b6-4c6a-ac1d-91e992bd21c6",
    "tags": []
   },
   "outputs": [
    {
     "data": {
      "text/plain": [
       "[Parameter containing:\n",
       " tensor([[-0.0150,  0.0270, -0.0209,  ...,  0.0082, -0.0206, -0.0082],\n",
       "         [-0.0089,  0.0333, -0.0226,  ..., -0.0270,  0.0342,  0.0353],\n",
       "         [ 0.0236,  0.0132, -0.0023,  ..., -0.0233, -0.0216, -0.0022],\n",
       "         ...,\n",
       "         [-0.0037, -0.0006, -0.0056,  ...,  0.0020,  0.0216,  0.0310],\n",
       "         [ 0.0179,  0.0099,  0.0218,  ...,  0.0193,  0.0164,  0.0113],\n",
       "         [ 0.0176, -0.0181, -0.0030,  ...,  0.0331, -0.0339,  0.0094]],\n",
       "        requires_grad=True),\n",
       " Parameter containing:\n",
       " tensor([ 0.0223, -0.0207,  0.0030, -0.0263,  0.0174,  0.0081, -0.0079, -0.0182,\n",
       "          0.0005, -0.0113], requires_grad=True)]"
      ]
     },
     "execution_count": 78,
     "metadata": {},
     "output_type": "execute_result"
    }
   ],
   "source": [
    "list(model.parameters())"
   ]
  },
  {
   "cell_type": "code",
   "execution_count": 82,
   "metadata": {
    "colab": {
     "base_uri": "https://localhost:8080/",
     "height": 34
    },
    "colab_type": "code",
    "executionInfo": {
     "elapsed": 429,
     "status": "ok",
     "timestamp": 1584682178689,
     "user": {
      "displayName": "­김도형(대학원/일반대학원 전기전자공학과)",
      "photoUrl": "",
      "userId": "05486823788267165662"
     },
     "user_tz": -540
    },
    "id": "1I2G_rNYWWCd",
    "outputId": "b8147ea2-0470-4847-daca-ff32d4e8d355",
    "tags": []
   },
   "outputs": [
    {
     "name": "stdout",
     "output_type": "stream",
     "text": [
      "torch.Size([10, 784])\n"
     ]
    }
   ],
   "source": [
    "# FC 1 Parameters \n",
    "print(list(model.parameters())[0].size())"
   ]
  },
  {
   "cell_type": "code",
   "execution_count": 83,
   "metadata": {
    "colab": {
     "base_uri": "https://localhost:8080/",
     "height": 34
    },
    "colab_type": "code",
    "execution": {
     "iopub.execute_input": "2022-03-11T00:51:43.732429Z",
     "iopub.status.busy": "2022-03-11T00:51:43.732179Z",
     "iopub.status.idle": "2022-03-11T00:51:43.737418Z",
     "shell.execute_reply": "2022-03-11T00:51:43.736614Z",
     "shell.execute_reply.started": "2022-03-11T00:51:43.732400Z"
    },
    "executionInfo": {
     "elapsed": 688,
     "status": "ok",
     "timestamp": 1584682179227,
     "user": {
      "displayName": "­김도형(대학원/일반대학원 전기전자공학과)",
      "photoUrl": "",
      "userId": "05486823788267165662"
     },
     "user_tz": -540
    },
    "id": "9-0HlD52WWCe",
    "outputId": "196b3d43-e81d-444b-e21f-e27c4a014847",
    "tags": []
   },
   "outputs": [
    {
     "name": "stdout",
     "output_type": "stream",
     "text": [
      "torch.Size([10])\n"
     ]
    }
   ],
   "source": [
    "# FC 1 Bias Parameters\n",
    "print(list(model.parameters())[1].size())"
   ]
  },
  {
   "cell_type": "markdown",
   "metadata": {
    "colab_type": "text",
    "id": "nzlVKsDAWWCh"
   },
   "source": [
    "**Quick Matrix Product Review**\n",
    "\n",
    "- Example 1: **matrix product**\n",
    "    - $A: (100, 10)$\n",
    "    - $B: (10, 1)$\n",
    "    - $A \\cdot B = (100, 10) \\cdot (10, 1) = (100, 1)$\n",
    "- Example 2: **matrix product**\n",
    "    - $A: (50, 5)$\n",
    "    - $B: (5, 2)$\n",
    "    - $A \\cdot B = (50, 5) \\cdot (5, 2) = (50, 2)$\n",
    "- Example 3: **element-wise addition**\n",
    "    - $A: (10, 1)$\n",
    "    - $B: (10, 1)$\n",
    "    - $A + B = (10, 1)$\n",
    "        \n",
    "<img src=\"https://docs.google.com/uc?export=view&id=1z5vwTT-_KH0HbMkdVnepiaWFDA6fLI4X\" alt=\"no_image\" style=\"width: 900px;\"/>    "
   ]
  },
  {
   "cell_type": "markdown",
   "metadata": {
    "colab_type": "text",
    "id": "qd71ZBlkWWCh"
   },
   "source": [
    "### Step 7: Train Model\n",
    "\n",
    "**7 step process for training models**\n",
    "\n",
    " - Process \n",
    "    1. Convert inputs/labels to tensors with gradients\n",
    "    2. Clear gradient buffets\n",
    "    3. Get output given inputs\n",
    "    4. Get loss\n",
    "    5. Get gradients w.r.t. parameters\n",
    "    6. Update parameters using gradients\n",
    "        - `parameters = parameters - learning_rate * parameters_gradients`\n",
    "    7. REPEAT"
   ]
  },
  {
   "cell_type": "code",
   "execution_count": 84,
   "metadata": {
    "colab": {
     "base_uri": "https://localhost:8080/",
     "height": 119
    },
    "colab_type": "code",
    "execution": {
     "iopub.execute_input": "2022-03-11T00:51:43.739167Z",
     "iopub.status.busy": "2022-03-11T00:51:43.738844Z",
     "iopub.status.idle": "2022-03-11T00:54:41.142599Z",
     "shell.execute_reply": "2022-03-11T00:54:41.141161Z",
     "shell.execute_reply.started": "2022-03-11T00:51:43.739129Z"
    },
    "executionInfo": {
     "elapsed": 28651,
     "status": "ok",
     "timestamp": 1584682208059,
     "user": {
      "displayName": "­김도형(대학원/일반대학원 전기전자공학과)",
      "photoUrl": "",
      "userId": "05486823788267165662"
     },
     "user_tz": -540
    },
    "id": "EKwVqzTXWWCi",
    "outputId": "a041cf1e-bf5b-4d5b-ad60-a828d3d0a6c7",
    "tags": []
   },
   "outputs": [
    {
     "name": "stdout",
     "output_type": "stream",
     "text": [
      "Iteration: 500. Loss: 1.8843636512756348. Accuracy: 67.55\n",
      "Iteration: 1000. Loss: 1.5274145603179932. Accuracy: 76.95\n",
      "Iteration: 1500. Loss: 1.3210421800613403. Accuracy: 79.8\n",
      "Iteration: 2000. Loss: 1.1570684909820557. Accuracy: 81.19\n",
      "Iteration: 2500. Loss: 1.2118033170700073. Accuracy: 82.32\n",
      "Iteration: 3000. Loss: 0.9269809126853943. Accuracy: 83.34\n"
     ]
    }
   ],
   "source": [
    "iter = 0\n",
    "for epoch in range(num_epochs):\n",
    "    for i, (images, labels) in enumerate(train_loader):\n",
    "        # Load images as Variable\n",
    "        images = images.view(-1, 28*28)\n",
    "        labels = labels\n",
    "\n",
    "        # Clear gradients w.r.t. parameters\n",
    "        optimizer.zero_grad()\n",
    "\n",
    "        # Forward pass to get output/logits\n",
    "        outputs = model(images)\n",
    "\n",
    "        # Calculate Loss: softmax --> cross entropy loss\n",
    "        loss = criterion(outputs, labels)\n",
    "\n",
    "        # Getting gradients w.r.t. parameters\n",
    "        loss.backward()\n",
    "\n",
    "        # Updating parameters\n",
    "        optimizer.step()\n",
    "\n",
    "        iter += 1\n",
    "\n",
    "        if iter % 500 == 0:\n",
    "            # Calculate Accuracy         \n",
    "            correct = 0\n",
    "            total = 0\n",
    "            # Iterate through test dataset\n",
    "            for images, labels in test_loader:\n",
    "                # Load images to a Torch Variable\n",
    "                images = images.view(-1, 28*28)\n",
    "\n",
    "                # Forward pass only to get logits/output\n",
    "                outputs = model(images)\n",
    "\n",
    "                # Get predictions from the maximum value\n",
    "                _, predicted = torch.max(outputs.data, 1)\n",
    "\n",
    "                # Total number of labels\n",
    "                total += labels.size(0)\n",
    "\n",
    "                # Total correct predictions\n",
    "                correct += (predicted == labels).sum()\n",
    "\n",
    "            accuracy = 100 * correct.item() / total\n",
    "\n",
    "            # Print Loss\n",
    "            print('Iteration: {}. Loss: {}. Accuracy: {}'.format(iter, loss.item(), accuracy))"
   ]
  },
  {
   "cell_type": "markdown",
   "metadata": {
    "colab_type": "text",
    "id": "CXB1CbxQWWCj"
   },
   "source": [
    "#### Break Down Accuracy Calculation"
   ]
  },
  {
   "cell_type": "markdown",
   "metadata": {
    "colab_type": "text",
    "id": "rZSILvcyWWCj"
   },
   "source": [
    "**Printing outputs of our model**\n",
    "\n",
    "As we've trained our model, we can extract the accuracy calculation portion to understand what's happening without re-training the model.\n",
    "\n",
    "This would print out the output of the model's predictions on your notebook."
   ]
  },
  {
   "cell_type": "code",
   "execution_count": 85,
   "metadata": {
    "colab": {
     "base_uri": "https://localhost:8080/",
     "height": 1000
    },
    "colab_type": "code",
    "execution": {
     "iopub.execute_input": "2022-03-11T00:54:41.145250Z",
     "iopub.status.busy": "2022-03-11T00:54:41.144925Z",
     "iopub.status.idle": "2022-03-11T00:54:46.146913Z",
     "shell.execute_reply": "2022-03-11T00:54:46.144898Z",
     "shell.execute_reply.started": "2022-03-11T00:54:41.145214Z"
    },
    "executionInfo": {
     "elapsed": 1279,
     "status": "ok",
     "timestamp": 1584682212906,
     "user": {
      "displayName": "­김도형(대학원/일반대학원 전기전자공학과)",
      "photoUrl": "",
      "userId": "05486823788267165662"
     },
     "user_tz": -540
    },
    "id": "0cj72pB0WWCk",
    "outputId": "71da353c-9724-4fd9-fdae-4da6e0376e25"
   },
   "outputs": [
    {
     "name": "stdout",
     "output_type": "stream",
     "text": [
      "OUTPUTS\n",
      "tensor([[-3.4319e-01, -1.1677e+00, -3.3279e-01, -2.0230e-03,  1.0636e-01,\n",
      "         -3.4982e-01, -1.0772e+00,  2.9926e+00, -1.8810e-01,  9.8253e-01],\n",
      "        [ 4.3128e-01, -5.1907e-02,  1.3129e+00,  1.1651e+00, -1.7389e+00,\n",
      "          4.8943e-01,  1.2435e+00, -2.1238e+00,  3.6417e-01, -1.5393e+00],\n",
      "        [-8.9429e-01,  2.3158e+00,  2.9371e-01,  1.9392e-02, -5.5001e-01,\n",
      "         -2.5399e-01, -1.9606e-01, -2.4996e-01,  3.7588e-01, -3.8154e-01],\n",
      "        [ 3.1411e+00, -2.1148e+00,  5.6804e-02, -2.4542e-01, -1.1041e+00,\n",
      "          7.0248e-01,  1.3045e+00,  3.6938e-01, -5.9710e-01, -1.9894e-01],\n",
      "        [-4.2168e-03, -2.0379e+00,  3.5378e-01, -7.1492e-01,  1.6417e+00,\n",
      "         -4.3142e-01,  5.2972e-02,  4.5308e-01,  9.5950e-02,  7.2267e-01],\n",
      "        [-1.2674e+00,  2.8158e+00,  2.9450e-01,  1.7379e-01, -6.5500e-01,\n",
      "         -4.1585e-01, -7.5789e-01, -1.4659e-01,  5.9808e-01, -1.7078e-01],\n",
      "        [-1.1623e+00, -1.4351e+00, -9.5461e-01,  4.1824e-01,  1.3918e+00,\n",
      "          2.2799e-01, -5.9766e-01,  8.3623e-01,  4.4840e-01,  7.8699e-01],\n",
      "        [-1.3971e+00, -5.4820e-01, -3.7645e-01, -1.1172e-02,  9.4066e-01,\n",
      "          5.5275e-01,  1.6181e-01,  2.4272e-01,  1.2037e-01,  1.4420e+00],\n",
      "        [ 4.4949e-01, -4.4794e-01,  5.7642e-01, -1.4335e+00,  4.9926e-01,\n",
      "          5.5691e-03,  6.5780e-01, -1.0614e+00,  3.4690e-03,  3.1170e-01],\n",
      "        [-4.9739e-01, -5.6689e-01, -1.1994e+00, -1.0862e+00,  1.2224e+00,\n",
      "          6.7035e-02, -4.1918e-01,  1.8389e+00,  3.3777e-01,  1.6066e+00],\n",
      "        [ 3.2958e+00, -1.6751e+00,  4.0548e-01,  1.1602e+00, -9.0747e-01,\n",
      "          1.0242e+00, -4.1290e-01, -1.3123e+00,  3.4706e-01, -1.7271e+00],\n",
      "        [ 6.9469e-01, -3.5924e-01,  4.6191e-01, -5.9997e-02,  3.4493e-01,\n",
      "         -2.7370e-01,  8.2799e-01, -7.5025e-01,  1.5615e-01, -6.1578e-01],\n",
      "        [-8.4656e-01, -1.6509e+00, -8.0613e-01, -1.0787e+00,  1.7441e+00,\n",
      "         -1.8869e-02, -1.3641e-01,  1.0430e+00,  2.4888e-01,  2.1765e+00],\n",
      "        [ 3.0367e+00, -2.3476e+00, -2.7878e-01, -3.1894e-01, -3.6790e-01,\n",
      "          7.0897e-01, -3.2159e-01, -5.0013e-01,  6.9033e-01,  1.5192e-01],\n",
      "        [-1.2723e+00,  2.7335e+00, -4.8634e-02,  5.2658e-01, -1.0932e+00,\n",
      "         -6.3856e-02,  1.1814e-01, -1.6477e-01,  2.5784e-01, -2.6727e-01],\n",
      "        [ 4.1672e-01, -8.8176e-01,  6.4049e-02,  1.3435e+00, -4.6586e-01,\n",
      "          9.9225e-01, -2.8264e-01, -3.1243e-01,  4.0691e-01, -9.7998e-01],\n",
      "        [-2.5710e-01, -2.1614e+00,  1.1436e-01, -7.3069e-01,  1.5516e+00,\n",
      "         -5.9869e-01, -1.1527e-01,  9.1670e-01,  2.8824e-01,  1.6414e+00],\n",
      "        [ 2.4201e-01, -1.5392e+00, -4.2372e-01,  5.1765e-01, -3.0535e-01,\n",
      "         -2.2912e-01, -6.7125e-01,  2.7692e+00, -4.4829e-01,  5.7848e-01],\n",
      "        [-6.1020e-01, -5.1662e-01, -4.0218e-02,  1.2186e+00, -6.9461e-01,\n",
      "          5.3824e-01,  9.4901e-01, -6.5457e-01,  1.4204e-01, -5.1095e-01],\n",
      "        [-1.0360e+00, -1.6542e+00, -4.0429e-01, -3.7684e-01,  2.0298e+00,\n",
      "          2.2195e-01, -9.6565e-02,  9.9561e-02, -1.2449e-01,  1.4331e+00],\n",
      "        [-8.2907e-01, -1.3889e-01, -1.3400e+00,  2.7152e-01,  7.1472e-01,\n",
      "          2.2411e-01, -1.1273e+00,  1.8451e+00,  2.6522e-01,  1.5333e+00],\n",
      "        [-3.7528e-01, -1.5463e+00,  6.0135e-02,  2.1254e-01,  2.6086e-01,\n",
      "          7.5561e-01,  2.0452e+00, -1.2988e+00,  3.2022e-01,  1.8895e-01],\n",
      "        [-4.1600e-01,  1.3214e-01,  3.4429e-01, -8.1056e-01,  9.0388e-01,\n",
      "         -1.1278e+00,  1.3143e+00, -6.1378e-03, -1.5812e-01, -5.3800e-02],\n",
      "        [-1.3855e-02, -1.1149e+00, -7.5292e-01,  3.1915e-01, -6.5512e-02,\n",
      "          1.2960e+00,  2.9065e-01, -1.0268e+00,  7.3097e-01,  2.5588e-01],\n",
      "        [-5.5163e-01, -1.0158e+00,  7.3588e-02, -1.3661e-01,  1.3213e+00,\n",
      "         -2.8108e-01, -2.1091e-01,  3.2474e-01, -3.0988e-01,  9.5823e-01],\n",
      "        [ 4.2552e+00, -2.6163e+00,  4.8834e-01, -9.2596e-01, -4.1024e-01,\n",
      "          1.0653e+00,  8.5901e-01, -8.6718e-01, -2.0481e-01, -1.1306e+00],\n",
      "        [-3.6675e-02, -1.6411e+00, -2.9415e-01, -3.2465e-02,  2.0307e-01,\n",
      "         -5.9473e-02, -7.6665e-01,  1.7388e+00, -3.2132e-01,  7.8656e-01],\n",
      "        [-3.9186e-01, -2.3581e+00, -2.1855e-01, -8.5974e-01,  2.3755e+00,\n",
      "          1.6750e-01,  7.2843e-02, -3.3250e-02,  2.7083e-01,  1.4703e+00],\n",
      "        [ 2.9441e+00, -2.2038e+00,  2.9500e-01,  1.0472e+00, -1.1239e+00,\n",
      "          6.3678e-01, -1.0792e-01, -6.7136e-01,  6.1509e-01, -5.7312e-01],\n",
      "        [-9.5734e-01,  1.5700e+00, -1.9961e-01,  2.6151e-02, -4.4287e-01,\n",
      "          4.0408e-01,  3.6697e-01, -1.5491e-01,  4.0318e-01, -4.0877e-01],\n",
      "        [-8.0245e-01, -4.7039e-02, -8.1624e-01,  2.4006e+00, -1.1898e+00,\n",
      "          1.0120e+00, -5.8984e-01,  5.8894e-01,  1.3987e-01,  3.4755e-02],\n",
      "        [-8.7920e-01,  1.2642e+00, -1.7947e-01,  2.5237e-01, -2.6581e-01,\n",
      "          2.6043e-01,  3.1759e-03,  1.7794e-01,  2.4166e-01,  1.1959e-01],\n",
      "        [-9.5954e-01, -7.0837e-01, -6.1617e-01,  2.5070e+00, -2.3686e-01,\n",
      "          1.3538e+00, -4.8935e-01, -8.4555e-01,  5.8206e-01, -1.4252e-01],\n",
      "        [ 1.7320e+00, -1.5549e+00,  7.5576e-01, -1.7164e+00,  8.9813e-01,\n",
      "          3.3626e-01,  1.5766e+00, -6.8336e-01, -1.7562e-01, -1.5569e-01],\n",
      "        [-9.0502e-01, -2.6677e-01,  9.0688e-01, -3.0838e-01, -1.0312e-01,\n",
      "         -5.5042e-01, -1.6923e+00,  1.7571e+00,  5.2627e-01,  7.3111e-01],\n",
      "        [ 4.7642e-01, -1.2666e+00,  2.4900e+00,  4.7507e-01, -9.3855e-01,\n",
      "          5.6267e-02,  2.1768e-01, -4.4178e-01,  2.6727e-01, -1.8801e+00],\n",
      "        [-5.4545e-01, -1.6541e+00, -8.6561e-02, -9.6469e-02, -1.2829e-01,\n",
      "         -4.6537e-01, -7.7180e-01,  2.3707e+00, -3.1632e-01,  1.2034e+00],\n",
      "        [-1.2311e+00,  2.2359e+00, -3.1720e-01, -2.2670e-02, -5.0275e-01,\n",
      "          1.4936e-01,  8.0073e-02,  1.2731e-01,  4.7995e-01, -9.4066e-02],\n",
      "        [ 4.6413e-01,  5.5228e-01,  8.4066e-01,  1.3435e+00, -1.9337e+00,\n",
      "          3.1030e-01,  4.7380e-01, -1.0381e+00,  6.9969e-01, -1.2441e+00],\n",
      "        [-1.2823e+00,  3.0707e+00, -2.3469e-01,  3.4667e-01, -1.2432e+00,\n",
      "         -2.8913e-02,  3.0111e-02, -5.6315e-01,  7.3039e-01, -3.2567e-01],\n",
      "        [-6.7071e-01,  1.7204e+00,  5.5855e-02, -1.5761e-02, -5.3143e-01,\n",
      "         -1.1046e-01, -1.7750e-01, -6.3979e-02,  4.8351e-02, -1.9045e-01],\n",
      "        [-6.6165e-01, -7.9842e-01, -1.3095e-01, -1.7620e-01,  8.9876e-03,\n",
      "         -3.3264e-01, -6.1266e-01,  2.1826e+00, -3.0666e-01,  1.1643e+00],\n",
      "        [-2.1871e+00, -6.1203e-01, -1.6247e-01, -4.4034e-01,  2.2407e+00,\n",
      "         -7.8823e-01, -8.5510e-01,  8.3090e-01,  3.1084e-01,  1.5306e+00],\n",
      "        [-4.2554e-01,  8.7545e-01,  1.2194e+00, -7.7505e-02, -1.8280e-01,\n",
      "         -3.0546e-01,  2.5522e-01, -1.1230e+00,  5.5417e-01, -4.3089e-01],\n",
      "        [-1.0715e+00,  3.2061e-01,  2.1341e-02,  1.2734e+00, -6.8984e-01,\n",
      "          5.8772e-01,  5.2742e-01, -1.3461e-01,  9.4067e-02, -3.4296e-01],\n",
      "        [ 3.5077e-01, -1.3907e+00, -4.2948e-01,  1.7858e+00, -4.8277e-01,\n",
      "          1.4628e+00,  1.8354e-02, -1.2477e+00,  9.4800e-01, -4.0625e-01],\n",
      "        [-1.4527e+00,  3.1036e-01,  1.1058e-01,  7.0599e-01, -1.4552e-01,\n",
      "          5.3296e-01,  2.4064e-01,  1.9453e-02,  3.3669e-01,  1.4720e-01],\n",
      "        [-8.5693e-01, -3.1814e-01,  1.4677e+00, -5.0207e-01,  5.5039e-01,\n",
      "         -6.0148e-01,  4.8565e-01, -3.4645e-01, -8.5183e-02,  1.3913e-01],\n",
      "        [-9.3191e-01, -2.8931e+00, -1.2577e+00, -1.6560e-01,  2.7430e+00,\n",
      "          5.3120e-01, -7.5576e-01,  3.5340e-01,  6.5661e-01,  2.1235e+00],\n",
      "        [-3.3595e-01, -1.9696e+00,  4.8748e-01, -7.7496e-01,  2.2352e+00,\n",
      "         -9.6777e-01, -1.6451e-02,  2.3178e-01, -1.5118e-01,  1.0009e+00],\n",
      "        [ 7.5794e-02, -9.7693e-01,  1.1256e-02,  3.7709e-01, -4.3804e-01,\n",
      "          4.3204e-01,  2.1734e+00, -1.1978e+00,  2.9100e-03, -3.6825e-01],\n",
      "        [-1.1847e-01, -9.0104e-01, -5.9343e-02,  1.9108e+00, -7.5980e-01,\n",
      "          5.8130e-01,  1.2285e-01, -4.2109e-01, -2.5549e-01, -6.2780e-02],\n",
      "        [ 6.1946e-01, -1.1359e+00, -1.2608e+00,  3.2891e-02,  7.2962e-01,\n",
      "          1.4616e+00, -5.8310e-02, -1.4188e-01, -1.0706e-01,  6.3133e-01],\n",
      "        [ 3.3301e-01, -9.7966e-01, -3.8968e-01,  1.1249e+00, -1.0597e-01,\n",
      "          6.0956e-01, -1.3612e-01, -4.0027e-01,  3.7501e-01, -4.3010e-01],\n",
      "        [-3.5444e-02, -3.4874e-01,  1.0151e+00, -1.0786e-01,  7.0576e-01,\n",
      "         -7.8636e-01,  5.0094e-01, -7.2794e-01,  1.2567e-01, -3.7834e-01],\n",
      "        [ 1.6062e+00, -2.1205e+00, -5.1375e-01,  4.4537e-01, -6.7311e-01,\n",
      "          9.3235e-01,  4.1318e-01, -7.3092e-01,  1.5320e+00, -1.4626e-01],\n",
      "        [-1.0409e-01, -2.7619e+00, -9.9247e-02, -5.5644e-01,  2.5962e+00,\n",
      "          4.4262e-02,  1.6780e-01, -1.8779e-01,  4.8605e-02,  9.3055e-01],\n",
      "        [-7.9539e-01,  2.3130e+00,  1.5381e-01,  2.9775e-01, -7.1836e-01,\n",
      "         -2.6597e-01, -5.7041e-01, -2.6377e-01,  4.3451e-01, -9.7776e-02],\n",
      "        [-1.3999e-01, -1.9619e+00, -8.1732e-01, -1.1283e+00,  1.8277e+00,\n",
      "         -1.1682e-01, -4.6308e-02,  1.1228e+00,  4.9638e-02,  2.1430e+00],\n",
      "        [ 2.8432e-02,  2.6758e-01, -4.7939e-01, -2.9482e-01,  2.1674e-01,\n",
      "          3.4163e-01, -2.3139e-01,  3.5677e-01,  1.8836e-01,  1.5328e-02],\n",
      "        [-2.4262e-01, -1.8601e+00, -4.9322e-01,  6.4718e-01, -1.9502e-02,\n",
      "          7.0276e-02, -1.5705e-01,  2.1595e+00, -3.5011e-01,  4.8343e-01],\n",
      "        [ 7.0168e-02, -5.4431e-01,  1.1479e+00, -1.6966e+00, -5.5955e-02,\n",
      "          4.4052e-02,  6.7585e-01, -7.0124e-01,  1.1463e+00,  4.3482e-01],\n",
      "        [-7.2438e-01, -7.8837e-01, -8.8878e-03, -2.8339e-01,  6.9666e-01,\n",
      "          2.0755e-01,  1.4877e-01,  8.5513e-03,  3.2308e-01,  9.2474e-01],\n",
      "        [-9.4440e-01, -1.7698e-02,  1.1573e+00,  6.2892e-01, -6.8677e-02,\n",
      "         -1.3046e-02, -2.4793e-01, -6.0134e-01,  3.3292e-01,  1.2364e-01],\n",
      "        [-1.0674e+00, -5.4102e-01,  3.6361e-01, -5.9669e-01,  6.8142e-01,\n",
      "         -4.4497e-01, -8.3053e-01,  1.8283e+00,  1.6978e-01,  7.0503e-01],\n",
      "        [-1.1819e+00, -6.7448e-01, -5.8791e-01,  3.8796e-01,  5.1321e-01,\n",
      "          6.6040e-01,  1.6214e-01, -2.8291e-01,  5.2672e-01,  7.9947e-01],\n",
      "        [ 2.6350e-01, -3.1797e-02,  9.6079e-01, -1.6275e-01,  2.6860e-01,\n",
      "         -8.7339e-01,  6.0006e-01,  1.6387e-01, -4.0986e-01, -5.1018e-01],\n",
      "        [-6.8163e-01, -1.5460e+00,  4.4227e-01, -9.4794e-01,  2.0241e+00,\n",
      "         -6.4428e-01, -2.3795e-01,  2.6761e-01,  2.5184e-01,  8.9333e-01],\n",
      "        [-1.3369e+00, -3.6901e-01, -1.7740e-01,  2.8156e+00, -5.0433e-01,\n",
      "          8.6982e-01, -9.2977e-01, -8.0827e-01,  9.9828e-01,  4.3659e-02],\n",
      "        [ 2.6641e+00, -1.2343e+00,  5.8788e-01, -6.0176e-01, -1.3868e+00,\n",
      "          3.9190e-01,  1.2649e-01,  7.2771e-02, -6.5763e-02, -1.7907e-01],\n",
      "        [ 3.2443e-01, -1.2758e+00, -5.5921e-01,  1.0681e-01, -3.4734e-01,\n",
      "         -2.7833e-01, -5.0249e-01,  2.8540e+00, -2.4463e-01,  3.9907e-01],\n",
      "        [ 4.2821e+00, -2.7237e+00,  5.9653e-01,  4.4713e-01, -1.1645e+00,\n",
      "          1.0456e+00,  4.1465e-02, -1.3905e+00,  2.4957e-01, -1.4181e+00],\n",
      "        [ 1.4804e+00, -1.2746e+00,  1.5552e+00,  1.1904e+00, -1.2433e+00,\n",
      "          1.1891e-01,  4.8218e-01, -1.1319e+00,  1.5817e-01, -2.0438e+00],\n",
      "        [-1.3972e+00,  8.3180e-01,  3.3466e-01, -1.4550e-01, -5.9006e-01,\n",
      "         -3.9722e-01, -1.1699e+00,  7.2933e-01,  1.1624e+00,  6.2611e-01],\n",
      "        [-1.1961e+00,  2.5427e+00, -3.6424e-01,  6.6160e-02, -8.6921e-01,\n",
      "          9.4311e-02,  1.0799e-01, -1.5076e-02,  5.7915e-01, -1.9234e-01],\n",
      "        [-1.7307e+00,  4.9495e-01, -3.3019e-01, -4.6862e-01,  7.0114e-01,\n",
      "         -5.3184e-01, -6.1573e-01,  1.7204e+00,  2.4830e-01,  7.4961e-01],\n",
      "        [-8.9569e-02,  1.7195e-01, -1.8916e-01,  2.3400e+00, -1.1793e+00,\n",
      "          1.2609e+00, -5.3347e-01, -1.0474e+00,  5.9897e-01, -9.4245e-01],\n",
      "        [-7.0762e-01, -4.8259e-01,  7.3765e-01, -4.4799e-01, -2.3671e-01,\n",
      "         -8.7714e-01, -2.1119e-01,  1.4999e+00, -3.8664e-01,  5.6004e-01],\n",
      "        [-1.6489e+00,  1.0509e+00, -7.0059e-01,  1.3597e-01,  6.8935e-02,\n",
      "          9.2151e-02, -4.7493e-01,  3.8478e-01,  1.0454e+00,  8.1001e-01],\n",
      "        [-5.0213e-01, -4.0002e-01, -5.1276e-01, -9.3236e-01, -1.5236e-01,\n",
      "         -1.3500e-01, -1.5636e+00,  3.3717e+00,  5.3125e-01,  7.1765e-01],\n",
      "        [-4.4367e-01, -1.9050e+00, -9.8238e-01,  8.7630e-02,  8.9203e-01,\n",
      "          6.5918e-01, -1.9285e-01,  1.3865e+00, -5.6022e-01,  1.7757e+00],\n",
      "        [ 3.4541e-01, -1.7310e+00,  5.2692e-01, -4.9512e-01,  1.3253e-01,\n",
      "          2.8229e-01,  2.3166e+00, -3.7382e-01, -3.3127e-01,  1.7223e-01],\n",
      "        [-7.7710e-01, -1.2546e+00,  3.9629e+00, -1.8548e-01, -1.5856e-01,\n",
      "         -1.1536e+00,  6.1851e-01, -9.4253e-01,  5.4467e-01, -1.2218e+00],\n",
      "        [-5.0095e-01, -1.8478e+00, -5.1654e-01, -1.0732e-01,  6.8914e-01,\n",
      "         -1.4550e-01, -8.9772e-01,  2.3359e+00, -3.4405e-01,  1.5257e+00],\n",
      "        [-7.5902e-01, -9.3429e-02, -4.2240e-01, -4.5993e-01,  6.3029e-01,\n",
      "          4.5515e-01, -6.6349e-01, -5.5086e-01,  1.2010e+00,  8.2204e-01],\n",
      "        [-1.0505e+00, -2.6005e+00, -9.4735e-01,  1.5930e-01,  2.9349e+00,\n",
      "          2.8298e-01, -2.7812e-01, -4.1155e-01,  3.8473e-01,  1.5800e+00],\n",
      "        [-1.7750e+00,  5.8291e-01, -8.2314e-02, -4.5993e-01, -1.7929e-01,\n",
      "         -9.0587e-01, -1.0659e+00,  3.0870e+00,  3.4775e-01,  1.1208e+00],\n",
      "        [ 3.2130e-01, -1.5534e+00, -9.9071e-01,  1.7797e+00, -1.4772e-01,\n",
      "          1.1248e+00,  6.3103e-01, -2.8536e-01, -4.8347e-02, -3.7324e-02],\n",
      "        [-2.0869e-01, -2.0322e+00,  7.3012e-01, -1.2396e+00,  1.2239e+00,\n",
      "         -6.2196e-01,  2.4746e+00,  3.9811e-02, -7.4494e-01,  4.2078e-01],\n",
      "        [-1.6246e+00,  3.0711e+00,  5.0601e-01,  2.3420e-02, -7.2902e-01,\n",
      "         -3.9262e-01, -3.6979e-01, -3.3657e-01,  7.5983e-01, -6.3569e-01],\n",
      "        [ 3.0245e-01, -7.3248e-01, -6.9294e-02,  2.7789e+00, -1.2699e+00,\n",
      "          9.0670e-01, -1.3413e+00, -4.7314e-01,  6.8683e-01, -6.1042e-01],\n",
      "        [-9.2609e-01, -6.7222e-01,  4.1798e-01, -8.3813e-01,  4.4751e-01,\n",
      "         -2.9814e-03,  2.7748e+00, -1.2596e+00,  2.9983e-01,  2.5344e-01],\n",
      "        [-9.0956e-01,  1.4206e-01,  2.9018e-03, -5.5361e-01,  6.5883e-01,\n",
      "         -7.7590e-02, -8.8604e-02, -9.4872e-02,  7.6185e-01,  4.5167e-01],\n",
      "        [-8.1679e-01, -4.4486e-01, -4.7732e-01,  2.7816e+00, -1.4883e+00,\n",
      "          1.2222e+00, -9.8534e-01,  6.9018e-01,  5.4427e-01,  1.1178e-01],\n",
      "        [-1.9840e+00,  1.9314e+00, -7.1411e-02,  1.5041e-02, -5.3987e-01,\n",
      "          2.7198e-01,  5.5841e-01, -1.6186e-01,  8.0935e-01, -2.0605e-01],\n",
      "        [-8.0368e-01, -4.6316e-01, -2.3644e-01, -1.5496e+00,  2.1992e+00,\n",
      "         -4.9611e-01,  4.5749e-01, -8.1747e-02, -1.5403e-01,  1.5121e+00],\n",
      "        [-1.0433e+00,  5.5830e-01, -3.0098e-01,  2.7659e-01, -8.9458e-02,\n",
      "          4.7952e-01,  5.4281e-02,  1.9124e-01,  3.8822e-01,  2.2110e-01],\n",
      "        [-1.7418e+00,  1.5062e+00, -4.8184e-01,  2.6537e-01, -1.8487e-01,\n",
      "         -1.2406e-01, -1.1641e-01,  9.2168e-01,  2.7686e-01,  6.9279e-01],\n",
      "        [ 1.0461e+00, -9.7837e-01,  7.6674e-01, -8.5693e-01, -3.4856e-01,\n",
      "          5.1371e-01,  1.8890e+00, -9.6049e-01, -5.1915e-03, -6.7935e-01],\n",
      "        [-1.1913e+00, -1.6938e+00,  2.6733e-01, -5.5913e-01,  1.6446e+00,\n",
      "         -7.8587e-01, -3.2736e-01,  7.8368e-01,  2.3265e-01,  2.2225e+00]],\n",
      "       grad_fn=<AddmmBackward>)\n"
     ]
    }
   ],
   "source": [
    "iter_test = 0\n",
    "for images, labels in test_loader:\n",
    "    iter_test += 1\n",
    "    images = images.view(-1, 28*28)\n",
    "    outputs = model(images)\n",
    "    if iter_test == 1:\n",
    "        print('OUTPUTS')\n",
    "        print(outputs)\n",
    "    _, predicted = torch.max(outputs.data, 1)"
   ]
  },
  {
   "cell_type": "markdown",
   "metadata": {
    "colab_type": "text",
    "id": "-QQP0FvAWWCm"
   },
   "source": [
    "**Printing output size**\n",
    "\n",
    "This produces a 100x10 matrix because each iteration has a batch size of 100 and each prediction across the 10 classes, with the largest number indicating the likely number it is predicting."
   ]
  },
  {
   "cell_type": "code",
   "execution_count": 86,
   "metadata": {
    "colab": {
     "base_uri": "https://localhost:8080/",
     "height": 51
    },
    "colab_type": "code",
    "execution": {
     "iopub.execute_input": "2022-03-11T00:54:46.151317Z",
     "iopub.status.busy": "2022-03-11T00:54:46.150404Z",
     "iopub.status.idle": "2022-03-11T00:54:51.126077Z",
     "shell.execute_reply": "2022-03-11T00:54:51.054420Z",
     "shell.execute_reply.started": "2022-03-11T00:54:46.151231Z"
    },
    "executionInfo": {
     "elapsed": 1297,
     "status": "ok",
     "timestamp": 1584682216514,
     "user": {
      "displayName": "­김도형(대학원/일반대학원 전기전자공학과)",
      "photoUrl": "",
      "userId": "05486823788267165662"
     },
     "user_tz": -540
    },
    "id": "E0qaottUWWCm",
    "outputId": "03dd143d-4e86-4f7b-852b-b318d654bd06",
    "tags": []
   },
   "outputs": [
    {
     "name": "stdout",
     "output_type": "stream",
     "text": [
      "OUTPUTS\n",
      "torch.Size([100, 10])\n"
     ]
    }
   ],
   "source": [
    "iter_test = 0\n",
    "for images, labels in test_loader:\n",
    "    iter_test += 1\n",
    "    images = images.view(-1, 28*28)\n",
    "    outputs = model(images)\n",
    "    if iter_test == 1:\n",
    "        print('OUTPUTS')\n",
    "        print(outputs.size())\n",
    "    _, predicted = torch.max(outputs.data, 1)"
   ]
  },
  {
   "cell_type": "markdown",
   "metadata": {
    "colab_type": "text",
    "id": "jyC1gaijWWCp"
   },
   "source": [
    "**Printing one output**\n",
    "\n",
    "This would be a 1x10 matrix where the largest number is what the model thinks the image is. Here we can see that in the tensor, position 7 has the largest number, indicating the model thinks the image is 7.\n",
    "\n",
    "number 0: -0.4876\n",
    "\n",
    "number 1: -2.2708\n",
    "\n",
    "... \n",
    "\n",
    "number 7: 4.6617"
   ]
  },
  {
   "cell_type": "code",
   "execution_count": 87,
   "metadata": {
    "colab": {
     "base_uri": "https://localhost:8080/",
     "height": 68
    },
    "colab_type": "code",
    "execution": {
     "iopub.execute_input": "2022-03-11T00:54:51.129708Z",
     "iopub.status.busy": "2022-03-11T00:54:51.129000Z",
     "iopub.status.idle": "2022-03-11T00:54:56.033481Z",
     "shell.execute_reply": "2022-03-11T00:54:56.032001Z",
     "shell.execute_reply.started": "2022-03-11T00:54:51.129652Z"
    },
    "executionInfo": {
     "elapsed": 1334,
     "status": "ok",
     "timestamp": 1584682218369,
     "user": {
      "displayName": "­김도형(대학원/일반대학원 전기전자공학과)",
      "photoUrl": "",
      "userId": "05486823788267165662"
     },
     "user_tz": -540
    },
    "id": "PAWdVcGZWWCp",
    "outputId": "5972ff2d-7b3d-4510-e5b2-b3f8380df7ee"
   },
   "outputs": [
    {
     "name": "stdout",
     "output_type": "stream",
     "text": [
      "OUTPUTS\n",
      "tensor([-3.4319e-01, -1.1677e+00, -3.3279e-01, -2.0230e-03,  1.0636e-01,\n",
      "        -3.4982e-01, -1.0772e+00,  2.9926e+00, -1.8810e-01,  9.8253e-01],\n",
      "       grad_fn=<SliceBackward>)\n"
     ]
    }
   ],
   "source": [
    "iter_test = 0\n",
    "for images, labels in test_loader:\n",
    "    iter_test += 1\n",
    "    images = images.view(-1, 28*28)\n",
    "    outputs = model(images)\n",
    "    if iter_test == 1:\n",
    "        print('OUTPUTS')\n",
    "        print(outputs[0, :])\n",
    "    _, predicted = torch.max(outputs.data, 1)"
   ]
  },
  {
   "cell_type": "markdown",
   "metadata": {
    "colab_type": "text",
    "id": "olpw8KvDWWCq"
   },
   "source": [
    "**Printing prediction output**\n",
    "\n",
    "Because our output is of size 100 (our batch size), our prediction size would also of the size 100."
   ]
  },
  {
   "cell_type": "code",
   "execution_count": 88,
   "metadata": {
    "colab": {
     "base_uri": "https://localhost:8080/",
     "height": 51
    },
    "colab_type": "code",
    "execution": {
     "iopub.execute_input": "2022-03-11T00:54:56.036537Z",
     "iopub.status.busy": "2022-03-11T00:54:56.035748Z",
     "iopub.status.idle": "2022-03-11T00:55:00.929540Z",
     "shell.execute_reply": "2022-03-11T00:55:00.928290Z",
     "shell.execute_reply.started": "2022-03-11T00:54:56.036498Z"
    },
    "executionInfo": {
     "elapsed": 1137,
     "status": "ok",
     "timestamp": 1584682220129,
     "user": {
      "displayName": "­김도형(대학원/일반대학원 전기전자공학과)",
      "photoUrl": "",
      "userId": "05486823788267165662"
     },
     "user_tz": -540
    },
    "id": "GvYgBdpIWWCr",
    "outputId": "cf420c34-344a-429a-a4c5-6f2fdf410052"
   },
   "outputs": [
    {
     "name": "stdout",
     "output_type": "stream",
     "text": [
      "PREDICTION\n",
      "torch.Size([100])\n"
     ]
    }
   ],
   "source": [
    "iter_test = 0\n",
    "for images, labels in test_loader:\n",
    "    iter_test += 1\n",
    "    images = images.view(-1, 28*28)\n",
    "    outputs = model(images)\n",
    "    _, predicted = torch.max(outputs.data, 1)\n",
    "    if iter_test == 1:\n",
    "        print('PREDICTION')\n",
    "        print(predicted.size())"
   ]
  },
  {
   "cell_type": "markdown",
   "metadata": {
    "colab_type": "text",
    "id": "dhH-udunWWCs"
   },
   "source": [
    "**Print prediction value**\n",
    "\n",
    "We are printing our prediction which as verified above, should be digit 7."
   ]
  },
  {
   "cell_type": "code",
   "execution_count": 89,
   "metadata": {
    "colab": {
     "base_uri": "https://localhost:8080/",
     "height": 51
    },
    "colab_type": "code",
    "execution": {
     "iopub.execute_input": "2022-03-11T00:55:00.932314Z",
     "iopub.status.busy": "2022-03-11T00:55:00.931675Z",
     "iopub.status.idle": "2022-03-11T00:55:05.440531Z",
     "shell.execute_reply": "2022-03-11T00:55:05.438824Z",
     "shell.execute_reply.started": "2022-03-11T00:55:00.932263Z"
    },
    "executionInfo": {
     "elapsed": 1382,
     "status": "ok",
     "timestamp": 1584682222121,
     "user": {
      "displayName": "­김도형(대학원/일반대학원 전기전자공학과)",
      "photoUrl": "",
      "userId": "05486823788267165662"
     },
     "user_tz": -540
    },
    "id": "P0yoBK0YWWCs",
    "outputId": "f7b49638-df87-42f8-fe98-301d992ce417"
   },
   "outputs": [
    {
     "name": "stdout",
     "output_type": "stream",
     "text": [
      "PREDICTION\n",
      "tensor(7)\n"
     ]
    }
   ],
   "source": [
    "iter_test = 0\n",
    "for images, labels in test_loader:\n",
    "    iter_test += 1\n",
    "    images = images.view(-1, 28*28)\n",
    "    outputs = model(images)\n",
    "    _, predicted = torch.max(outputs.data, 1)\n",
    "    if iter_test == 1:\n",
    "        print('PREDICTION')\n",
    "        print(predicted[0])"
   ]
  },
  {
   "cell_type": "markdown",
   "metadata": {
    "colab_type": "text",
    "id": "nhfBAEpqWWCu"
   },
   "source": [
    "**Print prediction, label and label size**\n",
    "\n",
    "We are trying to show what we are predicting and the actual values. In this case, we're predicting the right value 7!"
   ]
  },
  {
   "cell_type": "code",
   "execution_count": 90,
   "metadata": {
    "colab": {
     "base_uri": "https://localhost:8080/",
     "height": 187
    },
    "colab_type": "code",
    "execution": {
     "iopub.execute_input": "2022-03-11T00:55:05.443628Z",
     "iopub.status.busy": "2022-03-11T00:55:05.442986Z",
     "iopub.status.idle": "2022-03-11T00:55:10.247074Z",
     "shell.execute_reply": "2022-03-11T00:55:10.245835Z",
     "shell.execute_reply.started": "2022-03-11T00:55:05.443579Z"
    },
    "executionInfo": {
     "elapsed": 1529,
     "status": "ok",
     "timestamp": 1584682223583,
     "user": {
      "displayName": "­김도형(대학원/일반대학원 전기전자공학과)",
      "photoUrl": "",
      "userId": "05486823788267165662"
     },
     "user_tz": -540
    },
    "id": "IBzf8C-rWWCu",
    "outputId": "45c7a8d0-74d7-41fa-cd5b-da5a02067fa8"
   },
   "outputs": [
    {
     "name": "stdout",
     "output_type": "stream",
     "text": [
      "PREDICTION\n",
      "tensor(7)\n",
      "\n",
      "\n",
      "LABEL SIZE\n",
      "torch.Size([100])\n",
      "\n",
      "\n",
      "LABEL FOR IMAGE 0\n",
      "tensor(7)\n"
     ]
    }
   ],
   "source": [
    "iter_test = 0\n",
    "for images, labels in test_loader:\n",
    "    iter_test += 1\n",
    "    images = images.view(-1, 28*28)\n",
    "    outputs = model(images)\n",
    "    _, predicted = torch.max(outputs.data, 1)\n",
    "    if iter_test == 1:\n",
    "        print('PREDICTION')\n",
    "        print(predicted[0])\n",
    "        print('\\n')\n",
    "        print('LABEL SIZE')\n",
    "        print(labels.size())\n",
    "        print('\\n')\n",
    "        print('LABEL FOR IMAGE 0')\n",
    "        print(labels[0])"
   ]
  },
  {
   "cell_type": "markdown",
   "metadata": {
    "colab_type": "text",
    "id": "Q88bbx18WWCv"
   },
   "source": [
    "**Print second prediction and ground truth**\n",
    "\n",
    "Again, the prediction is correct. Naturally, as our model is quite competent in this simple task."
   ]
  },
  {
   "cell_type": "code",
   "execution_count": 92,
   "metadata": {
    "colab": {
     "base_uri": "https://localhost:8080/",
     "height": 119
    },
    "colab_type": "code",
    "execution": {
     "iopub.execute_input": "2022-03-11T00:55:10.249522Z",
     "iopub.status.busy": "2022-03-11T00:55:10.248987Z",
     "iopub.status.idle": "2022-03-11T00:55:14.847884Z",
     "shell.execute_reply": "2022-03-11T00:55:14.846914Z",
     "shell.execute_reply.started": "2022-03-11T00:55:10.249484Z"
    },
    "executionInfo": {
     "elapsed": 1414,
     "status": "ok",
     "timestamp": 1584682225387,
     "user": {
      "displayName": "­김도형(대학원/일반대학원 전기전자공학과)",
      "photoUrl": "",
      "userId": "05486823788267165662"
     },
     "user_tz": -540
    },
    "id": "e16jPsKJWWCw",
    "outputId": "3a07e378-d9b6-4cce-c327-0f505aee386c"
   },
   "outputs": [
    {
     "name": "stdout",
     "output_type": "stream",
     "text": [
      "PREDICTION\n",
      "tensor(2)\n",
      "LABEL SIZE\n",
      "torch.Size([100])\n",
      "LABEL FOR IMAGE 1\n",
      "tensor(2)\n"
     ]
    }
   ],
   "source": [
    "iter_test = 0\n",
    "for images, labels in test_loader:\n",
    "    iter_test += 1\n",
    "    images = images.view(-1, 28*28)\n",
    "    outputs = model(images)\n",
    "    _, predicted = torch.max(outputs.data, 1)\n",
    "\n",
    "    if iter_test == 1:\n",
    "        print('PREDICTION')\n",
    "        print(predicted[1])\n",
    "\n",
    "        print('LABEL SIZE')\n",
    "        print(labels.size())\n",
    "\n",
    "        print('LABEL FOR IMAGE 1')\n",
    "        print(labels[1])"
   ]
  },
  {
   "cell_type": "markdown",
   "metadata": {
    "colab_type": "text",
    "id": "g9xbHTmsWWCy"
   },
   "source": [
    "**Print accuracy**\n",
    "\n",
    "Now we know what each object represents, we can understand how we arrived at our accuracy numbers.\n",
    "    \n",
    "One last thing to note is that `correct.item()` has this syntax is because `correct` is a PyTorch tensor and to get the value to compute with `total` which is an integer, we need to do this."
   ]
  },
  {
   "cell_type": "code",
   "execution_count": 93,
   "metadata": {
    "colab": {
     "base_uri": "https://localhost:8080/",
     "height": 34
    },
    "colab_type": "code",
    "execution": {
     "iopub.execute_input": "2022-03-11T00:55:14.849867Z",
     "iopub.status.busy": "2022-03-11T00:55:14.849364Z",
     "iopub.status.idle": "2022-03-11T00:55:19.630631Z",
     "shell.execute_reply": "2022-03-11T00:55:19.629414Z",
     "shell.execute_reply.started": "2022-03-11T00:55:14.849832Z"
    },
    "executionInfo": {
     "elapsed": 1322,
     "status": "ok",
     "timestamp": 1584682226562,
     "user": {
      "displayName": "­김도형(대학원/일반대학원 전기전자공학과)",
      "photoUrl": "",
      "userId": "05486823788267165662"
     },
     "user_tz": -540
    },
    "id": "hBtVRI7iWWCz",
    "outputId": "93502473-b1f4-452d-9423-425443b346fe"
   },
   "outputs": [
    {
     "name": "stdout",
     "output_type": "stream",
     "text": [
      "83.34\n"
     ]
    }
   ],
   "source": [
    "correct = 0\n",
    "total = 0\n",
    "iter_test = 0\n",
    "for images, labels in test_loader:\n",
    "    iter_test += 1\n",
    "    images = images.view(-1, 28*28)\n",
    "    outputs = model(images)\n",
    "    _, predicted = torch.max(outputs.data, 1)\n",
    "\n",
    "    # Total number of labels\n",
    "    total += labels.size(0)\n",
    "\n",
    "    # Total correct predictions\n",
    "    correct += (predicted == labels).sum()\n",
    "\n",
    "accuracy = 100 * (correct.item() / total)\n",
    "\n",
    "print(accuracy)"
   ]
  },
  {
   "cell_type": "markdown",
   "metadata": {
    "colab_type": "text",
    "id": "k375Tl5CWWC2"
   },
   "source": [
    "**Explanation of Python's `.sum()` function**\n",
    "\n",
    "Python's `.sum()` function allows you to do a comparison between two matrices and sum the ones that return `True` or in our case, those predictions that match actual labels (correct predictions)."
   ]
  },
  {
   "cell_type": "code",
   "execution_count": 94,
   "metadata": {
    "colab": {
     "base_uri": "https://localhost:8080/",
     "height": 85
    },
    "colab_type": "code",
    "execution": {
     "iopub.execute_input": "2022-03-11T00:55:19.633133Z",
     "iopub.status.busy": "2022-03-11T00:55:19.632534Z",
     "iopub.status.idle": "2022-03-11T00:55:19.643654Z",
     "shell.execute_reply": "2022-03-11T00:55:19.642642Z",
     "shell.execute_reply.started": "2022-03-11T00:55:19.633083Z"
    },
    "executionInfo": {
     "elapsed": 658,
     "status": "ok",
     "timestamp": 1584682227351,
     "user": {
      "displayName": "­김도형(대학원/일반대학원 전기전자공학과)",
      "photoUrl": "",
      "userId": "05486823788267165662"
     },
     "user_tz": -540
    },
    "id": "BPXWPidsWWC3",
    "outputId": "07492cb8-b1b0-4855-bba7-88c042aae56d"
   },
   "outputs": [
    {
     "name": "stdout",
     "output_type": "stream",
     "text": [
      "[1. 1. 1. 1. 1. 1. 1. 1. 1. 1.]\n",
      "[1. 1. 1. 1. 1. 1. 1. 1. 1. 1.]\n",
      "[ True  True  True  True  True  True  True  True  True  True]\n",
      "10\n"
     ]
    }
   ],
   "source": [
    "# Explaining .sum() python built-in function\n",
    "# correct += (predicted == labels).sum()\n",
    "import numpy as np\n",
    "a = np.ones((10))\n",
    "print(a)\n",
    "b = np.ones((10))\n",
    "print(b)\n",
    "\n",
    "print(a == b)\n",
    "\n",
    "print((a == b).sum())"
   ]
  },
  {
   "cell_type": "markdown",
   "metadata": {
    "colab_type": "text",
    "id": "KbTdY7DqWWC4"
   },
   "source": [
    "#### Saving Model"
   ]
  },
  {
   "cell_type": "markdown",
   "metadata": {
    "colab_type": "text",
    "id": "-fSs2tYKWWC5"
   },
   "source": [
    "**Saving PyTorch model**\n",
    "\n",
    "This is how you save your model. Feel free to just change `save_model = True` to save your model"
   ]
  },
  {
   "cell_type": "code",
   "execution_count": 96,
   "metadata": {
    "colab": {},
    "colab_type": "code",
    "execution": {
     "iopub.execute_input": "2022-03-11T00:55:19.645591Z",
     "iopub.status.busy": "2022-03-11T00:55:19.645234Z",
     "iopub.status.idle": "2022-03-11T00:55:19.651631Z",
     "shell.execute_reply": "2022-03-11T00:55:19.650303Z",
     "shell.execute_reply.started": "2022-03-11T00:55:19.645549Z"
    },
    "id": "EzUCVqORWWC5"
   },
   "outputs": [],
   "source": [
    "save_model = True\n",
    "if save_model is True:\n",
    "    # Saves only parameters\n",
    "    torch.save(model.state_dict(), 'awesome_model.pkl')"
   ]
  },
  {
   "cell_type": "markdown",
   "metadata": {
    "colab_type": "text",
    "id": "_LAW1fp8WWC6"
   },
   "source": [
    "## 3. Building a Logistic Regression Model with PyTorch (GPU)"
   ]
  },
  {
   "cell_type": "markdown",
   "metadata": {
    "colab_type": "text",
    "id": "XJyGdDbvWWC6"
   },
   "source": [
    "**CPU version**\n",
    "\n",
    "The usual 7-step process, getting repetitive by now which we like."
   ]
  },
  {
   "cell_type": "code",
   "execution_count": 97,
   "metadata": {
    "colab": {
     "base_uri": "https://localhost:8080/",
     "height": 119
    },
    "colab_type": "code",
    "execution": {
     "iopub.execute_input": "2022-03-11T00:55:19.653933Z",
     "iopub.status.busy": "2022-03-11T00:55:19.653464Z",
     "iopub.status.idle": "2022-03-11T00:58:16.661445Z",
     "shell.execute_reply": "2022-03-11T00:58:16.659866Z",
     "shell.execute_reply.started": "2022-03-11T00:55:19.653887Z"
    },
    "executionInfo": {
     "elapsed": 28279,
     "status": "ok",
     "timestamp": 1584682258518,
     "user": {
      "displayName": "­김도형(대학원/일반대학원 전기전자공학과)",
      "photoUrl": "",
      "userId": "05486823788267165662"
     },
     "user_tz": -540
    },
    "id": "plJ0TY5pWWC7",
    "outputId": "5cf89658-24ed-4c64-a520-96e61c736324"
   },
   "outputs": [
    {
     "name": "stdout",
     "output_type": "stream",
     "text": [
      "Iteration: 500. Loss: 1.8762227296829224. Accuracy: 67.04\n",
      "Iteration: 1000. Loss: 1.6146091222763062. Accuracy: 76.53\n",
      "Iteration: 1500. Loss: 1.3802410364151. Accuracy: 80.1\n",
      "Iteration: 2000. Loss: 1.1852188110351562. Accuracy: 81.76\n",
      "Iteration: 2500. Loss: 1.120516300201416. Accuracy: 82.81\n",
      "Iteration: 3000. Loss: 1.1188938617706299. Accuracy: 83.39\n"
     ]
    }
   ],
   "source": [
    "import torch\n",
    "import torch.nn as nn\n",
    "import torchvision.transforms as transforms\n",
    "import torchvision.datasets as dsets\n",
    "\n",
    "'''\n",
    "STEP 1: LOADING DATASET\n",
    "'''\n",
    "\n",
    "train_dataset = dsets.MNIST(root='../dataset/lab02/MNIST/', \n",
    "                            train=True, \n",
    "                            transform=transforms.ToTensor(),\n",
    "                            download=True)\n",
    "\n",
    "test_dataset = dsets.MNIST(root='../dataset/lab02/MNIST/', \n",
    "                           train=False, \n",
    "                           transform=transforms.ToTensor())\n",
    "\n",
    "'''\n",
    "STEP 2: MAKING DATASET ITERABLE\n",
    "'''\n",
    "\n",
    "batch_size = 100\n",
    "n_iters = 3000\n",
    "num_epochs = n_iters / (len(train_dataset) / batch_size)\n",
    "num_epochs = int(num_epochs)\n",
    "\n",
    "train_loader = torch.utils.data.DataLoader(dataset=train_dataset, \n",
    "                                           batch_size=batch_size, \n",
    "                                           shuffle=True)\n",
    "\n",
    "test_loader = torch.utils.data.DataLoader(dataset=test_dataset, \n",
    "                                          batch_size=batch_size, \n",
    "                                          shuffle=False)\n",
    "\n",
    "'''\n",
    "STEP 3: CREATE MODEL CLASS\n",
    "'''\n",
    "class LogisticRegressionModel(nn.Module):\n",
    "    def __init__(self, input_size, num_classes):\n",
    "        super(LogisticRegressionModel, self).__init__()\n",
    "        self.linear = nn.Linear(input_dim, output_dim)\n",
    "\n",
    "    def forward(self, x):\n",
    "        out = self.linear(x)\n",
    "        return out\n",
    "\n",
    "'''\n",
    "STEP 4: INSTANTIATE MODEL CLASS\n",
    "'''\n",
    "input_dim = 28*28\n",
    "output_dim = 10\n",
    "\n",
    "model = LogisticRegressionModel(input_dim, output_dim)\n",
    "\n",
    "'''\n",
    "STEP 5: INSTANTIATE LOSS CLASS\n",
    "'''\n",
    "criterion = nn.CrossEntropyLoss()\n",
    "\n",
    "\n",
    "'''\n",
    "STEP 6: INSTANTIATE OPTIMIZER CLASS\n",
    "'''\n",
    "learning_rate = 0.001\n",
    "\n",
    "optimizer = torch.optim.SGD(model.parameters(), lr=learning_rate)\n",
    "\n",
    "'''\n",
    "STEP 7: TRAIN THE MODEL\n",
    "'''\n",
    "iter = 0\n",
    "for epoch in range(num_epochs):\n",
    "    for i, (images, labels) in enumerate(train_loader):\n",
    "        # Load images as Variable\n",
    "        images = images.view(-1, 28*28)\n",
    "        labels = labels\n",
    "\n",
    "        # Clear gradients w.r.t. parameters\n",
    "        optimizer.zero_grad()\n",
    "\n",
    "        # Forward pass to get output/logits\n",
    "        # 100 x 10\n",
    "        outputs = model(images)\n",
    "\n",
    "        # Calculate Loss: softmax --> cross entropy loss\n",
    "        loss = criterion(outputs, labels)\n",
    "\n",
    "        # Getting gradients w.r.t. parameters\n",
    "        loss.backward()\n",
    "\n",
    "        # Updating parameters\n",
    "        optimizer.step()\n",
    "\n",
    "        iter += 1\n",
    "\n",
    "        if iter % 500 == 0:\n",
    "            # Calculate Accuracy         \n",
    "            correct = 0\n",
    "            total = 0\n",
    "            # Iterate through test dataset\n",
    "            for images, labels in test_loader:\n",
    "                # Load images to a Torch Variable\n",
    "                images = images.view(-1, 28*28)\n",
    "\n",
    "                # Forward pass only to get logits/output\n",
    "                outputs = model(images)\n",
    "\n",
    "                # Get predictions from the maximum value\n",
    "                # 100 x 1\n",
    "                _, predicted = torch.max(outputs.data, 1)\n",
    "\n",
    "                # Total number of labels\n",
    "                total += labels.size(0)\n",
    "\n",
    "                # Total correct predictions\n",
    "                correct += (predicted == labels).sum()\n",
    "\n",
    "            accuracy = 100 * correct.item() / total\n",
    "\n",
    "            # Print Loss\n",
    "            print('Iteration: {}. Loss: {}. Accuracy: {}'.format(iter, loss.item(), accuracy))"
   ]
  },
  {
   "cell_type": "markdown",
   "metadata": {
    "colab_type": "text",
    "id": "gFa2yvJ7WWC8"
   },
   "source": [
    "**CPU Version**\n",
    "\n",
    "2 things must be on GPU \n",
    "- `model`\n",
    "- `tensors`\n",
    "\n",
    "Remember step 4 and 7 will be affected and this will be the same for all model building moving forward."
   ]
  },
  {
   "cell_type": "code",
   "execution_count": 98,
   "metadata": {
    "colab": {
     "base_uri": "https://localhost:8080/",
     "height": 119
    },
    "colab_type": "code",
    "execution": {
     "iopub.execute_input": "2022-03-11T00:58:16.664938Z",
     "iopub.status.busy": "2022-03-11T00:58:16.664486Z",
     "iopub.status.idle": "2022-03-11T00:58:45.153080Z",
     "shell.execute_reply": "2022-03-11T00:58:45.151721Z",
     "shell.execute_reply.started": "2022-03-11T00:58:16.664885Z"
    },
    "executionInfo": {
     "elapsed": 28007,
     "status": "ok",
     "timestamp": 1584682286544,
     "user": {
      "displayName": "­김도형(대학원/일반대학원 전기전자공학과)",
      "photoUrl": "",
      "userId": "05486823788267165662"
     },
     "user_tz": -540
    },
    "id": "gtoYd_BoWWC9",
    "outputId": "6059c9f4-5ed7-4b2b-9d56-df99ead93335",
    "tags": []
   },
   "outputs": [
    {
     "name": "stdout",
     "output_type": "stream",
     "text": [
      "Iteration: 500. Loss: 1.8529127836227417. Accuracy: 70.09\n",
      "Iteration: 1000. Loss: 1.560978651046753. Accuracy: 76.81\n",
      "Iteration: 1500. Loss: 1.314944863319397. Accuracy: 79.95\n",
      "Iteration: 2000. Loss: 1.245661735534668. Accuracy: 81.23\n",
      "Iteration: 2500. Loss: 1.0810308456420898. Accuracy: 82.39\n",
      "Iteration: 3000. Loss: 0.9727571606636047. Accuracy: 82.99\n"
     ]
    }
   ],
   "source": [
    "import torch\n",
    "import torch.nn as nn\n",
    "import torchvision.transforms as transforms\n",
    "import torchvision.datasets as dsets\n",
    "\n",
    "'''\n",
    "STEP 1: LOADING DATASET\n",
    "'''\n",
    "\n",
    "train_dataset = dsets.MNIST(root='../dataset/lab02/MNIST/', \n",
    "                            train=True, \n",
    "                            transform=transforms.ToTensor(),\n",
    "                            download=True)\n",
    "\n",
    "test_dataset = dsets.MNIST(root='../dataset/lab02/MNIST/', \n",
    "                           train=False, \n",
    "                           transform=transforms.ToTensor())\n",
    "\n",
    "'''\n",
    "STEP 2: MAKING DATASET ITERABLE\n",
    "'''\n",
    "\n",
    "batch_size = 100\n",
    "n_iters = 3000\n",
    "num_epochs = n_iters / (len(train_dataset) / batch_size)\n",
    "num_epochs = int(num_epochs)\n",
    "\n",
    "train_loader = torch.utils.data.DataLoader(dataset=train_dataset, \n",
    "                                           batch_size=batch_size, \n",
    "                                           shuffle=True)\n",
    "\n",
    "test_loader = torch.utils.data.DataLoader(dataset=test_dataset, \n",
    "                                          batch_size=batch_size, \n",
    "                                          shuffle=False)\n",
    "\n",
    "'''\n",
    "STEP 3: CREATE MODEL CLASS\n",
    "'''\n",
    "class LogisticRegressionModel(nn.Module):\n",
    "    def __init__(self, input_size, num_classes):\n",
    "        super(LogisticRegressionModel, self).__init__()\n",
    "        self.linear = nn.Linear(input_dim, output_dim)\n",
    "\n",
    "    def forward(self, x):\n",
    "        out = self.linear(x)\n",
    "        return out\n",
    "\n",
    "'''\n",
    "STEP 4: INSTANTIATE MODEL CLASS\n",
    "'''\n",
    "input_dim = 28*28\n",
    "output_dim = 10\n",
    "\n",
    "model = LogisticRegressionModel(input_dim, output_dim)\n",
    "\n",
    "#######################\n",
    "#  USE GPU FOR MODEL  #\n",
    "#######################\n",
    "\n",
    "device = torch.device(\"cuda:0\" if torch.cuda.is_available() else \"cpu\")\n",
    "model.to(device)\n",
    "\n",
    "'''\n",
    "STEP 5: INSTANTIATE LOSS CLASS\n",
    "'''\n",
    "criterion = nn.CrossEntropyLoss()\n",
    "\n",
    "\n",
    "'''\n",
    "STEP 6: INSTANTIATE OPTIMIZER CLASS\n",
    "'''\n",
    "learning_rate = 0.001\n",
    "\n",
    "optimizer = torch.optim.SGD(model.parameters(), lr=learning_rate)\n",
    "\n",
    "'''\n",
    "STEP 7: TRAIN THE MODEL\n",
    "'''\n",
    "iter = 0\n",
    "for epoch in range(num_epochs):\n",
    "    for i, (images, labels) in enumerate(train_loader):\n",
    "\n",
    "        #######################\n",
    "        #  USE GPU FOR MODEL  #\n",
    "        #######################\n",
    "        images = images.view(-1, 28*28).to(device)\n",
    "        labels = labels.to(device)\n",
    "\n",
    "        # Clear gradients w.r.t. parameters\n",
    "        optimizer.zero_grad()\n",
    "\n",
    "        # Forward pass to get output/logits\n",
    "        outputs = model(images)\n",
    "\n",
    "        # Calculate Loss: softmax --> cross entropy loss\n",
    "        loss = criterion(outputs, labels)\n",
    "\n",
    "        # Getting gradients w.r.t. parameters\n",
    "        loss.backward()\n",
    "\n",
    "        # Updating parameters\n",
    "        optimizer.step()\n",
    "\n",
    "        iter += 1\n",
    "\n",
    "        if iter % 500 == 0:\n",
    "            # Calculate Accuracy         \n",
    "            correct = 0\n",
    "            total = 0\n",
    "            # Iterate through test dataset\n",
    "            for images, labels in test_loader:\n",
    "                #######################\n",
    "                #  USE GPU FOR MODEL  #\n",
    "                #######################\n",
    "                images = images.view(-1, 28*28).to(device)\n",
    "\n",
    "                # Forward pass only to get logits/output\n",
    "                outputs = model(images)\n",
    "\n",
    "                # Get predictions from the maximum value\n",
    "                _, predicted = torch.max(outputs.data, 1)\n",
    "\n",
    "                # Total number of labels\n",
    "                total += labels.size(0)\n",
    "\n",
    "                #######################\n",
    "                #  USE GPU FOR MODEL  #\n",
    "                #######################\n",
    "                # Total correct predictions\n",
    "                if torch.cuda.is_available():\n",
    "                    correct += (predicted.cpu() == labels.cpu()).sum()\n",
    "                else:\n",
    "                    correct += (predicted == labels).sum()\n",
    "\n",
    "            accuracy = 100 * correct.item() / total\n",
    "\n",
    "            # Print Loss\n",
    "            print('Iteration: {}. Loss: {}. Accuracy: {}'.format(iter, loss.item(), accuracy))"
   ]
  },
  {
   "cell_type": "markdown",
   "metadata": {
    "colab_type": "text",
    "id": "cMzuAYL8WWC-"
   },
   "source": [
    "## Summary\n",
    "\n",
    "- **Logistic regression** basics\n",
    "- **Problems** of **linear regression**\n",
    "- **In-depth** Logistic Regression\n",
    "    1. Get logits\n",
    "    2. Get softmax\n",
    "    3. Get cross-entropy loss\n",
    "- **Aim**: reduce cross-entropy loss\n",
    "- Built a **logistic regression model** in **CPU and GPU**\n",
    "    - Step 1: Load Dataset\n",
    "    - Step 2: Make Dataset Iterable\n",
    "    - Step 3: Create Model Class\n",
    "    - Step 4: Instantiate Model Class\n",
    "    - Step 5: Instantiate Loss Class\n",
    "    - Step 6: Instantiate Optimizer Class\n",
    "    - Step 7: Train Model\n",
    "- Important things to be on **GPU**\n",
    "    - `model`\n",
    "    - `tensors with gradients`"
   ]
  },
  {
   "cell_type": "markdown",
   "metadata": {
    "colab_type": "text",
    "id": "ZRzjewOXWWC-"
   },
   "source": [
    "# Feedforward Neural Network with PyTorch\n",
    "## 1. About Feedforward Neural Network"
   ]
  },
  {
   "cell_type": "markdown",
   "metadata": {
    "colab_type": "text",
    "id": "hMNMch9QWWC_"
   },
   "source": [
    "### 1.1 Logistic Regression Transition to Neural Networks\n",
    "\n",
    "#### Logistic Regression Review\n",
    "\n",
    "<img src=\"https://docs.google.com/uc?export=view&id=1CIFcScqBjjk_jTM3-4bwooqULYKhhiDa\" alt=\"no_image\" style=\"width: 900px;\"/>"
   ]
  },
  {
   "cell_type": "markdown",
   "metadata": {
    "colab_type": "text",
    "id": "OnLb04sLWWC_"
   },
   "source": [
    "**Define logistic regression model**\n",
    "\n",
    "Import our relevant torch modules."
   ]
  },
  {
   "cell_type": "code",
   "execution_count": 99,
   "metadata": {
    "colab": {},
    "colab_type": "code",
    "execution": {
     "iopub.execute_input": "2022-03-11T00:58:45.155570Z",
     "iopub.status.busy": "2022-03-11T00:58:45.155336Z",
     "iopub.status.idle": "2022-03-11T00:58:45.161007Z",
     "shell.execute_reply": "2022-03-11T00:58:45.160346Z",
     "shell.execute_reply.started": "2022-03-11T00:58:45.155546Z"
    },
    "id": "SHf5jEcaWWC_"
   },
   "outputs": [],
   "source": [
    "import torch\n",
    "import torch.nn as nn"
   ]
  },
  {
   "cell_type": "markdown",
   "metadata": {
    "colab_type": "text",
    "id": "UtCPN7zfWWDA"
   },
   "source": [
    "Define our model class."
   ]
  },
  {
   "cell_type": "code",
   "execution_count": 100,
   "metadata": {
    "colab": {},
    "colab_type": "code",
    "execution": {
     "iopub.execute_input": "2022-03-11T00:58:45.162054Z",
     "iopub.status.busy": "2022-03-11T00:58:45.161828Z",
     "iopub.status.idle": "2022-03-11T00:58:45.166651Z",
     "shell.execute_reply": "2022-03-11T00:58:45.165934Z",
     "shell.execute_reply.started": "2022-03-11T00:58:45.162035Z"
    },
    "id": "i3UxZVGrWWDB"
   },
   "outputs": [],
   "source": [
    "class LogisticRegressionModel(nn.Module):\n",
    "    def __init__(self, input_dim, output_dim):\n",
    "        super(LogisticRegressionModel, self).__init__()\n",
    "        self.linear = nn.Linear(input_dim, output_dim)\n",
    "\n",
    "    def forward(self, x):\n",
    "        out = self.linear(x)\n",
    "        return out"
   ]
  },
  {
   "cell_type": "markdown",
   "metadata": {
    "colab_type": "text",
    "id": "GvcnLtPdWWDC"
   },
   "source": [
    "Instantiate the logistic regression model."
   ]
  },
  {
   "cell_type": "code",
   "execution_count": 101,
   "metadata": {
    "colab": {},
    "colab_type": "code",
    "execution": {
     "iopub.execute_input": "2022-03-11T00:58:45.167653Z",
     "iopub.status.busy": "2022-03-11T00:58:45.167402Z",
     "iopub.status.idle": "2022-03-11T00:58:45.171312Z",
     "shell.execute_reply": "2022-03-11T00:58:45.170710Z",
     "shell.execute_reply.started": "2022-03-11T00:58:45.167635Z"
    },
    "id": "1xkHFyPwWWDD"
   },
   "outputs": [],
   "source": [
    "input_dim = 28*28\n",
    "output_dim = 10\n",
    "\n",
    "model = LogisticRegressionModel(input_dim, output_dim)"
   ]
  },
  {
   "cell_type": "markdown",
   "metadata": {
    "colab_type": "text",
    "id": "uTg1-NsZWWDE"
   },
   "source": [
    "When we inspect the model, we would have an input size of 784 (derived from 28 x 28) and output size of 10 (which is the number of classes we are classifying from 0 to 9)."
   ]
  },
  {
   "cell_type": "code",
   "execution_count": 102,
   "metadata": {
    "colab": {
     "base_uri": "https://localhost:8080/",
     "height": 68
    },
    "colab_type": "code",
    "execution": {
     "iopub.execute_input": "2022-03-11T00:58:45.172380Z",
     "iopub.status.busy": "2022-03-11T00:58:45.172150Z",
     "iopub.status.idle": "2022-03-11T00:58:45.176466Z",
     "shell.execute_reply": "2022-03-11T00:58:45.175821Z",
     "shell.execute_reply.started": "2022-03-11T00:58:45.172361Z"
    },
    "executionInfo": {
     "elapsed": 458,
     "status": "ok",
     "timestamp": 1584682312432,
     "user": {
      "displayName": "­김도형(대학원/일반대학원 전기전자공학과)",
      "photoUrl": "",
      "userId": "05486823788267165662"
     },
     "user_tz": -540
    },
    "id": "IDgGtxNGWWDF",
    "outputId": "6b068fe0-f291-46a8-9c07-6f89e40f62cd"
   },
   "outputs": [
    {
     "name": "stdout",
     "output_type": "stream",
     "text": [
      "LogisticRegressionModel(\n",
      "  (linear): Linear(in_features=784, out_features=10, bias=True)\n",
      ")\n"
     ]
    }
   ],
   "source": [
    "print(model)"
   ]
  },
  {
   "cell_type": "markdown",
   "metadata": {
    "colab_type": "text",
    "id": "vich-tIlWWDI"
   },
   "source": [
    "#### Logistic Regression Problems\n",
    "- Can represent **linear** functions well\n",
    "    - $ y = 2x + 3$\n",
    "    - $ y = x_1 + x_2 $\n",
    "    - $ y = x_1 + 3x_2 + 4x_3 $\n",
    "- Cannot represent **non-linear** functions\n",
    "    - $ y = 4x_1 + 2x_2^2 +3x_3^3 $\n",
    "    - $ y = x_1x_2$\n",
    "       \n",
    "### 1.2 Introducing a Non-linear Function\n",
    "\n",
    "<img src=\"https://docs.google.com/uc?export=view&id=1rAaNxqxtTLzjqfzuZ0XoR8FTC7fT0r6r\" alt=\"no_image\" style=\"width: 900px;\"/>\n",
    "\n",
    "\n",
    "### Non-linear Function In-Depth\n",
    "- Function: takes a number & perform mathematical operation\n",
    "- Common Types of Non-linearity\n",
    "    - ReLUs (Rectified Linear Units)      \n",
    "    - Sigmoid     \n",
    "    - Tanh\n",
    "\n",
    "#### Sigmoid (Logistic)\n",
    "- $\\sigma(x) = \\frac{1}{1 + e^{-x}}$\n",
    "- Input number $\\rightarrow$ [0, 1]\n",
    "    - Large negative number $\\rightarrow$ 0\n",
    "    - Large positive number $\\rightarrow$ 1\n",
    "- Cons: \n",
    "    1. Activation saturates at 0 or 1 with **gradients $\\approx$ 0**\n",
    "        - No signal to update weights $\\rightarrow$ **cannot learn**\n",
    "        - **Solution**: Have to carefully initialize weights to prevent this\n",
    "    2. Outputs not centered around 0 \n",
    "        - If output always positive $\\rightarrow$ gradients always positive or negative $\\rightarrow$ **bad for gradient updates** \n",
    "\n",
    "#### Tanh\n",
    "- $\\tanh(x) = 2 \\sigma(2x) -1$\n",
    "    - A scaled sigmoid function\n",
    "- Input number $\\rightarrow$ [-1, 1]\n",
    "- Cons: \n",
    "    1. Activation saturates at 0 or 1 with **gradients $\\approx$ 0**\n",
    "        - No signal to update weights $\\rightarrow$ **cannot learn**\n",
    "        - **Solution**: Have to carefully initialize weights to prevent this\n",
    "\n",
    " \n",
    "#### ReLUs\n",
    "- $f(x) = \\max(0, x)$\n",
    "- Pros:\n",
    "    1. Accelerates convergence $\\rightarrow$ **train faster**\n",
    "    2. **Less computationally expensive operation** compared to Sigmoid/Tanh exponentials\n",
    "- Cons:\n",
    "    1. Many ReLU units \"die\" $\\rightarrow$ **gradients = 0** forever\n",
    "        - **Solution**: careful learning rate choice\n",
    "      \n"
   ]
  },
  {
   "cell_type": "markdown",
   "metadata": {
    "colab_type": "text",
    "id": "DmW5-9WUWWDI"
   },
   "source": [
    "## 2. Building a Feedforward Neural Network with PyTorch\n",
    "\n",
    "### Model A: 1 Hidden Layer Feedforward Neural Network (Sigmoid Activation)\n",
    "<img src=\"https://docs.google.com/uc?export=view&id=1LMItCOS9LHqrAlsGP2a8qeGPjRAxZJ_q\" alt=\"no_image\" style=\"width: 900px;\"/>\n",
    "\n",
    "### Steps\n",
    "- Step 1: Load Dataset\n",
    "- Step 2: Make Dataset Iterable\n",
    "- Step 3: Create Model Class\n",
    "- Step 4: Instantiate Model Class\n",
    "- Step 5: Instantiate Loss Class\n",
    "- Step 6: Instantiate Optimizer Class\n",
    "- Step 7: Train Model"
   ]
  },
  {
   "cell_type": "markdown",
   "metadata": {
    "colab_type": "text",
    "id": "k0VDDfmCWWDJ"
   },
   "source": [
    "### Step 1: Loading MNIST Train Dataset\n",
    "**Images from 1 to 9**\n",
    "\n",
    "Similar to what we did in logistic regression, we will be using the same MNIST dataset where we load our training and testing datasets."
   ]
  },
  {
   "cell_type": "code",
   "execution_count": 103,
   "metadata": {
    "colab": {},
    "colab_type": "code",
    "execution": {
     "iopub.execute_input": "2022-03-11T00:58:45.177537Z",
     "iopub.status.busy": "2022-03-11T00:58:45.177273Z",
     "iopub.status.idle": "2022-03-11T00:58:45.181002Z",
     "shell.execute_reply": "2022-03-11T00:58:45.180375Z",
     "shell.execute_reply.started": "2022-03-11T00:58:45.177517Z"
    },
    "id": "LhhNZ0DrWWDK"
   },
   "outputs": [],
   "source": [
    "import torch\n",
    "import torch.nn as nn\n",
    "import torchvision.transforms as transforms\n",
    "import torchvision.datasets as dsets"
   ]
  },
  {
   "cell_type": "code",
   "execution_count": 104,
   "metadata": {
    "colab": {},
    "colab_type": "code",
    "execution": {
     "iopub.execute_input": "2022-03-11T00:58:45.182217Z",
     "iopub.status.busy": "2022-03-11T00:58:45.181913Z",
     "iopub.status.idle": "2022-03-11T00:58:45.229528Z",
     "shell.execute_reply": "2022-03-11T00:58:45.228911Z",
     "shell.execute_reply.started": "2022-03-11T00:58:45.182192Z"
    },
    "id": "-QD5yoluWWDL"
   },
   "outputs": [],
   "source": [
    "train_dataset = dsets.MNIST(root='../dataset/lab02/MNIST/', \n",
    "                            train=True, \n",
    "                            transform=transforms.ToTensor(),\n",
    "                            download=True)\n",
    "\n",
    "test_dataset = dsets.MNIST(root='../dataset/lab02/MNIST/', \n",
    "                           train=False, \n",
    "                           transform=transforms.ToTensor())"
   ]
  },
  {
   "cell_type": "markdown",
   "metadata": {
    "colab_type": "text",
    "id": "LryQVhbxWWDM"
   },
   "source": [
    "### Step 2: Make Dataset Iterable"
   ]
  },
  {
   "cell_type": "markdown",
   "metadata": {
    "colab_type": "text",
    "id": "khgO1Z_CWWDM"
   },
   "source": [
    "**Batch sizes and iterations**\n",
    "\n",
    "Because we have 60000 training samples (images), we need to split them up to small groups (batches) and pass these batches of samples to our feedforward neural network subsesquently.\n",
    "\n",
    "There are a few reasons why we split them into batches. Passing your whole dataset as a single batch would:\n",
    "\n",
    "(1) require a lot of RAM/VRAM on your CPU/GPU and this might result in Out-of-Memory (OOM) errors.\n",
    "\n",
    "(2) cause unstable training if you just use all the errors accumulated in 60,000 images to update the model rather than gradually update the model. In layman terms, imagine you accumulated errors for a student taking an exam with 60,000 questions and punish the student all at the same time. It is much harder for the student to learn compared to letting the student learn it made mistakes and did well in smaller batches of questions like mini-tests!\n",
    "\n",
    "If we have 60,000 images and we want a batch size of 100, then we would have 600 iterations where each iteration involves passing 100 images to the model and getting their respective predictions."
   ]
  },
  {
   "cell_type": "code",
   "execution_count": 105,
   "metadata": {
    "colab": {
     "base_uri": "https://localhost:8080/",
     "height": 34
    },
    "colab_type": "code",
    "execution": {
     "iopub.execute_input": "2022-03-11T00:58:45.230634Z",
     "iopub.status.busy": "2022-03-11T00:58:45.230416Z",
     "iopub.status.idle": "2022-03-11T00:58:45.235028Z",
     "shell.execute_reply": "2022-03-11T00:58:45.234532Z",
     "shell.execute_reply.started": "2022-03-11T00:58:45.230614Z"
    },
    "executionInfo": {
     "elapsed": 592,
     "status": "ok",
     "timestamp": 1584682318803,
     "user": {
      "displayName": "­김도형(대학원/일반대학원 전기전자공학과)",
      "photoUrl": "",
      "userId": "05486823788267165662"
     },
     "user_tz": -540
    },
    "id": "beJpqZ2RWWDN",
    "outputId": "4ae73e4f-942f-4a49-f40c-ba48846878d8"
   },
   "outputs": [
    {
     "data": {
      "text/plain": [
       "600.0"
      ]
     },
     "execution_count": 105,
     "metadata": {},
     "output_type": "execute_result"
    }
   ],
   "source": [
    "60000 / 100"
   ]
  },
  {
   "cell_type": "markdown",
   "metadata": {
    "colab_type": "text",
    "id": "7yymPf5aWWDO"
   },
   "source": [
    "**Epochs**\n",
    "\n",
    "An epoch means that you have successfully passed the whole training set, 60,000 images, to the model. Continuing our example above, an epoch consists of 600 iterations.\n",
    "\n",
    "If we want to go through the whole dataset 5 times (5 epochs) for the model to learn, then we need 3000 iterations (600 x 5)."
   ]
  },
  {
   "cell_type": "code",
   "execution_count": 106,
   "metadata": {
    "colab": {
     "base_uri": "https://localhost:8080/",
     "height": 34
    },
    "colab_type": "code",
    "execution": {
     "iopub.execute_input": "2022-03-11T00:58:45.236024Z",
     "iopub.status.busy": "2022-03-11T00:58:45.235815Z",
     "iopub.status.idle": "2022-03-11T00:58:45.239685Z",
     "shell.execute_reply": "2022-03-11T00:58:45.239201Z",
     "shell.execute_reply.started": "2022-03-11T00:58:45.236005Z"
    },
    "executionInfo": {
     "elapsed": 625,
     "status": "ok",
     "timestamp": 1584682320494,
     "user": {
      "displayName": "­김도형(대학원/일반대학원 전기전자공학과)",
      "photoUrl": "",
      "userId": "05486823788267165662"
     },
     "user_tz": -540
    },
    "id": "RsTKW5bWWWDO",
    "outputId": "a59f16fa-49ee-4bf8-a3c0-d11a6a687754"
   },
   "outputs": [
    {
     "data": {
      "text/plain": [
       "3000"
      ]
     },
     "execution_count": 106,
     "metadata": {},
     "output_type": "execute_result"
    }
   ],
   "source": [
    "600 * 5"
   ]
  },
  {
   "cell_type": "markdown",
   "metadata": {
    "colab_type": "text",
    "id": "Bh4HgjUTWWDQ"
   },
   "source": [
    "**Bringing batch size, iterations and epochs together**\n",
    "\n",
    "As we have gone through above, we want to have 5 epochs, where each epoch would have 600 iterations and each iteration has a batch size of 100.\n",
    "\n",
    "Because we want 5 epochs, we need a total of 3000 iterations."
   ]
  },
  {
   "cell_type": "code",
   "execution_count": 107,
   "metadata": {
    "colab": {},
    "colab_type": "code",
    "execution": {
     "iopub.execute_input": "2022-03-11T00:58:45.240631Z",
     "iopub.status.busy": "2022-03-11T00:58:45.240474Z",
     "iopub.status.idle": "2022-03-11T00:58:45.247638Z",
     "shell.execute_reply": "2022-03-11T00:58:45.247083Z",
     "shell.execute_reply.started": "2022-03-11T00:58:45.240613Z"
    },
    "id": "m2PsYiMOWWDS"
   },
   "outputs": [],
   "source": [
    "batch_size = 100\n",
    "n_iters = 3000\n",
    "num_epochs = n_iters / (len(train_dataset) / batch_size)\n",
    "num_epochs = int(num_epochs)\n",
    "\n",
    "train_loader = torch.utils.data.DataLoader(dataset=train_dataset, \n",
    "                                           batch_size=batch_size, \n",
    "                                           shuffle=True)\n",
    "\n",
    "test_loader = torch.utils.data.DataLoader(dataset=test_dataset, \n",
    "                                          batch_size=batch_size, \n",
    "                                          shuffle=False)"
   ]
  },
  {
   "cell_type": "markdown",
   "metadata": {
    "colab_type": "text",
    "id": "CxCCYGHtWWDT"
   },
   "source": [
    "### Step 3: Create Model Class"
   ]
  },
  {
   "cell_type": "markdown",
   "metadata": {
    "colab_type": "text",
    "id": "eFcIf7u5WWDU"
   },
   "source": [
    "**Creating our feedforward neural network**\n",
    "\n",
    "Compared to logistic regression with only a single linear layer, we know for an FNN we need an additional linear layer and non-linear layer.\n",
    "\n",
    "This translates to just 4 more lines of code!"
   ]
  },
  {
   "cell_type": "code",
   "execution_count": 108,
   "metadata": {
    "colab": {},
    "colab_type": "code",
    "execution": {
     "iopub.execute_input": "2022-03-11T00:58:45.248706Z",
     "iopub.status.busy": "2022-03-11T00:58:45.248486Z",
     "iopub.status.idle": "2022-03-11T00:58:45.253606Z",
     "shell.execute_reply": "2022-03-11T00:58:45.252957Z",
     "shell.execute_reply.started": "2022-03-11T00:58:45.248686Z"
    },
    "id": "r3f6CY0xWWDU"
   },
   "outputs": [],
   "source": [
    "class FeedforwardNeuralNetModel(nn.Module):\n",
    "    def __init__(self, input_dim, hidden_dim, output_dim):\n",
    "        super(FeedforwardNeuralNetModel, self).__init__()\n",
    "        # Linear function\n",
    "        self.fc1 = nn.Linear(input_dim, hidden_dim) \n",
    "\n",
    "        # Non-linearity\n",
    "        self.sigmoid = nn.Sigmoid()\n",
    "\n",
    "        # Linear function (readout)\n",
    "        self.fc2 = nn.Linear(hidden_dim, output_dim)  \n",
    "\n",
    "    def forward(self, x):\n",
    "        # Linear function  # LINEAR\n",
    "        out = self.fc1(x)\n",
    "\n",
    "        # Non-linearity  # NON-LINEAR\n",
    "        out = self.sigmoid(out)\n",
    "\n",
    "        # Linear function (readout)  # LINEAR\n",
    "        out = self.fc2(out)\n",
    "        return out"
   ]
  },
  {
   "cell_type": "markdown",
   "metadata": {
    "colab_type": "text",
    "id": "Yyvz4tK8WWDW"
   },
   "source": [
    "### Step 4: Instantiate Model Class\n",
    "\n",
    "- **Input** dimension: **784** \n",
    "    - Size of image\n",
    "    - $28 \\times 28 = 784$\n",
    "- **Output** dimension: **10**\n",
    "    - 0, 1, 2, 3, 4, 5, 6, 7, 8, 9\n",
    "- **Hidden** dimension: **100**\n",
    "    - Can be any number\n",
    "    - Similar term\n",
    "        - Number of neurons\n",
    "        - Number of non-linear activation functions\n"
   ]
  },
  {
   "cell_type": "markdown",
   "metadata": {
    "colab_type": "text",
    "id": "ZFn1RPcsWWDW"
   },
   "source": [
    "**Instantiating our model class**\n",
    "\n",
    "Our input size is determined by the size of the image (numbers ranging from 0 to 9) which has a width of 28 pixels and a height of 28 pixels. Hence the size of our input is 784 (28 x 28).\n",
    "\n",
    "Our output size is what we are trying to predict. When we pass an image to our model, it will try to predict if it's 0, 1, 2, 3, 4, 5, 6, 7, 8, or 9. That is a total of 10 classes, hence we have an output size of 10.\n",
    "\n",
    "Now the tricky part is in determining our hidden layer size, that is the size of our first linear layer prior to the non-linear layer. This can be any number, a larger number implies a bigger model with more parameters. Intuitively we think a bigger model equates to a better model, but a bigger model requires more training samples to learn and converge to a good model (also called curse of dimensionality). Hence, it is wise to pick the model size for the problem at hand. Because it is a simple problem of recognizing digits, we typically would not need a big model to achieve state-of-the-art results.\n",
    "\n",
    "On the flipside, too small of a hidden size would mean there would be insufficient model capacity to predict competently. In layman terms, too small of a capacity implies a smaller brain capacity so no matter how many training samples you give it, it has a maximum capacity in terms of its predictive power."
   ]
  },
  {
   "cell_type": "code",
   "execution_count": 109,
   "metadata": {
    "colab": {},
    "colab_type": "code",
    "execution": {
     "iopub.execute_input": "2022-03-11T00:58:45.254604Z",
     "iopub.status.busy": "2022-03-11T00:58:45.254391Z",
     "iopub.status.idle": "2022-03-11T00:58:45.258506Z",
     "shell.execute_reply": "2022-03-11T00:58:45.257854Z",
     "shell.execute_reply.started": "2022-03-11T00:58:45.254587Z"
    },
    "id": "Yw-g7gwJWWDW"
   },
   "outputs": [],
   "source": [
    "input_dim = 28*28\n",
    "hidden_dim = 100\n",
    "output_dim = 10\n",
    "\n",
    "model = FeedforwardNeuralNetModel(input_dim, hidden_dim, output_dim)"
   ]
  },
  {
   "cell_type": "markdown",
   "metadata": {
    "colab_type": "text",
    "id": "FOoZ3_KVWWDY"
   },
   "source": [
    "### Step 5: Instantiate Loss Class\n",
    "\n",
    "- Feedforward Neural Network: **Cross Entropy Loss**\n",
    "    - _Logistic Regression_: **Cross Entropy Loss**\n",
    "    - _Linear Regression_: **MSE**"
   ]
  },
  {
   "cell_type": "markdown",
   "metadata": {
    "colab_type": "text",
    "id": "f3xcW2DvWWDY"
   },
   "source": [
    "**Loss class**\n",
    "\n",
    "This is exactly the same as what we did in logistic regression. Because we are going through a classification problem, cross entropy function is required to compute the loss between our softmax outputs and our binary labels."
   ]
  },
  {
   "cell_type": "code",
   "execution_count": 110,
   "metadata": {
    "colab": {},
    "colab_type": "code",
    "execution": {
     "iopub.execute_input": "2022-03-11T00:58:45.259461Z",
     "iopub.status.busy": "2022-03-11T00:58:45.259247Z",
     "iopub.status.idle": "2022-03-11T00:58:45.262663Z",
     "shell.execute_reply": "2022-03-11T00:58:45.262035Z",
     "shell.execute_reply.started": "2022-03-11T00:58:45.259444Z"
    },
    "id": "mtt_y1QLWWDY"
   },
   "outputs": [],
   "source": [
    "criterion = nn.CrossEntropyLoss()"
   ]
  },
  {
   "cell_type": "markdown",
   "metadata": {
    "colab_type": "text",
    "id": "px7GVkRhWWDZ"
   },
   "source": [
    "### Step 6: Instantiate Optimizer Class\n",
    "- Simplified equation\n",
    "    - $\\theta = \\theta - \\eta \\cdot \\nabla_\\theta$\n",
    "        - $\\theta$: parameters (our tensors with gradient accumulation capabilities)\n",
    "        - $\\eta$: learning rate (how fast we want to learn)\n",
    "        - $\\nabla_\\theta$: parameters' gradients\n",
    "- Even simplier equation\n",
    "    - `parameters = parameters - learning_rate * parameters_gradients`\n",
    "    - **At every iteration, we update our model's parameters**"
   ]
  },
  {
   "cell_type": "markdown",
   "metadata": {
    "colab_type": "text",
    "id": "0ZMMT9prWWDa"
   },
   "source": [
    "**Optimizer class**\n",
    "\n",
    "Learning rate determines how fast the algorithm learns. Too small and the algorithm learns too slowly, too large and the algorithm learns too fast resulting in instabilities.\n",
    "\n",
    "Intuitively, we would think a larger learning rate would be better because we learn faster. But that's not true. Imagine we pass 10 images to a human to learn how to recognize whether the image is a hot dog or not, and it got half right and half wrong.\n",
    "\n",
    "A well defined learning rate (neither too small or large) is equivalent to rewarding the human with a sweet for getting the first half right, and punishing the other half the human got wrong with a smack on the palm.\n",
    "\n",
    "A large learning rate would be equivalent to feeding a thousand sweets to the human and smacking a thousand times on the human's palm. This would lead in a very unstable learning environment. Similarly, we will observe that the algorithm's convergence path will be extremely unstable if you use a large learning rate without reducing it subsequently.\n",
    "\n",
    "We are using an optimization algorithm called Stochastic Gradient Descent (SGD) which is essentially what we covered above on calculating the parameters' gradients multiplied by the learning rate then using it to update our parameters gradually. There's an in-depth analysis of various optimization algorithms on top of SGD in another section."
   ]
  },
  {
   "cell_type": "code",
   "execution_count": 111,
   "metadata": {
    "colab": {},
    "colab_type": "code",
    "execution": {
     "iopub.execute_input": "2022-03-11T00:58:45.263623Z",
     "iopub.status.busy": "2022-03-11T00:58:45.263411Z",
     "iopub.status.idle": "2022-03-11T00:58:45.266949Z",
     "shell.execute_reply": "2022-03-11T00:58:45.266342Z",
     "shell.execute_reply.started": "2022-03-11T00:58:45.263606Z"
    },
    "id": "lwjfSlUkWWDa"
   },
   "outputs": [],
   "source": [
    "learning_rate = 0.1\n",
    "\n",
    "optimizer = torch.optim.SGD(model.parameters(), lr=learning_rate)  "
   ]
  },
  {
   "cell_type": "markdown",
   "metadata": {
    "colab_type": "text",
    "id": "A3fJTmfmWWDb"
   },
   "source": [
    "### Parameters In-Depth"
   ]
  },
  {
   "cell_type": "markdown",
   "metadata": {
    "colab_type": "text",
    "id": "x8NPApjrWWDb"
   },
   "source": [
    "**Linear layers' parameters**\n",
    "\n",
    "In a simple linear layer it's $Y = AX + B$, and our parameters are $A$ and bias $B$. \n",
    "    \n",
    "Hence, each linear layer would have 2 groups of parameters  $A$ and $B$. It is critical to take note that our non-linear layers have no parameters to update. They are merely mathematical functions performed on $Y$, the output of our linear layers.\n",
    "    \n",
    "This would return a Python generator object, so you need to call list on the generator object to access anything meaningful."
   ]
  },
  {
   "cell_type": "code",
   "execution_count": 112,
   "metadata": {
    "colab": {
     "base_uri": "https://localhost:8080/",
     "height": 34
    },
    "colab_type": "code",
    "execution": {
     "iopub.execute_input": "2022-03-11T00:58:45.267916Z",
     "iopub.status.busy": "2022-03-11T00:58:45.267714Z",
     "iopub.status.idle": "2022-03-11T00:58:45.271636Z",
     "shell.execute_reply": "2022-03-11T00:58:45.271012Z",
     "shell.execute_reply.started": "2022-03-11T00:58:45.267901Z"
    },
    "executionInfo": {
     "elapsed": 869,
     "status": "ok",
     "timestamp": 1584682329264,
     "user": {
      "displayName": "­김도형(대학원/일반대학원 전기전자공학과)",
      "photoUrl": "",
      "userId": "05486823788267165662"
     },
     "user_tz": -540
    },
    "id": "uHBjjqZJWWDc",
    "outputId": "23f88600-7b1c-409a-8352-c68ec1ba3ff9"
   },
   "outputs": [
    {
     "name": "stdout",
     "output_type": "stream",
     "text": [
      "<generator object Module.parameters at 0x7fad0ae73c80>\n"
     ]
    }
   ],
   "source": [
    "print(model.parameters())"
   ]
  },
  {
   "cell_type": "markdown",
   "metadata": {
    "colab_type": "text",
    "id": "RwHuv_etWWDd"
   },
   "source": [
    "Here we call list on the generator object and getting the length of the list. This would return 4 because we've 2 linear layers, and each layer has 2 groups of parameters $A$ and $b$."
   ]
  },
  {
   "cell_type": "code",
   "execution_count": 113,
   "metadata": {
    "colab": {
     "base_uri": "https://localhost:8080/",
     "height": 34
    },
    "colab_type": "code",
    "execution": {
     "iopub.execute_input": "2022-03-11T00:58:45.272558Z",
     "iopub.status.busy": "2022-03-11T00:58:45.272354Z",
     "iopub.status.idle": "2022-03-11T00:58:45.276307Z",
     "shell.execute_reply": "2022-03-11T00:58:45.275670Z",
     "shell.execute_reply.started": "2022-03-11T00:58:45.272542Z"
    },
    "executionInfo": {
     "elapsed": 716,
     "status": "ok",
     "timestamp": 1584682330155,
     "user": {
      "displayName": "­김도형(대학원/일반대학원 전기전자공학과)",
      "photoUrl": "",
      "userId": "05486823788267165662"
     },
     "user_tz": -540
    },
    "id": "78kJAsHPWWDd",
    "outputId": "45a9fba0-3ded-4dc4-acb8-1c02ef545cec"
   },
   "outputs": [
    {
     "name": "stdout",
     "output_type": "stream",
     "text": [
      "4\n"
     ]
    }
   ],
   "source": [
    "print(len(list(model.parameters())))"
   ]
  },
  {
   "cell_type": "markdown",
   "metadata": {
    "colab_type": "text",
    "id": "RSFFKhsvWWDg"
   },
   "source": [
    "Our first linear layer parameters, $A_1$, would be of size 100 x 784. This is because we've an input size of 784 (28 x 28) and a hidden size of 100."
   ]
  },
  {
   "cell_type": "code",
   "execution_count": 114,
   "metadata": {
    "colab": {
     "base_uri": "https://localhost:8080/",
     "height": 34
    },
    "colab_type": "code",
    "execution": {
     "iopub.execute_input": "2022-03-11T00:58:45.277471Z",
     "iopub.status.busy": "2022-03-11T00:58:45.277186Z",
     "iopub.status.idle": "2022-03-11T00:58:45.281492Z",
     "shell.execute_reply": "2022-03-11T00:58:45.280898Z",
     "shell.execute_reply.started": "2022-03-11T00:58:45.277448Z"
    },
    "executionInfo": {
     "elapsed": 412,
     "status": "ok",
     "timestamp": 1584682331136,
     "user": {
      "displayName": "­김도형(대학원/일반대학원 전기전자공학과)",
      "photoUrl": "",
      "userId": "05486823788267165662"
     },
     "user_tz": -540
    },
    "id": "e4mxU_ReWWDg",
    "outputId": "a4958013-3b66-4d71-a640-a8a836d41575"
   },
   "outputs": [
    {
     "name": "stdout",
     "output_type": "stream",
     "text": [
      "torch.Size([100, 784])\n"
     ]
    }
   ],
   "source": [
    "# FC 1 Parameters \n",
    "print(list(model.parameters())[0].size())"
   ]
  },
  {
   "cell_type": "markdown",
   "metadata": {
    "colab_type": "text",
    "id": "GMCPyKtcWWDh"
   },
   "source": [
    "Our first linear layer bias parameters, $B_1$, would be of size 100 which is our hidden size."
   ]
  },
  {
   "cell_type": "code",
   "execution_count": 115,
   "metadata": {
    "colab": {
     "base_uri": "https://localhost:8080/",
     "height": 34
    },
    "colab_type": "code",
    "execution": {
     "iopub.execute_input": "2022-03-11T00:58:45.282554Z",
     "iopub.status.busy": "2022-03-11T00:58:45.282320Z",
     "iopub.status.idle": "2022-03-11T00:58:45.286888Z",
     "shell.execute_reply": "2022-03-11T00:58:45.286248Z",
     "shell.execute_reply.started": "2022-03-11T00:58:45.282534Z"
    },
    "executionInfo": {
     "elapsed": 561,
     "status": "ok",
     "timestamp": 1584682332527,
     "user": {
      "displayName": "­김도형(대학원/일반대학원 전기전자공학과)",
      "photoUrl": "",
      "userId": "05486823788267165662"
     },
     "user_tz": -540
    },
    "id": "AVWDQWVGWWDi",
    "outputId": "2e9d055f-2a85-4d25-ab74-8358e0759210"
   },
   "outputs": [
    {
     "name": "stdout",
     "output_type": "stream",
     "text": [
      "torch.Size([100])\n"
     ]
    }
   ],
   "source": [
    "# FC 1 Bias Parameters\n",
    "print(list(model.parameters())[1].size())"
   ]
  },
  {
   "cell_type": "markdown",
   "metadata": {
    "colab_type": "text",
    "id": "Q6Odqu-1WWDj"
   },
   "source": [
    "Our second linear layer is our readout layer, where the parameters $A_2$ would be of size 10 x 100. This is because our output size is 10 and hidden size is 100."
   ]
  },
  {
   "cell_type": "code",
   "execution_count": 116,
   "metadata": {
    "colab": {
     "base_uri": "https://localhost:8080/",
     "height": 34
    },
    "colab_type": "code",
    "execution": {
     "iopub.execute_input": "2022-03-11T00:58:45.287839Z",
     "iopub.status.busy": "2022-03-11T00:58:45.287626Z",
     "iopub.status.idle": "2022-03-11T00:58:45.291630Z",
     "shell.execute_reply": "2022-03-11T00:58:45.291005Z",
     "shell.execute_reply.started": "2022-03-11T00:58:45.287822Z"
    },
    "executionInfo": {
     "elapsed": 682,
     "status": "ok",
     "timestamp": 1584682333915,
     "user": {
      "displayName": "­김도형(대학원/일반대학원 전기전자공학과)",
      "photoUrl": "",
      "userId": "05486823788267165662"
     },
     "user_tz": -540
    },
    "id": "XrdPX0_uWWDj",
    "outputId": "05f0c2af-be4a-4f30-be0e-e8d1cb6e981b"
   },
   "outputs": [
    {
     "name": "stdout",
     "output_type": "stream",
     "text": [
      "torch.Size([10, 100])\n"
     ]
    }
   ],
   "source": [
    "# FC 2 Parameters\n",
    "print(list(model.parameters())[2].size())"
   ]
  },
  {
   "cell_type": "markdown",
   "metadata": {
    "colab_type": "text",
    "id": "eDEtBaWbWWDl"
   },
   "source": [
    "Likewise our readout layer's bias $B_1$ would just be 10, the size of our output."
   ]
  },
  {
   "cell_type": "code",
   "execution_count": 117,
   "metadata": {
    "colab": {
     "base_uri": "https://localhost:8080/",
     "height": 34
    },
    "colab_type": "code",
    "execution": {
     "iopub.execute_input": "2022-03-11T00:58:45.292606Z",
     "iopub.status.busy": "2022-03-11T00:58:45.292363Z",
     "iopub.status.idle": "2022-03-11T00:58:45.296452Z",
     "shell.execute_reply": "2022-03-11T00:58:45.295854Z",
     "shell.execute_reply.started": "2022-03-11T00:58:45.292589Z"
    },
    "executionInfo": {
     "elapsed": 482,
     "status": "ok",
     "timestamp": 1584682334877,
     "user": {
      "displayName": "­김도형(대학원/일반대학원 전기전자공학과)",
      "photoUrl": "",
      "userId": "05486823788267165662"
     },
     "user_tz": -540
    },
    "id": "BdUyvjqfWWDl",
    "outputId": "3072b75c-25f5-412b-f610-cd7c5458c98e"
   },
   "outputs": [
    {
     "name": "stdout",
     "output_type": "stream",
     "text": [
      "torch.Size([10])\n"
     ]
    }
   ],
   "source": [
    "# FC 2 Bias Parameters\n",
    "print(list(model.parameters())[3].size())"
   ]
  },
  {
   "cell_type": "markdown",
   "metadata": {
    "colab_type": "text",
    "id": "7_guQsTxWWDm"
   },
   "source": [
    "The diagram below shows the interaction amongst our input $X$ and our linear layers' parameters $A_1$, $B_1$, $A_2$, and $B_2$ to reach to the final size of 10 x 1."
   ]
  },
  {
   "cell_type": "markdown",
   "metadata": {
    "colab_type": "text",
    "id": "m1_-xkbTWWDn"
   },
   "source": [
    "<img src=\"https://docs.google.com/uc?export=view&id=1WpJkXR6-3rZ3r4WaqZEBwqcAd5Wg0yGJ\" alt=\"no_image\" style=\"width: 900px;\"/>"
   ]
  },
  {
   "cell_type": "markdown",
   "metadata": {
    "colab_type": "text",
    "id": "9qFfv343WWDn"
   },
   "source": [
    "### Step 7: Train Model\n",
    "- Process \n",
    "    1. Convert inputs to tensors with gradient accumulation capabilities\n",
    "    2. Clear gradient buffers\n",
    "    3. Get output given inputs \n",
    "    4. Get loss\n",
    "    5. Get gradients w.r.t. parameters\n",
    "    6. Update parameters using gradients\n",
    "        - `parameters = parameters - learning_rate * parameters_gradients`\n",
    "    7. REPEAT"
   ]
  },
  {
   "cell_type": "markdown",
   "metadata": {
    "colab_type": "text",
    "id": "2MUhs9zXWWDn"
   },
   "source": [
    "**7-step training process**"
   ]
  },
  {
   "cell_type": "code",
   "execution_count": 118,
   "metadata": {
    "colab": {
     "base_uri": "https://localhost:8080/",
     "height": 119
    },
    "colab_type": "code",
    "execution": {
     "iopub.execute_input": "2022-03-11T00:58:45.297455Z",
     "iopub.status.busy": "2022-03-11T00:58:45.297216Z",
     "iopub.status.idle": "2022-03-11T01:01:48.338041Z",
     "shell.execute_reply": "2022-03-11T01:01:48.336990Z",
     "shell.execute_reply.started": "2022-03-11T00:58:45.297439Z"
    },
    "executionInfo": {
     "elapsed": 30557,
     "status": "ok",
     "timestamp": 1584682367014,
     "user": {
      "displayName": "­김도형(대학원/일반대학원 전기전자공학과)",
      "photoUrl": "",
      "userId": "05486823788267165662"
     },
     "user_tz": -540
    },
    "id": "G8YYhbWcWWDo",
    "outputId": "2a6cd6b5-e40b-4aee-a916-9e3607581fae",
    "tags": []
   },
   "outputs": [
    {
     "name": "stdout",
     "output_type": "stream",
     "text": [
      "Iteration: 500. Loss: 0.5827750563621521. Accuracy: 85.77\n",
      "Iteration: 1000. Loss: 0.45036911964416504. Accuracy: 89.41\n",
      "Iteration: 1500. Loss: 0.3989488482475281. Accuracy: 90.61\n",
      "Iteration: 2000. Loss: 0.514718234539032. Accuracy: 91.1\n",
      "Iteration: 2500. Loss: 0.43344202637672424. Accuracy: 91.57\n",
      "Iteration: 3000. Loss: 0.37849628925323486. Accuracy: 92.01\n"
     ]
    }
   ],
   "source": [
    "iter = 0\n",
    "for epoch in range(num_epochs):\n",
    "    for i, (images, labels) in enumerate(train_loader):\n",
    "        # Load images with gradient accumulation capabilities\n",
    "        images = images.view(-1, 28*28)\n",
    "\n",
    "        # Clear gradients w.r.t. parameters\n",
    "        optimizer.zero_grad()\n",
    "\n",
    "        # Forward pass to get output/logits\n",
    "        outputs = model(images)\n",
    "\n",
    "        # Calculate Loss: softmax --> cross entropy loss\n",
    "        loss = criterion(outputs, labels)\n",
    "\n",
    "        # Getting gradients w.r.t. parameters\n",
    "        loss.backward()\n",
    "\n",
    "        # Updating parameters\n",
    "        optimizer.step()\n",
    "\n",
    "        iter += 1\n",
    "\n",
    "        if iter % 500 == 0:\n",
    "            # Calculate Accuracy         \n",
    "            correct = 0\n",
    "            total = 0\n",
    "            # Iterate through test dataset\n",
    "            for images, labels in test_loader:\n",
    "                # Load images with gradient accumulation capabilities\n",
    "                images = images.view(-1, 28*28)\n",
    "\n",
    "                # Forward pass only to get logits/output\n",
    "                outputs = model(images)\n",
    "\n",
    "                # Get predictions from the maximum value\n",
    "                _, predicted = torch.max(outputs.data, 1)\n",
    "\n",
    "                # Total number of labels\n",
    "                total += labels.size(0)\n",
    "\n",
    "                # Total correct predictions\n",
    "                correct += (predicted == labels).sum()\n",
    "\n",
    "            accuracy = 100 * correct.item() / total\n",
    "\n",
    "            # Print Loss\n",
    "            print('Iteration: {}. Loss: {}. Accuracy: {}'.format(iter, loss.item(), accuracy))"
   ]
  },
  {
   "cell_type": "markdown",
   "metadata": {
    "colab_type": "text",
    "id": "X1bp7zpuWWDp"
   },
   "source": [
    "### Model B: 1 Hidden Layer Feedforward Neural Network (Tanh Activation)\n",
    "<img src=\"https://docs.google.com/uc?export=view&id=1LMItCOS9LHqrAlsGP2a8qeGPjRAxZJ_q\" alt=\"no_image\" style=\"width: 900px;\"/>\n",
    "### Steps\n",
    "- Step 1: Load Dataset\n",
    "- Step 2: Make Dataset Iterable\n",
    "- **Step 3: Create Model Class**\n",
    "- Step 4: Instantiate Model Class\n",
    "- Step 5: Instantiate Loss Class\n",
    "- Step 6: Instantiate Optimizer Class\n",
    "- Step 7: Train Model"
   ]
  },
  {
   "cell_type": "markdown",
   "metadata": {
    "colab_type": "text",
    "id": "psCvqWPYWWDr"
   },
   "source": [
    "**1-layer FNN with Tanh Activation**\n",
    "\n",
    "The only difference here compared to previously is that we are using Tanh activation instead of Sigmoid activation. This affects step 3."
   ]
  },
  {
   "cell_type": "code",
   "execution_count": 119,
   "metadata": {
    "colab": {
     "base_uri": "https://localhost:8080/",
     "height": 119
    },
    "colab_type": "code",
    "execution": {
     "iopub.execute_input": "2022-03-11T01:01:48.340806Z",
     "iopub.status.busy": "2022-03-11T01:01:48.340458Z",
     "iopub.status.idle": "2022-03-11T01:04:51.050925Z",
     "shell.execute_reply": "2022-03-11T01:04:51.048501Z",
     "shell.execute_reply.started": "2022-03-11T01:01:48.340764Z"
    },
    "executionInfo": {
     "elapsed": 31394,
     "status": "ok",
     "timestamp": 1584682399293,
     "user": {
      "displayName": "­김도형(대학원/일반대학원 전기전자공학과)",
      "photoUrl": "",
      "userId": "05486823788267165662"
     },
     "user_tz": -540
    },
    "id": "i_L_f5v0WWDr",
    "outputId": "55cf5537-486b-4478-d2c9-7c7cda063dfa"
   },
   "outputs": [
    {
     "name": "stdout",
     "output_type": "stream",
     "text": [
      "Iteration: 500. Loss: 0.3563190698623657. Accuracy: 91.14\n",
      "Iteration: 1000. Loss: 0.425545334815979. Accuracy: 92.67\n",
      "Iteration: 1500. Loss: 0.3527510464191437. Accuracy: 93.42\n",
      "Iteration: 2000. Loss: 0.23388509452342987. Accuracy: 94.11\n",
      "Iteration: 2500. Loss: 0.08867526799440384. Accuracy: 94.49\n",
      "Iteration: 3000. Loss: 0.23097215592861176. Accuracy: 95.06\n"
     ]
    }
   ],
   "source": [
    "import torch\n",
    "import torch.nn as nn\n",
    "import torchvision.transforms as transforms\n",
    "import torchvision.datasets as dsets\n",
    "\n",
    "'''\n",
    "STEP 1: LOADING DATASET\n",
    "'''\n",
    "\n",
    "train_dataset = dsets.MNIST(root='../dataset/lab02/MNIST/', \n",
    "                            train=True, \n",
    "                            transform=transforms.ToTensor(),\n",
    "                            download=True)\n",
    "\n",
    "test_dataset = dsets.MNIST(root='../dataset/lab02/MNIST/', \n",
    "                           train=False, \n",
    "                           transform=transforms.ToTensor())\n",
    "\n",
    "'''\n",
    "STEP 2: MAKING DATASET ITERABLE\n",
    "'''\n",
    "\n",
    "batch_size = 100\n",
    "n_iters = 3000\n",
    "num_epochs = n_iters / (len(train_dataset) / batch_size)\n",
    "num_epochs = int(num_epochs)\n",
    "\n",
    "train_loader = torch.utils.data.DataLoader(dataset=train_dataset, \n",
    "                                           batch_size=batch_size, \n",
    "                                           shuffle=True)\n",
    "\n",
    "test_loader = torch.utils.data.DataLoader(dataset=test_dataset, \n",
    "                                          batch_size=batch_size, \n",
    "                                          shuffle=False)\n",
    "\n",
    "'''\n",
    "STEP 3: CREATE MODEL CLASS\n",
    "'''\n",
    "class FeedforwardNeuralNetModel(nn.Module):\n",
    "    def __init__(self, input_dim, hidden_dim, output_dim):\n",
    "        super(FeedforwardNeuralNetModel, self).__init__()\n",
    "        # Linear function\n",
    "        self.fc1 = nn.Linear(input_dim, hidden_dim) \n",
    "        # Non-linearity\n",
    "        self.tanh = nn.Tanh()\n",
    "        # Linear function (readout)\n",
    "        self.fc2 = nn.Linear(hidden_dim, output_dim)  \n",
    "\n",
    "    def forward(self, x):\n",
    "        # Linear function\n",
    "        out = self.fc1(x)\n",
    "        # Non-linearity\n",
    "        out = self.tanh(out)\n",
    "        # Linear function (readout)\n",
    "        out = self.fc2(out)\n",
    "        return out\n",
    "'''\n",
    "STEP 4: INSTANTIATE MODEL CLASS\n",
    "'''\n",
    "input_dim = 28*28\n",
    "hidden_dim = 100\n",
    "output_dim = 10\n",
    "\n",
    "model = FeedforwardNeuralNetModel(input_dim, hidden_dim, output_dim)\n",
    "\n",
    "'''\n",
    "STEP 5: INSTANTIATE LOSS CLASS\n",
    "'''\n",
    "criterion = nn.CrossEntropyLoss()\n",
    "\n",
    "'''\n",
    "STEP 6: INSTANTIATE OPTIMIZER CLASS\n",
    "'''\n",
    "learning_rate = 0.1\n",
    "\n",
    "optimizer = torch.optim.SGD(model.parameters(), lr=learning_rate)\n",
    "\n",
    "'''\n",
    "STEP 7: TRAIN THE MODEL\n",
    "'''\n",
    "iter = 0\n",
    "for epoch in range(num_epochs):\n",
    "    for i, (images, labels) in enumerate(train_loader):\n",
    "        # Load images with gradient accumulation capabilities\n",
    "        images = images.view(-1, 28*28)\n",
    "\n",
    "        # Clear gradients w.r.t. parameters\n",
    "        optimizer.zero_grad()\n",
    "\n",
    "        # Forward pass to get output/logits\n",
    "        outputs = model(images)\n",
    "\n",
    "        # Calculate Loss: softmax --> cross entropy loss\n",
    "        loss = criterion(outputs, labels)\n",
    "\n",
    "        # Getting gradients w.r.t. parameters\n",
    "        loss.backward()\n",
    "\n",
    "        # Updating parameters\n",
    "        optimizer.step()\n",
    "\n",
    "        iter += 1\n",
    "\n",
    "        if iter % 500 == 0:\n",
    "            # Calculate Accuracy         \n",
    "            correct = 0\n",
    "            total = 0\n",
    "            # Iterate through test dataset\n",
    "            for images, labels in test_loader:\n",
    "                # Load images with gradient accumulation capabilities\n",
    "                images = images.view(-1, 28*28)\n",
    "\n",
    "                # Forward pass only to get logits/output\n",
    "                outputs = model(images)\n",
    "\n",
    "                # Get predictions from the maximum value\n",
    "                _, predicted = torch.max(outputs.data, 1)\n",
    "\n",
    "                # Total number of labels\n",
    "                total += labels.size(0)\n",
    "\n",
    "                # Total correct predictions\n",
    "                correct += (predicted == labels).sum()\n",
    "\n",
    "            accuracy = 100 * correct.item() / total\n",
    "\n",
    "            # Print Loss\n",
    "            print('Iteration: {}. Loss: {}. Accuracy: {}'.format(iter, loss.item(), accuracy))"
   ]
  },
  {
   "cell_type": "markdown",
   "metadata": {
    "colab_type": "text",
    "id": "RxdUJ9OjWWDt"
   },
   "source": [
    "### Model C: 1 Hidden Layer Feedforward Neural Network (ReLU Activation)\n",
    "<img src=\"https://docs.google.com/uc?export=view&id=1LMItCOS9LHqrAlsGP2a8qeGPjRAxZJ_q\" alt=\"no_image\" style=\"width: 900px;\"/>\n",
    "\n",
    "### Steps\n",
    "- Step 1: Load Dataset\n",
    "- Step 2: Make Dataset Iterable\n",
    "- **Step 3: Create Model Class**\n",
    "- Step 4: Instantiate Model Class\n",
    "- Step 5: Instantiate Loss Class\n",
    "- Step 6: Instantiate Optimizer Class\n",
    "- Step 7: Train Model"
   ]
  },
  {
   "cell_type": "markdown",
   "metadata": {
    "colab_type": "text",
    "id": "degqCsyqWWDu"
   },
   "source": [
    "**1-layer FNN with ReLU Activation**\n",
    "\n",
    "The only difference again is in using ReLU activation and it affects step 3."
   ]
  },
  {
   "cell_type": "code",
   "execution_count": 120,
   "metadata": {
    "colab": {
     "base_uri": "https://localhost:8080/",
     "height": 119
    },
    "colab_type": "code",
    "execution": {
     "iopub.execute_input": "2022-03-11T01:04:51.056568Z",
     "iopub.status.busy": "2022-03-11T01:04:51.056008Z",
     "iopub.status.idle": "2022-03-11T01:07:51.439145Z",
     "shell.execute_reply": "2022-03-11T01:07:51.437512Z",
     "shell.execute_reply.started": "2022-03-11T01:04:51.056506Z"
    },
    "executionInfo": {
     "elapsed": 57646,
     "status": "ok",
     "timestamp": 1584682429348,
     "user": {
      "displayName": "­김도형(대학원/일반대학원 전기전자공학과)",
      "photoUrl": "",
      "userId": "05486823788267165662"
     },
     "user_tz": -540
    },
    "id": "zgqVzDt2WWDu",
    "outputId": "7e00e440-f3ab-4f3c-f576-c73870d6fb70"
   },
   "outputs": [
    {
     "name": "stdout",
     "output_type": "stream",
     "text": [
      "Iteration: 500. Loss: 0.3762722909450531. Accuracy: 91.15\n",
      "Iteration: 1000. Loss: 0.16655892133712769. Accuracy: 93.1\n",
      "Iteration: 1500. Loss: 0.24463529884815216. Accuracy: 94.09\n",
      "Iteration: 2000. Loss: 0.1433888077735901. Accuracy: 94.65\n",
      "Iteration: 2500. Loss: 0.09475843608379364. Accuracy: 95.34\n",
      "Iteration: 3000. Loss: 0.20923900604248047. Accuracy: 95.74\n"
     ]
    }
   ],
   "source": [
    "import torch\n",
    "import torch.nn as nn\n",
    "import torchvision.transforms as transforms\n",
    "import torchvision.datasets as dsets\n",
    "\n",
    "'''\n",
    "STEP 1: LOADING DATASET\n",
    "'''\n",
    "\n",
    "train_dataset = dsets.MNIST(root='../dataset/lab02/MNIST/', \n",
    "                            train=True, \n",
    "                            transform=transforms.ToTensor(),\n",
    "                            download=True)\n",
    "\n",
    "test_dataset = dsets.MNIST(root='../dataset/lab02/MNIST/', \n",
    "                           train=False, \n",
    "                           transform=transforms.ToTensor())\n",
    "\n",
    "'''\n",
    "STEP 2: MAKING DATASET ITERABLE\n",
    "'''\n",
    "\n",
    "batch_size = 100\n",
    "n_iters = 3000\n",
    "num_epochs = n_iters / (len(train_dataset) / batch_size)\n",
    "num_epochs = int(num_epochs)\n",
    "\n",
    "train_loader = torch.utils.data.DataLoader(dataset=train_dataset, \n",
    "                                           batch_size=batch_size, \n",
    "                                           shuffle=True)\n",
    "\n",
    "test_loader = torch.utils.data.DataLoader(dataset=test_dataset, \n",
    "                                          batch_size=batch_size, \n",
    "                                          shuffle=False)\n",
    "\n",
    "'''\n",
    "STEP 3: CREATE MODEL CLASS\n",
    "'''\n",
    "class FeedforwardNeuralNetModel(nn.Module):\n",
    "    def __init__(self, input_dim, hidden_dim, output_dim):\n",
    "        super(FeedforwardNeuralNetModel, self).__init__()\n",
    "        # Linear function\n",
    "        self.fc1 = nn.Linear(input_dim, hidden_dim) \n",
    "        # Non-linearity\n",
    "        self.relu = nn.ReLU()\n",
    "        # Linear function (readout)\n",
    "        self.fc2 = nn.Linear(hidden_dim, output_dim)  \n",
    "\n",
    "    def forward(self, x):\n",
    "        # Linear function\n",
    "        out = self.fc1(x)\n",
    "        # Non-linearity\n",
    "        out = self.relu(out)\n",
    "        # Linear function (readout)\n",
    "        out = self.fc2(out)\n",
    "        return out\n",
    "'''\n",
    "STEP 4: INSTANTIATE MODEL CLASS\n",
    "'''\n",
    "input_dim = 28*28\n",
    "hidden_dim = 100\n",
    "output_dim = 10\n",
    "\n",
    "model = FeedforwardNeuralNetModel(input_dim, hidden_dim, output_dim)\n",
    "\n",
    "'''\n",
    "STEP 5: INSTANTIATE LOSS CLASS\n",
    "'''\n",
    "criterion = nn.CrossEntropyLoss()\n",
    "\n",
    "\n",
    "'''\n",
    "STEP 6: INSTANTIATE OPTIMIZER CLASS\n",
    "'''\n",
    "learning_rate = 0.1\n",
    "\n",
    "optimizer = torch.optim.SGD(model.parameters(), lr=learning_rate)\n",
    "\n",
    "'''\n",
    "STEP 7: TRAIN THE MODEL\n",
    "'''\n",
    "iter = 0\n",
    "for epoch in range(num_epochs):\n",
    "    for i, (images, labels) in enumerate(train_loader):\n",
    "        # Load images with gradient accumulation capabilities\n",
    "        images = images.view(-1, 28*28)\n",
    "\n",
    "        # Clear gradients w.r.t. parameters\n",
    "        optimizer.zero_grad()\n",
    "\n",
    "        # Forward pass to get output/logits\n",
    "        outputs = model(images)\n",
    "\n",
    "        # Calculate Loss: softmax --> cross entropy loss\n",
    "        loss = criterion(outputs, labels)\n",
    "\n",
    "        # Getting gradients w.r.t. parameters\n",
    "        loss.backward()\n",
    "\n",
    "        # Updating parameters\n",
    "        optimizer.step()\n",
    "\n",
    "        iter += 1\n",
    "\n",
    "        if iter % 500 == 0:\n",
    "            # Calculate Accuracy         \n",
    "            correct = 0\n",
    "            total = 0\n",
    "            # Iterate through test dataset\n",
    "            for images, labels in test_loader:\n",
    "                # Load images with gradient accumulation capabilities\n",
    "                images = images.view(-1, 28*28)\n",
    "\n",
    "                # Forward pass only to get logits/output\n",
    "                outputs = model(images)\n",
    "\n",
    "                # Get predictions from the maximum value\n",
    "                _, predicted = torch.max(outputs.data, 1)\n",
    "\n",
    "                # Total number of labels\n",
    "                total += labels.size(0)\n",
    "\n",
    "                # Total correct predictions\n",
    "                correct += (predicted == labels).sum()\n",
    "\n",
    "            accuracy = 100 * correct.item() / total\n",
    "\n",
    "            # Print Loss\n",
    "            print('Iteration: {}. Loss: {}. Accuracy: {}'.format(iter, loss.item(), accuracy))"
   ]
  },
  {
   "cell_type": "markdown",
   "metadata": {
    "colab_type": "text",
    "id": "D0ETALQLWWDw"
   },
   "source": [
    "### Model D: 2 Hidden Layer Feedforward Neural Network (ReLU Activation)\n",
    "<img src=\"https://docs.google.com/uc?export=view&id=1_l4RyBIpmbsWvXHB1PMv0r1JtvNiA1vm\" alt=\"no_image\" style=\"width: 900px;\"/>\n",
    "### Steps\n",
    "- Step 1: Load Dataset\n",
    "- Step 2: Make Dataset Iterable\n",
    "- **Step 3: Create Model Class**\n",
    "- Step 4: Instantiate Model Class\n",
    "- Step 5: Instantiate Loss Class\n",
    "- Step 6: Instantiate Optimizer Class\n",
    "- Step 7: Train Model"
   ]
  },
  {
   "cell_type": "markdown",
   "metadata": {
    "colab_type": "text",
    "id": "6sbKZxfjWWDx"
   },
   "source": [
    "**2-layer FNN with ReLU Activation**\n",
    "\n",
    "This is a bigger difference that increases your model's capacity by adding another linear layer and non-linear layer which affects step 3."
   ]
  },
  {
   "cell_type": "code",
   "execution_count": 1,
   "metadata": {
    "colab": {
     "base_uri": "https://localhost:8080/",
     "height": 119
    },
    "colab_type": "code",
    "execution": {
     "iopub.execute_input": "2022-03-11T01:07:51.443174Z",
     "iopub.status.busy": "2022-03-11T01:07:51.442743Z",
     "iopub.status.idle": "2022-03-11T01:10:55.548319Z",
     "shell.execute_reply": "2022-03-11T01:10:55.547311Z",
     "shell.execute_reply.started": "2022-03-11T01:07:51.443137Z"
    },
    "executionInfo": {
     "elapsed": 62265,
     "status": "ok",
     "timestamp": 1584682460675,
     "user": {
      "displayName": "­김도형(대학원/일반대학원 전기전자공학과)",
      "photoUrl": "",
      "userId": "05486823788267165662"
     },
     "user_tz": -540
    },
    "id": "IsK1qXFjWWDx",
    "outputId": "7901e260-d711-441a-e68e-548974674234"
   },
   "outputs": [
    {
     "name": "stderr",
     "output_type": "stream",
     "text": [
      "/home/jovyan/.venv/torch1.9.0-py3.8-cuda11.1/lib/python3.8/site-packages/torchvision/datasets/mnist.py:498: UserWarning: The given NumPy array is not writeable, and PyTorch does not support non-writeable tensors. This means you can write to the underlying (supposedly non-writeable) NumPy array using the tensor. You may want to copy the array to protect its data or make it writeable before converting it to a tensor. This type of warning will be suppressed for the rest of this program. (Triggered internally at  /pytorch/torch/csrc/utils/tensor_numpy.cpp:180.)\n",
      "  return torch.from_numpy(parsed.astype(m[2], copy=False)).view(*s)\n"
     ]
    },
    {
     "name": "stdout",
     "output_type": "stream",
     "text": [
      "Iteration: 500. Loss: 0.3027377426624298. Accuracy: 91.5\n",
      "Iteration: 1000. Loss: 0.30537137389183044. Accuracy: 92.88\n",
      "Iteration: 1500. Loss: 0.1265578716993332. Accuracy: 94.83\n",
      "Iteration: 2000. Loss: 0.11958774924278259. Accuracy: 95.3\n",
      "Iteration: 2500. Loss: 0.06644153594970703. Accuracy: 96.29\n",
      "Iteration: 3000. Loss: 0.09916561096906662. Accuracy: 96.67\n"
     ]
    }
   ],
   "source": [
    "import torch\n",
    "import torch.nn as nn\n",
    "import torchvision.transforms as transforms\n",
    "import torchvision.datasets as dsets\n",
    "\n",
    "'''\n",
    "STEP 1: LOADING DATASET\n",
    "'''\n",
    "\n",
    "train_dataset = dsets.MNIST(root='../dataset/lab02/MNIST/', \n",
    "                            train=True, \n",
    "                            transform=transforms.ToTensor(),\n",
    "                            download=True)\n",
    "\n",
    "test_dataset = dsets.MNIST(root='../dataset/lab02/MNIST/', \n",
    "                           train=False, \n",
    "                           transform=transforms.ToTensor())\n",
    "\n",
    "'''\n",
    "STEP 2: MAKING DATASET ITERABLE\n",
    "'''\n",
    "\n",
    "batch_size = 100\n",
    "n_iters = 3000\n",
    "num_epochs = n_iters / (len(train_dataset) / batch_size)\n",
    "num_epochs = int(num_epochs)\n",
    "\n",
    "train_loader = torch.utils.data.DataLoader(dataset=train_dataset, \n",
    "                                           batch_size=batch_size, \n",
    "                                           shuffle=True)\n",
    "\n",
    "test_loader = torch.utils.data.DataLoader(dataset=test_dataset, \n",
    "                                          batch_size=batch_size, \n",
    "                                          shuffle=False)\n",
    "\n",
    "'''\n",
    "STEP 3: CREATE MODEL CLASS\n",
    "'''\n",
    "class FeedforwardNeuralNetModel(nn.Module):\n",
    "    def __init__(self, input_dim, hidden_dim, output_dim):\n",
    "        super(FeedforwardNeuralNetModel, self).__init__()\n",
    "        # Linear function 1: 784 --> 100\n",
    "        self.fc1 = nn.Linear(input_dim, hidden_dim) \n",
    "        # Non-linearity 1\n",
    "        self.relu1 = nn.ReLU()\n",
    "\n",
    "        # Linear function 2: 100 --> 100\n",
    "        self.fc2 = nn.Linear(hidden_dim, hidden_dim)\n",
    "        # Non-linearity 2\n",
    "        self.relu2 = nn.ReLU()\n",
    "\n",
    "        # Linear function 3 (readout): 100 --> 10\n",
    "        self.fc3 = nn.Linear(hidden_dim, output_dim)  \n",
    "\n",
    "    def forward(self, x):\n",
    "        # Linear function 1\n",
    "        out = self.fc1(x)\n",
    "        # Non-linearity 1\n",
    "        out = self.relu1(out)\n",
    "\n",
    "        # Linear function 2\n",
    "        out = self.fc2(out)\n",
    "        # Non-linearity 2\n",
    "        out = self.relu2(out)\n",
    "\n",
    "        # Linear function 3 (readout)\n",
    "        out = self.fc3(out)\n",
    "        return out\n",
    "'''\n",
    "STEP 4: INSTANTIATE MODEL CLASS\n",
    "'''\n",
    "input_dim = 28*28\n",
    "hidden_dim = 100\n",
    "output_dim = 10\n",
    "\n",
    "model = FeedforwardNeuralNetModel(input_dim, hidden_dim, output_dim)\n",
    "\n",
    "'''\n",
    "STEP 5: INSTANTIATE LOSS CLASS\n",
    "'''\n",
    "criterion = nn.CrossEntropyLoss()\n",
    "\n",
    "\n",
    "'''\n",
    "STEP 6: INSTANTIATE OPTIMIZER CLASS\n",
    "'''\n",
    "learning_rate = 0.1\n",
    "\n",
    "optimizer = torch.optim.SGD(model.parameters(), lr=learning_rate)\n",
    "\n",
    "'''\n",
    "STEP 7: TRAIN THE MODEL\n",
    "'''\n",
    "iter = 0\n",
    "for epoch in range(num_epochs):\n",
    "    for i, (images, labels) in enumerate(train_loader):\n",
    "        # Load images with gradient accumulation capabilities\n",
    "        images = images.view(-1, 28*28)\n",
    "        labels = labels\n",
    "\n",
    "        # Clear gradients w.r.t. parameters\n",
    "        optimizer.zero_grad()\n",
    "\n",
    "        # Forward pass to get output/logits\n",
    "        outputs = model(images)\n",
    "\n",
    "        # Calculate Loss: softmax --> cross entropy loss\n",
    "        loss = criterion(outputs, labels)\n",
    "\n",
    "        # Getting gradients w.r.t. parameters\n",
    "        loss.backward()\n",
    "\n",
    "        # Updating parameters\n",
    "        optimizer.step()\n",
    "\n",
    "        iter += 1\n",
    "\n",
    "        if iter % 500 == 0:\n",
    "            # Calculate Accuracy         \n",
    "            correct = 0\n",
    "            total = 0\n",
    "            # Iterate through test dataset\n",
    "            for images, labels in test_loader:\n",
    "                # Load images with gradient accumulation capabilities\n",
    "                images = images.view(-1, 28*28)\n",
    "\n",
    "                # Forward pass only to get logits/output\n",
    "                outputs = model(images)\n",
    "\n",
    "                # Get predictions from the maximum value\n",
    "                _, predicted = torch.max(outputs.data, 1)\n",
    "\n",
    "                # Total number of labels\n",
    "                total += labels.size(0)\n",
    "\n",
    "                # Total correct predictions\n",
    "                correct += (predicted == labels).sum()\n",
    "\n",
    "            accuracy = 100 * correct.item() / total\n",
    "\n",
    "            # Print Loss\n",
    "            print('Iteration: {}. Loss: {}. Accuracy: {}'.format(iter, loss.item(), accuracy))"
   ]
  },
  {
   "cell_type": "markdown",
   "metadata": {
    "colab_type": "text",
    "id": "dC-w6lRhWWDy"
   },
   "source": [
    "### Model E: 3 Hidden Layer Feedforward Neural Network (ReLU Activation)\n",
    "<img src=\"https://docs.google.com/uc?export=view&id=1yPATqCgtdRcGH2kvT3HbCajE4Brh7kub\" alt=\"no_image\" style=\"width: 900px;\"/>\n",
    "### Steps\n",
    "- Step 1: Load Dataset\n",
    "- Step 2: Make Dataset Iterable\n",
    "- **Step 3: Create Model Class**\n",
    "- Step 4: Instantiate Model Class\n",
    "- Step 5: Instantiate Loss Class\n",
    "- Step 6: Instantiate Optimizer Class\n",
    "- Step 7: Train Model"
   ]
  },
  {
   "cell_type": "markdown",
   "metadata": {
    "colab_type": "text",
    "id": "6sCElDk5WWDz"
   },
   "source": [
    "**3-layer FNN with ReLU Activation**\n",
    "\n",
    "Let's add one more layer! Bigger model capacity. But will it be better? Remember what we talked about on curse of dimensionality?"
   ]
  },
  {
   "cell_type": "code",
   "execution_count": 2,
   "metadata": {
    "colab": {
     "base_uri": "https://localhost:8080/",
     "height": 119
    },
    "colab_type": "code",
    "execution": {
     "iopub.execute_input": "2022-03-11T01:10:55.626060Z",
     "iopub.status.busy": "2022-03-11T01:10:55.549928Z",
     "iopub.status.idle": "2022-03-11T01:14:05.628999Z",
     "shell.execute_reply": "2022-03-11T01:14:05.627621Z",
     "shell.execute_reply.started": "2022-03-11T01:10:55.625987Z"
    },
    "executionInfo": {
     "elapsed": 93868,
     "status": "ok",
     "timestamp": 1584682492984,
     "user": {
      "displayName": "­김도형(대학원/일반대학원 전기전자공학과)",
      "photoUrl": "",
      "userId": "05486823788267165662"
     },
     "user_tz": -540
    },
    "id": "vWjKLqiCWWDz",
    "outputId": "3849f6d6-378d-4a0a-a6c1-b15219dcb0e9"
   },
   "outputs": [
    {
     "name": "stdout",
     "output_type": "stream",
     "text": [
      "Iteration: 500. Loss: 0.3991158604621887. Accuracy: 90.23\n",
      "Iteration: 1000. Loss: 0.2505066692829132. Accuracy: 93.57\n",
      "Iteration: 1500. Loss: 0.1431673765182495. Accuracy: 95.8\n",
      "Iteration: 2000. Loss: 0.08107700198888779. Accuracy: 96.11\n",
      "Iteration: 2500. Loss: 0.09439414739608765. Accuracy: 96.81\n",
      "Iteration: 3000. Loss: 0.04890002682805061. Accuracy: 96.99\n"
     ]
    }
   ],
   "source": [
    "import torch\n",
    "import torch.nn as nn\n",
    "import torchvision.transforms as transforms\n",
    "import torchvision.datasets as dsets\n",
    "\n",
    "'''\n",
    "STEP 1: LOADING DATASET\n",
    "'''\n",
    "\n",
    "train_dataset = dsets.MNIST(root='../dataset/lab02/MNIST/', \n",
    "                            train=True, \n",
    "                            transform=transforms.ToTensor(),\n",
    "                            download=True)\n",
    "\n",
    "test_dataset = dsets.MNIST(root='../dataset/lab02/MNIST/', \n",
    "                           train=False, \n",
    "                           transform=transforms.ToTensor())\n",
    "\n",
    "'''\n",
    "STEP 2: MAKING DATASET ITERABLE\n",
    "'''\n",
    "\n",
    "batch_size = 100\n",
    "n_iters = 3000\n",
    "num_epochs = n_iters / (len(train_dataset) / batch_size)\n",
    "num_epochs = int(num_epochs)\n",
    "\n",
    "train_loader = torch.utils.data.DataLoader(dataset=train_dataset, \n",
    "                                           batch_size=batch_size, \n",
    "                                           shuffle=True)\n",
    "\n",
    "test_loader = torch.utils.data.DataLoader(dataset=test_dataset, \n",
    "                                          batch_size=batch_size, \n",
    "                                          shuffle=False)\n",
    "\n",
    "'''\n",
    "STEP 3: CREATE MODEL CLASS\n",
    "'''\n",
    "class FeedforwardNeuralNetModel(nn.Module):\n",
    "    def __init__(self, input_dim, hidden_dim, output_dim):\n",
    "        super(FeedforwardNeuralNetModel, self).__init__()\n",
    "        # Linear function 1: 784 --> 100\n",
    "        self.fc1 = nn.Linear(input_dim, hidden_dim) \n",
    "        # Non-linearity 1\n",
    "        self.relu1 = nn.ReLU()\n",
    "\n",
    "        # Linear function 2: 100 --> 100\n",
    "        self.fc2 = nn.Linear(hidden_dim, hidden_dim)\n",
    "        # Non-linearity 2\n",
    "        self.relu2 = nn.ReLU()\n",
    "\n",
    "        # Linear function 3: 100 --> 100\n",
    "        self.fc3 = nn.Linear(hidden_dim, hidden_dim)\n",
    "        # Non-linearity 3\n",
    "        self.relu3 = nn.ReLU()\n",
    "\n",
    "        # Linear function 4 (readout): 100 --> 10\n",
    "        self.fc4 = nn.Linear(hidden_dim, output_dim)  \n",
    "\n",
    "    def forward(self, x):\n",
    "        # Linear function 1\n",
    "        out = self.fc1(x)\n",
    "        # Non-linearity 1\n",
    "        out = self.relu1(out)\n",
    "\n",
    "        # Linear function 2\n",
    "        out = self.fc2(out)\n",
    "        # Non-linearity 2\n",
    "        out = self.relu2(out)\n",
    "\n",
    "        # Linear function 2\n",
    "        out = self.fc3(out)\n",
    "        # Non-linearity 2\n",
    "        out = self.relu3(out)\n",
    "\n",
    "        # Linear function 4 (readout)\n",
    "        out = self.fc4(out)\n",
    "        return out\n",
    "'''\n",
    "STEP 4: INSTANTIATE MODEL CLASS\n",
    "'''\n",
    "input_dim = 28*28\n",
    "hidden_dim = 100\n",
    "output_dim = 10\n",
    "\n",
    "model = FeedforwardNeuralNetModel(input_dim, hidden_dim, output_dim)\n",
    "\n",
    "'''\n",
    "STEP 5: INSTANTIATE LOSS CLASS\n",
    "'''\n",
    "criterion = nn.CrossEntropyLoss()\n",
    "\n",
    "\n",
    "'''\n",
    "STEP 6: INSTANTIATE OPTIMIZER CLASS\n",
    "'''\n",
    "learning_rate = 0.1\n",
    "\n",
    "optimizer = torch.optim.SGD(model.parameters(), lr=learning_rate)\n",
    "\n",
    "'''\n",
    "STEP 7: TRAIN THE MODEL\n",
    "'''\n",
    "iter = 0\n",
    "for epoch in range(num_epochs):\n",
    "    for i, (images, labels) in enumerate(train_loader):\n",
    "        # Load images with gradient accumulation capabilities\n",
    "        images = images.view(-1, 28*28)\n",
    "\n",
    "        # Clear gradients w.r.t. parameters\n",
    "        optimizer.zero_grad()\n",
    "\n",
    "        # Forward pass to get output/logits\n",
    "        outputs = model(images)\n",
    "\n",
    "        # Calculate Loss: softmax --> cross entropy loss\n",
    "        loss = criterion(outputs, labels)\n",
    "\n",
    "        # Getting gradients w.r.t. parameters\n",
    "        loss.backward()\n",
    "\n",
    "        # Updating parameters\n",
    "        optimizer.step()\n",
    "\n",
    "        iter += 1\n",
    "\n",
    "        if iter % 500 == 0:\n",
    "            # Calculate Accuracy         \n",
    "            correct = 0\n",
    "            total = 0\n",
    "            # Iterate through test dataset\n",
    "            for images, labels in test_loader:\n",
    "                # Load images with gradient accumulation capabilities\n",
    "                images = images.view(-1, 28*28)\n",
    "\n",
    "                # Forward pass only to get logits/output\n",
    "                outputs = model(images)\n",
    "\n",
    "                # Get predictions from the maximum value\n",
    "                _, predicted = torch.max(outputs.data, 1)\n",
    "\n",
    "                # Total number of labels\n",
    "                total += labels.size(0)\n",
    "\n",
    "                # Total correct predictions\n",
    "                correct += (predicted == labels).sum()\n",
    "\n",
    "            accuracy = 100 * correct.item() / total\n",
    "\n",
    "            # Print Loss\n",
    "            print('Iteration: {}. Loss: {}. Accuracy: {}'.format(iter, loss.item(), accuracy))"
   ]
  },
  {
   "cell_type": "markdown",
   "metadata": {
    "colab_type": "text",
    "id": "oNYiYAFPWWD0"
   },
   "source": [
    "### General Comments on FNNs\n",
    "- 2 ways to expand a neural network\n",
    "    - More non-linear activation units (neurons)\n",
    "    - More hidden layers \n",
    "- Cons\n",
    "    - Need a larger dataset\n",
    "        - Curse of dimensionality\n",
    "    - Does not necessarily mean higher accuracy"
   ]
  },
  {
   "cell_type": "markdown",
   "metadata": {
    "colab_type": "text",
    "id": "hmfVJcEIWWD0"
   },
   "source": [
    "## 3. Building a Feedforward Neural Network with PyTorch (GPU)"
   ]
  },
  {
   "cell_type": "markdown",
   "metadata": {
    "colab_type": "text",
    "id": "Krc9sopKWWD1"
   },
   "source": [
    "<img src=\"https://docs.google.com/uc?export=view&id=1yPATqCgtdRcGH2kvT3HbCajE4Brh7kub\" alt=\"no_image\" style=\"width: 900px;\"/>\n",
    "\n",
    "GPU: 2 things must be on GPU\n",
    "- `model`\n",
    "- `tensors with gradient accumulation capabilities`\n",
    "\n",
    "### Steps\n",
    "- Step 1: Load Dataset\n",
    "- Step 2: Make Dataset Iterable\n",
    "- Step 3: Create Model Class\n",
    "- **Step 4: Instantiate Model Class**\n",
    "- Step 5: Instantiate Loss Class\n",
    "- Step 6: Instantiate Optimizer Class\n",
    "- **Step 7: Train Model**"
   ]
  },
  {
   "cell_type": "markdown",
   "metadata": {
    "colab_type": "text",
    "id": "xAgoEBtaWWD1"
   },
   "source": [
    "**3-layer FNN with ReLU Activation on GPU**\n",
    "\n",
    "Only step 4 and 7 of the CPU code will be affected and it's a simple change."
   ]
  },
  {
   "cell_type": "code",
   "execution_count": 3,
   "metadata": {
    "colab": {
     "base_uri": "https://localhost:8080/",
     "height": 119
    },
    "colab_type": "code",
    "execution": {
     "iopub.execute_input": "2022-03-11T01:14:05.632402Z",
     "iopub.status.busy": "2022-03-11T01:14:05.631689Z",
     "iopub.status.idle": "2022-03-11T01:14:34.947068Z",
     "shell.execute_reply": "2022-03-11T01:14:34.946375Z",
     "shell.execute_reply.started": "2022-03-11T01:14:05.632356Z"
    },
    "executionInfo": {
     "elapsed": 125130,
     "status": "ok",
     "timestamp": 1584682525524,
     "user": {
      "displayName": "­김도형(대학원/일반대학원 전기전자공학과)",
      "photoUrl": "",
      "userId": "05486823788267165662"
     },
     "user_tz": -540
    },
    "id": "7aqdNaqYWWD1",
    "outputId": "b1c4b554-908b-4c6a-bc6f-a5cce36ef389"
   },
   "outputs": [
    {
     "name": "stdout",
     "output_type": "stream",
     "text": [
      "Iteration: 500. Loss: 0.31045883893966675. Accuracy: 90.29\n",
      "Iteration: 1000. Loss: 0.2470725029706955. Accuracy: 93.28\n",
      "Iteration: 1500. Loss: 0.33680546283721924. Accuracy: 94.81\n",
      "Iteration: 2000. Loss: 0.06428980082273483. Accuracy: 95.95\n",
      "Iteration: 2500. Loss: 0.05313029885292053. Accuracy: 96.56\n",
      "Iteration: 3000. Loss: 0.06227988749742508. Accuracy: 97.08\n"
     ]
    }
   ],
   "source": [
    "import torch\n",
    "import torch.nn as nn\n",
    "import torchvision.transforms as transforms\n",
    "import torchvision.datasets as dsets\n",
    "\n",
    "'''\n",
    "STEP 1: LOADING DATASET\n",
    "'''\n",
    "\n",
    "train_dataset = dsets.MNIST(root='../dataset/lab02/MNIST/', \n",
    "                            train=True, \n",
    "                            transform=transforms.ToTensor(),\n",
    "                            download=True)\n",
    "\n",
    "test_dataset = dsets.MNIST(root='../dataset/lab02/MNIST/', \n",
    "                           train=False, \n",
    "                           transform=transforms.ToTensor())\n",
    "\n",
    "'''\n",
    "STEP 2: MAKING DATASET ITERABLE\n",
    "'''\n",
    "\n",
    "batch_size = 100\n",
    "n_iters = 3000\n",
    "num_epochs = n_iters / (len(train_dataset) / batch_size)\n",
    "num_epochs = int(num_epochs)\n",
    "\n",
    "train_loader = torch.utils.data.DataLoader(dataset=train_dataset, \n",
    "                                           batch_size=batch_size, \n",
    "                                           shuffle=True)\n",
    "\n",
    "test_loader = torch.utils.data.DataLoader(dataset=test_dataset, \n",
    "                                          batch_size=batch_size, \n",
    "                                          shuffle=False)\n",
    "\n",
    "'''\n",
    "STEP 3: CREATE MODEL CLASS\n",
    "'''\n",
    "class FeedforwardNeuralNetModel(nn.Module):\n",
    "    def __init__(self, input_dim, hidden_dim, output_dim):\n",
    "        super(FeedforwardNeuralNetModel, self).__init__()\n",
    "        # Linear function 1: 784 --> 100\n",
    "        self.fc1 = nn.Linear(input_dim, hidden_dim) \n",
    "        # Non-linearity 1\n",
    "        self.relu1 = nn.ReLU()\n",
    "\n",
    "        # Linear function 2: 100 --> 100\n",
    "        self.fc2 = nn.Linear(hidden_dim, hidden_dim)\n",
    "        # Non-linearity 2\n",
    "        self.relu2 = nn.ReLU()\n",
    "\n",
    "        # Linear function 3: 100 --> 100\n",
    "        self.fc3 = nn.Linear(hidden_dim, hidden_dim)\n",
    "        # Non-linearity 3\n",
    "        self.relu3 = nn.ReLU()\n",
    "\n",
    "        # Linear function 4 (readout): 100 --> 10\n",
    "        self.fc4 = nn.Linear(hidden_dim, output_dim)  \n",
    "\n",
    "    def forward(self, x):\n",
    "        # Linear function 1\n",
    "        out = self.fc1(x)\n",
    "        # Non-linearity 1\n",
    "        out = self.relu1(out)\n",
    "\n",
    "        # Linear function 2\n",
    "        out = self.fc2(out)\n",
    "        # Non-linearity 2\n",
    "        out = self.relu2(out)\n",
    "\n",
    "        # Linear function 2\n",
    "        out = self.fc3(out)\n",
    "        # Non-linearity 2\n",
    "        out = self.relu3(out)\n",
    "\n",
    "        # Linear function 4 (readout)\n",
    "        out = self.fc4(out)\n",
    "        return out\n",
    "'''\n",
    "STEP 4: INSTANTIATE MODEL CLASS\n",
    "'''\n",
    "input_dim = 28*28\n",
    "hidden_dim = 100\n",
    "output_dim = 10\n",
    "\n",
    "model = FeedforwardNeuralNetModel(input_dim, hidden_dim, output_dim)\n",
    "\n",
    "#######################\n",
    "#  USE GPU FOR MODEL  #\n",
    "#######################\n",
    "\n",
    "device = torch.device(\"cuda:0\" if torch.cuda.is_available() else \"cpu\")\n",
    "model.to(device)\n",
    "\n",
    "'''\n",
    "STEP 5: INSTANTIATE LOSS CLASS\n",
    "'''\n",
    "criterion = nn.CrossEntropyLoss()\n",
    "\n",
    "\n",
    "'''\n",
    "STEP 6: INSTANTIATE OPTIMIZER CLASS\n",
    "'''\n",
    "learning_rate = 0.1\n",
    "\n",
    "optimizer = torch.optim.SGD(model.parameters(), lr=learning_rate)\n",
    "\n",
    "'''\n",
    "STEP 7: TRAIN THE MODEL\n",
    "'''\n",
    "iter = 0\n",
    "for epoch in range(num_epochs):\n",
    "    for i, (images, labels) in enumerate(train_loader):\n",
    "\n",
    "        #######################\n",
    "        #  USE GPU FOR MODEL  #\n",
    "        #######################\n",
    "        images = images.view(-1, 28*28).to(device)\n",
    "        labels = labels.to(device)\n",
    "\n",
    "        # Clear gradients w.r.t. parameters\n",
    "        optimizer.zero_grad()\n",
    "\n",
    "        # Forward pass to get output/logits\n",
    "        outputs = model(images)\n",
    "\n",
    "        # Calculate Loss: softmax --> cross entropy loss\n",
    "        loss = criterion(outputs, labels)\n",
    "\n",
    "        # Getting gradients w.r.t. parameters\n",
    "        loss.backward()\n",
    "\n",
    "        # Updating parameters\n",
    "        optimizer.step()\n",
    "\n",
    "        iter += 1\n",
    "\n",
    "        if iter % 500 == 0:\n",
    "            # Calculate Accuracy         \n",
    "            correct = 0\n",
    "            total = 0\n",
    "            # Iterate through test dataset\n",
    "            for images, labels in test_loader:\n",
    "                #######################\n",
    "                #  USE GPU FOR MODEL  #\n",
    "                #######################\n",
    "                images = images.view(-1, 28*28).to(device)\n",
    "\n",
    "                # Forward pass only to get logits/output\n",
    "                outputs = model(images)\n",
    "\n",
    "                # Get predictions from the maximum value\n",
    "                _, predicted = torch.max(outputs.data, 1)\n",
    "\n",
    "                # Total number of labels\n",
    "                total += labels.size(0)\n",
    "\n",
    "                #######################\n",
    "                #  USE GPU FOR MODEL  #\n",
    "                #######################\n",
    "                # Total correct predictions\n",
    "                if torch.cuda.is_available():\n",
    "                    correct += (predicted.cpu() == labels.cpu()).sum()\n",
    "                else:\n",
    "                    correct += (predicted == labels).sum()\n",
    "\n",
    "            accuracy = 100 * correct.item() / total\n",
    "\n",
    "            # Print Loss\n",
    "            print('Iteration: {}. Loss: {}. Accuracy: {}'.format(iter, loss.item(), accuracy))"
   ]
  },
  {
   "cell_type": "markdown",
   "metadata": {
    "colab_type": "text",
    "id": "5lBX20DmWWD3"
   },
   "source": [
    "> **Alternative Term of Neural Network**\n",
    ">\n",
    "> The alternative term is **Universal Function Approximator**. This is because ultimately we are trying to find a function that maps our input, $X$, to our output, $y$. "
   ]
  },
  {
   "cell_type": "markdown",
   "metadata": {
    "colab_type": "text",
    "id": "r7ehBqQXWWD3"
   },
   "source": [
    "## Summary\n",
    "\n",
    "- **Logistic Regression Problems**\n",
    "    - Cannot represent **non-linear** functions\n",
    "        - $ y = 4x_1 + 2x_2^2 +3x_3^3 $\n",
    "        - $ y = x_1x_2$\n",
    "- Introduced **Non-Linearity** to Logistic Regression to form a Neural Network\n",
    "- **Types** of Non-Linearity\n",
    "    - Sigmoid\n",
    "    - Tanh\n",
    "    - ReLU\n",
    "- Feedforward Neural Network **Models**\n",
    "    - Model A: 1 hidden layer (**sigmoid** activation)\n",
    "    - Model B: 1 hidden layer (**tanh** activation)\n",
    "    - Model C: 1 hidden layer (**ReLU** activation)\n",
    "    - Model D: **2 hidden** layers (ReLU activation)\n",
    "    - Model E: **3 hidden** layers (ReLU activation)\n",
    "- Models Variation in **Code**\n",
    "    - Modifying only step 3\n",
    "- Ways to Expand Model’s **Capacity**\n",
    "    - More non-linear activation units (**neurons**)\n",
    "    - More hidden **layers**\n",
    "- **Cons** of Expanding Capacity\n",
    "    - Need more **data**\n",
    "    - Does not necessarily mean higher **accuracy**\n",
    "- **GPU** Code\n",
    "    - 2 things on GPU\n",
    "        - **model**\n",
    "        - **tensors with gradient accumulation capabilities**\n",
    "    - Modifying only **Step 4 & Step 7**\n",
    "- **7 Step** Model Building Recap\n",
    "    - Step 1: Load Dataset\n",
    "    - Step 2: Make Dataset Iterable\n",
    "    - Step 3: Create Model Class\n",
    "    - Step 4: Instantiate Model Class\n",
    "    - Step 5: Instantiate Loss Class\n",
    "    - Step 6: Instantiate Optimizer Class\n",
    "    - Step 7: Train Model\n"
   ]
  },
  {
   "cell_type": "markdown",
   "metadata": {
    "colab_type": "text",
    "id": "BfjPn70vWWD4"
   },
   "source": [
    "### *References*\n",
    "[1] [DOI](https://zenodo.org/badge/139945544.svg)(https://zenodo.org/badge/latestdoi/139945544)"
   ]
  },
  {
   "cell_type": "markdown",
   "metadata": {},
   "source": [
    "### 과제 : 직접 model을 구현해서 정확도를 뽑아보아라"
   ]
  },
  {
   "cell_type": "code",
   "execution_count": 6,
   "metadata": {
    "colab": {},
    "colab_type": "code",
    "id": "zqSDcbCGWWD4"
   },
   "outputs": [
    {
     "name": "stdout",
     "output_type": "stream",
     "text": [
      "Iteration: 500. Loss: 0.5018794536590576. Accuracy: 87.5\n",
      "Iteration: 1000. Loss: 0.3032553493976593. Accuracy: 93.54\n",
      "Iteration: 1500. Loss: 0.15078192949295044. Accuracy: 95.33\n",
      "Iteration: 2000. Loss: 0.20687933266162872. Accuracy: 95.63\n",
      "Iteration: 2500. Loss: 0.13721707463264465. Accuracy: 96.45\n",
      "Iteration: 3000. Loss: 0.04304591193795204. Accuracy: 97.13\n"
     ]
    }
   ],
   "source": [
    "import torch\n",
    "import torch.nn as nn\n",
    "import torchvision.transforms as transforms\n",
    "import torchvision.datasets as dsets\n",
    "\n",
    "'''\n",
    "STEP 1: LOADING DATASET\n",
    "'''\n",
    "\n",
    "train_dataset = dsets.MNIST(root='../dataset/lab02/MNIST/', \n",
    "                            train=True, \n",
    "                            transform=transforms.ToTensor(),\n",
    "                            download=True)\n",
    "\n",
    "test_dataset = dsets.MNIST(root='../dataset/lab02/MNIST/', \n",
    "                           train=False, \n",
    "                           transform=transforms.ToTensor())\n",
    "\n",
    "'''\n",
    "STEP 2: MAKING DATASET ITERABLE\n",
    "'''\n",
    "\n",
    "batch_size = 100\n",
    "n_iters = 3000\n",
    "num_epochs = n_iters / (len(train_dataset) / batch_size)\n",
    "num_epochs = int(num_epochs)\n",
    "\n",
    "train_loader = torch.utils.data.DataLoader(dataset=train_dataset, \n",
    "                                           batch_size=batch_size, \n",
    "                                           shuffle=True)\n",
    "\n",
    "test_loader = torch.utils.data.DataLoader(dataset=test_dataset, \n",
    "                                          batch_size=batch_size, \n",
    "                                          shuffle=False)\n",
    "\n",
    "'''\n",
    "STEP 3: CREATE MODEL CLASS\n",
    "'''\n",
    "class Mymodel(nn.Module):\n",
    "    def __init__(self, input_dim, hidden_dim, output_dim):\n",
    "        super(FeedforwardNeuralNetModel, self).__init__()\n",
    "        # Linear function 1: 784 --> 100\n",
    "        self.fc1 = nn.Linear(input_dim, hidden_dim) \n",
    "        # Non-linearity 1\n",
    "        self.relu1 = nn.ReLU()\n",
    "\n",
    "        # Linear function 2: 100 --> 100\n",
    "        self.fc2 = nn.Linear(hidden_dim, hidden_dim)\n",
    "        # Non-linearity 2\n",
    "        self.relu2 = nn.ReLU()\n",
    "\n",
    "        # Linear function 3: 100 --> 100\n",
    "        self.fc3 = nn.Linear(hidden_dim, hidden_dim)\n",
    "        # Non-linearity 3\n",
    "        self.relu3 = nn.ReLU()\n",
    "        \n",
    "        # Linear function 3:-1 :추가한 layer 100 --> 100\n",
    "        self.fc4 = nn.Linear(hidden_dim, hidden_dim)\n",
    "        # Non-linearity 3 -1 \n",
    "        self.relu4 = nn.ReLU()\n",
    "        \n",
    "        # Linear function 4 (readout): 100 --> 10\n",
    "        self.fc5 = nn.Linear(hidden_dim, output_dim)  \n",
    "\n",
    "    def forward(self, x):\n",
    "        # Linear function 1\n",
    "        out = self.fc1(x)\n",
    "        # Non-linearity 1\n",
    "        out = self.relu1(out)\n",
    "\n",
    "        # Linear function 2\n",
    "        out = self.fc2(out)\n",
    "        # Non-linearity 2\n",
    "        out = self.relu2(out)\n",
    "\n",
    "        # Linear function 3\n",
    "        out = self.fc3(out)\n",
    "        # Non-linearity 2\n",
    "        out = self.relu3(out)\n",
    "        \n",
    "        # Linear function 3 -1 : 추가한 layer 100 --> 100\n",
    "        out = self.fc4(out)\n",
    "        # Non-linearity 3 -1\n",
    "        out = self.relu4(out)\n",
    "\n",
    "        # Linear function 4 (readout)\n",
    "        out = self.fc5(out)\n",
    "        return out\n",
    "'''\n",
    "STEP 4: INSTANTIATE MODEL CLASS\n",
    "'''\n",
    "input_dim = 28*28\n",
    "hidden_dim = 100\n",
    "output_dim = 10\n",
    "\n",
    "model = FeedforwardNeuralNetModel(input_dim, hidden_dim, output_dim)\n",
    "\n",
    "#######################\n",
    "#  USE GPU FOR MODEL  #\n",
    "#######################\n",
    "\n",
    "device = torch.device(\"cuda:0\" if torch.cuda.is_available() else \"cpu\")\n",
    "model.to(device)\n",
    "\n",
    "'''\n",
    "STEP 5: INSTANTIATE LOSS CLASS\n",
    "'''\n",
    "criterion = nn.CrossEntropyLoss()\n",
    "\n",
    "\n",
    "'''\n",
    "STEP 6: INSTANTIATE OPTIMIZER CLASS\n",
    "'''\n",
    "learning_rate = 0.1\n",
    "\n",
    "optimizer = torch.optim.SGD(model.parameters(), lr=learning_rate)\n",
    "\n",
    "'''\n",
    "STEP 7: TRAIN THE MODEL\n",
    "'''\n",
    "iter = 0\n",
    "for epoch in range(num_epochs):\n",
    "    for i, (images, labels) in enumerate(train_loader):\n",
    "\n",
    "        #######################\n",
    "        #  USE GPU FOR MODEL  #\n",
    "        #######################\n",
    "        images = images.view(-1, 28*28).to(device)\n",
    "        labels = labels.to(device)\n",
    "\n",
    "        # Clear gradients w.r.t. parameters\n",
    "        optimizer.zero_grad()\n",
    "\n",
    "        # Forward pass to get output/logits\n",
    "        outputs = model(images)\n",
    "\n",
    "        # Calculate Loss: softmax --> cross entropy loss\n",
    "        loss = criterion(outputs, labels)\n",
    "\n",
    "        # Getting gradients w.r.t. parameters\n",
    "        loss.backward()\n",
    "\n",
    "        # Updating parameters\n",
    "        optimizer.step()\n",
    "\n",
    "        iter += 1\n",
    "\n",
    "        if iter % 500 == 0:\n",
    "            # Calculate Accuracy         \n",
    "            correct = 0\n",
    "            total = 0\n",
    "            # Iterate through test dataset\n",
    "            for images, labels in test_loader:\n",
    "                #######################\n",
    "                #  USE GPU FOR MODEL  #\n",
    "                #######################\n",
    "                images = images.view(-1, 28*28).to(device)\n",
    "\n",
    "                # Forward pass only to get logits/output\n",
    "                outputs = model(images)\n",
    "\n",
    "                # Get predictions from the maximum value\n",
    "                _, predicted = torch.max(outputs.data, 1)\n",
    "\n",
    "                # Total number of labels\n",
    "                total += labels.size(0)\n",
    "\n",
    "                #######################\n",
    "                #  USE GPU FOR MODEL  #\n",
    "                #######################\n",
    "                # Total correct predictions\n",
    "                if torch.cuda.is_available():\n",
    "                    correct += (predicted.cpu() == labels.cpu()).sum()\n",
    "                else:\n",
    "                    correct += (predicted == labels).sum()\n",
    "\n",
    "            accuracy = 100 * correct.item() / total\n",
    "\n",
    "            # Print Loss\n",
    "            print('Iteration: {}. Loss: {}. Accuracy: {}'.format(iter, loss.item(), accuracy))"
   ]
  },
  {
   "cell_type": "code",
   "execution_count": null,
   "metadata": {},
   "outputs": [],
   "source": []
  }
 ],
 "metadata": {
  "colab": {
   "collapsed_sections": [
    "6Owr3OKNWWAW",
    "WSmV8ra6WWAd",
    "Iqso7IK0WWAf",
    "NVQPWpjqWWAg",
    "uQic8jzAWWAq",
    "9cPKaZcXWWA5",
    "1k5PdxUZWWA6",
    "s54lryPMWWBf",
    "cMzuAYL8WWC-",
    "vich-tIlWWDI",
    "oNYiYAFPWWD0"
   ],
   "name": "EEE4423_lab2_ml_basics.ipynb",
   "provenance": []
  },
  "kernelspec": {
   "display_name": "torch1.9.0-py3.8-cuda11.1",
   "language": "python",
   "name": "torch1.9.0-py3.8-cuda11.1"
  },
  "language_info": {
   "codemirror_mode": {
    "name": "ipython",
    "version": 3
   },
   "file_extension": ".py",
   "mimetype": "text/x-python",
   "name": "python",
   "nbconvert_exporter": "python",
   "pygments_lexer": "ipython3",
   "version": "3.8.10"
  },
  "widgets": {
   "application/vnd.jupyter.widget-state+json": {
    "10e3ce3d34514a10b9e4ab6db36ab442": {
     "model_module": "@jupyter-widgets/base",
     "model_name": "LayoutModel",
     "state": {
      "_model_module": "@jupyter-widgets/base",
      "_model_module_version": "1.2.0",
      "_model_name": "LayoutModel",
      "_view_count": null,
      "_view_module": "@jupyter-widgets/base",
      "_view_module_version": "1.2.0",
      "_view_name": "LayoutView",
      "align_content": null,
      "align_items": null,
      "align_self": null,
      "border": null,
      "bottom": null,
      "display": null,
      "flex": null,
      "flex_flow": null,
      "grid_area": null,
      "grid_auto_columns": null,
      "grid_auto_flow": null,
      "grid_auto_rows": null,
      "grid_column": null,
      "grid_gap": null,
      "grid_row": null,
      "grid_template_areas": null,
      "grid_template_columns": null,
      "grid_template_rows": null,
      "height": null,
      "justify_content": null,
      "justify_items": null,
      "left": null,
      "margin": null,
      "max_height": null,
      "max_width": null,
      "min_height": null,
      "min_width": null,
      "object_fit": null,
      "object_position": null,
      "order": null,
      "overflow": null,
      "overflow_x": null,
      "overflow_y": null,
      "padding": null,
      "right": null,
      "top": null,
      "visibility": null,
      "width": null
     }
    },
    "187946388ec34cb191aa2fe4133f7dd6": {
     "model_module": "@jupyter-widgets/controls",
     "model_name": "ProgressStyleModel",
     "state": {
      "_model_module": "@jupyter-widgets/controls",
      "_model_module_version": "1.5.0",
      "_model_name": "ProgressStyleModel",
      "_view_count": null,
      "_view_module": "@jupyter-widgets/base",
      "_view_module_version": "1.2.0",
      "_view_name": "StyleView",
      "bar_color": null,
      "description_width": "initial"
     }
    },
    "23626423d5814c92a3994ab7e6ca98d2": {
     "model_module": "@jupyter-widgets/controls",
     "model_name": "IntProgressModel",
     "state": {
      "_dom_classes": [],
      "_model_module": "@jupyter-widgets/controls",
      "_model_module_version": "1.5.0",
      "_model_name": "IntProgressModel",
      "_view_count": null,
      "_view_module": "@jupyter-widgets/controls",
      "_view_module_version": "1.5.0",
      "_view_name": "ProgressView",
      "bar_style": "info",
      "description": "  0%",
      "description_tooltip": null,
      "layout": "IPY_MODEL_7297fddcd0f44e0597891094febaf59d",
      "max": 1,
      "min": 0,
      "orientation": "horizontal",
      "style": "IPY_MODEL_343aa12028c14953b7fcade13a9033ba",
      "value": 0
     }
    },
    "2c42243b008547f883b5eea66f3c2a3e": {
     "model_module": "@jupyter-widgets/controls",
     "model_name": "DescriptionStyleModel",
     "state": {
      "_model_module": "@jupyter-widgets/controls",
      "_model_module_version": "1.5.0",
      "_model_name": "DescriptionStyleModel",
      "_view_count": null,
      "_view_module": "@jupyter-widgets/base",
      "_view_module_version": "1.2.0",
      "_view_name": "StyleView",
      "description_width": ""
     }
    },
    "343aa12028c14953b7fcade13a9033ba": {
     "model_module": "@jupyter-widgets/controls",
     "model_name": "ProgressStyleModel",
     "state": {
      "_model_module": "@jupyter-widgets/controls",
      "_model_module_version": "1.5.0",
      "_model_name": "ProgressStyleModel",
      "_view_count": null,
      "_view_module": "@jupyter-widgets/base",
      "_view_module_version": "1.2.0",
      "_view_name": "StyleView",
      "bar_color": null,
      "description_width": "initial"
     }
    },
    "44b05c284343474c81a4f897a3f18284": {
     "model_module": "@jupyter-widgets/controls",
     "model_name": "DescriptionStyleModel",
     "state": {
      "_model_module": "@jupyter-widgets/controls",
      "_model_module_version": "1.5.0",
      "_model_name": "DescriptionStyleModel",
      "_view_count": null,
      "_view_module": "@jupyter-widgets/base",
      "_view_module_version": "1.2.0",
      "_view_name": "StyleView",
      "description_width": ""
     }
    },
    "4b2dffc2e7984cc98ff49c205477ab96": {
     "model_module": "@jupyter-widgets/controls",
     "model_name": "DescriptionStyleModel",
     "state": {
      "_model_module": "@jupyter-widgets/controls",
      "_model_module_version": "1.5.0",
      "_model_name": "DescriptionStyleModel",
      "_view_count": null,
      "_view_module": "@jupyter-widgets/base",
      "_view_module_version": "1.2.0",
      "_view_name": "StyleView",
      "description_width": ""
     }
    },
    "51fa724d0e5b4ad88118fffbc1975e98": {
     "model_module": "@jupyter-widgets/controls",
     "model_name": "ProgressStyleModel",
     "state": {
      "_model_module": "@jupyter-widgets/controls",
      "_model_module_version": "1.5.0",
      "_model_name": "ProgressStyleModel",
      "_view_count": null,
      "_view_module": "@jupyter-widgets/base",
      "_view_module_version": "1.2.0",
      "_view_name": "StyleView",
      "bar_color": null,
      "description_width": "initial"
     }
    },
    "66325593a984403cb8938b675cd27c53": {
     "model_module": "@jupyter-widgets/controls",
     "model_name": "HTMLModel",
     "state": {
      "_dom_classes": [],
      "_model_module": "@jupyter-widgets/controls",
      "_model_module_version": "1.5.0",
      "_model_name": "HTMLModel",
      "_view_count": null,
      "_view_module": "@jupyter-widgets/controls",
      "_view_module_version": "1.5.0",
      "_view_name": "HTMLView",
      "description": "",
      "description_tooltip": null,
      "layout": "IPY_MODEL_806abc6147a04789872952ff1393b0de",
      "placeholder": "​",
      "style": "IPY_MODEL_2c42243b008547f883b5eea66f3c2a3e",
      "value": " 0/4542 [00:00&lt;?, ?it/s]"
     }
    },
    "6f3da27183b04c2e820c9feec6f17fbc": {
     "model_module": "@jupyter-widgets/controls",
     "model_name": "ProgressStyleModel",
     "state": {
      "_model_module": "@jupyter-widgets/controls",
      "_model_module_version": "1.5.0",
      "_model_name": "ProgressStyleModel",
      "_view_count": null,
      "_view_module": "@jupyter-widgets/base",
      "_view_module_version": "1.2.0",
      "_view_name": "StyleView",
      "bar_color": null,
      "description_width": "initial"
     }
    },
    "7297fddcd0f44e0597891094febaf59d": {
     "model_module": "@jupyter-widgets/base",
     "model_name": "LayoutModel",
     "state": {
      "_model_module": "@jupyter-widgets/base",
      "_model_module_version": "1.2.0",
      "_model_name": "LayoutModel",
      "_view_count": null,
      "_view_module": "@jupyter-widgets/base",
      "_view_module_version": "1.2.0",
      "_view_name": "LayoutView",
      "align_content": null,
      "align_items": null,
      "align_self": null,
      "border": null,
      "bottom": null,
      "display": null,
      "flex": null,
      "flex_flow": null,
      "grid_area": null,
      "grid_auto_columns": null,
      "grid_auto_flow": null,
      "grid_auto_rows": null,
      "grid_column": null,
      "grid_gap": null,
      "grid_row": null,
      "grid_template_areas": null,
      "grid_template_columns": null,
      "grid_template_rows": null,
      "height": null,
      "justify_content": null,
      "justify_items": null,
      "left": null,
      "margin": null,
      "max_height": null,
      "max_width": null,
      "min_height": null,
      "min_width": null,
      "object_fit": null,
      "object_position": null,
      "order": null,
      "overflow": null,
      "overflow_x": null,
      "overflow_y": null,
      "padding": null,
      "right": null,
      "top": null,
      "visibility": null,
      "width": null
     }
    },
    "7486b9fa622642a192d0aaf3dc0e2e3f": {
     "model_module": "@jupyter-widgets/controls",
     "model_name": "HBoxModel",
     "state": {
      "_dom_classes": [],
      "_model_module": "@jupyter-widgets/controls",
      "_model_module_version": "1.5.0",
      "_model_name": "HBoxModel",
      "_view_count": null,
      "_view_module": "@jupyter-widgets/controls",
      "_view_module_version": "1.5.0",
      "_view_name": "HBoxView",
      "box_style": "",
      "children": [
       "IPY_MODEL_23626423d5814c92a3994ab7e6ca98d2",
       "IPY_MODEL_be05cd1e23364d7480dffb730456771e"
      ],
      "layout": "IPY_MODEL_10e3ce3d34514a10b9e4ab6db36ab442"
     }
    },
    "806abc6147a04789872952ff1393b0de": {
     "model_module": "@jupyter-widgets/base",
     "model_name": "LayoutModel",
     "state": {
      "_model_module": "@jupyter-widgets/base",
      "_model_module_version": "1.2.0",
      "_model_name": "LayoutModel",
      "_view_count": null,
      "_view_module": "@jupyter-widgets/base",
      "_view_module_version": "1.2.0",
      "_view_name": "LayoutView",
      "align_content": null,
      "align_items": null,
      "align_self": null,
      "border": null,
      "bottom": null,
      "display": null,
      "flex": null,
      "flex_flow": null,
      "grid_area": null,
      "grid_auto_columns": null,
      "grid_auto_flow": null,
      "grid_auto_rows": null,
      "grid_column": null,
      "grid_gap": null,
      "grid_row": null,
      "grid_template_areas": null,
      "grid_template_columns": null,
      "grid_template_rows": null,
      "height": null,
      "justify_content": null,
      "justify_items": null,
      "left": null,
      "margin": null,
      "max_height": null,
      "max_width": null,
      "min_height": null,
      "min_width": null,
      "object_fit": null,
      "object_position": null,
      "order": null,
      "overflow": null,
      "overflow_x": null,
      "overflow_y": null,
      "padding": null,
      "right": null,
      "top": null,
      "visibility": null,
      "width": null
     }
    },
    "8959fb24d8f743109195f6137ac84e8c": {
     "model_module": "@jupyter-widgets/base",
     "model_name": "LayoutModel",
     "state": {
      "_model_module": "@jupyter-widgets/base",
      "_model_module_version": "1.2.0",
      "_model_name": "LayoutModel",
      "_view_count": null,
      "_view_module": "@jupyter-widgets/base",
      "_view_module_version": "1.2.0",
      "_view_name": "LayoutView",
      "align_content": null,
      "align_items": null,
      "align_self": null,
      "border": null,
      "bottom": null,
      "display": null,
      "flex": null,
      "flex_flow": null,
      "grid_area": null,
      "grid_auto_columns": null,
      "grid_auto_flow": null,
      "grid_auto_rows": null,
      "grid_column": null,
      "grid_gap": null,
      "grid_row": null,
      "grid_template_areas": null,
      "grid_template_columns": null,
      "grid_template_rows": null,
      "height": null,
      "justify_content": null,
      "justify_items": null,
      "left": null,
      "margin": null,
      "max_height": null,
      "max_width": null,
      "min_height": null,
      "min_width": null,
      "object_fit": null,
      "object_position": null,
      "order": null,
      "overflow": null,
      "overflow_x": null,
      "overflow_y": null,
      "padding": null,
      "right": null,
      "top": null,
      "visibility": null,
      "width": null
     }
    },
    "8a7eddb0c5664742aedceb923dbc49dd": {
     "model_module": "@jupyter-widgets/controls",
     "model_name": "HTMLModel",
     "state": {
      "_dom_classes": [],
      "_model_module": "@jupyter-widgets/controls",
      "_model_module_version": "1.5.0",
      "_model_name": "HTMLModel",
      "_view_count": null,
      "_view_module": "@jupyter-widgets/controls",
      "_view_module_version": "1.5.0",
      "_view_name": "HTMLView",
      "description": "",
      "description_tooltip": null,
      "layout": "IPY_MODEL_ef50f38293b44ebda0502b4d33382f28",
      "placeholder": "​",
      "style": "IPY_MODEL_4b2dffc2e7984cc98ff49c205477ab96",
      "value": " 1654784/? [00:17&lt;00:00, 662551.73it/s]"
     }
    },
    "8ec34f77808e4008bd7d4b370b824560": {
     "model_module": "@jupyter-widgets/controls",
     "model_name": "IntProgressModel",
     "state": {
      "_dom_classes": [],
      "_model_module": "@jupyter-widgets/controls",
      "_model_module_version": "1.5.0",
      "_model_name": "IntProgressModel",
      "_view_count": null,
      "_view_module": "@jupyter-widgets/controls",
      "_view_module_version": "1.5.0",
      "_view_name": "ProgressView",
      "bar_style": "info",
      "description": "  0%",
      "description_tooltip": null,
      "layout": "IPY_MODEL_cedf4ef062544401a41a097511d27cf8",
      "max": 1,
      "min": 0,
      "orientation": "horizontal",
      "style": "IPY_MODEL_6f3da27183b04c2e820c9feec6f17fbc",
      "value": 0
     }
    },
    "a0180d47f8cf449fb92330c51e90f456": {
     "model_module": "@jupyter-widgets/base",
     "model_name": "LayoutModel",
     "state": {
      "_model_module": "@jupyter-widgets/base",
      "_model_module_version": "1.2.0",
      "_model_name": "LayoutModel",
      "_view_count": null,
      "_view_module": "@jupyter-widgets/base",
      "_view_module_version": "1.2.0",
      "_view_name": "LayoutView",
      "align_content": null,
      "align_items": null,
      "align_self": null,
      "border": null,
      "bottom": null,
      "display": null,
      "flex": null,
      "flex_flow": null,
      "grid_area": null,
      "grid_auto_columns": null,
      "grid_auto_flow": null,
      "grid_auto_rows": null,
      "grid_column": null,
      "grid_gap": null,
      "grid_row": null,
      "grid_template_areas": null,
      "grid_template_columns": null,
      "grid_template_rows": null,
      "height": null,
      "justify_content": null,
      "justify_items": null,
      "left": null,
      "margin": null,
      "max_height": null,
      "max_width": null,
      "min_height": null,
      "min_width": null,
      "object_fit": null,
      "object_position": null,
      "order": null,
      "overflow": null,
      "overflow_x": null,
      "overflow_y": null,
      "padding": null,
      "right": null,
      "top": null,
      "visibility": null,
      "width": null
     }
    },
    "a7ed5cfc8e714c5bbffc237f5dabdf2e": {
     "model_module": "@jupyter-widgets/base",
     "model_name": "LayoutModel",
     "state": {
      "_model_module": "@jupyter-widgets/base",
      "_model_module_version": "1.2.0",
      "_model_name": "LayoutModel",
      "_view_count": null,
      "_view_module": "@jupyter-widgets/base",
      "_view_module_version": "1.2.0",
      "_view_name": "LayoutView",
      "align_content": null,
      "align_items": null,
      "align_self": null,
      "border": null,
      "bottom": null,
      "display": null,
      "flex": null,
      "flex_flow": null,
      "grid_area": null,
      "grid_auto_columns": null,
      "grid_auto_flow": null,
      "grid_auto_rows": null,
      "grid_column": null,
      "grid_gap": null,
      "grid_row": null,
      "grid_template_areas": null,
      "grid_template_columns": null,
      "grid_template_rows": null,
      "height": null,
      "justify_content": null,
      "justify_items": null,
      "left": null,
      "margin": null,
      "max_height": null,
      "max_width": null,
      "min_height": null,
      "min_width": null,
      "object_fit": null,
      "object_position": null,
      "order": null,
      "overflow": null,
      "overflow_x": null,
      "overflow_y": null,
      "padding": null,
      "right": null,
      "top": null,
      "visibility": null,
      "width": null
     }
    },
    "ab6de8e98731482598100d7685e50a8f": {
     "model_module": "@jupyter-widgets/base",
     "model_name": "LayoutModel",
     "state": {
      "_model_module": "@jupyter-widgets/base",
      "_model_module_version": "1.2.0",
      "_model_name": "LayoutModel",
      "_view_count": null,
      "_view_module": "@jupyter-widgets/base",
      "_view_module_version": "1.2.0",
      "_view_name": "LayoutView",
      "align_content": null,
      "align_items": null,
      "align_self": null,
      "border": null,
      "bottom": null,
      "display": null,
      "flex": null,
      "flex_flow": null,
      "grid_area": null,
      "grid_auto_columns": null,
      "grid_auto_flow": null,
      "grid_auto_rows": null,
      "grid_column": null,
      "grid_gap": null,
      "grid_row": null,
      "grid_template_areas": null,
      "grid_template_columns": null,
      "grid_template_rows": null,
      "height": null,
      "justify_content": null,
      "justify_items": null,
      "left": null,
      "margin": null,
      "max_height": null,
      "max_width": null,
      "min_height": null,
      "min_width": null,
      "object_fit": null,
      "object_position": null,
      "order": null,
      "overflow": null,
      "overflow_x": null,
      "overflow_y": null,
      "padding": null,
      "right": null,
      "top": null,
      "visibility": null,
      "width": null
     }
    },
    "b396601030a34dbea60cc7bc12d14464": {
     "model_module": "@jupyter-widgets/base",
     "model_name": "LayoutModel",
     "state": {
      "_model_module": "@jupyter-widgets/base",
      "_model_module_version": "1.2.0",
      "_model_name": "LayoutModel",
      "_view_count": null,
      "_view_module": "@jupyter-widgets/base",
      "_view_module_version": "1.2.0",
      "_view_name": "LayoutView",
      "align_content": null,
      "align_items": null,
      "align_self": null,
      "border": null,
      "bottom": null,
      "display": null,
      "flex": null,
      "flex_flow": null,
      "grid_area": null,
      "grid_auto_columns": null,
      "grid_auto_flow": null,
      "grid_auto_rows": null,
      "grid_column": null,
      "grid_gap": null,
      "grid_row": null,
      "grid_template_areas": null,
      "grid_template_columns": null,
      "grid_template_rows": null,
      "height": null,
      "justify_content": null,
      "justify_items": null,
      "left": null,
      "margin": null,
      "max_height": null,
      "max_width": null,
      "min_height": null,
      "min_width": null,
      "object_fit": null,
      "object_position": null,
      "order": null,
      "overflow": null,
      "overflow_x": null,
      "overflow_y": null,
      "padding": null,
      "right": null,
      "top": null,
      "visibility": null,
      "width": null
     }
    },
    "be05cd1e23364d7480dffb730456771e": {
     "model_module": "@jupyter-widgets/controls",
     "model_name": "HTMLModel",
     "state": {
      "_dom_classes": [],
      "_model_module": "@jupyter-widgets/controls",
      "_model_module_version": "1.5.0",
      "_model_name": "HTMLModel",
      "_view_count": null,
      "_view_module": "@jupyter-widgets/controls",
      "_view_module_version": "1.5.0",
      "_view_name": "HTMLView",
      "description": "",
      "description_tooltip": null,
      "layout": "IPY_MODEL_8959fb24d8f743109195f6137ac84e8c",
      "placeholder": "​",
      "style": "IPY_MODEL_44b05c284343474c81a4f897a3f18284",
      "value": " 0/28881 [00:01&lt;?, ?it/s]"
     }
    },
    "c2c6f4d6a0ae4dc3a0d1fa863f08c968": {
     "model_module": "@jupyter-widgets/controls",
     "model_name": "HBoxModel",
     "state": {
      "_dom_classes": [],
      "_model_module": "@jupyter-widgets/controls",
      "_model_module_version": "1.5.0",
      "_model_name": "HBoxModel",
      "_view_count": null,
      "_view_module": "@jupyter-widgets/controls",
      "_view_module_version": "1.5.0",
      "_view_name": "HBoxView",
      "box_style": "",
      "children": [
       "IPY_MODEL_8ec34f77808e4008bd7d4b370b824560",
       "IPY_MODEL_66325593a984403cb8938b675cd27c53"
      ],
      "layout": "IPY_MODEL_dae9d72a17da4626a3bec4d746bc482a"
     }
    },
    "ccf8583af1db4b5a89ac1050cd0e8260": {
     "model_module": "@jupyter-widgets/controls",
     "model_name": "IntProgressModel",
     "state": {
      "_dom_classes": [],
      "_model_module": "@jupyter-widgets/controls",
      "_model_module_version": "1.5.0",
      "_model_name": "IntProgressModel",
      "_view_count": null,
      "_view_module": "@jupyter-widgets/controls",
      "_view_module_version": "1.5.0",
      "_view_name": "ProgressView",
      "bar_style": "info",
      "description": "",
      "description_tooltip": null,
      "layout": "IPY_MODEL_a7ed5cfc8e714c5bbffc237f5dabdf2e",
      "max": 1,
      "min": 0,
      "orientation": "horizontal",
      "style": "IPY_MODEL_187946388ec34cb191aa2fe4133f7dd6",
      "value": 1
     }
    },
    "cedf4ef062544401a41a097511d27cf8": {
     "model_module": "@jupyter-widgets/base",
     "model_name": "LayoutModel",
     "state": {
      "_model_module": "@jupyter-widgets/base",
      "_model_module_version": "1.2.0",
      "_model_name": "LayoutModel",
      "_view_count": null,
      "_view_module": "@jupyter-widgets/base",
      "_view_module_version": "1.2.0",
      "_view_name": "LayoutView",
      "align_content": null,
      "align_items": null,
      "align_self": null,
      "border": null,
      "bottom": null,
      "display": null,
      "flex": null,
      "flex_flow": null,
      "grid_area": null,
      "grid_auto_columns": null,
      "grid_auto_flow": null,
      "grid_auto_rows": null,
      "grid_column": null,
      "grid_gap": null,
      "grid_row": null,
      "grid_template_areas": null,
      "grid_template_columns": null,
      "grid_template_rows": null,
      "height": null,
      "justify_content": null,
      "justify_items": null,
      "left": null,
      "margin": null,
      "max_height": null,
      "max_width": null,
      "min_height": null,
      "min_width": null,
      "object_fit": null,
      "object_position": null,
      "order": null,
      "overflow": null,
      "overflow_x": null,
      "overflow_y": null,
      "padding": null,
      "right": null,
      "top": null,
      "visibility": null,
      "width": null
     }
    },
    "d71ee3e053704985b7574018fc6614ee": {
     "model_module": "@jupyter-widgets/controls",
     "model_name": "IntProgressModel",
     "state": {
      "_dom_classes": [],
      "_model_module": "@jupyter-widgets/controls",
      "_model_module_version": "1.5.0",
      "_model_name": "IntProgressModel",
      "_view_count": null,
      "_view_module": "@jupyter-widgets/controls",
      "_view_module_version": "1.5.0",
      "_view_name": "ProgressView",
      "bar_style": "info",
      "description": "",
      "description_tooltip": null,
      "layout": "IPY_MODEL_a0180d47f8cf449fb92330c51e90f456",
      "max": 1,
      "min": 0,
      "orientation": "horizontal",
      "style": "IPY_MODEL_51fa724d0e5b4ad88118fffbc1975e98",
      "value": 1
     }
    },
    "dae9d72a17da4626a3bec4d746bc482a": {
     "model_module": "@jupyter-widgets/base",
     "model_name": "LayoutModel",
     "state": {
      "_model_module": "@jupyter-widgets/base",
      "_model_module_version": "1.2.0",
      "_model_name": "LayoutModel",
      "_view_count": null,
      "_view_module": "@jupyter-widgets/base",
      "_view_module_version": "1.2.0",
      "_view_name": "LayoutView",
      "align_content": null,
      "align_items": null,
      "align_self": null,
      "border": null,
      "bottom": null,
      "display": null,
      "flex": null,
      "flex_flow": null,
      "grid_area": null,
      "grid_auto_columns": null,
      "grid_auto_flow": null,
      "grid_auto_rows": null,
      "grid_column": null,
      "grid_gap": null,
      "grid_row": null,
      "grid_template_areas": null,
      "grid_template_columns": null,
      "grid_template_rows": null,
      "height": null,
      "justify_content": null,
      "justify_items": null,
      "left": null,
      "margin": null,
      "max_height": null,
      "max_width": null,
      "min_height": null,
      "min_width": null,
      "object_fit": null,
      "object_position": null,
      "order": null,
      "overflow": null,
      "overflow_x": null,
      "overflow_y": null,
      "padding": null,
      "right": null,
      "top": null,
      "visibility": null,
      "width": null
     }
    },
    "e1167a767af14e778371ee47d0da0ad1": {
     "model_module": "@jupyter-widgets/controls",
     "model_name": "DescriptionStyleModel",
     "state": {
      "_model_module": "@jupyter-widgets/controls",
      "_model_module_version": "1.5.0",
      "_model_name": "DescriptionStyleModel",
      "_view_count": null,
      "_view_module": "@jupyter-widgets/base",
      "_view_module_version": "1.2.0",
      "_view_name": "StyleView",
      "description_width": ""
     }
    },
    "e9a86a0d4d1a4804b5e3bfa3d153e1f4": {
     "model_module": "@jupyter-widgets/controls",
     "model_name": "HBoxModel",
     "state": {
      "_dom_classes": [],
      "_model_module": "@jupyter-widgets/controls",
      "_model_module_version": "1.5.0",
      "_model_name": "HBoxModel",
      "_view_count": null,
      "_view_module": "@jupyter-widgets/controls",
      "_view_module_version": "1.5.0",
      "_view_name": "HBoxView",
      "box_style": "",
      "children": [
       "IPY_MODEL_ccf8583af1db4b5a89ac1050cd0e8260",
       "IPY_MODEL_8a7eddb0c5664742aedceb923dbc49dd"
      ],
      "layout": "IPY_MODEL_ab6de8e98731482598100d7685e50a8f"
     }
    },
    "ef0345372cae48b99587babad495d439": {
     "model_module": "@jupyter-widgets/base",
     "model_name": "LayoutModel",
     "state": {
      "_model_module": "@jupyter-widgets/base",
      "_model_module_version": "1.2.0",
      "_model_name": "LayoutModel",
      "_view_count": null,
      "_view_module": "@jupyter-widgets/base",
      "_view_module_version": "1.2.0",
      "_view_name": "LayoutView",
      "align_content": null,
      "align_items": null,
      "align_self": null,
      "border": null,
      "bottom": null,
      "display": null,
      "flex": null,
      "flex_flow": null,
      "grid_area": null,
      "grid_auto_columns": null,
      "grid_auto_flow": null,
      "grid_auto_rows": null,
      "grid_column": null,
      "grid_gap": null,
      "grid_row": null,
      "grid_template_areas": null,
      "grid_template_columns": null,
      "grid_template_rows": null,
      "height": null,
      "justify_content": null,
      "justify_items": null,
      "left": null,
      "margin": null,
      "max_height": null,
      "max_width": null,
      "min_height": null,
      "min_width": null,
      "object_fit": null,
      "object_position": null,
      "order": null,
      "overflow": null,
      "overflow_x": null,
      "overflow_y": null,
      "padding": null,
      "right": null,
      "top": null,
      "visibility": null,
      "width": null
     }
    },
    "ef50f38293b44ebda0502b4d33382f28": {
     "model_module": "@jupyter-widgets/base",
     "model_name": "LayoutModel",
     "state": {
      "_model_module": "@jupyter-widgets/base",
      "_model_module_version": "1.2.0",
      "_model_name": "LayoutModel",
      "_view_count": null,
      "_view_module": "@jupyter-widgets/base",
      "_view_module_version": "1.2.0",
      "_view_name": "LayoutView",
      "align_content": null,
      "align_items": null,
      "align_self": null,
      "border": null,
      "bottom": null,
      "display": null,
      "flex": null,
      "flex_flow": null,
      "grid_area": null,
      "grid_auto_columns": null,
      "grid_auto_flow": null,
      "grid_auto_rows": null,
      "grid_column": null,
      "grid_gap": null,
      "grid_row": null,
      "grid_template_areas": null,
      "grid_template_columns": null,
      "grid_template_rows": null,
      "height": null,
      "justify_content": null,
      "justify_items": null,
      "left": null,
      "margin": null,
      "max_height": null,
      "max_width": null,
      "min_height": null,
      "min_width": null,
      "object_fit": null,
      "object_position": null,
      "order": null,
      "overflow": null,
      "overflow_x": null,
      "overflow_y": null,
      "padding": null,
      "right": null,
      "top": null,
      "visibility": null,
      "width": null
     }
    },
    "f199c38217d3472fb6374b5bc481e78f": {
     "model_module": "@jupyter-widgets/controls",
     "model_name": "HBoxModel",
     "state": {
      "_dom_classes": [],
      "_model_module": "@jupyter-widgets/controls",
      "_model_module_version": "1.5.0",
      "_model_name": "HBoxModel",
      "_view_count": null,
      "_view_module": "@jupyter-widgets/controls",
      "_view_module_version": "1.5.0",
      "_view_name": "HBoxView",
      "box_style": "",
      "children": [
       "IPY_MODEL_d71ee3e053704985b7574018fc6614ee",
       "IPY_MODEL_f6d6b24f9be54e81936f379b3459b012"
      ],
      "layout": "IPY_MODEL_ef0345372cae48b99587babad495d439"
     }
    },
    "f6d6b24f9be54e81936f379b3459b012": {
     "model_module": "@jupyter-widgets/controls",
     "model_name": "HTMLModel",
     "state": {
      "_dom_classes": [],
      "_model_module": "@jupyter-widgets/controls",
      "_model_module_version": "1.5.0",
      "_model_name": "HTMLModel",
      "_view_count": null,
      "_view_module": "@jupyter-widgets/controls",
      "_view_module_version": "1.5.0",
      "_view_name": "HTMLView",
      "description": "",
      "description_tooltip": null,
      "layout": "IPY_MODEL_b396601030a34dbea60cc7bc12d14464",
      "placeholder": "​",
      "style": "IPY_MODEL_e1167a767af14e778371ee47d0da0ad1",
      "value": " 9920512/? [00:20&lt;00:00, 2381914.57it/s]"
     }
    }
   }
  }
 },
 "nbformat": 4,
 "nbformat_minor": 4
}
