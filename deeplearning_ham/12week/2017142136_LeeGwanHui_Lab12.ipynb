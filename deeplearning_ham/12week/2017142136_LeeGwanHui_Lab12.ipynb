{
 "cells": [
  {
   "cell_type": "markdown",
   "metadata": {
    "id": "upEJK8UUDnyn"
   },
   "source": [
    "> ### EEE4423: Deep Learning Lab\n",
    "\n",
    "# LAB \\#12: Sequence to Sequence Network with Attention Module\n",
    "## Machine Translation with Attention"
   ]
  },
  {
   "cell_type": "markdown",
   "metadata": {
    "id": "IAv1aaG8Dnys"
   },
   "source": [
    "<h4><div style=\"text-align: right\"> Due date: May 27, 2022. </div> <br>\n",
    "<div style=\"text-align: right\"> Please upload your file @ LearnUs by 9 AM in the form of [ID_Name_Lab12.ipynb]. </div></h4>\n",
    "\n",
    "### *Instructions:*\n",
    "- Write a program implementing a particular algorithm to solve a given problem.   \n",
    "- <span style=\"color:red\">**Report and discuss your results. Analyze the algorithm, theoretically and empirically.**</span> \n",
    "- Each team must write their own answers and codes (<span style=\"color:red\">**if not you will get a F grade**</span>)."
   ]
  },
  {
   "cell_type": "markdown",
   "metadata": {
    "id": "SULIl9bRDnys"
   },
   "source": [
    "<h2><span style=\"color:blue\">[2017142136] [이관희]</span> </h2>"
   ]
  },
  {
   "cell_type": "code",
   "execution_count": 1,
   "metadata": {
    "id": "2JP0LD9nDnys",
    "outputId": "0c1a8aae-4843-435b-dbaa-9624d918ff03"
   },
   "outputs": [
    {
     "name": "stdout",
     "output_type": "stream",
     "text": [
      "This code is written at 2022-05-26 02:09:06.706751\n"
     ]
    }
   ],
   "source": [
    "import datetime\n",
    "print(\"This code is written at \" + str(datetime.datetime.now()))"
   ]
  },
  {
   "cell_type": "markdown",
   "metadata": {
    "id": "mBvC_gonDnyu"
   },
   "source": [
    "In this project we will be teaching a neural network to translate from\n",
    "French to English.\n",
    "*************************************************************\n",
    "::\n",
    "\n",
    "    [(>): input, (=): target, (<): output]\n",
    "\n",
    "    > il est en train de peindre un tableau .\n",
    "    = he is painting a picture .\n",
    "    < he is painting a picture .\n",
    "\n",
    "    > pourquoi ne pas essayer ce vin delicieux ?\n",
    "    = why not try that delicious wine ?\n",
    "    < why not try that delicious wine ?\n",
    "\n",
    "    > elle n est pas poete mais romanciere .\n",
    "    = she is not a poet but a novelist .\n",
    "    < she not not a poet but a novelist .\n",
    "\n",
    "    > vous etes trop maigre .\n",
    "    = you re too skinny .\n",
    "    < you re all alone .\n",
    "\n",
    "...\n",
    "*************************************************************"
   ]
  },
  {
   "cell_type": "code",
   "execution_count": 2,
   "metadata": {
    "id": "nLSIcUoZDnyu"
   },
   "outputs": [],
   "source": [
    "from __future__ import unicode_literals, print_function, division\n",
    "from io import open\n",
    "import unicodedata\n",
    "import string\n",
    "import re\n",
    "import random\n",
    "\n",
    "import torch\n",
    "import torch.nn as nn\n",
    "from torch import optim\n",
    "import torch.nn.functional as F\n",
    "\n",
    "device = torch.device(\"cuda\" if torch.cuda.is_available() else \"cpu\")"
   ]
  },
  {
   "cell_type": "code",
   "execution_count": 3,
   "metadata": {},
   "outputs": [
    {
     "name": "stdout",
     "output_type": "stream",
     "text": [
      "cuda\n"
     ]
    }
   ],
   "source": [
    "print(device)"
   ]
  },
  {
   "cell_type": "markdown",
   "metadata": {
    "id": "6v0s8XW7Dnyv"
   },
   "source": [
    "### 1. Prepare data\n",
    "\n",
    "The data for this project is a set of many thousands of English to French translation pairs. Download the data from <https://download.pytorch.org/tutorial/data.zip>. The file is a tab separated list of translation pairs:\n",
    "\n",
    "\n",
    "    I am cold.    J'ai froid.\n",
    "    \n",
    "<img src=\"https://drive.google.com/uc?export=view&id=1K3W2RxeTKih5IiT5PcIyWNZSwMqtYSGZ\"  onerror=\"this.style.display='none'\" style=\"width: 600px;\"/><br><br>"
   ]
  },
  {
   "cell_type": "code",
   "execution_count": 4,
   "metadata": {
    "id": "Xn2soUCGDnyv",
    "outputId": "a76ed812-6017-4ceb-a52c-2fd70a6b1377"
   },
   "outputs": [
    {
     "name": "stdout",
     "output_type": "stream",
     "text": [
      "Read 135842 sentence pairs\n",
      "Trimmed to 10599 sentence pairs\n",
      "Counted words: fra = 4345 eng = 2803\n",
      "['vous etes fort occupee .', 'you re very busy .']\n"
     ]
    }
   ],
   "source": [
    "SOS_token = 0 # 문장의 시작을 의미함\n",
    "EOS_token = 1 # 문장의 끝을 의미함\n",
    "\n",
    "# 단어를 index로 변환하는 문제이다.\n",
    "class Lang:\n",
    "    def __init__(self, name):\n",
    "        self.name = name\n",
    "        self.word2index = {}\n",
    "        self.word2count = {}\n",
    "        self.index2word = {0: \"SOS\", 1: \"EOS\"}\n",
    "        self.n_words = 2  # Count SOS and EOS\n",
    "\n",
    "    def addSentence(self, sentence):\n",
    "        for word in sentence.split(' '):\n",
    "            self.addWord(word)\n",
    "\n",
    "    def addWord(self, word):\n",
    "        if word not in self.word2index:\n",
    "            self.word2index[word] = self.n_words # 그 단어 넣기\n",
    "            self.word2count[word] = 1 # 몇개가 온지 숫자 세기\n",
    "            self.index2word[self.n_words] = word\n",
    "            self.n_words += 1\n",
    "        else:\n",
    "            self.word2count[word] += 1\n",
    "\n",
    "# 일부 문장 만 선택\n",
    "            \n",
    "MAX_LENGTH = 10\n",
    "eng_prefixes = (\n",
    "    \"i am \", \"i m \",\n",
    "    \"he is\", \"he s \",\n",
    "    \"she is\", \"she s \",\n",
    "    \"you are\", \"you re \",\n",
    "    \"we are\", \"we re \",\n",
    "    \"they are\", \"they re \")\n",
    "            \n",
    "def filterPair(p):\n",
    "    return len(p[0].split(' ')) < MAX_LENGTH and \\\n",
    "        len(p[1].split(' ')) < MAX_LENGTH and \\\n",
    "        p[1].startswith(eng_prefixes)\n",
    "\n",
    "def filterPairs(pairs):\n",
    "    return [pair for pair in pairs if filterPair(pair)]\n",
    "\n",
    "# Turn a Unicode string to plain ASCII, thanks to https://stackoverflow.com/a/518232/2809427\n",
    "def unicodeToAscii(s):\n",
    "    return ''.join( c for c in unicodedata.normalize('NFD', s) if unicodedata.category(c) != 'Mn')\n",
    "# 질문 : 무슨 뜻인지 이해가 되지 않습니다. -> 그냥\n",
    "\n",
    "# Lowercase, trim, and remove non-letter characters\n",
    "def normalizeString(s):\n",
    "    s = unicodeToAscii(s.lower().strip()) # 빈 문자 제거\n",
    "    s = re.sub(r\"([.!?])\", r\" \\1\", s) # text_mod = re.sub('apble|abple',\"apple\",text) 변경\n",
    "    s = re.sub(r\"[^a-zA-Z.!?]+\", r\" \", s)\n",
    "    return s\n",
    "# 질문 : 이게 왜 normalize 이지? -> \n",
    "\n",
    "def readLangs(lang1, lang2, reverse=False):\n",
    "    # Read the file and split into lines\n",
    "    lines = open('../dataset/lab12/%s-%s.txt' % (lang1, lang2), encoding='utf-8').\\\n",
    "        read().strip().split('\\n')\n",
    "\n",
    "    # Split every line into pairs and normalize\n",
    "    pairs = [[normalizeString(s) for s in l.split('\\t')] for l in lines]\n",
    "\n",
    "    # Reverse pairs, make Lang instances\n",
    "    if reverse:\n",
    "        pairs = [list(reversed(p)) for p in pairs]\n",
    "        input_lang = Lang(lang2)\n",
    "        output_lang = Lang(lang1)\n",
    "    else:\n",
    "        input_lang = Lang(lang1)\n",
    "        output_lang = Lang(lang2)\n",
    "\n",
    "    return input_lang, output_lang, pairs\n",
    "\n",
    "# 데이터 준비\n",
    "def prepareData(lang1, lang2, reverse=False):\n",
    "    input_lang, output_lang, pairs = readLangs(lang1, lang2, reverse)\n",
    "    print(\"Read %s sentence pairs\" % len(pairs))\n",
    "\n",
    "    pairs = filterPairs(pairs)\n",
    "    print(\"Trimmed to %s sentence pairs\" % len(pairs))\n",
    "\n",
    "    for pair in pairs:\n",
    "        input_lang.addSentence(pair[0])\n",
    "        # 질문 : pair[0]를 의미하는 것\n",
    "        output_lang.addSentence(pair[1])\n",
    "        # 질문 : pair[1]을 의미하는 것\n",
    "    print(\"Counted words:\", input_lang.name, '=', input_lang.n_words, output_lang.name, '=', output_lang.n_words)\n",
    "    return input_lang, output_lang, pairs\n",
    "\n",
    "input_lang, output_lang, pairs = prepareData('eng', 'fra', True)\n",
    "print(random.choice(pairs))"
   ]
  },
  {
   "cell_type": "code",
   "execution_count": 5,
   "metadata": {
    "id": "A8yVC59WDnyw"
   },
   "outputs": [],
   "source": [
    "def indexesFromSentence(lang, sentence):\n",
    "    return [lang.word2index[word] for word in sentence.split(' ')]\n",
    "\n",
    "def tensorFromSentence(lang, sentence):\n",
    "    indexes = indexesFromSentence(lang, sentence)\n",
    "    indexes.append(EOS_token)\n",
    "    return torch.tensor(indexes, dtype=torch.long, device=device).view(-1, 1)\n",
    "\n",
    "def tensorsFromPair(pair):\n",
    "    input_tensor = tensorFromSentence(input_lang, pair[0])\n",
    "    target_tensor = tensorFromSentence(output_lang, pair[1])\n",
    "    return (input_tensor, target_tensor)"
   ]
  },
  {
   "cell_type": "markdown",
   "metadata": {
    "id": "m4qXkB3DDnyw"
   },
   "source": [
    "### 2. Build the Seq2Seq model [5 points]\n",
    "\n",
    "<img src=\"https://drive.google.com/uc?export=view&id=1kKXrIIxi0t-Nm5HfzOukqjzEp7yEXEpV\"  onerror=\"this.style.display='none'\" /><br><br>\n",
    "\n",
    "[sequence to sequence network](https://arxiv.org/abs/1409.3215) is a model in which two\n",
    "recurrent neural networks work together to transform one sequence to\n",
    "another. An encoder network condenses an input sequence into a single vector,\n",
    "and a decoder network unfolds that vector into a new sequence.\n",
    "\n",
    "Unlike sequence prediction with a single RNN, where every input\n",
    "corresponds to an output, the seq2seq model frees us from sequence\n",
    "length and order, which makes it ideal for translation between two\n",
    "languages."
   ]
  },
  {
   "cell_type": "markdown",
   "metadata": {
    "id": "hDTwMr5TDnyy"
   },
   "source": [
    "#### Encoder\n",
    "The encoder of a seq2seq network is a RNN that outputs some value for every word from the input sentence. For every input word the encoder outputs a vector and a hidden state, and uses the hidden state for the next input word.  \n",
    "<img src=\"https://drive.google.com/uc?export=view&id=1PyKBEVl5jwQfB0I0P2kG8nTGQVZQdZEM\"  onerror=\"this.style.display='none'\" /><br><br>\n",
    "\n",
    "#### GRU\n",
    "<img src=\"https://drive.google.com/uc?export=view&id=1467jVFRYbw1DYvVKeSyzGWLRmtlqpy8z\"  onerror=\"this.style.display='none'\" style=\"width: 700px;\"/><br><br>\n",
    "The GRU operates using a reset gate (r) and an update gate (z). The candidate state is created by using the previous hidden state and the current input. It is the reset gate that determines how the previous hidden state affects the candidate state. The newly created candidate state and the previous hidden state create a new hidden state, in which the update gate plays a role in balancing the two.\n",
    "\n",
    "#### LSTM vs GRU\n",
    "<img src=\"https://drive.google.com/uc?export=view&id=1lzGTsIYvPWKNF-XaTevMaaZvjfgp9G35\"  onerror=\"this.style.display='none'\" style=\"width: 600px;\"/><br><br>\n",
    "\n",
    "| <center>LSTM</center> | <center>GRU</center>  |\n",
    "|:--------|--------|\n",
    "| LSTM has 3 gates (forget, input, output) | GRU has 2 gates (reset, update) |\n",
    "| There is an internal memory (cell state) | There is no cell state and only hidden state exists |\n",
    "| When making output, another non-linearity is applied | There is no additional non-linearity when making output  |"
   ]
  },
  {
   "cell_type": "code",
   "execution_count": 6,
   "metadata": {},
   "outputs": [],
   "source": [
    "class GRU(nn.Module) :\n",
    "    def __init__(self, input_dim, hidden_dim):\n",
    "        super(GRU, self).__init__()\n",
    "        self.input_dim = input_dim\n",
    "        self.hidden_dim = hidden_dim\n",
    "        \n",
    "        # reset gate\n",
    "        self.reset_gate_x = nn.Linear(input_dim, hidden_dim)\n",
    "        self.reset_gate_h = nn.Linear(hidden_dim, hidden_dim)\n",
    "\n",
    "        #update_gate\n",
    "        self.update_gate_x = nn.Linear(input_dim, hidden_dim)\n",
    "        self.update_gate_h = nn.Linear(hidden_dim, hidden_dim)\n",
    "        \n",
    "        # h gate\n",
    "        self.h_gate_x = nn.Linear(input_dim, hidden_dim)\n",
    "        self.h_gate_h = nn.Linear(hidden_dim, hidden_dim)\n",
    "\n",
    "        ##output_gate\n",
    "        self.output_gate_x = nn.Linear(input_dim,hidden_dim)\n",
    "        self.output_gate_h = nn.Linear(hidden_dim,hidden_dim)\n",
    "\n",
    "        self.sigmoid = nn.Sigmoid()\n",
    "        \n",
    "        self.tanh = nn.Tanh()\n",
    "\n",
    "        self.decoder = nn.Linear(hidden_dim, hidden_dim)\n",
    "    \n",
    "    def forward(self, x , hn) :\n",
    "        ## update gate -> z_t\n",
    "        z_t=self.sigmoid(self.update_gate_x(x)+self.update_gate_h(hn)) # [1,1,100]\n",
    "        \n",
    "        ## reset gate -> r_t\n",
    "        r_t=self.sigmoid(self.reset_gate_x(x)+self.reset_gate_h(hn))      #[1,1,100]  \n",
    "        tillde_h = self.tanh(self.h_gate_x(x)+self.h_gate_h(hn*r_t)) # [1,1,100]\n",
    "        \n",
    "        ## h_t\n",
    "        h_t = (1-z_t)*tillde_h + z_t*hn\n",
    "        \n",
    "        output = self.decoder(h_t.view(1,-1)) # [1,100]\n",
    "        output = output.unsqueeze(0)\n",
    "        return output, h_t"
   ]
  },
  {
   "cell_type": "code",
   "execution_count": 7,
   "metadata": {
    "id": "PpL3bajyDnyy"
   },
   "outputs": [],
   "source": [
    "# 2 points\n",
    "class EncoderRNN(nn.Module):\n",
    "    def __init__(self, input_dim, hidden_dim):\n",
    "        super(EncoderRNN, self).__init__()\n",
    "        self.hidden_dim = hidden_dim\n",
    "        self.embedding = nn.Embedding(input_dim, hidden_dim)\n",
    "        # gru\n",
    "        # The size of input is (batch_size, seq_dim, hidden_dim)\n",
    "        ## gru 부분 다시 설계할 필요가 있다. -> module로 구현하자.\n",
    "#         self.gru = nn.GRU(hidden_dim, hidden_dim)\n",
    "        self.gru = GRU(hidden_dim, hidden_dim)\n",
    "    def forward(self, input, hn):\n",
    "        ##\n",
    "        # print(input.size()) # torch.Size([1])\n",
    "        k = self.embedding(input)\n",
    "        # print(k.size()) # torch.Size([1, 256])\n",
    "        embedded = self.embedding(input).view(1, 1, -1)\n",
    "        # print(embedded.size()) # torch.Size([1, 1, 256])\n",
    "        output, hn = self.gru(embedded, hn)\n",
    "        # print(output.size()) # torch.Size([1, 1, 256])\n",
    "#         print(hn.size()) # torch.Size([1, 1, 256])\n",
    "        return output, hn\n",
    "\n",
    "    def initHidden(self):\n",
    "        # The size of h0 should be (layer_dim, batch_size, hidden_dim)\n",
    "        #############\n",
    "        h0 = torch.zeros(1, 1, self.hidden_dim, device=device)\n",
    "        return h0\n",
    "    \n",
    "hidden_dim = 256\n",
    "encoder = EncoderRNN(input_lang.n_words, hidden_dim).to(device)"
   ]
  },
  {
   "cell_type": "code",
   "execution_count": 8,
   "metadata": {},
   "outputs": [
    {
     "data": {
      "text/plain": [
       "4345"
      ]
     },
     "execution_count": 8,
     "metadata": {},
     "output_type": "execute_result"
    }
   ],
   "source": [
    "input_lang.n_words"
   ]
  },
  {
   "cell_type": "code",
   "execution_count": 9,
   "metadata": {},
   "outputs": [],
   "source": [
    "training_pairs = [tensorsFromPair(random.choice(pairs)) for iter in range(5)]"
   ]
  },
  {
   "cell_type": "code",
   "execution_count": 10,
   "metadata": {},
   "outputs": [],
   "source": [
    "input = training_pairs[4][0]\n",
    "target = training_pairs[4][1]"
   ]
  },
  {
   "cell_type": "code",
   "execution_count": 11,
   "metadata": {},
   "outputs": [
    {
     "data": {
      "text/plain": [
       "'torch.cuda.LongTensor'"
      ]
     },
     "execution_count": 11,
     "metadata": {},
     "output_type": "execute_result"
    }
   ],
   "source": [
    "input.type()"
   ]
  },
  {
   "cell_type": "code",
   "execution_count": 12,
   "metadata": {},
   "outputs": [],
   "source": [
    "h = encoder.initHidden()\n",
    "input_length = input.size(0)\n",
    "encoder_outputs = torch.zeros(10, encoder.hidden_dim, device=device)\n",
    "\n",
    "for ei in range(input_length):\n",
    "    encoder_output, encoder_hidden = encoder(input[ei], h)\n",
    "    encoder_outputs[ei] = encoder_output[0,0]\n",
    "#     break "
   ]
  },
  {
   "cell_type": "code",
   "execution_count": 13,
   "metadata": {},
   "outputs": [
    {
     "data": {
      "text/plain": [
       "torch.Size([1, 1, 256])"
      ]
     },
     "execution_count": 13,
     "metadata": {},
     "output_type": "execute_result"
    }
   ],
   "source": [
    "encoder_output.size()"
   ]
  },
  {
   "cell_type": "code",
   "execution_count": 14,
   "metadata": {},
   "outputs": [
    {
     "data": {
      "text/plain": [
       "torch.Size([256])"
      ]
     },
     "execution_count": 14,
     "metadata": {},
     "output_type": "execute_result"
    }
   ],
   "source": [
    "encoder_output[0,0].size()"
   ]
  },
  {
   "cell_type": "code",
   "execution_count": 15,
   "metadata": {},
   "outputs": [
    {
     "data": {
      "text/plain": [
       "EncoderRNN(\n",
       "  (embedding): Embedding(4345, 256)\n",
       "  (gru): GRU(\n",
       "    (reset_gate_x): Linear(in_features=256, out_features=256, bias=True)\n",
       "    (reset_gate_h): Linear(in_features=256, out_features=256, bias=True)\n",
       "    (update_gate_x): Linear(in_features=256, out_features=256, bias=True)\n",
       "    (update_gate_h): Linear(in_features=256, out_features=256, bias=True)\n",
       "    (h_gate_x): Linear(in_features=256, out_features=256, bias=True)\n",
       "    (h_gate_h): Linear(in_features=256, out_features=256, bias=True)\n",
       "    (output_gate_x): Linear(in_features=256, out_features=256, bias=True)\n",
       "    (output_gate_h): Linear(in_features=256, out_features=256, bias=True)\n",
       "    (sigmoid): Sigmoid()\n",
       "    (tanh): Tanh()\n",
       "    (decoder): Linear(in_features=256, out_features=256, bias=True)\n",
       "  )\n",
       ")"
      ]
     },
     "execution_count": 15,
     "metadata": {},
     "output_type": "execute_result"
    }
   ],
   "source": [
    "encoder"
   ]
  },
  {
   "cell_type": "markdown",
   "metadata": {
    "id": "lGjPPHD7Dnyy"
   },
   "source": [
    "#### Decoder\n",
    "<img src=\"https://drive.google.com/uc?export=view&id=1Rm_LlpEolCvPuzPWEFOZ-zdTfsgMbtu-\"  onerror=\"this.style.display='none'\" /><br><br>\n",
    "\n",
    "If only the context vector is passed betweeen the encoder and decoder, that single vector carries the burden of encoding the entire sentence. Attention allows the decoder network to \"focus\" on a specific part of\n",
    "the encoder's outputs for every step and thus help the decoder choose the right output words. \n",
    "\n",
    "<img src=\"https://drive.google.com/uc?export=view&id=18hsS8PAA7I3QaN9oOebfnMGAMhR-6EID\"  onerror=\"this.style.display='none'\" style=\"width: 170px;\"/><br><br>\n",
    "\n",
    "<img src=\"https://drive.google.com/uc?export=view&id=1F1Y92uLvGaI6s-ygyNKNox4ZGiZmTZ3g\"  onerror=\"this.style.display='none'\" style=\"width: 170px;\"/><br><br>\n",
    "\n",
    "The attention weights are calculated using an another feed-forward layer which inputs the decoder's input and hidden state. And the calculated attention weight is multiplied to the corresponding hidden state of the encoder, respectively. Note that to actually create and train this layer we have to choose a maximum sentence length. Sentences of the maximum length will use all the attention weights, while shorter sentences will only use the first few.\n",
    "\n",
    "<img src=\"https://drive.google.com/uc?export=view&id=1JEE23gtJf4XciJUXLt2R9lZtpRn8mYCN\"  onerror=\"this.style.display='none'\" /><br><br>"
   ]
  },
  {
   "cell_type": "code",
   "execution_count": 16,
   "metadata": {
    "id": "NfWr22rFDnyz"
   },
   "outputs": [],
   "source": [
    "# 3 points\n",
    "class AttnDecoderRNN(nn.Module):\n",
    "    def __init__(self, hidden_dim, output_dim, dropout_p=0.1):\n",
    "        super(AttnDecoderRNN, self).__init__()\n",
    "        \n",
    "        self.hidden_dim = hidden_dim\n",
    "        self.output_dim = output_dim\n",
    "        self.dropout_p = dropout_p\n",
    "\n",
    "        self.embedding = nn.Embedding(self.output_dim, self.hidden_dim)\n",
    "#         self.embedding = nn.Embedding(1, self.hidden_dim) -> toy example\n",
    "        self.dropout = nn.Dropout(self.dropout_p)\n",
    "        \n",
    "        # attention\n",
    "        # Note that the column of the attention weights is MAX_LENGTH\n",
    "        # Note that concatenation is used when \"attn\" and \"attn_combine\" are created\n",
    "        #############\n",
    "        # attention은 결국 적절한 hidden_dim에 어떤 값을 곱해주는 것이다.\n",
    "        self.attention = nn.Linear(self.hidden_dim * 2, MAX_LENGTH) # MAX_LENGTH = 10\n",
    "        self.attention_combine = nn.Linear(self.hidden_dim * 2, self.hidden_dim)\n",
    "        \n",
    "        # gru\n",
    "        # The size of input is (batch_size, seq_dim, hidden_dim)\n",
    "        #############\n",
    "#         self.gru = nn.GRU(self.hidden_dim, self.hidden_dim)\n",
    "        self.gru = GRU(self.hidden_dim, self.hidden_dim)\n",
    "\n",
    "        self.out = nn.Linear(self.hidden_dim, self.output_dim)\n",
    "\n",
    "    def forward(self, input, hn, encoder_outputs):\n",
    "        input = self.embedding(input).view(1, 1, -1) # 이렇게 해야 1,1,256 이 됨.\n",
    "        input = self.dropout(input)\n",
    "        \n",
    "        # attention\n",
    "        # All specifications of the operations are described in the above figure (e.g. use ReLU)\n",
    "        # bmm is a operation which performs a batch matrix-matrix product\n",
    "        #############\n",
    "        embedded = input\n",
    "#         print(embedded.size()) # torch.Size([1, 1, 256])\n",
    "        attn_weights = F.softmax(\n",
    "            self.attention(torch.cat((embedded[0], hn[0]), 1)), dim=1) # 1,512 -> 1,10 \n",
    "        #\n",
    "#         print(attention_weights.size()) # torch.Size([1, 10]) toy example\n",
    "        attn_applied = torch.bmm(attn_weights.unsqueeze(0), encoder_outputs.unsqueeze(0))\n",
    "        # print(attn_applied.size()) -> torch.Size([1, 1, 256])\n",
    "        \n",
    "        output = torch.cat((embedded[0], attn_applied[0]), 1)\n",
    "        attn_combine = self.attention_combine(output).unsqueeze(0) # [1,1,256]\n",
    "        \n",
    "        output = F.relu(attn_combine)\n",
    "        \n",
    "        # gru\n",
    "        #############\n",
    "        output, hidden = self.gru(output, hn)\n",
    "        #print(output.size()) # torch.Size([1, 256]) -> 내가 만든 GRU\n",
    "        # print(output.size()) # torch.Size([1, 1, 256]) -> nn.GRU\n",
    "        output = F.log_softmax(self.out(output[0]), dim=1)\n",
    "        # print(output.size()) # torch.Size([1, 2803])\n",
    "        return output, hn\n",
    "\n",
    "    def initHidden(self):\n",
    "        # The size of h0 should be (layer_dim, batch_size, hidden_dim)\n",
    "        ############# 없어도 됨\n",
    "        h0 = torch.zeros(1, 1, self.hidden_dim, device=device)\n",
    "        return h0\n",
    "    \n",
    "decoder = AttnDecoderRNN(hidden_dim, output_lang.n_words, dropout_p=0.1).to(device)"
   ]
  },
  {
   "cell_type": "code",
   "execution_count": 17,
   "metadata": {},
   "outputs": [],
   "source": [
    "decoder_hidden = encoder_hidden"
   ]
  },
  {
   "cell_type": "code",
   "execution_count": 18,
   "metadata": {},
   "outputs": [],
   "source": [
    "SOS_TOKEN = 0\n",
    "decoder_input = torch.tensor([[SOS_TOKEN]], device=device)\n"
   ]
  },
  {
   "cell_type": "code",
   "execution_count": 19,
   "metadata": {
    "scrolled": true
   },
   "outputs": [
    {
     "data": {
      "text/plain": [
       "2803"
      ]
     },
     "execution_count": 19,
     "metadata": {},
     "output_type": "execute_result"
    }
   ],
   "source": [
    "output_lang.n_words"
   ]
  },
  {
   "cell_type": "code",
   "execution_count": 20,
   "metadata": {},
   "outputs": [],
   "source": [
    "embedding = nn.Embedding(1, 256)"
   ]
  },
  {
   "cell_type": "code",
   "execution_count": 21,
   "metadata": {
    "scrolled": true
   },
   "outputs": [
    {
     "data": {
      "text/plain": [
       "torch.Size([1, 1])"
      ]
     },
     "execution_count": 21,
     "metadata": {},
     "output_type": "execute_result"
    }
   ],
   "source": [
    "decoder_input.size()"
   ]
  },
  {
   "cell_type": "code",
   "execution_count": 22,
   "metadata": {
    "scrolled": true
   },
   "outputs": [],
   "source": [
    "decoder_output, decoder_hidden  = decoder(decoder_input, decoder_hidden, encoder_outputs)"
   ]
  },
  {
   "cell_type": "markdown",
   "metadata": {
    "id": "Kg2utJ-1Dnyz"
   },
   "source": [
    "### 3. Loss function and optimizer"
   ]
  },
  {
   "cell_type": "code",
   "execution_count": 23,
   "metadata": {
    "id": "KE-npWCODnyz"
   },
   "outputs": [],
   "source": [
    "criterion = nn.NLLLoss()\n",
    "\n",
    "learning_rate=0.01\n",
    "encoder_optimizer = optim.SGD(encoder.parameters(), lr=learning_rate)\n",
    "decoder_optimizer = optim.SGD(decoder.parameters(), lr=learning_rate)"
   ]
  },
  {
   "cell_type": "markdown",
   "metadata": {
    "id": "IMr9RcDBDnyz"
   },
   "source": [
    "### 4. Write the evaluation code [2 points]\n",
    "\n",
    "- Using the trained model, display the translated output given input sentence."
   ]
  },
  {
   "cell_type": "code",
   "execution_count": 24,
   "metadata": {},
   "outputs": [
    {
     "data": {
      "text/plain": [
       "<__main__.Lang at 0x7f5fbea74f40>"
      ]
     },
     "execution_count": 24,
     "metadata": {},
     "output_type": "execute_result"
    }
   ],
   "source": [
    "input_lang"
   ]
  },
  {
   "cell_type": "code",
   "execution_count": 25,
   "metadata": {
    "id": "UO3UzfFCDnyz"
   },
   "outputs": [],
   "source": [
    "def evaluate(sentence):\n",
    "    with torch.no_grad():\n",
    "        # tensor을 문장으로 바꾸자.\n",
    "        input_tensor = tensorFromSentence(input_lang, sentence)\n",
    "        input_length = input_tensor.size()[0]\n",
    "        \n",
    "        #### 값 초기화\n",
    "        encoder_hidden = encoder.initHidden()\n",
    "        \n",
    "        encoder_outputs = torch.zeros(MAX_LENGTH, encoder.hidden_dim, device=device)\n",
    "        \n",
    "        \n",
    "        #### encoder의 output을 저장\n",
    "        for i in range(input_length):\n",
    "            encoder_output, encoder_hidden = encoder(input_tensor[i],encoder_hidden)\n",
    "            encoder_outputs[i] += encoder_output[0, 0]\n",
    "        # 위에처럼 구성하면 encoder의 모든 output을 저장할 수 있다. \n",
    "        \n",
    "        # decoder의 초기값 저장\n",
    "        decoder_input = torch.tensor([[SOS_token]], device=device)\n",
    "        \n",
    "        decoder_hidden = encoder_hidden\n",
    "        \n",
    "        decoded_words = []\n",
    "        \n",
    "        #############\n",
    "        for di in range(MAX_LENGTH):\n",
    "            decoder_output, decoder_hidden = decoder(decoder_input, decoder_hidden, encoder_outputs)\n",
    "            # topk는 지정된 차원을 따라 지정된 텐서의 가장 큰 요소를 반환합니다.\n",
    "            topv, topi = decoder_output.data.topk(1)\n",
    "            # top value = topv , top index = topi를 의미한다.\n",
    "            if topi.item() == EOS_token:\n",
    "                decoded_words.append('<EOS>') # <EOS> 츨력하기 싫으면 이 부분만 주석하면 된다.\n",
    "                break\n",
    "            else:\n",
    "                decoded_words.append(output_lang.index2word[topi.item()])\n",
    "                # decoded_words에 적절한(최대의 확률을 가지는) 단어가 대입 됨. \n",
    "\n",
    "            decoder_input = topi.squeeze().detach() # topidex의 값이 단어로써 들어가게된다.\n",
    "\n",
    "        return decoded_words\n",
    "    \n",
    "def evaluateRandomly():\n",
    "    pair = random.choice(pairs)\n",
    "    print('>', pair[0])\n",
    "    print('=', pair[1])\n",
    "    output_words = evaluate(pair[0])\n",
    "    output_sentence = ' '.join(output_words)\n",
    "    print('<', output_sentence)\n",
    "    print('')"
   ]
  },
  {
   "cell_type": "code",
   "execution_count": 26,
   "metadata": {
    "scrolled": true
   },
   "outputs": [
    {
     "name": "stdout",
     "output_type": "stream",
     "text": [
      "> vous etes celle qui m a formee .\n",
      "= you re the one who trained me .\n",
      "< somewhere rent stylish stylish real milk milk milk milk somewhere\n",
      "\n"
     ]
    }
   ],
   "source": [
    "evaluateRandomly()\n"
   ]
  },
  {
   "cell_type": "markdown",
   "metadata": {
    "id": "K7wNENhXDnyz"
   },
   "source": [
    "### 5 . Write the code to train the model [3 points]\n",
    "\n",
    "- During training, use the `Teacher forcing` concept in addition to a naive approach.\n",
    "    - In other words, instead of using the decoder's guess as the next input, the real target outputs are also used sometimes. This shows faster convergence.\n",
    "- Plot the training loss curve.\n",
    "- Show the result using $evaluateRandomly()$ function. Below is an example.\n",
    "*************************************************************\n",
    "    > il est en train de peindre un tableau . (input)\n",
    "    = he is painting a picture . (target)\n",
    "    < he is painting a picture . (output)\n",
    "*************************************************************"
   ]
  },
  {
   "cell_type": "code",
   "execution_count": 97,
   "metadata": {
    "id": "9x83bK3GDnyz",
    "outputId": "34533830-f22b-4080-bc51-582d4993b8e2",
    "scrolled": true
   },
   "outputs": [
    {
     "name": "stdout",
     "output_type": "stream",
     "text": [
      "************************* iter1000 *************************\n",
      "loss 36.7561\n",
      "> je suis desolee de t avoir blesse .\n",
      "= i m sorry i hurt you .\n",
      "< i m not . <EOS>\n",
      "\n",
      "************************* iter2000 *************************\n",
      "loss 23.8050\n",
      "> tu es excuse .\n",
      "= you re forgiven .\n",
      "< you re very . <EOS>\n",
      "\n",
      "************************* iter3000 *************************\n",
      "loss 15.5773\n",
      "> il est fort en colere .\n",
      "= he is very angry .\n",
      "< he s a . <EOS>\n",
      "\n",
      "************************* iter4000 *************************\n",
      "loss 10.9581\n",
      "> je suis content de vous voir ici .\n",
      "= i m glad to see you here .\n",
      "< i m glad you you . <EOS>\n",
      "\n",
      "************************* iter5000 *************************\n",
      "loss 11.1328\n",
      "> il est normalement chez lui le soir .\n",
      "= he is generally at home in the evening .\n",
      "< he is a to . <EOS>\n",
      "\n",
      "************************* iter6000 *************************\n",
      "loss 6.9102\n",
      "> il est tres comprehensif .\n",
      "= he s very understanding .\n",
      "< he is very good . <EOS>\n",
      "\n",
      "************************* iter7000 *************************\n",
      "loss 21.9904\n",
      "> je me rejouis que nous l ayons fait .\n",
      "= i m glad we did that .\n",
      "< i m glad you . <EOS>\n",
      "\n",
      "************************* iter8000 *************************\n",
      "loss 10.9014\n",
      "> je suis fatigue de lire .\n",
      "= i m sick and tired of reading .\n",
      "< i m afraid of . <EOS>\n",
      "\n",
      "************************* iter9000 *************************\n",
      "loss 7.4600\n",
      "> tu es productif .\n",
      "= you re productive .\n",
      "< you re being . <EOS>\n",
      "\n",
      "************************* iter10000 *************************\n",
      "loss 19.6499\n",
      "> il est plus fort que moi .\n",
      "= he s stronger than me .\n",
      "< he s smarter than me . <EOS>\n",
      "\n",
      "************************* iter11000 *************************\n",
      "loss 19.3000\n",
      "> je ne vais pas partir avec toi .\n",
      "= i m not leaving with you .\n",
      "< i m not going to be you m not going\n",
      "\n",
      "************************* iter12000 *************************\n",
      "loss 16.8982\n",
      "> elles sont mes amies .\n",
      "= they are my friends .\n",
      "< they are my friends . <EOS>\n",
      "\n",
      "************************* iter13000 *************************\n",
      "loss 5.1911\n",
      "> tu es fort contrariee .\n",
      "= you re very upset .\n",
      "< you re very upset . <EOS>\n",
      "\n",
      "************************* iter14000 *************************\n",
      "loss 15.3287\n",
      "> je reste .\n",
      "= i m staying .\n",
      "< i m looking to do . <EOS>\n",
      "\n",
      "************************* iter15000 *************************\n",
      "loss 8.2590\n",
      "> je suis amoureux de vous .\n",
      "= i m in love with you .\n",
      "< i m in . <EOS>\n",
      "\n",
      "************************* iter16000 *************************\n",
      "loss 14.9048\n",
      "> nous ne sommes pas ouvertes .\n",
      "= we re not open .\n",
      "< we re not a . <EOS>\n",
      "\n",
      "************************* iter17000 *************************\n",
      "loss 3.6655\n",
      "> je ne suis pas nerveux .\n",
      "= i m not nervous .\n",
      "< i m not normal . <EOS>\n",
      "\n",
      "************************* iter18000 *************************\n",
      "loss 27.0742\n",
      "> je me trouve dans une situation desesperee .\n",
      "= i m in a desperate situation .\n",
      "< i m taking a <EOS>\n",
      "\n",
      "************************* iter19000 *************************\n",
      "loss 5.5422\n",
      "> je suis gene .\n",
      "= i m embarrassed .\n",
      "< i m . <EOS>\n",
      "\n",
      "************************* iter20000 *************************\n",
      "loss 6.0533\n",
      "> vous etes astucieux .\n",
      "= you re crafty .\n",
      "< you re crafty . <EOS>\n",
      "\n",
      "************************* iter21000 *************************\n",
      "loss 18.5417\n",
      "> j eprouve du ressentiment .\n",
      "= i m resentful .\n",
      "< i am from . <EOS>\n",
      "\n",
      "************************* iter22000 *************************\n",
      "loss 11.6188\n",
      "> tu regardes tout le temps la tele .\n",
      "= you are always watching tv .\n",
      "< you re always watching tv <EOS>\n",
      "\n",
      "************************* iter23000 *************************\n",
      "loss 1.7381\n",
      "> nous sommes tot a la maison .\n",
      "= we re home early .\n",
      "< we re home home home home home home home home\n",
      "\n",
      "************************* iter24000 *************************\n",
      "loss 18.3906\n",
      "> j adore prendre des photos .\n",
      "= i m fond of taking pictures .\n",
      "< i m playing <EOS>\n",
      "\n",
      "************************* iter25000 *************************\n",
      "loss 10.7270\n",
      "> vous n etes pas ma mere .\n",
      "= you aren t my mother .\n",
      "< you aren . <EOS>\n",
      "\n",
      "************************* iter26000 *************************\n",
      "loss 6.2127\n",
      "> il est bon en anglais .\n",
      "= he is a good speaker of english .\n",
      "< he s good at english . <EOS>\n",
      "\n",
      "************************* iter27000 *************************\n",
      "loss 0.7060\n",
      "> je ne suis pas perfectionniste .\n",
      "= i m not a perfectionist .\n",
      "< i m not a . <EOS>\n",
      "\n",
      "************************* iter28000 *************************\n",
      "loss 5.8348\n",
      "> nous allons faire tout ce que nous pouvons .\n",
      "= we re going to do everything we can .\n",
      "< we re going to <EOS>\n",
      "\n",
      "************************* iter29000 *************************\n",
      "loss 0.8551\n",
      "> c est un voleur .\n",
      "= he is a thief .\n",
      "< he is a thief . <EOS>\n",
      "\n",
      "************************* iter30000 *************************\n",
      "loss 1.2711\n",
      "> il est genereux avec son argent .\n",
      "= he is generous with his money .\n",
      "< he is generous with his . <EOS>\n",
      "\n",
      "************************* iter31000 *************************\n",
      "loss 5.9472\n",
      "> tu frissonnes .\n",
      "= you re shivering .\n",
      "< you re turning . <EOS>\n",
      "\n",
      "************************* iter32000 *************************\n",
      "loss 22.3319\n",
      "> c est un artiste celebre .\n",
      "= he is a famous artist .\n",
      "< he s a famous . <EOS>\n",
      "\n",
      "************************* iter33000 *************************\n",
      "loss 0.7218\n",
      "> tu passes a cote .\n",
      "= you re missing the point .\n",
      "< you re missing the point . <EOS>\n",
      "\n",
      "************************* iter34000 *************************\n",
      "loss 0.4941\n",
      "> je suis en train de regarder la television .\n",
      "= i m watching tv .\n",
      "< i m watching tv tv tv tv tv tv tv\n",
      "\n",
      "************************* iter35000 *************************\n",
      "loss 12.2004\n",
      "> tu es vraiment embetante .\n",
      "= you re really annoying .\n",
      "< you re really . <EOS>\n",
      "\n",
      "************************* iter36000 *************************\n",
      "loss 5.3950\n",
      "> je suis de singapour .\n",
      "= i m from singapore .\n",
      "< i m from . <EOS>\n",
      "\n",
      "************************* iter37000 *************************\n",
      "loss 0.3421\n",
      "> je travaille pour une entreprise de commerce .\n",
      "= i m working for a trading firm .\n",
      "< i m an father a trip . <EOS>\n",
      "\n",
      "************************* iter38000 *************************\n",
      "loss 8.5742\n",
      "> je suis voyant .\n",
      "= i m psychic .\n",
      "< i m psychic . <EOS>\n",
      "\n",
      "************************* iter39000 *************************\n",
      "loss 4.5971\n",
      "> c est l un des meilleurs .\n",
      "= he s one of the best .\n",
      "< he is one of the best . <EOS>\n",
      "\n",
      "************************* iter40000 *************************\n",
      "loss 12.5417\n",
      "> vous etes belle .\n",
      "= you are beautiful .\n",
      "< you re beautiful . <EOS>\n",
      "\n",
      "************************* iter41000 *************************\n",
      "loss 0.2535\n",
      "> tu es a court de sucre .\n",
      "= you re out of sugar .\n",
      "< you re out of <EOS>\n",
      "\n",
      "************************* iter42000 *************************\n",
      "loss 0.0246\n",
      "> c est vous les proprietaires .\n",
      "= you re the owners .\n",
      "< you re the owners the owners the owners the owners\n",
      "\n",
      "************************* iter43000 *************************\n",
      "loss 0.5421\n",
      "> elle est belle comme blanche neige .\n",
      "= she is as beautiful as snow white .\n",
      "< she s as beautiful as beautiful beautiful as beautiful as\n",
      "\n",
      "************************* iter44000 *************************\n",
      "loss 2.4155\n",
      "> je ne suis pas millionnaire .\n",
      "= i m not a millionaire .\n",
      "< i m not . <EOS>\n",
      "\n",
      "************************* iter45000 *************************\n",
      "loss 8.9918\n",
      "> je suis plus astucieuse que vous .\n",
      "= i m smarter than you .\n",
      "< i m smarter than you . <EOS>\n",
      "\n",
      "************************* iter46000 *************************\n",
      "loss 9.3640\n",
      "> je dors peu .\n",
      "= i m a light sleeper .\n",
      "< i am a . <EOS>\n",
      "\n",
      "************************* iter47000 *************************\n",
      "loss 32.4715\n",
      "> tu es gare en double file .\n",
      "= you re double parked .\n",
      "< you re double parked . <EOS>\n",
      "\n",
      "************************* iter48000 *************************\n",
      "loss 7.4588\n",
      "> vous n etes pas toubib .\n",
      "= you re not a doctor .\n",
      "< you are not a doctor . <EOS>\n",
      "\n",
      "************************* iter49000 *************************\n",
      "loss 6.3953\n",
      "> nous sommes des prisonniers .\n",
      "= we re prisoners .\n",
      "< we re prisoners . <EOS>\n",
      "\n",
      "************************* iter50000 *************************\n",
      "loss 4.0610\n",
      "> vous etes completement ignorantes .\n",
      "= you re totally ignorant .\n",
      "< you re totally ignorant . <EOS>\n",
      "\n"
     ]
    }
   ],
   "source": [
    "n_iters = 50000\n",
    "# n_iters = 1000\n",
    "print_every = 1000\n",
    "plot_every =100\n",
    "\n",
    "plot_losses = []\n",
    "print_loss_total = 0  # Reset every print_every\n",
    "plot_loss_total = 0  # Reset every plot_every\n",
    "\n",
    "training_pairs = [tensorsFromPair(random.choice(pairs)) for i in range(n_iters)]\n",
    "\n",
    "for iter in range(1, n_iters+1):\n",
    "    # Load data\n",
    "    training_pair = training_pairs[iter-1]\n",
    "    input_tensor = training_pair[0]\n",
    "    target_tensor = training_pair[1]\n",
    "    \n",
    "    # Clear gradients w.r.t. parameters\n",
    "    encoder_hidden = encoder.initHidden()\n",
    "    encoder_optimizer.zero_grad()\n",
    "    decoder_optimizer.zero_grad()\n",
    "    encoder_outputs = torch.zeros(MAX_LENGTH, encoder.hidden_dim, device=device) # 10 = MAX_LENGTH\n",
    "    loss = 0\n",
    "    input_length = input_tensor.size(0)\n",
    "    target_length = target_tensor.size(0)\n",
    "\n",
    "    # Forward pass\n",
    "    # encoder\n",
    "    for ei in range(input_length):\n",
    "        encoder_output, encoder_hidden = encoder(input_tensor[ei], encoder_hidden)\n",
    "        encoder_outputs[ei] = encoder_output[0,0]\n",
    "    \n",
    "    # decoder    \n",
    "    decoder_hidden = encoder_hidden\n",
    "    decoder_input = torch.tensor([[SOS_token]], device=device)\n",
    "            \n",
    "    is_teacher_forcing = True if random.random() < 0.5 else False # 밑에 두가지 경우를 확률적으로 1/2로 선택한다.\n",
    "    \n",
    "    # 여기서는 학습 데이터의 다음 입력을 받기 때문에 decoder이 잘못 예측해도 encoder,decoder 이 잘 학습된다.\n",
    "    if is_teacher_forcing:\n",
    "        for di in range(target_length):\n",
    "            decoder_output, decoder_hidden = decoder(decoder_input, decoder_hidden, encoder_outputs)\n",
    "            loss += criterion(decoder_output, target_tensor[di])\n",
    "            # 학습 데이터에서 다음 입력을 선택\n",
    "            decoder_input = target_tensor[di]\n",
    "    # 여기서는 decoder의 output으로 학습을 이어가기 때문에 decoder의 output이 잘 맞아야 encoder이 잘 학습된다.\n",
    "    else:\n",
    "        for di in range(target_length):\n",
    "            decoder_output, decoder_hidden = decoder(decoder_input, decoder_hidden, encoder_outputs)\n",
    "            loss += criterion(decoder_output, target_tensor[di])\n",
    "            # decoder의 출력 값을 다음 입력을 선택 \n",
    "            topv, topi = decoder_output.topk(1)\n",
    "            decoder_input = topi.squeeze().detach() \n",
    "            \n",
    "            if decoder_input.item() == EOS_token: # <EOS>가 나오면 반복문을 끝낸다.\n",
    "                break\n",
    "            \n",
    "    # Backward pass\n",
    "    loss.backward()\n",
    "    \n",
    "    # Updating parameters\n",
    "    encoder_optimizer.step()\n",
    "    decoder_optimizer.step()\n",
    "    \n",
    "    print_loss_total += loss.item() / target_length\n",
    "    plot_loss_total += loss.item() / target_length\n",
    "\n",
    "    if iter % print_every == 0:\n",
    "        print('*'*25, 'iter%d'%iter, '*'*25)\n",
    "        print('loss %.4f'%loss)\n",
    "        print_loss_avg = print_loss_total / print_every\n",
    "        print_loss_total = 0\n",
    "        evaluateRandomly()\n",
    "\n",
    "    if iter % plot_every == 0:\n",
    "        plot_loss_avg = plot_loss_total / plot_every\n",
    "        plot_losses.append(plot_loss_avg)\n",
    "        plot_loss_total = 0"
   ]
  },
  {
   "cell_type": "code",
   "execution_count": 98,
   "metadata": {},
   "outputs": [
    {
     "data": {
      "text/plain": [
       "[<matplotlib.lines.Line2D at 0x7f04f2da63d0>]"
      ]
     },
     "execution_count": 98,
     "metadata": {},
     "output_type": "execute_result"
    },
    {
     "data": {
      "image/png": "[encoded data removed]",
      "text/plain": [
       "<Figure size 432x288 with 1 Axes>"
      ]
     },
     "metadata": {
      "needs_background": "light"
     },
     "output_type": "display_data"
    }
   ],
   "source": [
    "#################################################\n",
    "import matplotlib.ticker as ticker\n",
    "import matplotlib.pyplot as plt\n",
    "%matplotlib inline\n",
    "\n",
    "plt.figure()\n",
    "plt.plot(plot_losses)"
   ]
  },
  {
   "cell_type": "markdown",
   "metadata": {
    "id": "rrccVZ1gDny0"
   },
   "source": [
    "### *References*\n",
    "[1] [practical pytorch](https://github.com/spro/practical-pytorch)(https://github.com/spro/practical-pytorch)"
   ]
  },
  {
   "cell_type": "markdown",
   "metadata": {},
   "source": [
    "이 실험 내용은 https://velog.io/@jooh95/%EC%9E%90%EC%97%B0%EC%96%B4%EC%B2%98%EB%A6%AC-Attention%EC%9D%84-%ED%99%9C%EC%9A%A9%ED%95%9C-Seq2Seq%EB%A1%9C-%EA%B8%B0%EA%B3%84%EB%B2%88%EC%97%AD-%EA%B5%AC%ED%98%84\n",
    "을 주로 참고하였다."
   ]
  },
  {
   "cell_type": "markdown",
   "metadata": {},
   "source": [
    "이 실험은 NLP의 기본이 되는 모델인 기계번역에 처음으로 attention을 도입한 논문 NEURAL MACHINE TRANSLATION BY JOINTLY LEARNING TO ALIGN AND TRANSLATE을 참고사마 조금 변형된 구조를 구현하는 것이다.\n",
    "Seq2seq 논문에서 제시한 모델은 input sequence의 정보를 담은 context\n",
    "vector을 만들 때 fixed length vector라는 한계점이 존재했다. 즉 가변 길이\n",
    "의 sequence가 들어왔음에도 이를 fixed length vector로 표현했다는 것이\n",
    "다. 이렇게 되면 sentence의 길이가 길어질수록 성능 저하가 현저히 발생\n",
    "한다. 이 논문에서는 이 문제를 해결한 새로운 모델을 제시한다. RNN 구조를 따르고 있는데 RNN 구조는 GRU 구조를 사용하였다. 뿐만 아니라 attention 구조를 사용해서 어떤 단어를 보고 예측한 단어를 추출해내는지 결정한다. \n"
   ]
  },
  {
   "cell_type": "markdown",
   "metadata": {},
   "source": [
    "예상했던 점 : GRU는 LSTM에 비해 parameter 갯수가 더 작기 때문에 더 효율적으로 코드 구현이 가능하다. paramter 수가 작은것에 비해 성능은 비슷하다.\n",
    "    \n",
    "예상과 달랐던 점 및 개선할 점 : \n",
    "이 코드는 전체적으로 기계번역을 위한 함수가 많았기 때문에 아직 정확한 코드들이 이해가 되지 않았다. 예를 들면 normalizeString 같은 코드는 String에서 학습하기 어려운 단어들을 바꿔주는 것 같긴한데 왜 이렇게 구현했는지 이해가 되지 않았다는 점이 아쉽다. \n",
    "개선할 점으로는 attention 논문은 forward backward에서 얻은 hidden state를 cat해주는데 여기는 이 과정이 없다. 논문에서는 이 과정에서 문장의 앞만 이아니라 뒤의 단어도 보면서 예측하기 때문에 더 정확하다고 소개하기 때문에 이런 구현을 넣으면 성능이 더 올라갈 것이다.\n",
    "\n",
    "결론 : GRU를 사용한 기계번역 task에서 사용할 수 있는 모델을 구현해봄으로써 모델의 전체적인 구조를 학습할 수 있었다. \n",
    "    \n",
    "의문점 : 수업시간에 GPT-3와 transformer 를 소개해주셨는데 이해가 되지 않았다. 이 두 모델 모두 long-term dependency 문제를 완벽히 해결한 모델이라고\n",
    "소개해주셨는데 다음에 기회가 된다면 논문을 읽고 어떤 구현을 사용했는지 알고 싶다."
   ]
  },
  {
   "cell_type": "markdown",
   "metadata": {},
   "source": [
    "아래는 bidirectional  을 구현해볼 것이다."
   ]
  },
  {
   "cell_type": "code",
   "execution_count": 39,
   "metadata": {},
   "outputs": [],
   "source": [
    "# 3 points\n",
    "class AttnDecoderRNN_bi(nn.Module):\n",
    "    def __init__(self, hidden_dim, output_dim, dropout_p=0.1):\n",
    "        super(AttnDecoderRNN_bi, self).__init__()\n",
    "        \n",
    "        self.hidden_dim = hidden_dim\n",
    "        self.output_dim = output_dim\n",
    "        self.dropout_p = dropout_p\n",
    "\n",
    "        self.embedding = nn.Embedding(self.output_dim, self.hidden_dim)\n",
    "        self.dropout = nn.Dropout(self.dropout_p)\n",
    "\n",
    "        self.attention = nn.Linear(self.hidden_dim * 3, MAX_LENGTH) # MAX_LENGTH = 10\n",
    "        self.attention_combine = nn.Linear(self.hidden_dim * 2, self.hidden_dim*2)\n",
    "        \n",
    "        self.gru = GRU(self.hidden_dim*2, self.hidden_dim*2)\n",
    "\n",
    "        self.out = nn.Linear(self.hidden_dim, self.output_dim)\n",
    "\n",
    "    def forward(self, input, hn, encoder_outputs):\n",
    "        input = self.embedding(input).view(1, 1, -1) # 이렇게 해야 1,1,256 이 됨.\n",
    "        input = self.dropout(input)\n",
    "        \n",
    "        embedded = input\n",
    "        attn_weights = F.softmax(\n",
    "            self.attention(torch.cat((embedded[0], hn[0]), 1)), dim=1) # 1,512 -> 1,10 \n",
    "        attn_applied = torch.bmm(attn_weights.unsqueeze(0), encoder_outputs.unsqueeze(0))\n",
    "        output = torch.cat((embedded[0], attn_applied[0]), 1)\n",
    "        attn_combine = self.attention_combine(output).unsqueeze(0) # [1,1,256]\n",
    "        output = F.relu(attn_combine)\n",
    "        #print(output.size())\n",
    "        #print(hn.size())\n",
    "        output, hidden = self.gru(output, hn)\n",
    "        output = F.log_softmax(self.out(output[0]), dim=1)\n",
    "        return output, hn\n",
    "\n",
    "    def initHidden(self):\n",
    "        h0 = torch.zeros(1, 1, self.hidden_dim, device=device)\n",
    "        return h0\n",
    "    "
   ]
  },
  {
   "cell_type": "code",
   "execution_count": 40,
   "metadata": {},
   "outputs": [],
   "source": [
    "criterion = nn.NLLLoss()\n",
    "encoder_bilinear_forward = EncoderRNN(input_lang.n_words, hidden_dim).to(device)\n",
    "encoder_bilinear_backward = EncoderRNN(input_lang.n_words, hidden_dim).to(device)\n",
    "decoder_bilinear = AttnDecoderRNN(hidden_dim, output_lang.n_words, dropout_p=0.1).to(device)\n",
    "\n",
    "learning_rate=0.01\n",
    "encoder_optimizer_for = optim.SGD(encoder_bilinear_forward.parameters(), lr=learning_rate)\n",
    "encoder_optimizer_back = optim.SGD(encoder_bilinear_backward.parameters(), lr=learning_rate)\n",
    "decoder_optimizer = optim.SGD(decoder_bilinear.parameters(), lr=learning_rate)"
   ]
  },
  {
   "cell_type": "code",
   "execution_count": 41,
   "metadata": {},
   "outputs": [],
   "source": [
    "def evaluate_bi(sentence):\n",
    "    with torch.no_grad():\n",
    "        # tensor을 문장으로 바꾸자.\n",
    "        input_tensor = tensorFromSentence(input_lang, sentence)\n",
    "        input_length = input_tensor.size()[0]\n",
    "        \n",
    "        #### 값 초기화\n",
    "    \n",
    "        # Clear gradients w.r.t. parameters\n",
    "        encoder_hidden_forward = encoder_bilinear_forward.initHidden()\n",
    "        encoder_hidden_backward = encoder_bilinear_backward.initHidden()\n",
    "        encoder_outputs_forward = torch.zeros(MAX_LENGTH, encoder.hidden_dim, device=device) # 10 = MAX_LENGTH\n",
    "        encoder_outputs_backward = torch.zeros(MAX_LENGTH, encoder.hidden_dim, device=device) # 10 = MAX_LENGTH\n",
    "\n",
    "        #### encoder의 output을 저장\n",
    "        for ei in range(input_length):\n",
    "            encoder_output_forward, encoder_hidden_forward = encoder_bilinear_forward(input_tensor[ei], encoder_hidden_forward)\n",
    "            encoder_outputs_forward[ei] = encoder_output_forward[0,0]  \n",
    "            encoder_output_backward, encoder_hidden_backward = encoder_bilinear_backward(input_tensor[input_length -1 - ei], encoder_hidden_backward)\n",
    "            encoder_outputs_backward[ei] = encoder_output_backward[0,0]\n",
    "#         for i in range(input_length):\n",
    "#             encoder_output, encoder_hidden = encoder_bilinear_forward(input_tensor[i],encoder_hidden)\n",
    "#             encoder_outputs[i] += encoder_output[0, 0]\n",
    "        # 위에처럼 구성하면 encoder의 모든 output을 저장할 수 있다. \n",
    "        \n",
    "        # decoder의 초기값 저장\n",
    "        decoder_input = torch.tensor([[SOS_token]], device=device)\n",
    "        \n",
    "        decoder_hidden = encoder_hidden_forward  + encoder_hidden_backward # 1,1,256\n",
    "        \n",
    "        decoded_words = []\n",
    "        \n",
    "        #############\n",
    "        for di in range(MAX_LENGTH):\n",
    "            decoder_output, decoder_hidden = decoder_bilinear(decoder_input, decoder_hidden, encoder_outputs_forward)\n",
    "            # topk는 지정된 차원을 따라 지정된 텐서의 가장 큰 요소를 반환합니다.\n",
    "            topv, topi = decoder_output.data.topk(1)\n",
    "            # top value = topv , top index = topi를 의미한다.\n",
    "            if topi.item() == EOS_token:\n",
    "                decoded_words.append('<EOS>') # <EOS> 츨력하기 싫으면 이 부분만 주석하면 된다.\n",
    "                break\n",
    "            else:\n",
    "                decoded_words.append(output_lang.index2word[topi.item()])\n",
    "                # decoded_words에 적절한(최대의 확률을 가지는) 단어가 대입 됨. \n",
    "\n",
    "            decoder_input = topi.squeeze().detach() # topidex의 값이 단어로써 들어가게된다.\n",
    "\n",
    "        return decoded_words\n",
    "    \n",
    "def evaluateRandomly_bi():\n",
    "    pair = random.choice(pairs)\n",
    "    print('>', pair[0])\n",
    "    print('=', pair[1])\n",
    "    output_words = evaluate_bi(pair[0])\n",
    "    output_sentence = ' '.join(output_words)\n",
    "    print('<', output_sentence)\n",
    "    print('')"
   ]
  },
  {
   "cell_type": "code",
   "execution_count": 42,
   "metadata": {},
   "outputs": [
    {
     "name": "stdout",
     "output_type": "stream",
     "text": [
      "> tu es bavard .\n",
      "= you re talkative .\n",
      "< supposed experienced experienced supposed currently supposed experienced supposed currently supposed\n",
      "\n"
     ]
    }
   ],
   "source": [
    "evaluateRandomly()"
   ]
  },
  {
   "cell_type": "code",
   "execution_count": 43,
   "metadata": {},
   "outputs": [
    {
     "name": "stdout",
     "output_type": "stream",
     "text": [
      "************************* iter1000 *************************\n",
      "loss 25.9588\n",
      "> je peux courir .\n",
      "= i m able to run .\n",
      "< i m afraid . <EOS>\n",
      "\n",
      "************************* iter2000 *************************\n",
      "loss 45.9657\n",
      "> tu es mon meilleur ami .\n",
      "= you re my best friend .\n",
      "< you re very . <EOS>\n",
      "\n",
      "************************* iter3000 *************************\n",
      "loss 16.5896\n",
      "> elle a les pieds en dedans .\n",
      "= she is pigeon toed .\n",
      "< she is afraid . <EOS>\n",
      "\n",
      "************************* iter4000 *************************\n",
      "loss 17.7468\n",
      "> nous ne sortons pas ensemble .\n",
      "= we re not dating .\n",
      "< we re not a . . . . . .\n",
      "\n",
      "************************* iter5000 *************************\n",
      "loss 27.0172\n",
      "> je vais sortir cet apres midi .\n",
      "= i m going to go out this afternoon .\n",
      "< i m going to . <EOS>\n",
      "\n",
      "************************* iter6000 *************************\n",
      "loss 14.2431\n",
      "> je suis pret a retrousser mes manches .\n",
      "= i m ready to roll up my sleeves .\n",
      "< i am a to . <EOS>\n",
      "\n",
      "************************* iter7000 *************************\n",
      "loss 9.7893\n",
      "> tu en as deja fini .\n",
      "= you re finished already .\n",
      "< you re finished . <EOS>\n",
      "\n",
      "************************* iter8000 *************************\n",
      "loss 25.7795\n",
      "> il enseigne depuis ans .\n",
      "= he s been teaching for years .\n",
      "< he is leaving . <EOS>\n",
      "\n",
      "************************* iter9000 *************************\n",
      "loss 9.4277\n",
      "> elle a honte de ses vieux vetements .\n",
      "= she is ashamed of her old clothes .\n",
      "< she s ashamed . <EOS>\n",
      "\n",
      "************************* iter10000 *************************\n",
      "loss 12.0673\n",
      "> je te donne encore une chance .\n",
      "= i m giving you one more chance .\n",
      "< i m not a . <EOS>\n",
      "\n",
      "************************* iter11000 *************************\n",
      "loss 13.0557\n",
      "> tu n es pas aussi malin que moi .\n",
      "= you re not as smart as me .\n",
      "< you are not me . <EOS>\n",
      "\n",
      "************************* iter12000 *************************\n",
      "loss 15.5639\n",
      "> il est trop vieux pour elle .\n",
      "= he s too old for her .\n",
      "< he s too old for old for old for old\n",
      "\n",
      "************************* iter13000 *************************\n",
      "loss 4.5994\n",
      "> je ne vais pas livrer de noms .\n",
      "= i m not going to name names .\n",
      "< i m not going to lose . <EOS>\n",
      "\n",
      "************************* iter14000 *************************\n",
      "loss 23.1648\n",
      "> c est une fille blonde .\n",
      "= she is a blonde girl .\n",
      "< she s a girl girl girl girl girl girl girl\n",
      "\n",
      "************************* iter15000 *************************\n",
      "loss 9.5005\n",
      "> c est un esprit independant .\n",
      "= she s an independent thinker .\n",
      "< he s a little . <EOS>\n",
      "\n",
      "************************* iter16000 *************************\n",
      "loss 13.2209\n",
      "> il est egoiste et cupide .\n",
      "= he is selfish and greedy .\n",
      "< he s a and . <EOS>\n",
      "\n",
      "************************* iter17000 *************************\n",
      "loss 10.5540\n",
      "> nous ne sommes pas interessees .\n",
      "= we re not interested .\n",
      "< we re not related . <EOS>\n",
      "\n",
      "************************* iter18000 *************************\n",
      "loss 9.1913\n",
      "> je viens du bresil .\n",
      "= i m from brazil .\n",
      "< i m from brazil . . . . . .\n",
      "\n",
      "************************* iter19000 *************************\n",
      "loss 6.9234\n",
      "> je suis endurante .\n",
      "= i m resilient .\n",
      "< i m resilient . <EOS>\n",
      "\n",
      "************************* iter20000 *************************\n",
      "loss 8.6932\n",
      "> nous sommes reconnaissantes .\n",
      "= we re grateful .\n",
      "< we re sorry . . . . . . .\n",
      "\n",
      "************************* iter21000 *************************\n",
      "loss 2.1317\n",
      "> vous etes tres courageuse .\n",
      "= you are very brave .\n",
      "< you re very brave . <EOS>\n",
      "\n",
      "************************* iter22000 *************************\n",
      "loss 5.1181\n",
      "> je suis meilleur que lui .\n",
      "= i m better than him .\n",
      "< i m him him him him him him him him\n",
      "\n",
      "************************* iter23000 *************************\n",
      "loss 27.7130\n",
      "> vous etes fort genereuses .\n",
      "= you re very generous .\n",
      "< you re very generous . <EOS>\n",
      "\n",
      "************************* iter24000 *************************\n",
      "loss 11.7081\n",
      "> elle est en train de l aider .\n",
      "= she is helping him .\n",
      "< she is on the . <EOS>\n",
      "\n",
      "************************* iter25000 *************************\n",
      "loss 7.4580\n",
      "> je suis a ta disposition .\n",
      "= i m at your disposal .\n",
      "< i am at your partner . <EOS>\n",
      "\n",
      "************************* iter26000 *************************\n",
      "loss 0.0484\n",
      "> vous me faites de l ombre .\n",
      "= you re blocking my light .\n",
      "< you re blocking . <EOS>\n",
      "\n",
      "************************* iter27000 *************************\n",
      "loss 33.6970\n",
      "> je suis pret a partir maintenant .\n",
      "= i m ready to leave now .\n",
      "< i m ready to leave . <EOS>\n",
      "\n",
      "************************* iter28000 *************************\n",
      "loss 8.8849\n",
      "> elle est canadienne .\n",
      "= she is canadian .\n",
      "< she is on her . <EOS>\n",
      "\n",
      "************************* iter29000 *************************\n",
      "loss 10.8522\n",
      "> je vais etre ici .\n",
      "= i m going to be over here .\n",
      "< i m going to be here to be here to\n",
      "\n",
      "************************* iter30000 *************************\n",
      "loss 16.9643\n",
      "> j ai trop sommeil pour faire mes devoirs .\n",
      "= i m too sleepy to do my homework .\n",
      "< i m too too too too too too too too\n",
      "\n",
      "************************* iter31000 *************************\n",
      "loss 8.1158\n",
      "> tu es presque aussi grand que tom .\n",
      "= you re almost as tall as tom .\n",
      "< you re almost as <EOS>\n",
      "\n",
      "************************* iter32000 *************************\n",
      "loss 1.6465\n",
      "> elle a ete empoisonnee .\n",
      "= she s been poisoned .\n",
      "< she s been . <EOS>\n",
      "\n",
      "************************* iter33000 *************************\n",
      "loss 7.7320\n",
      "> je ne vais pas te faire de mal .\n",
      "= i m not going to hurt you .\n",
      "< i m not going to hurt you . <EOS>\n",
      "\n",
      "************************* iter34000 *************************\n",
      "loss 1.2682\n",
      "> elles lisent son livre .\n",
      "= they are reading her book .\n",
      "< they are reading her book . <EOS>\n",
      "\n",
      "************************* iter35000 *************************\n",
      "loss 1.1140\n",
      "> vous etes tres sceptique .\n",
      "= you re very skeptical .\n",
      "< you re very skeptical . <EOS>\n",
      "\n",
      "************************* iter36000 *************************\n",
      "loss 8.0608\n",
      "> nous plaisantons .\n",
      "= we re kidding .\n",
      "< we re kidding . <EOS>\n",
      "\n",
      "************************* iter37000 *************************\n",
      "loss 11.1899\n",
      "> je suis presque prete .\n",
      "= i am almost ready .\n",
      "< i am almost ready ready . <EOS>\n",
      "\n",
      "************************* iter38000 *************************\n",
      "loss 9.8212\n",
      "> nous enquetons a ce sujet .\n",
      "= we re investigating it .\n",
      "< we re all we re investigating . <EOS>\n",
      "\n",
      "************************* iter39000 *************************\n",
      "loss 1.6427\n",
      "> tu es endormie .\n",
      "= you re sleepy .\n",
      "< you re sleepy . <EOS>\n",
      "\n",
      "************************* iter40000 *************************\n",
      "loss 2.3780\n",
      "> vous etes fideles .\n",
      "= you re faithful .\n",
      "< you re faithful . <EOS>\n",
      "\n",
      "************************* iter41000 *************************\n",
      "loss 3.5887\n",
      "> il adore la lecture .\n",
      "= he s very fond of reading .\n",
      "< he is very fond of <EOS>\n",
      "\n",
      "************************* iter42000 *************************\n",
      "loss 0.1365\n",
      "> je suis a un pot au boulot .\n",
      "= i m at an office party .\n",
      "< i m at the at the at a at a\n",
      "\n",
      "************************* iter43000 *************************\n",
      "loss 5.4930\n",
      "> il est physicien .\n",
      "= he is a physicist .\n",
      "< he s the talented . <EOS>\n",
      "\n",
      "************************* iter44000 *************************\n",
      "loss 19.0298\n",
      "> vous n etes pas si vieux tom .\n",
      "= you re not that old tom .\n",
      "< you re not that old . <EOS>\n",
      "\n",
      "************************* iter45000 *************************\n",
      "loss 0.0706\n",
      "> je le fais pour ma famille .\n",
      "= i m doing this for my family .\n",
      "< i m doing the doing the doing my my my\n",
      "\n",
      "************************* iter46000 *************************\n",
      "loss 3.1010\n",
      "> je ne vais pas vous le repeter .\n",
      "= i m not going to tell you again .\n",
      "< i m not going to tell you again . <EOS>\n",
      "\n",
      "************************* iter47000 *************************\n",
      "loss 4.6088\n",
      "> c est une pointure dans son domaine .\n",
      "= he s a leading authority in his field .\n",
      "< he s a authority on his authority . <EOS>\n",
      "\n",
      "************************* iter48000 *************************\n",
      "loss 0.3829\n",
      "> il est tres probable qu il vienne .\n",
      "= he s very likely to come .\n",
      "< he is very likely to he is very likely to\n",
      "\n",
      "************************* iter49000 *************************\n",
      "loss 10.0795\n",
      "> nous sommes dos au mur .\n",
      "= we re up against the wall .\n",
      "< we are a . <EOS>\n",
      "\n",
      "************************* iter50000 *************************\n",
      "loss 0.0321\n",
      "> vous n etes pas le bienvenu ici .\n",
      "= you re not welcome here .\n",
      "< you are not welcome here . <EOS>\n",
      "\n"
     ]
    }
   ],
   "source": [
    "n_iters = 50000\n",
    "# n_iters = 1000\n",
    "print_every = 1000\n",
    "plot_every =100\n",
    "\n",
    "plot_losses = []\n",
    "print_loss_total = 0  # Reset every print_every\n",
    "plot_loss_total = 0  # Reset every plot_every\n",
    "\n",
    "training_pairs = [tensorsFromPair(random.choice(pairs)) for i in range(n_iters)]\n",
    "\n",
    "for iter in range(1, n_iters+1):\n",
    "    # Load data\n",
    "    training_pair = training_pairs[iter-1]\n",
    "    input_tensor = training_pair[0]\n",
    "    target_tensor = training_pair[1]\n",
    "    \n",
    "    # Clear gradients w.r.t. parameters\n",
    "    encoder_hidden_forward = encoder_bilinear_forward.initHidden()\n",
    "    encoder_hidden_backward = encoder_bilinear_backward.initHidden()\n",
    "    encoder_optimizer_for.zero_grad()\n",
    "    encoder_optimizer_back.zero_grad()\n",
    "    decoder_optimizer.zero_grad()\n",
    "    encoder_outputs_forward = torch.zeros(MAX_LENGTH, encoder.hidden_dim, device=device) # 10 = MAX_LENGTH\n",
    "    encoder_outputs_backward = torch.zeros(MAX_LENGTH, encoder.hidden_dim, device=device) # 10 = MAX_LENGTH\n",
    "    loss = 0\n",
    "    input_length = input_tensor.size(0)\n",
    "    target_length = target_tensor.size(0)\n",
    "\n",
    "    # Forward pass\n",
    "    # encoder\n",
    "    for ei in range(input_length):\n",
    "        encoder_output_forward, encoder_hidden_forward = encoder_bilinear_forward(input_tensor[ei], encoder_hidden_forward)\n",
    "        encoder_outputs_forward[ei] = encoder_output_forward[0,0]  \n",
    "        encoder_output_backward, encoder_hidden_backward = encoder_bilinear_backward(input_tensor[input_length -1 - ei], encoder_hidden_backward)\n",
    "        encoder_outputs_backward[ei] = encoder_output_backward[0,0]\n",
    "    \n",
    "    # decoder    \n",
    "    decoder_hidden = encoder_hidden_forward  + encoder_hidden_backward # 1,1,256\n",
    "    decoder_input = torch.tensor([[SOS_token]], device=device)\n",
    "    is_teacher_forcing = True if random.random() < 0.5 else False\n",
    "    if is_teacher_forcing:\n",
    "        for di in range(target_length):\n",
    "            decoder_output, decoder_hidden = decoder_bilinear(decoder_input, decoder_hidden, encoder_outputs_forward)\n",
    "            loss += criterion(decoder_output, target_tensor[di])\n",
    "            decoder_input = target_tensor[di]\n",
    "    # 여기서는 decoder의 output으로 학습을 이어가기 때문에 decoder의 output이 잘 맞아야 encoder이 잘 학습된다.\n",
    "    else:\n",
    "        for di in range(target_length):\n",
    "            decoder_output, decoder_hidden = decoder_bilinear(decoder_input, decoder_hidden, encoder_outputs_forward)\n",
    "            loss += criterion(decoder_output, target_tensor[di])\n",
    "            # decoder의 출력 값을 다음 입력을 선택 \n",
    "            topv, topi = decoder_output.topk(1)\n",
    "            decoder_input = topi.squeeze().detach() \n",
    "            \n",
    "            if decoder_input.item() == EOS_token: # <EOS>가 나오면 반복문을 끝낸다.\n",
    "                break\n",
    "            \n",
    "    # Backward pass\n",
    "    loss.backward()\n",
    "    \n",
    "    # Updating parameters\n",
    "    encoder_optimizer_for.step()\n",
    "    encoder_optimizer_back.step()\n",
    "    decoder_optimizer.step()\n",
    "    \n",
    "    print_loss_total += loss.item() / target_length\n",
    "    plot_loss_total += loss.item() / target_length\n",
    "\n",
    "    if iter % print_every == 0:\n",
    "        print('*'*25, 'iter%d'%iter, '*'*25)\n",
    "        print('loss %.4f'%loss)\n",
    "        print_loss_avg = print_loss_total / print_every\n",
    "        print_loss_total = 0\n",
    "        evaluateRandomly_bi()\n",
    "\n",
    "    if iter % plot_every == 0:\n",
    "        plot_loss_avg = plot_loss_total / plot_every\n",
    "        plot_losses.append(plot_loss_avg)\n",
    "        plot_loss_total = 0"
   ]
  },
  {
   "cell_type": "code",
   "execution_count": 44,
   "metadata": {},
   "outputs": [
    {
     "data": {
      "text/plain": [
       "[<matplotlib.lines.Line2D at 0x7f5df25e1460>]"
      ]
     },
     "execution_count": 44,
     "metadata": {},
     "output_type": "execute_result"
    },
    {
     "data": {
      "image/png": "[encoded data removed]",
      "text/plain": [
       "<Figure size 432x288 with 1 Axes>"
      ]
     },
     "metadata": {
      "needs_background": "light"
     },
     "output_type": "display_data"
    }
   ],
   "source": [
    "#################################################\n",
    "import matplotlib.ticker as ticker\n",
    "import matplotlib.pyplot as plt\n",
    "%matplotlib inline\n",
    "\n",
    "plt.figure()\n",
    "plt.plot(plot_losses)"
   ]
  },
  {
   "cell_type": "markdown",
   "metadata": {},
   "source": [
    "결과는 좋은데 bidirectional을 완전하게 구현한게 아닌 것 같아서 정확도는 위의 한방향일 때와 별 차이 없다."
   ]
  },
  {
   "cell_type": "code",
   "execution_count": null,
   "metadata": {},
   "outputs": [],
   "source": []
  }
 ],
 "metadata": {
  "colab": {
   "collapsed_sections": [],
   "name": "EEE4423_lab11_Seq2Seq.ipynb",
   "provenance": []
  },
  "kernelspec": {
   "display_name": "torch1.9.0-py3.8-cuda11.1",
   "language": "python",
   "name": "torch1.9.0-py3.8-cuda11.1"
  },
  "language_info": {
   "codemirror_mode": {
    "name": "ipython",
    "version": 3
   },
   "file_extension": ".py",
   "mimetype": "text/x-python",
   "name": "python",
   "nbconvert_exporter": "python",
   "pygments_lexer": "ipython3",
   "version": "3.8.10"
  }
 },
 "nbformat": 4,
 "nbformat_minor": 4
}
