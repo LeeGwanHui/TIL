{
 "cells": [
  {
   "cell_type": "markdown",
   "metadata": {
    "id": "clIFh_guHNFv"
   },
   "source": [
    "> ### EEE4423: Deep Learning Lab\n",
    "\n",
    "# LAB \\#11: Character Generation using LSTM"
   ]
  },
  {
   "cell_type": "markdown",
   "metadata": {
    "id": "Un-_JnG1HNF1"
   },
   "source": [
    "<h4><div style=\"text-align: right\"> Due date: May 20, 2022. </div> <br>\n",
    "<div style=\"text-align: right\"> Please upload your file @ LearnUs by 9 AM in the form of [ID_Name_Lab11.ipynb]. </div></h4>\n",
    "\n",
    "### *Instructions:*\n",
    "- Write a program implementing a particular algorithm to solve a given problem.   \n",
    "- <span style=\"color:red\">**Report and discuss your results. Analyze the algorithm, theoretically and empirically.**</span> \n",
    "- Each team must write their own answers and codes (<span style=\"color:red\">**if not you will get a F grade**</span>)."
   ]
  },
  {
   "cell_type": "markdown",
   "metadata": {
    "id": "Nats-XhJHNF2"
   },
   "source": [
    "<h2><span style=\"color:blue\">[201714216] [이관희]</span> </h2>"
   ]
  },
  {
   "cell_type": "code",
   "execution_count": 1,
   "metadata": {
    "id": "DUNE2wXfHNF2",
    "outputId": "cf8804ce-9063-463d-988f-cd900bd149b1",
    "tags": []
   },
   "outputs": [
    {
     "name": "stdout",
     "output_type": "stream",
     "text": [
      "This code is written at 2022-05-19 00:39:51.082236\n"
     ]
    }
   ],
   "source": [
    "import datetime\n",
    "print(\"This code is written at \" + str(datetime.datetime.now()))"
   ]
  },
  {
   "cell_type": "code",
   "execution_count": 2,
   "metadata": {
    "tags": []
   },
   "outputs": [
    {
     "name": "stdout",
     "output_type": "stream",
     "text": [
      "Requirement already satisfied: unidecode in /home/jovyan/.local/lib/python3.8/site-packages (1.3.4)\n",
      "\u001b[33mWARNING: You are using pip version 22.0.3; however, version 22.1 is available.\n",
      "You should consider upgrading via the '/home/jovyan/.venv/torch1.9.0-py3.8-cuda11.1/bin/python -m pip install --upgrade pip' command.\u001b[0m\u001b[33m\n",
      "\u001b[0m"
     ]
    }
   ],
   "source": [
    "!pip install unidecode --user"
   ]
  },
  {
   "cell_type": "code",
   "execution_count": 3,
   "metadata": {
    "id": "J8vQvyjWHNF5",
    "tags": []
   },
   "outputs": [],
   "source": [
    "import unidecode\n",
    "import string\n",
    "import random\n",
    "import re\n",
    "import os\n",
    "\n",
    "import torch\n",
    "import torch.nn as nn\n",
    "from torch.autograd import Variable"
   ]
  },
  {
   "cell_type": "markdown",
   "metadata": {
    "id": "O9OP9XM9HNF5"
   },
   "source": [
    "These sorts of generative models form the basis of machine translation, image captioning, question answering and more.\n",
    "\n",
    "<img src=\"http://drive.google.com/uc?export=view&id=16E7HG_dCyfTo9u9qrrhp2eClq6xK6-f_\" style=\"width: 600px;\"/>"
   ]
  },
  {
   "cell_type": "markdown",
   "metadata": {
    "id": "6YQl92mwHNF6"
   },
   "source": [
    "### 1. Prepare data\n",
    "\n",
    "The file we are using is a plain text file. We turn any potential unicode characters into plain ASCII by using the `unidecode` package"
   ]
  },
  {
   "cell_type": "markdown",
   "metadata": {
    "id": "ymNU_-ZGHNF6"
   },
   "source": [
    "<img src=\"http://drive.google.com/uc?export=view&id=171lX3vxj60AQNScQi872BHx2Rz6J7-3J\" />"
   ]
  },
  {
   "cell_type": "code",
   "execution_count": 4,
   "metadata": {
    "id": "TFK9sT_1HNF6",
    "outputId": "1bbcf9b6-7367-4aba-ff59-7a3e6134441d",
    "tags": []
   },
   "outputs": [
    {
     "name": "stdout",
     "output_type": "stream",
     "text": [
      "file_len = 4063\n"
     ]
    }
   ],
   "source": [
    "# 파일 불러오기 \n",
    "file = unidecode.unidecode(open('../dataset/lab11/lose_yourself_eminem.txt').read())\n",
    "file_len = len(file)\n",
    "print('file_len =', file_len)"
   ]
  },
  {
   "cell_type": "markdown",
   "metadata": {
    "id": "TUyRw-C2HNF6"
   },
   "source": [
    "To make inputs out of this big string of data, we will be splitting it into chunks."
   ]
  },
  {
   "cell_type": "code",
   "execution_count": 5,
   "metadata": {
    "id": "6nPqv8tuHNF7",
    "outputId": "2a05a019-0267-43fd-9e6a-cbcf9c5ac4c3",
    "tags": []
   },
   "outputs": [
    {
     "name": "stdout",
     "output_type": "stream",
     "text": [
      "chmo who flows, he nose dove and sold nada\n",
      "So the soap opera is told and unfolds, I suppose it's old partna, but the beat goes on\n",
      "Da da dumb da dumb da da\n",
      "You better lose yourself in the music, the mom\n",
      "\n",
      "\n",
      "201\n"
     ]
    }
   ],
   "source": [
    "chunk_len = 200\n",
    "\n",
    "# train과 test에서 사용할 data가 매우 길이가 제각각이므로 이를 일정하게 만드는 역할이다.\n",
    "# 아래 출력값의 글자수가 200이되는 것이다.\n",
    "def random_chunk():\n",
    "    start_index = random.randint(0, file_len - chunk_len)\n",
    "    # print(start_index)\n",
    "    end_index = start_index + chunk_len + 1\n",
    "    return file[start_index:end_index]\n",
    "\n",
    "print(random_chunk())\n",
    "print('\\n')\n",
    "print(len(random_chunk()))"
   ]
  },
  {
   "cell_type": "markdown",
   "metadata": {
    "id": "ScRzeDr8HNF9"
   },
   "source": [
    "Each chunk will be turned into a tensor by looping through the characters of the string and looking up the index of each character in `all_characters`."
   ]
  },
  {
   "cell_type": "code",
   "execution_count": 6,
   "metadata": {
    "id": "TylqhpuyHNF9",
    "outputId": "9e4b9d7e-bea0-41a5-d853-caaa711be679",
    "tags": []
   },
   "outputs": [
    {
     "name": "stdout",
     "output_type": "stream",
     "text": [
      "0123456789abcdefghijklmnopqrstuvwxyzABCDEFGHIJKLMNOPQRSTUVWXYZ!\"#$%&'()*+,-./:;<=>?@[\\]^_`{|}~ \t\n",
      "\r",
      "\u000b",
      "\f",
      "\n",
      "\n",
      "\n",
      "num_chars =  100\n"
     ]
    }
   ],
   "source": [
    "# Turn string into list of longs\n",
    "# 출력가능한 모든 문자를 살펴보자\n",
    "# 여기서 만약 one-hot-vector로 전환한다면 dimension의 크기와 같은 값일 것이다.\n",
    "all_characters = string.printable\n",
    "n_characters = len(all_characters)\n",
    "print(all_characters)\n",
    "print('\\n')\n",
    "print('num_chars = ', n_characters)\n",
    "# 총 올수 있는 문자의 종류는 100개이다."
   ]
  },
  {
   "cell_type": "code",
   "execution_count": 7,
   "metadata": {},
   "outputs": [
    {
     "name": "stdout",
     "output_type": "stream",
     "text": [
      "abcDEF is changed to  tensor([10, 11, 12, 39, 40, 41])\n"
     ]
    }
   ],
   "source": [
    "# 문자열을 input으로 받는다면 그 값을 위에 printable에 해당하는\n",
    "# index tensor로 바꿔주는 역할을 한다. \n",
    "def char_tensor(string):\n",
    "    tensor = torch.zeros(len(string)).long()\n",
    "    for c in range(len(string)):\n",
    "        tensor[c] = all_characters.index(string[c])\n",
    "    return Variable(tensor)\n",
    "\n",
    "print('abcDEF is changed to ', char_tensor('abcDEF'))"
   ]
  },
  {
   "cell_type": "markdown",
   "metadata": {
    "id": "b1XvIwnaHNF9"
   },
   "source": [
    "Finally we can assemble a pair of input and target tensors for training, from a random chunk. The input will be all characters *up to the last*, and the target will be all characters *from the first*. So if our chunk is \"abc\" the input will correspond to \"ab\" while the target is \"bc\"."
   ]
  },
  {
   "cell_type": "code",
   "execution_count": 8,
   "metadata": {
    "id": "YfaPPbDMHNF-",
    "tags": []
   },
   "outputs": [],
   "source": [
    "# love_yourself 가사를 적절하게 자르고 이를\n",
    "# train data와 test data로 나누는 작업이다.\n",
    "def random_training_set():    \n",
    "    chunk = random_chunk()\n",
    "    # print(len(chunk)) # 201 이다 왜냐하면 {end-start}(200)+1을 해야 되므로 \n",
    "    inputs = char_tensor(chunk[:-1])\n",
    "    #print(inputs.size()) torch.Size([200])\n",
    "    targets = char_tensor(chunk[1:])\n",
    "    #print(targets.size()) torch.Size([200])\n",
    "    return inputs, targets"
   ]
  },
  {
   "cell_type": "code",
   "execution_count": 9,
   "metadata": {},
   "outputs": [
    {
     "name": "stdout",
     "output_type": "stream",
     "text": [
      "tensor([16, 14, 96, 37, 30, 29, 94, 44, 94, 20, 14, 25, 29, 94, 27, 17, 34, 22,\n",
      "        18, 23, 68, 94, 10, 23, 13, 94, 28, 29, 14, 25, 32, 27, 18, 29, 18, 23,\n",
      "        68, 94, 29, 17, 14, 94, 23, 14, 33, 29, 94, 12, 18, 25, 17, 14, 27, 96,\n",
      "        37, 14, 28, 29, 94, 11, 14, 21, 18, 14, 31, 14, 94, 28, 24, 22, 14, 11,\n",
      "        24, 13, 34, 68, 28, 94, 25, 10, 34, 18, 23, 68, 94, 29, 17, 14, 94, 25,\n",
      "        18, 14, 13, 94, 25, 18, 25, 14, 27, 96, 36, 21, 21, 94, 29, 17, 14, 94,\n",
      "        25, 10, 18, 23, 94, 18, 23, 28, 18, 13, 14, 94, 10, 22, 25, 21, 18, 15,\n",
      "        18, 14, 13, 94, 11, 34, 94, 29, 17, 14, 96, 41, 10, 12, 29, 94, 29, 17,\n",
      "        10, 29, 94, 44, 94, 12, 10, 23, 68, 29, 94, 16, 14, 29, 94, 11, 34, 94,\n",
      "        32, 18, 29, 17, 94, 22, 34, 94, 23, 18, 23, 14, 94, 29, 24, 96, 41, 18,\n",
      "        31, 14, 94, 10, 23, 13, 94, 44, 94, 12, 10, 23, 68, 29, 94, 25, 27, 24,\n",
      "        31, 18])\n",
      "tensor([14, 96, 37, 30, 29, 94, 44, 94, 20, 14, 25, 29, 94, 27, 17, 34, 22, 18,\n",
      "        23, 68, 94, 10, 23, 13, 94, 28, 29, 14, 25, 32, 27, 18, 29, 18, 23, 68,\n",
      "        94, 29, 17, 14, 94, 23, 14, 33, 29, 94, 12, 18, 25, 17, 14, 27, 96, 37,\n",
      "        14, 28, 29, 94, 11, 14, 21, 18, 14, 31, 14, 94, 28, 24, 22, 14, 11, 24,\n",
      "        13, 34, 68, 28, 94, 25, 10, 34, 18, 23, 68, 94, 29, 17, 14, 94, 25, 18,\n",
      "        14, 13, 94, 25, 18, 25, 14, 27, 96, 36, 21, 21, 94, 29, 17, 14, 94, 25,\n",
      "        10, 18, 23, 94, 18, 23, 28, 18, 13, 14, 94, 10, 22, 25, 21, 18, 15, 18,\n",
      "        14, 13, 94, 11, 34, 94, 29, 17, 14, 96, 41, 10, 12, 29, 94, 29, 17, 10,\n",
      "        29, 94, 44, 94, 12, 10, 23, 68, 29, 94, 16, 14, 29, 94, 11, 34, 94, 32,\n",
      "        18, 29, 17, 94, 22, 34, 94, 23, 18, 23, 14, 94, 29, 24, 96, 41, 18, 31,\n",
      "        14, 94, 10, 23, 13, 94, 44, 94, 12, 10, 23, 68, 29, 94, 25, 27, 24, 31,\n",
      "        18, 13])\n"
     ]
    }
   ],
   "source": [
    "inputs , targets =random_training_set()\n",
    "print(inputs)\n",
    "print(targets)\n",
    "# 여기서 학습 방법을 파악해야 한다. inputs의 하나씩 넣은 output 값과 target값을 cross entropy 취해서 학습시켜준다."
   ]
  },
  {
   "cell_type": "code",
   "execution_count": 10,
   "metadata": {},
   "outputs": [
    {
     "data": {
      "text/plain": [
       "tensor(16)"
      ]
     },
     "execution_count": 10,
     "metadata": {},
     "output_type": "execute_result"
    }
   ],
   "source": [
    "inputs[0]"
   ]
  },
  {
   "cell_type": "markdown",
   "metadata": {
    "id": "uaQ88mGNHNF-"
   },
   "source": [
    "### 2. Build the LSTM model [4 points]\n",
    "\n",
    "#### [Diagram of LSTM]\n",
    "<img src=\"http://drive.google.com/uc?export=view&id=1baQ6Ffu-vDcXbOEBYGeLzhmfvaj4DGgW\" style=\"width: 800px;\"/>\n",
    "LSTM consists of cell state, hidden state and 3 gates that modify or use the cell state. The cell state is the key part of the LSTM and you can think that information \"flows\" in there. The operation of 3 gates are described in below.\n",
    "\n",
    "#### [Forget Gate]\n",
    "The forget gate determines which information in the cell state should be erased.\n",
    "<img src=\"http://drive.google.com/uc?export=view&id=1sJisl5P0hggmvH4qrcYgSETFKdFdBSH_\" style=\"width: 600px;\"/>\n",
    "\n",
    "#### [Input Gate]\n",
    "First, the candidate cell state is created using the current input and the previous hidden state. And the input gate determines how much the candidate cell state is reflected to the cell state.\n",
    "<img src=\"http://drive.google.com/uc?export=view&id=1Df-k5FORGH7PnXauYcb8qqUpY3Uot9A7\" style=\"width: 600px;\"/>\n",
    "\n",
    "#### [Output Gate]\n",
    "The output gate determines which elements should be extracted from the cell state to produce the output.\n",
    "<img src=\"http://drive.google.com/uc?export=view&id=1JLCGPcrZLOYfjyJhMTvmfixHq5plFj8L\" style=\"width: 600px;\"/>\n",
    "\n",
    "The above expression is summarized as follows,\n",
    "<img src=\"http://drive.google.com/uc?export=view&id=1kGq8DwwzizuNcg6GF0GaP1DAu26FFlrB\" style=\"width: 300px;\"/>\n"
   ]
  },
  {
   "cell_type": "markdown",
   "metadata": {
    "id": "my4efNewHNF-"
   },
   "source": [
    "This model will take as input the character for step $t_{-1}$ and is expected to output the next character $t$. There are three layers - one linear layer that encodes the input character into an internal state, one LSTM layer that operates on that internal state and a hidden state, and a decoder layer that outputs the probability distribution."
   ]
  },
  {
   "cell_type": "code",
   "execution_count": null,
   "metadata": {},
   "outputs": [],
   "source": [
    "# RNN 구조를 한번 파악해보자. 이걸 알아야 embedding이 어떻게 쓰이는지 파악할 수 있다.\n",
    "\n",
    "'''\n",
    "STEP 3: CREATE MODEL CLASS\n",
    "'''\n",
    "class RNN(nn.Module):\n",
    "    def __init__(self, input_size, embedding_size, hidden_size, output_size, num_layers=1):\n",
    "        super(RNN, self).__init__()\n",
    "        self.input_size = input_size\n",
    "        self.embedding_size = hidden_size\n",
    "        self.hidden_size = hidden_size\n",
    "        self.output_size = output_size\n",
    "        self.num_layers = num_layers\n",
    "        \n",
    "        # encoder layer인 embedding이 이 함수의 핵심이다.\n",
    "        # https://wikidocs.net/64779 사이트를 참고하자.\n",
    "        # 간단히 말하면 nn.Embedding()을 사용하여 학습가능한 임베딩 테이블을 만드는 것이다.\n",
    "        # 학습 부분을 보면 알겠지만 하나의 element를 조금 변형해서 넣어주는 것 뿐이 없다.\n",
    "        # 즉 embedding은 table을 만드는 함수로 one-hot-encoding 대신 사용할 수 있는 학습 테이블 이라고 보면 된다.\n",
    "        self.encoder = nn.Embedding(self.input_size, self.hidden_size)\n",
    "        self.rnn = nn.RNN(self.embedding_size,self.hidden_size,self.num_layers)\n",
    "        self.decoder = nn.Linear(self.hidden_size, self.output_size)\n",
    "        \n",
    "    \n",
    "    def forward(self, input, hidden):\n",
    "        # print(input.dtype) # torch.int64\n",
    "        out = self.encoder(input.view(1,-1))\n",
    "        out,hidden = self.rnn(out,hidden)\n",
    "        # print(out.size()) # torch.Size([1, 1, 100])\n",
    "        out = self.decoder(out.view(batch_size,-1))\n",
    "        #print(out.size()) # torch.Size([1, 100])\n",
    "        return out,hidden\n",
    "\n",
    "    def init_hidden(self):\n",
    "        hidden = torch.zeros(self.num_layers, batch_size, self.hidden_size)\n",
    "        return hidden\n",
    "\n",
    "hidden_size=100\n",
    "num_layers = 1\n",
    "batch_size = 1\n",
    "    \n",
    "model = RNN(n_characters, hidden_size, hidden_size, n_characters, num_layers)\n",
    "# model = LSTMModel(n_characters, hidden_dim, n_layers, n_characters)\n",
    "model.cuda()"
   ]
  },
  {
   "cell_type": "code",
   "execution_count": null,
   "metadata": {},
   "outputs": [],
   "source": [
    "# 이 코드를 이용해서 밑에 내 코드가 잘 짜야져있는지 확인해보자. \n",
    "class LSTM(nn.Module):\n",
    "    def __init__(self, input_size, embedding_size, hidden_size, output_size, num_layers=1):\n",
    "        super(LSTM, self).__init__()\n",
    "        self.input_size = input_size\n",
    "        self.embedding_size = embedding_size\n",
    "        self.hidden_size = hidden_size\n",
    "        self.output_size = output_size\n",
    "        self.num_layers = num_layers\n",
    "        \n",
    "        self.encoder = nn.Embedding(self.input_size, self.embedding_size)\n",
    "        self.rnn = nn.LSTM(self.embedding_size,self.hidden_size,self.num_layers)\n",
    "        self.decoder = nn.Linear(self.hidden_size, self.output_size)\n",
    "        \n",
    "    \n",
    "    def forward(self, input, hidden, cell):\n",
    "        out = self.encoder(input.view(1,-1))\n",
    "        out,(hidden,cell) = self.rnn(out,(hidden,cell))\n",
    "        out = self.decoder(out.view(batch_size,-1))\n",
    "        return out,hidden,cell\n",
    "\n",
    "    def init_hidden(self):\n",
    "        hidden = torch.zeros(self.num_layers,batch_size,self.hidden_size)\n",
    "        cell = torch.zeros(self.num_layers,batch_size,self.hidden_size)\n",
    "        return hidden,cell\n",
    "\n",
    "hidden_size = 100\n",
    "num_layers = 1\n",
    "n_characters = len(all_characters)\n",
    "embedding_size=70 \n",
    "batch_size = 1\n",
    "\n",
    "\n",
    "model = LSTM(n_characters, embedding_size, hidden_size, n_characters, num_layers)\n",
    "model.cuda()"
   ]
  },
  {
   "cell_type": "code",
   "execution_count": 48,
   "metadata": {},
   "outputs": [
    {
     "data": {
      "text/plain": [
       "LSTMModel(\n",
       "  (encoder): Embedding(100, 100)\n",
       "  (forget_gate): Linear(in_features=100, out_features=100, bias=True)\n",
       "  (input_gate_i): Linear(in_features=100, out_features=100, bias=True)\n",
       "  (input_gate_C): Linear(in_features=100, out_features=100, bias=True)\n",
       "  (output_gate): Linear(in_features=100, out_features=100, bias=True)\n",
       "  (sigmoid): Sigmoid()\n",
       "  (tanh): Tanh()\n",
       "  (decoder): Linear(in_features=100, out_features=100, bias=True)\n",
       ")"
      ]
     },
     "execution_count": 48,
     "metadata": {},
     "output_type": "execute_result"
    }
   ],
   "source": [
    "## 내가 짠 모델이다.\n",
    "\n",
    "class LSTMModel(nn.Module):\n",
    "    def __init__(self, input_dim, hidden_dim, layer_dim, output_dim):\n",
    "        super(LSTMModel, self).__init__()\n",
    "        \n",
    "        self.input_dim = input_dim\n",
    "        self.hidden_dim = hidden_dim\n",
    "        self.layer_dim = layer_dim\n",
    "        self.output_dim = output_dim\n",
    "        \n",
    "        self.encoder = nn.Embedding(input_dim, hidden_dim)\n",
    "        \n",
    "        # lstm\n",
    "        # The size of input is (batch_size, seq_dim, hidden_dim)\n",
    "        # 위에께 들어오는지 알았는데 forword에 들어올 input은 그냥 하나의 tensor이다. 이걸 embedding을 통해서\n",
    "        # 학습가능한 형태의 table로 만들어줘야 하는 것이다. 여기서 input_dim = 100 이고 hidden_dim=100이다.\n",
    "        # 즉 100 x 100의 table을 만든것이다.여기서 encoder\n",
    "\n",
    "        \n",
    "        # x size [1] embedding -> [1,100(word의 갯수),100(알바벳 갯수)]\n",
    "        # h size [B,S,C] -> [1,100,100]\n",
    "        # x와 h concatnate 한 size [1,100,200]\n",
    "        # concatnate 못함 왜냐 [1,100,100] 유지해야 되는데 [1,100,200]으로 계산 못함.\n",
    "        # 고로 더하기로 구현하자.\n",
    "        # torch.cat((x, h), 3)\n",
    "        \n",
    "        # forget_gate\n",
    "        self.forget_gate = nn.Linear(hidden_dim, hidden_dim)\n",
    "        \n",
    "        #input_gate\n",
    "        self.input_gate_i = nn.Linear(hidden_dim, hidden_dim)\n",
    "        self.input_gate_C = nn.Linear(hidden_dim, hidden_dim)\n",
    "        \n",
    "        ##output_gate\n",
    "        self.output_gate = nn.Linear(input_dim,hidden_dim)\n",
    "\n",
    "        self.sigmoid = nn.Sigmoid()\n",
    "        \n",
    "        self.tanh = nn.Tanh()\n",
    "\n",
    "        self.decoder = nn.Linear(hidden_dim, output_dim)\n",
    "    \n",
    "    def forward(self, input, hn, cn):\n",
    "        #############\n",
    "        # CODE HERE #\n",
    "        #############\n",
    "#         print('input : {}'.format(input.size()))\n",
    "#         print('hn : {}'.format(hn.size()))\n",
    "        x = self.encoder(input.view(1,-1)) # x size 1 , 1 -> 1,1,100\n",
    "        # print(x.size())\n",
    "#         print('x : {}'.format(x.size()))\n",
    "        \n",
    "        ## forget Gate\n",
    "        f_t=self.sigmoid(self.forget_gate(x)+self.forget_gate(hn)) # [1,1,100]\n",
    "#         print(f_t.size())\n",
    "        # f_t size [B,hidden_dim]\n",
    "        \n",
    "#         ## 질문 forget gate에서 같은 layer을 의미하는가? ㅇㅇ 공유함. 식이 같음.\n",
    "#         hidden_1= self.forget_gate_input(input) + self.forget_gate_h(hn)\n",
    "#         hidden_1 = self.sigmoid(hidden_1)\n",
    "        \n",
    "        ## input gate\n",
    "        i_t=self.sigmoid(self.input_gate_i(x)+self.input_gate_i(hn))      #[1,1,100]  \n",
    "        tillde_C = self.tanh(self.input_gate_C(x)+self.input_gate_C(hn)) # [1,1,100]\n",
    "        \n",
    "        ## cn 업데이트\n",
    "        cn = cn*f_t+i_t*tillde_C # [1,1,100]\n",
    "#         print(cn.size())\n",
    "        \n",
    "        ## output gate\n",
    "        o_t = self.sigmoid(self.output_gate(x)+self.output_gate(hn))\n",
    "        h_t = o_t * self.tanh(cn)\n",
    "        \n",
    "        # hn 업데이트\n",
    "        hn = h_t # [1,1,100]\n",
    "        \n",
    "        ## 질문 output은 h_t와 같나? 다르다. 여기서 output은 decoder 해줘야함.\n",
    "        output = self.decoder(h_t.view(1,-1)) # [1,100]\n",
    "        return output, hn, cn\n",
    "\n",
    "    def init_hidden(self):\n",
    "        # The size of h0, c0 should be (layer_dim, batch_size, hidden_dim)\n",
    "        #############\n",
    "        # CODE HERE #\n",
    "        #############\n",
    "        h0 = Variable(torch.zeros(self.layer_dim, 1, self.hidden_dim).cuda()) # initial hidden state [1,1,100]\n",
    "        c0 = Variable(torch.zeros(self.layer_dim, 1, self.hidden_dim).cuda()) # initial cell state [1,1,100]\n",
    "        \n",
    "        return h0, c0\n",
    "    \n",
    "hidden_dim = 100\n",
    "n_layers = 1\n",
    "n_characters = len(all_characters)\n",
    "\n",
    "model = LSTMModel(n_characters, hidden_dim, n_layers, n_characters)\n",
    "model.cuda()"
   ]
  },
  {
   "cell_type": "code",
   "execution_count": 11,
   "metadata": {},
   "outputs": [
    {
     "data": {
      "text/plain": [
       "LSTMModel(\n",
       "  (encoder): Embedding(100, 100)\n",
       "  (forget_gate_x): Linear(in_features=100, out_features=100, bias=True)\n",
       "  (forget_gate_h): Linear(in_features=100, out_features=100, bias=True)\n",
       "  (input_gate_i_x): Linear(in_features=100, out_features=100, bias=True)\n",
       "  (input_gate_i_h): Linear(in_features=100, out_features=100, bias=True)\n",
       "  (input_gate_C_x): Linear(in_features=100, out_features=100, bias=True)\n",
       "  (input_gate_C_h): Linear(in_features=100, out_features=100, bias=True)\n",
       "  (output_gate_x): Linear(in_features=100, out_features=100, bias=True)\n",
       "  (output_gate_h): Linear(in_features=100, out_features=100, bias=True)\n",
       "  (sigmoid): Sigmoid()\n",
       "  (tanh): Tanh()\n",
       "  (decoder): Linear(in_features=100, out_features=100, bias=True)\n",
       ")"
      ]
     },
     "execution_count": 11,
     "metadata": {},
     "output_type": "execute_result"
    }
   ],
   "source": [
    "## 위에꺼는 x와 h의 parameter가 같다. 그래서 이게 맞는 모델이다.\n",
    "\n",
    "class LSTMModel(nn.Module):\n",
    "    def __init__(self, input_dim, hidden_dim, layer_dim, output_dim):\n",
    "        super(LSTMModel, self).__init__()\n",
    "        \n",
    "        self.input_dim = input_dim\n",
    "        self.hidden_dim = hidden_dim\n",
    "        self.layer_dim = layer_dim\n",
    "        self.output_dim = output_dim\n",
    "        \n",
    "        self.encoder = nn.Embedding(input_dim, hidden_dim)\n",
    "        \n",
    "        # lstm\n",
    "        # The size of input is (batch_size, seq_dim, hidden_dim)\n",
    "        # 위에께 들어오는지 알았는데 forword에 들어올 input은 그냥 하나의 tensor이다. 이걸 embedding을 통해서\n",
    "        # 학습가능한 형태의 table로 만들어줘야 하는 것이다. 여기서 input_dim = 100 이고 hidden_dim=100이다.\n",
    "        # 즉 100 x 100의 table을 만든것이다.여기서 encoder\n",
    "\n",
    "        \n",
    "        # x size [1] embedding -> [1,100(word의 갯수),100(알바벳 갯수)]\n",
    "        # h size [B,S,C] -> [1,100,100]\n",
    "        # x와 h concatnate 한 size [1,100,200]\n",
    "        # concatnate 못함 왜냐 [1,100,100] 유지해야 되는데 [1,100,200]으로 계산 못함.\n",
    "        # 고로 더하기로 구현하자.\n",
    "        # torch.cat((x, h), 3)\n",
    "        \n",
    "        # forget_gate\n",
    "        self.forget_gate_x = nn.Linear(hidden_dim, hidden_dim)\n",
    "        self.forget_gate_h = nn.Linear(hidden_dim, hidden_dim)\n",
    "\n",
    "        #input_gate\n",
    "        self.input_gate_i_x = nn.Linear(hidden_dim, hidden_dim)\n",
    "        self.input_gate_i_h = nn.Linear(hidden_dim, hidden_dim)\n",
    "\n",
    "        self.input_gate_C_x = nn.Linear(hidden_dim, hidden_dim)\n",
    "        self.input_gate_C_h = nn.Linear(hidden_dim, hidden_dim)\n",
    "\n",
    "        \n",
    "        ##output_gate\n",
    "        self.output_gate_x = nn.Linear(input_dim,hidden_dim)\n",
    "        self.output_gate_h = nn.Linear(input_dim,hidden_dim)\n",
    "\n",
    "        self.sigmoid = nn.Sigmoid()\n",
    "        \n",
    "        self.tanh = nn.Tanh()\n",
    "\n",
    "        self.decoder = nn.Linear(hidden_dim, output_dim)\n",
    "    \n",
    "    def forward(self, input, hn, cn):\n",
    "        #############\n",
    "        # CODE HERE #\n",
    "        #############\n",
    "#         print('input : {}'.format(input.size()))\n",
    "#         print('hn : {}'.format(hn.size()))\n",
    "        x = self.encoder(input.view(1,-1)) # x size 1 , 1 -> 1,1,100\n",
    "        # print(x.size())\n",
    "#         print('x : {}'.format(x.size()))\n",
    "        \n",
    "        ## forget Gate\n",
    "        f_t=self.sigmoid(self.forget_gate_x(x)+self.forget_gate_h(hn)) # [1,1,100]\n",
    "#         print(f_t.size())\n",
    "        # f_t size [B,hidden_dim]\n",
    "        \n",
    "#         ## 질문 forget gate에서 같은 layer을 의미하는가? ㅇㅇ 공유함. 식이 같음.\n",
    "#         hidden_1= self.forget_gate_input(input) + self.forget_gate_h(hn)\n",
    "#         hidden_1 = self.sigmoid(hidden_1)\n",
    "        \n",
    "        ## input gate\n",
    "        i_t=self.sigmoid(self.input_gate_i_x(x)+self.input_gate_i_h(hn))      #[1,1,100]  \n",
    "        tillde_C = self.tanh(self.input_gate_C_x(x)+self.input_gate_C_h(hn)) # [1,1,100]\n",
    "        \n",
    "        ## cn 업데이트\n",
    "        cn = cn*f_t+i_t*tillde_C # [1,1,100]\n",
    "#         print(cn.size())\n",
    "        \n",
    "        ## output gate\n",
    "        o_t = self.sigmoid(self.output_gate_x(x)+self.output_gate_h(hn))\n",
    "        h_t = o_t * self.tanh(cn)\n",
    "        \n",
    "        # hn 업데이트\n",
    "        hn = h_t # [1,1,100]\n",
    "        \n",
    "        ## 질문 output은 h_t와 같나? 다르다. 여기서 output은 decoder 해줘야함.\n",
    "        output = self.decoder(h_t.view(1,-1)) # [1,100]\n",
    "        \n",
    "        return output, hn, cn\n",
    "\n",
    "    def init_hidden(self):\n",
    "        # The size of h0, c0 should be (layer_dim, batch_size, hidden_dim)\n",
    "        #############\n",
    "        # CODE HERE #\n",
    "        #############\n",
    "        h0 = Variable(torch.zeros(self.layer_dim, 1, self.hidden_dim).cuda()) # initial hidden state [1,1,100]\n",
    "        c0 = Variable(torch.zeros(self.layer_dim, 1, self.hidden_dim).cuda()) # initial cell state [1,1,100]\n",
    "        \n",
    "        return h0, c0\n",
    "    \n",
    "hidden_dim = 100\n",
    "n_layers = 1\n",
    "n_characters = len(all_characters)\n",
    "\n",
    "model = LSTMModel(n_characters, hidden_dim, n_layers, n_characters)\n",
    "model.cuda()"
   ]
  },
  {
   "cell_type": "markdown",
   "metadata": {
    "id": "2qajoki2HNF_"
   },
   "source": [
    "### 3. Loss function and optimizer"
   ]
  },
  {
   "cell_type": "code",
   "execution_count": 12,
   "metadata": {
    "execution": {
     "iopub.execute_input": "2022-03-10T13:49:37.104574Z",
     "iopub.status.busy": "2022-03-10T13:49:37.104306Z",
     "iopub.status.idle": "2022-03-10T13:49:37.108309Z",
     "shell.execute_reply": "2022-03-10T13:49:37.107704Z",
     "shell.execute_reply.started": "2022-03-10T13:49:37.104556Z"
    },
    "id": "xvm-picHHNF_"
   },
   "outputs": [],
   "source": [
    "criterion = nn.CrossEntropyLoss()\n",
    "\n",
    "lr = 0.005\n",
    "optimizer = torch.optim.Adam(model.parameters(), lr=lr)"
   ]
  },
  {
   "cell_type": "markdown",
   "metadata": {
    "id": "5haXxzwOHNF_"
   },
   "source": [
    "### 4 . Write the character level generation code [4 points]\n",
    "\n",
    "- Generate a sentence with a length of $predict\\_len$, starting from a single character $prime\\_str$.\n",
    "- Example) evaluate(prime_str='Y', predict_len=20) -> You better let it go"
   ]
  },
  {
   "cell_type": "code",
   "execution_count": 13,
   "metadata": {},
   "outputs": [],
   "source": [
    "def evaluate(prime_str='W', predict_len=20):\n",
    "    inp = char_tensor(prime_str)\n",
    "    # print(inp) # tensor([58])\n",
    "    hidden, cell = model.init_hidden() # 이미 cuda() 올라가 있음.\n",
    "    x = inp.cuda()\n",
    "#     model.cpu()\n",
    "\n",
    "#     print(' W : {}'.format(prime_input))\n",
    "    print(prime_str,end=\"\")\n",
    "    \n",
    "    for p in range(predict_len):\n",
    "        output,hidden, cell= model(x,hidden, cell)\n",
    "        #print(output.data.view(-1)) # torch.Size([100])\n",
    "        #print(output.data.view(-1).div(0.8))\n",
    "        #print(output.data.view(-1).div(0.8).exp())\n",
    "        output_dist = output.data.view(-1).div(0.8).exp()\n",
    "        # output.data.view(-1).div(0.8) output 값을 0.8로 나누는 것이다.\n",
    "        # 그 후 exp()를 씌한다.\n",
    "        # 즉 out_dist에서 얻어진 값이 확률로 해석될 수 있는 텐서가 된다.\n",
    "        # multinomial의 첫번쨰 인자는 확률로 해석될 수 있는 텐서가 들어가고\n",
    "        # 두번째 인자는 샘플링할 갯수가 들어간다.\n",
    "        top_i = torch.multinomial(output_dist, 1)[0]\n",
    "        predicted_char = all_characters[top_i]\n",
    "        \n",
    "        print(predicted_char,end=\"\")\n",
    "        \n",
    "        x = char_tensor(predicted_char).cuda()\n",
    "        # x를 계속해서 쓰기 때문에 x를 업데이트 해주면 된다. output으로 원래는 predicted 였지만 의미 없으므로\n",
    "        # return 값이 없어도 된다. 그러나 여기서는 보내야 된다면 그냥 predicted_char 를 보면 될 것 같다.\n",
    "        # 근데 출력이 안 예쁘므로 그냥 생략하자.\n",
    "    #predicted = predicted_char\n",
    "    #return predicted\n",
    "    # -> 이걸 print에서 쓸 것이기 때문에 이렇게하면 none 이 출력된다. 그러므로 문자열을 만들어 주자."
   ]
  },
  {
   "cell_type": "code",
   "execution_count": 14,
   "metadata": {},
   "outputs": [],
   "source": [
    "def evaluate(prime_str='W', predict_len=20):\n",
    "    inp = char_tensor(prime_str)\n",
    "    hidden, cell = model.init_hidden() # 이미 cuda() 올라가 있음.\n",
    "    x = inp.cuda()\n",
    "    predicted = str()\n",
    "    predicted = predicted + prime_str\n",
    "    \n",
    "    for p in range(predict_len):\n",
    "        output,hidden, cell= model(x,hidden, cell)\n",
    "        #print(output.data.view(-1)) # torch.Size([100])\n",
    "        #print(output.data.view(-1).div(0.8))\n",
    "        #print(output.data.view(-1).div(0.8).exp())\n",
    "        output_dist = output.data.view(-1).div(0.8).exp()\n",
    "        # output.data.view(-1).div(0.8) output 값을 0.8로 나누는 것이다.\n",
    "        # 그 후 exp()를 씌한다.\n",
    "        # 즉 out_dist에서 얻어진 값이 확률로 해석될 수 있는 텐서가 된다.\n",
    "        # multinomial의 첫번쨰 인자는 확률로 해석될 수 있는 텐서가 들어가고\n",
    "        # 두번째 인자는 샘플링할 갯수가 들어간다.\n",
    "        top_i = torch.multinomial(output_dist, 1)[0]\n",
    "        predicted_char = all_characters[top_i]\n",
    "        \n",
    "        predicted = predicted + predicted_char\n",
    "        \n",
    "        x = char_tensor(predicted_char).cuda()\n",
    "        # x를 계속해서 쓰기 때문에 x를 업데이트 해주면 된다. output으로 원래는 predicted 였지만 의미 없으므로\n",
    "        # return 값이 없어도 된다. 그러나 여기서는 보내야 된다면 그냥 predicted_char 를 보면 될 것 같다.\n",
    "        # 근데 출력이 안 예쁘므로 그냥 생략하자.\n",
    "    #predicted = predicted_char\n",
    "    return predicted"
   ]
  },
  {
   "cell_type": "code",
   "execution_count": 17,
   "metadata": {},
   "outputs": [
    {
     "name": "stdout",
     "output_type": "stream",
     "text": [
      "WT?\u000b",
      "c\n",
      "8*':c=\u000b",
      "F5)QLhf6\n"
     ]
    }
   ],
   "source": [
    "print(evaluate())"
   ]
  },
  {
   "cell_type": "code",
   "execution_count": 18,
   "metadata": {},
   "outputs": [
    {
     "name": "stdout",
     "output_type": "stream",
     "text": [
      "tensor([1])\n",
      "tensor([3])\n",
      "tensor([2])\n",
      "tensor([1])\n",
      "tensor([3])\n",
      "tensor([4])\n",
      "tensor([2])\n",
      "tensor([3])\n",
      "tensor([1])\n",
      "tensor([1])\n",
      "tensor([3])\n",
      "tensor([1])\n"
     ]
    }
   ],
   "source": [
    "weights = torch.tensor([0, 40, 5, 10, 3, 0], dtype=torch.float) # create a tensor of weights\n",
    "print(torch.multinomial(weights, 1))\n",
    "print(torch.multinomial(weights, 1))\n",
    "print(torch.multinomial(weights, 1))\n",
    "print(torch.multinomial(weights, 1))\n",
    "print(torch.multinomial(weights, 1))\n",
    "print(torch.multinomial(weights, 1))\n",
    "print(torch.multinomial(weights, 1))\n",
    "print(torch.multinomial(weights, 1))\n",
    "print(torch.multinomial(weights, 1))\n",
    "print(torch.multinomial(weights, 1))\n",
    "print(torch.multinomial(weights, 1))\n",
    "print(torch.multinomial(weights, 1))\n",
    "# 확률적으로 추출하게 됨. "
   ]
  },
  {
   "cell_type": "markdown",
   "metadata": {
    "id": "vt4VFJd5HNF_"
   },
   "source": [
    "### 5 . Write the code to train the model [2 points]\n",
    "\n",
    "- Plot the training loss curve.\n",
    "- Print the output sentence with a length of 100, using $evaluate()$ function."
   ]
  },
  {
   "cell_type": "code",
   "execution_count": 19,
   "metadata": {},
   "outputs": [
    {
     "name": "stdout",
     "output_type": "stream",
     "text": [
      "tensor([[-1.0292,  0.0758,  0.1664, -0.1592,  1.1450],\n",
      "        [-0.2130,  1.1669, -0.5697,  0.7416,  1.6917],\n",
      "        [-2.0640,  0.9690, -0.5804, -0.4183, -0.1007]], requires_grad=True)\n",
      "tensor([[0.0221, 0.2437, 0.2246, 0.4075, 0.1021],\n",
      "        [0.0814, 0.0364, 0.3158, 0.4135, 0.1529],\n",
      "        [0.0263, 0.0243, 0.0490, 0.8479, 0.0525]])\n",
      "tensor([3, 0, 2])\n"
     ]
    }
   ],
   "source": [
    "input = torch.randn(3, 5, requires_grad=True)\n",
    "print(input)\n",
    "target = torch.randn(3, 5).softmax(dim=1)\n",
    "print(target)\n",
    "target = torch.empty(3, dtype=torch.long).random_(5)\n",
    "print(target)"
   ]
  },
  {
   "cell_type": "code",
   "execution_count": 20,
   "metadata": {},
   "outputs": [
    {
     "name": "stdout",
     "output_type": "stream",
     "text": [
      "************************* epoch100 *************************\n",
      "loss 286.2765\n",
      "Is better is onay molity woreve hall wonis to mut ne tis whanly knorlld mife moss get lor therer cohe \n",
      "\n",
      "************************* epoch200 *************************\n",
      "loss 326.7842\n",
      "IMBat fot her blows thater and\n",
      "An't on anly litt\n",
      "Or momely coke a dot, Note lity doment ever walk a b \n",
      "\n",
      "************************* epoch300 *************************\n",
      "loss 357.5076\n",
      "Ighis opine do no I sombflive the won't pain' and ppime you but better un in a is on in ied ast do fa \n",
      "\n",
      "************************* epoch400 *************************\n",
      "loss 282.1879\n",
      "I nore not ma ling cinge, the mes only mo not ma fargtter jagn li to ceass grome to plo stermbe raily \n",
      "\n",
      "************************* epoch500 *************************\n",
      "loss 265.4240\n",
      "I only faybu beter one shot, but I't spot, don't and to not miss youred and rage\n",
      "Ted is you better\n",
      "Th \n",
      "\n",
      "************************* epoch600 *************************\n",
      "loss 224.0096\n",
      "I't wore tardod\n",
      "He colily tho nerwage\n",
      "Teart, the to don't roab and on to this vomit, yourself in a li \n",
      "\n",
      "************************* epoch700 *************************\n",
      "loss 215.6430\n",
      "I dupside andy forlm all lim one sweade plit\n",
      "You own it, you better jam or chance to blow\n",
      "This opport \n",
      "\n",
      "************************* epoch800 *************************\n",
      "loss 156.4899\n",
      "Iver\n",
      "And uno the supsight beaty\n",
      "He's staping, the movity\n",
      "The opever chaked, but time your chance to b \n",
      "\n",
      "************************* epoch900 *************************\n",
      "loss 24.8786\n",
      "I caught up but I can't paybe, thed\n",
      "In yo, he's bromes yout not\n",
      "So do rhangot\n",
      "To is\n",
      "More doses weak,  \n",
      "\n",
      "************************* epoch1000 *************************\n",
      "loss 141.0136\n",
      "I want to po fIt don't gett go caught home, he's gravity\n",
      "Oh, there cand won't papsin' the pied pwro d \n",
      "\n",
      "************************* epoch1100 *************************\n",
      "loss 96.5146\n",
      "I flow\n",
      "This opho do not miss yourself in the must let it go\n",
      "You own as thera\n",
      "It I mose is mouth, but  \n",
      "\n",
      "************************* epoch1200 *************************\n",
      "loss 78.6429\n",
      "I new world one shot, do not miss your chance to blow\n",
      "This opportunity comes once in a lifetime you b \n",
      "\n",
      "************************* epoch1300 *************************\n",
      "loss 113.3650\n",
      "I upsic, the moment\n",
      "You own it, you better nes\n",
      "in the call and water my seas, show, everybody's jokin \n",
      "\n",
      "************************* epoch1400 *************************\n",
      "loss 57.6291\n",
      "It goes buy misic, the move you, seads, the words won't donc, that his mouth, but the next cipher\n",
      "Bes \n",
      "\n",
      "************************* epoch1500 *************************\n",
      "loss 49.0488\n",
      "I waapturey\n",
      "in yo, he's dope, he knows his whole he whole back city's grows have the suptitugr\n",
      "Back t \n",
      "\n",
      "************************* epoch1600 *************************\n",
      "loss 34.5482\n",
      "It go en, but he's got to go, I cance to blow\n",
      "This opportunity comes once in a lifetime you better\n",
      "Yo \n",
      "\n",
      "************************* epoch1700 *************************\n",
      "loss 41.5261\n",
      "I belo is\n",
      "Se may harder, only knows, he's known as the goes his moment a life is your chance to blow\n",
      " \n",
      "\n",
      "************************* epoch1800 *************************\n",
      "loss 35.0118\n",
      "I cann when it, you better never let it go\n",
      "You only get one shot, do dand bood as and sprlity\n",
      "Oh, the \n",
      "\n",
      "************************* epoch1900 *************************\n",
      "loss 28.4753\n",
      "It\n",
      "You own it, you better never let it go\n",
      "You only get one shot, do not miss your change what he pipe \n",
      "\n",
      "************************* epoch2000 *************************\n",
      "loss 17.3690\n",
      "I miss my life and these times up, over, blaow!\n",
      "Snap back to the next cipher\n",
      "Best believe somebody's  \n",
      "\n"
     ]
    }
   ],
   "source": [
    "n_epochs = 2000\n",
    "print_every = 100\n",
    "plot_every = 10\n",
    "\n",
    "all_losses = []\n",
    "loss_avg = 0\n",
    "\n",
    "for epoch in range(1, n_epochs + 1):\n",
    "    # Load text\n",
    "    inputs, targets = random_training_set()\n",
    "    if inputs.size()[0] < 200: continue\n",
    "    \n",
    "#     print(inputs)\n",
    "#     print(targets)\n",
    "    \n",
    "    # 다 gpu로 올리고 최기화 해주자.  # Clear gradients w.r.t. parameters    \n",
    "    hidden , cell = model.init_hidden()\n",
    "    inputs = inputs.cuda()\n",
    "    targets = targets.cuda()\n",
    "    model.zero_grad()\n",
    "    optimizer.zero_grad()\n",
    "    \n",
    "    # Forward pass\n",
    "    loss = torch.tensor([0]).type(torch.FloatTensor) # 0으로 해도됨.\n",
    "    for j in range(chunk_len-1):\n",
    "        x  = inputs[j]\n",
    "#         print(x)\n",
    "        y_ = targets[j].unsqueeze(0).type(torch.LongTensor)\n",
    "        y,hidden, cell = model(x,hidden,cell)\n",
    "#         print(y.size())\n",
    "#         print(y_.size())\n",
    "        y= y.cpu()\n",
    "        loss += criterion(y,y_)\n",
    "#         print(loss)\n",
    "\n",
    "        \n",
    "    # Backward pass\n",
    "    loss.backward()\n",
    "    \n",
    "    # Updating parameters\n",
    "    optimizer.step()\n",
    "\n",
    "    loss_avg += loss.item() / chunk_len\n",
    "    \n",
    "    if epoch % print_every == 0:\n",
    "        print('*'*25, 'epoch%d'%epoch, '*'*25)\n",
    "        print('loss %.4f'%loss.item())\n",
    "        print(evaluate('I', 100), '\\n')\n",
    "\n",
    "    if epoch % plot_every == 0:\n",
    "        all_losses.append(loss_avg / plot_every)\n",
    "        loss_avg = 0\n"
   ]
  },
  {
   "cell_type": "code",
   "execution_count": 21,
   "metadata": {},
   "outputs": [
    {
     "data": {
      "text/plain": [
       "[<matplotlib.lines.Line2D at 0x7f81ee60e760>]"
      ]
     },
     "execution_count": 21,
     "metadata": {},
     "output_type": "execute_result"
    },
    {
     "data": {
      "image/png": "[encoded data removed]",
      "text/plain": [
       "<Figure size 432x288 with 1 Axes>"
      ]
     },
     "metadata": {
      "needs_background": "light"
     },
     "output_type": "display_data"
    }
   ],
   "source": [
    "# 0~2000epoch\n",
    "#################################################\n",
    "import matplotlib.pyplot as plt\n",
    "%matplotlib inline\n",
    "\n",
    "plt.figure()\n",
    "plt.plot(all_losses)"
   ]
  },
  {
   "cell_type": "markdown",
   "metadata": {
    "id": "XCGRgEuZHNF_"
   },
   "source": [
    "### *References*\n",
    "[1] [practical pytorch](https://github.com/spro/practical-pytorch)(https://github.com/spro/practical-pytorch)\n",
    "\n",
    "[2] [CS 231n](http://cs231n.stanford.edu/syllabus.html)(http://cs231n.stanford.edu/syllabus.html)"
   ]
  },
  {
   "cell_type": "markdown",
   "metadata": {},
   "source": [
    "이 실험은 NLP의 기본이 되는 모델인 RNN과 LSTM을 분석하는 것이다. RNN은 과거의 정보를 바탕으로 현재를 추정하는 sequence task에 잘 잘동한다. 하지만 long-term 일 경우에는 이론상으로는 가능하지만 gradient vanshing 문제 등이 겹치면서 실제적으로는 잘 작동하지 않는다. 이를 보안하기 위해 만들어진 모델이 LSTM이다. LSTM은 gate를 이용해서 과거의 정보를 얼마나 상쇄시킬것이고 현재의 정보을 얼마나 추가해줄 것인지를 결정하기 때문에 매우 유용하다. 자세한 설명은 예비보고서에서 했으니 생략하겠지만 핵심은 LSTM을 사용했을 때 위의 가사와 같은 문제와 같은 sequence 문제같은 NLP 관련 task를 해결할 수 있다는 것이다."
   ]
  },
  {
   "cell_type": "markdown",
   "metadata": {},
   "source": [
    "예상했던 점 : RNN과 LSTM 모두 반복적인 구조를 이용해서 recurrent하게 학습이 진행되어 sequence task를 수행할 수 있다.\n",
    "    이를 확인하기 위해서 먼저 MNIST dataset을 가지고 분석하였다. MNIST dataset의 28x28을 한 줄씩 sequence로 보아서 \n",
    "    RNN과 LSTM모두 넣어준 결과 각 image가 무엇을 뜻하는 것인지 94~95% 육박하는 성능을 보였다. 따라서 RNN 구조는 매우\n",
    "    효과적인 구조라고 볼 수 있다.\n",
    "    \n",
    "예상과 달랐던 점 및 개선할 점 : \n",
    "input이 element가 1개인 tensor인데 학습이 이루어지는 것이 처음는 너무 이해가 가지 않았다. 그래서 질문도 했지만 뭐가 이해않되고 있는지도 모르고 개념이 전체가 잘못 잡혀있어서 아쉬웠다. 그렇게 검색을 하던 중에 RNN으로 관련 task를 진행한 사이트를 찾을 수 있었고 그 사이트에서 embedding table을 이해할 수 있었다. (위에 링크가 주석으로 되어 있다.)\n",
    "\n",
    " 위의 결과를 보면 알 수 있듯이 Loss 값은 계속 주는 것으로보아 학습이 이루어 지고 있다는 것을 알 수 있다. 출력되는 문자열 역시 가사를 잘 모르지만 이해할 수 있는 알파벳 순서로 나열되어 그럴듯한 결과를 얻을 수 있었다. 여기서 파악할 수 있는 것은 \n",
    "노래 가사라는 짧은 글에 task를 학습하기 위해서 2000 epoch 정도가 필요했다. 사실상 이건 overfitting된 값이기 때문에 가사에 매우 잘 fit한 것으로 볼 수 있지만 (사실상 복사에 가까운 개념이 아닐까?) 실제로는 단어와 문장이 매우 다양하기 때문에 좀 더 명확한 분석이 필요할 것이다. 이를 위해서는 더 큰 data set으로 예상해봐야 할 것 같다.\n",
    "\n",
    "결론 : LSTM과 RNN을 살펴봄을써 NLP 모델의 기초를 학습할 수 있었다. 그리고 embedding table를 이용해서 한 단어를 embedding하여 학습이 가능하다는 것을 깨달을 수 있었다. \n",
    "    \n",
    "의문점 : 블로그에서 소개하길 LSTM의 다음 step이 attention이라고 했는데 이는 어떤 것을 추가해서 성능을 업그레이드 했는지 궁금하다."
   ]
  },
  {
   "cell_type": "markdown",
   "metadata": {},
   "source": [
    "https://wjddyd66.github.io/pytorch/Pytorch-RNN&LSTM/ 를 주로 참고하였음"
   ]
  },
  {
   "cell_type": "code",
   "execution_count": null,
   "metadata": {},
   "outputs": [],
   "source": []
  }
 ],
 "metadata": {
  "colab": {
   "collapsed_sections": [],
   "name": "EEE4423_lab10_Character Generation using LSTM.ipynb",
   "provenance": []
  },
  "kernelspec": {
   "display_name": "torch1.9.0-py3.8-cuda11.1",
   "language": "python",
   "name": "torch1.9.0-py3.8-cuda11.1"
  },
  "language_info": {
   "codemirror_mode": {
    "name": "ipython",
    "version": 3
   },
   "file_extension": ".py",
   "mimetype": "text/x-python",
   "name": "python",
   "nbconvert_exporter": "python",
   "pygments_lexer": "ipython3",
   "version": "3.8.10"
  }
 },
 "nbformat": 4,
 "nbformat_minor": 4
}
