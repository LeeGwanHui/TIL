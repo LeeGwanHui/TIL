{
 "cells": [
  {
   "cell_type": "markdown",
   "metadata": {
    "id": "SEHO-jaFj9Zm"
   },
   "source": [
    "> ### EEE4423: Deep Learning Lab\n",
    "\n",
    "# LAB \\#3: CNN: VGG Net and ResNet"
   ]
  },
  {
   "cell_type": "markdown",
   "metadata": {
    "id": "HVdm1LA1j9Zo"
   },
   "source": [
    "<h4><div style=\"text-align: right\"> Due date: March 25, 2022.  </div> <br>\n",
    "<div style=\"text-align: right\"> Please upload your file @ LearnUs by 9 AM in the form of [ID_Name_Lab03.ipynb]. </div></h4>"
   ]
  },
  {
   "cell_type": "markdown",
   "metadata": {
    "id": "8cl2DqlTj9Zp"
   },
   "source": [
    "### *Instructions:*\n",
    "- Write a program implementing a particular algorithm to solve a given problem.   \n",
    "- <span style=\"color:red\">**Report and discuss your results. Analyze the algorithm, theoretically and empirically.**</span> \n",
    "- Each team must write their own answers and codes (<span style=\"color:red\">**if not you will get a F grade**</span>)."
   ]
  },
  {
   "cell_type": "markdown",
   "metadata": {
    "id": "KKipoMbMj9Zq"
   },
   "source": [
    "<h2><span style=\"color:blue\">[Insert your ID HERE] [Insert your name HERE]</span> </h2>"
   ]
  },
  {
   "cell_type": "code",
   "execution_count": 1,
   "metadata": {
    "colab": {
     "base_uri": "https://localhost:8080/"
    },
    "execution": {
     "iopub.execute_input": "2022-02-25T09:44:49.874164Z",
     "iopub.status.busy": "2022-02-25T09:44:49.873644Z",
     "iopub.status.idle": "2022-02-25T09:44:49.973560Z",
     "shell.execute_reply": "2022-02-25T09:44:49.972227Z",
     "shell.execute_reply.started": "2022-02-25T09:44:49.874109Z"
    },
    "executionInfo": {
     "elapsed": 3,
     "status": "ok",
     "timestamp": 1647947001660,
     "user": {
      "displayName": "Lee gwan hui",
      "photoUrl": "https://lh3.googleusercontent.com/a/default-user=s64",
      "userId": "09079206913426271362"
     },
     "user_tz": -540
    },
    "id": "VL1pbTi2j9Zr",
    "outputId": "5c0b3b99-3b24-4660-f6d2-0e5db5220181"
   },
   "outputs": [
    {
     "name": "stdout",
     "output_type": "stream",
     "text": [
      "This code is written at 2022-03-22 11:03:21.127117\n"
     ]
    }
   ],
   "source": [
    "import datetime\n",
    "print(\"This code is written at \" + str(datetime.datetime.now()))"
   ]
  },
  {
   "cell_type": "markdown",
   "metadata": {
    "id": "VpPLjwr8j9Zw"
   },
   "source": [
    "## 1. VGGNet with PyTorch"
   ]
  },
  {
   "cell_type": "markdown",
   "metadata": {
    "id": "IWeEYLiSj9Zx"
   },
   "source": [
    "### Implementing VGGNet\n",
    "\n",
    "> 1. **Dataset**\n",
    ">> - Images from the first three categories in CIFAR-10. (Due to the computational constraints.)  <br>\n",
    "     Three categories : plane, car, bird  /  The number of training images : 15,000   /  The number of test images : 3,000\n",
    ">> - Augmented with flipping and random cropping.\n",
    ">\n",
    "> 2. **Network architecture**\n",
    ">> - Type-D configuration in the paper (+ 3-way classifier after convolutional layers).\n",
    ">> - ReLU activation.\n",
    ">> - No dropout for simplicity.\n",
    ">> - We will apply **batch-normalization** after every convolution which is not used in the paper (otherwise, hard to optimize).\n",
    ">>\n",
    ">> <table><tr>\n",
    ">> <td> <img src=\"http://drive.google.com/uc?export=view&id=1jn7ICUJAcTF3WQ1XuUffOdmprgj4u1c3\" alt=\"no_image\" style=\"width: 550px;\"/> </td>\n",
    ">> <td> <img src=\"http://drive.google.com/uc?export=view&id=1Rz0iWW6VoLD_XGdRa3ofYyhCTTb6kR_k\" alt=\"no_image\" style=\"width: 250px;\"/> </td>\n",
    ">> </tr></table>\n",
    ">>\n",
    ">> <font size=\"0.5\"> Figure from <br>\n",
    ">> [1] https://www.quora.com/What-is-the-VGG-neural-network </font>\n",
    ">\n",
    "> 3. **Loss function**\n",
    ">> - Cross-entropy loss between outputs & ground-truths. <br>\n",
    "     Note that `nn.CrossEntroyLoss` takes logits before softmax as network outputs and scalar index (not one-hot vector) as ground-truths.<br>\n",
    "     See https://pytorch.org/docs/stable/nn.html#crossentropyloss for details.\n",
    ">\n",
    "> 4. **Training**\n",
    ">> - Default weight initialization for simplicity.\n",
    ">> - SGD optimizer with `learning rate = 1e-2`, `momentum = 0.9`, and `weight_decay = 5e-4`.\n",
    ">> - 20 epochs without learning rate scheduling.\n",
    ">\n",
    "> 5. **Evaluation metric**\n",
    ">> - Classification accuracy (i.e., the percentage of correct predictions).\n",
    ">\n",
    "> "
   ]
  },
  {
   "cell_type": "code",
   "execution_count": 6,
   "metadata": {
    "execution": {
     "iopub.execute_input": "2022-02-25T09:44:50.978522Z",
     "iopub.status.busy": "2022-02-25T09:44:50.978032Z",
     "iopub.status.idle": "2022-02-25T09:45:04.679815Z",
     "shell.execute_reply": "2022-02-25T09:45:04.678372Z",
     "shell.execute_reply.started": "2022-02-25T09:44:50.978472Z"
    },
    "executionInfo": {
     "elapsed": 6333,
     "status": "ok",
     "timestamp": 1647947032629,
     "user": {
      "displayName": "Lee gwan hui",
      "photoUrl": "https://lh3.googleusercontent.com/a/default-user=s64",
      "userId": "09079206913426271362"
     },
     "user_tz": -540
    },
    "id": "LGgir5u7j9Zy"
   },
   "outputs": [],
   "source": [
    "import torch\n",
    "import torch.nn as nn\n",
    "import torch.optim as optim\n",
    "import torch.nn.functional as F\n",
    "import torchvision.transforms as transforms\n",
    "import torchvision.datasets as dsets \n",
    "import torchvision\n",
    "import time\n",
    "import os\n",
    "\n",
    "# os.environ[\"CUDA_VISIBLE_DEVICES\"]=\"0\""
   ]
  },
  {
   "cell_type": "code",
   "execution_count": null,
   "metadata": {
    "colab": {
     "base_uri": "https://localhost:8080/",
     "height": 53
    },
    "execution": {
     "iopub.execute_input": "2022-02-25T09:45:04.774519Z",
     "iopub.status.busy": "2022-02-25T09:45:04.774143Z",
     "iopub.status.idle": "2022-02-25T09:46:38.276105Z",
     "shell.execute_reply": "2022-02-25T09:46:38.274252Z",
     "shell.execute_reply.started": "2022-02-25T09:45:04.774475Z"
    },
    "executionInfo": {
     "elapsed": 46373,
     "status": "ok",
     "timestamp": 1549956503374,
     "user": {
      "displayName": "­이중협(대학원/일반대학원 전기전자공학과)",
      "photoUrl": "",
      "userId": "06027175232332113122"
     },
     "user_tz": -540
    },
    "id": "OwvpXFuaj9Z0",
    "outputId": "0943c291-534d-4930-e426-a650e204cdba"
   },
   "outputs": [
    {
     "name": "stdout",
     "output_type": "stream",
     "text": [
      "STEP 1: LOADING DATASET\n",
      "Downloading https://www.cs.toronto.edu/~kriz/cifar-10-python.tar.gz to ../dataset/lab03\\cifar-10-python.tar.gz\n"
     ]
    },
    {
     "name": "stderr",
     "output_type": "stream",
     "text": [
      "1.8%IOPub message rate exceeded.\n",
      "The notebook server will temporarily stop sending output\n",
      "to the client in order to avoid crashing it.\n",
      "To change this limit, set the config variable\n",
      "`--NotebookApp.iopub_msg_rate_limit`.\n",
      "\n",
      "Current values:\n",
      "NotebookApp.iopub_msg_rate_limit=1000.0 (msgs/sec)\n",
      "NotebookApp.rate_limit_window=3.0 (secs)\n",
      "\n",
      "6.7%IOPub message rate exceeded.\n",
      "The notebook server will temporarily stop sending output\n",
      "to the client in order to avoid crashing it.\n",
      "To change this limit, set the config variable\n",
      "`--NotebookApp.iopub_msg_rate_limit`.\n",
      "\n",
      "Current values:\n",
      "NotebookApp.iopub_msg_rate_limit=1000.0 (msgs/sec)\n",
      "NotebookApp.rate_limit_window=3.0 (secs)\n",
      "\n",
      "11.8%IOPub message rate exceeded.\n",
      "The notebook server will temporarily stop sending output\n",
      "to the client in order to avoid crashing it.\n",
      "To change this limit, set the config variable\n",
      "`--NotebookApp.iopub_msg_rate_limit`.\n",
      "\n",
      "Current values:\n",
      "NotebookApp.iopub_msg_rate_limit=1000.0 (msgs/sec)\n",
      "NotebookApp.rate_limit_window=3.0 (secs)\n",
      "\n",
      "18.4%IOPub message rate exceeded.\n",
      "The notebook server will temporarily stop sending output\n",
      "to the client in order to avoid crashing it.\n",
      "To change this limit, set the config variable\n",
      "`--NotebookApp.iopub_msg_rate_limit`.\n",
      "\n",
      "Current values:\n",
      "NotebookApp.iopub_msg_rate_limit=1000.0 (msgs/sec)\n",
      "NotebookApp.rate_limit_window=3.0 (secs)\n",
      "\n",
      "24.0%IOPub message rate exceeded.\n",
      "The notebook server will temporarily stop sending output\n",
      "to the client in order to avoid crashing it.\n",
      "To change this limit, set the config variable\n",
      "`--NotebookApp.iopub_msg_rate_limit`.\n",
      "\n",
      "Current values:\n",
      "NotebookApp.iopub_msg_rate_limit=1000.0 (msgs/sec)\n",
      "NotebookApp.rate_limit_window=3.0 (secs)\n",
      "\n",
      "28.9%IOPub message rate exceeded.\n",
      "The notebook server will temporarily stop sending output\n",
      "to the client in order to avoid crashing it.\n",
      "To change this limit, set the config variable\n",
      "`--NotebookApp.iopub_msg_rate_limit`.\n",
      "\n",
      "Current values:\n",
      "NotebookApp.iopub_msg_rate_limit=1000.0 (msgs/sec)\n",
      "NotebookApp.rate_limit_window=3.0 (secs)\n",
      "\n",
      "35.0%IOPub message rate exceeded.\n",
      "The notebook server will temporarily stop sending output\n",
      "to the client in order to avoid crashing it.\n",
      "To change this limit, set the config variable\n",
      "`--NotebookApp.iopub_msg_rate_limit`.\n",
      "\n",
      "Current values:\n",
      "NotebookApp.iopub_msg_rate_limit=1000.0 (msgs/sec)\n",
      "NotebookApp.rate_limit_window=3.0 (secs)\n",
      "\n",
      "41.9%IOPub message rate exceeded.\n",
      "The notebook server will temporarily stop sending output\n",
      "to the client in order to avoid crashing it.\n",
      "To change this limit, set the config variable\n",
      "`--NotebookApp.iopub_msg_rate_limit`.\n",
      "\n",
      "Current values:\n",
      "NotebookApp.iopub_msg_rate_limit=1000.0 (msgs/sec)\n",
      "NotebookApp.rate_limit_window=3.0 (secs)\n",
      "\n",
      "49.4%IOPub message rate exceeded.\n",
      "The notebook server will temporarily stop sending output\n",
      "to the client in order to avoid crashing it.\n",
      "To change this limit, set the config variable\n",
      "`--NotebookApp.iopub_msg_rate_limit`.\n",
      "\n",
      "Current values:\n",
      "NotebookApp.iopub_msg_rate_limit=1000.0 (msgs/sec)\n",
      "NotebookApp.rate_limit_window=3.0 (secs)\n",
      "\n",
      "57.4%IOPub message rate exceeded.\n",
      "The notebook server will temporarily stop sending output\n",
      "to the client in order to avoid crashing it.\n",
      "To change this limit, set the config variable\n",
      "`--NotebookApp.iopub_msg_rate_limit`.\n",
      "\n",
      "Current values:\n",
      "NotebookApp.iopub_msg_rate_limit=1000.0 (msgs/sec)\n",
      "NotebookApp.rate_limit_window=3.0 (secs)\n",
      "\n",
      "64.8%IOPub message rate exceeded.\n",
      "The notebook server will temporarily stop sending output\n",
      "to the client in order to avoid crashing it.\n",
      "To change this limit, set the config variable\n",
      "`--NotebookApp.iopub_msg_rate_limit`.\n",
      "\n",
      "Current values:\n",
      "NotebookApp.iopub_msg_rate_limit=1000.0 (msgs/sec)\n",
      "NotebookApp.rate_limit_window=3.0 (secs)\n",
      "\n",
      "71.0%IOPub message rate exceeded.\n",
      "The notebook server will temporarily stop sending output\n",
      "to the client in order to avoid crashing it.\n",
      "To change this limit, set the config variable\n",
      "`--NotebookApp.iopub_msg_rate_limit`.\n",
      "\n",
      "Current values:\n",
      "NotebookApp.iopub_msg_rate_limit=1000.0 (msgs/sec)\n",
      "NotebookApp.rate_limit_window=3.0 (secs)\n",
      "\n",
      "78.7%IOPub message rate exceeded.\n",
      "The notebook server will temporarily stop sending output\n",
      "to the client in order to avoid crashing it.\n",
      "To change this limit, set the config variable\n",
      "`--NotebookApp.iopub_msg_rate_limit`.\n",
      "\n",
      "Current values:\n",
      "NotebookApp.iopub_msg_rate_limit=1000.0 (msgs/sec)\n",
      "NotebookApp.rate_limit_window=3.0 (secs)\n",
      "\n",
      "85.6%IOPub message rate exceeded.\n",
      "The notebook server will temporarily stop sending output\n",
      "to the client in order to avoid crashing it.\n",
      "To change this limit, set the config variable\n",
      "`--NotebookApp.iopub_msg_rate_limit`.\n",
      "\n",
      "Current values:\n",
      "NotebookApp.iopub_msg_rate_limit=1000.0 (msgs/sec)\n",
      "NotebookApp.rate_limit_window=3.0 (secs)\n",
      "\n",
      "91.8%IOPub message rate exceeded.\n",
      "The notebook server will temporarily stop sending output\n",
      "to the client in order to avoid crashing it.\n",
      "To change this limit, set the config variable\n",
      "`--NotebookApp.iopub_msg_rate_limit`.\n",
      "\n",
      "Current values:\n",
      "NotebookApp.iopub_msg_rate_limit=1000.0 (msgs/sec)\n",
      "NotebookApp.rate_limit_window=3.0 (secs)\n",
      "\n",
      "99.7%IOPub message rate exceeded.\n",
      "The notebook server will temporarily stop sending output\n",
      "to the client in order to avoid crashing it.\n",
      "To change this limit, set the config variable\n",
      "`--NotebookApp.iopub_msg_rate_limit`.\n",
      "\n",
      "Current values:\n",
      "NotebookApp.iopub_msg_rate_limit=1000.0 (msgs/sec)\n",
      "NotebookApp.rate_limit_window=3.0 (secs)\n",
      "\n"
     ]
    }
   ],
   "source": [
    "print('STEP 1: LOADING DATASET')\n",
    "\n",
    "transform_train = transforms.Compose([\n",
    "    transforms.RandomCrop(32, padding=4),\n",
    "    transforms.RandomHorizontalFlip(),\n",
    "    transforms.ToTensor(),\n",
    "    transforms.Normalize((0.4914, 0.4822, 0.4465), (0.2023, 0.1994, 0.2010)),\n",
    "])\n",
    "\n",
    "transform_test = transforms.Compose([\n",
    "    transforms.ToTensor(),\n",
    "    transforms.Normalize((0.4914, 0.4822, 0.4465), (0.2023, 0.1994, 0.2010)),\n",
    "])\n",
    "\n",
    "train_dataset = dsets.CIFAR10(root='../dataset/lab03', \n",
    "                            train=True, \n",
    "                            transform=transform_train,\n",
    "                            download=True)\n",
    "\n",
    "test_dataset = dsets.CIFAR10(root='../dataset/lab03', \n",
    "                           train=False, \n",
    "                           transform=transform_test)"
   ]
  },
  {
   "cell_type": "code",
   "execution_count": null,
   "metadata": {
    "execution": {
     "iopub.execute_input": "2022-02-25T09:46:38.574773Z",
     "iopub.status.busy": "2022-02-25T09:46:38.574244Z",
     "iopub.status.idle": "2022-02-25T09:51:22.080888Z",
     "shell.execute_reply": "2022-02-25T09:51:22.079134Z",
     "shell.execute_reply.started": "2022-02-25T09:46:38.574727Z"
    },
    "id": "DrK0ZHmLj9Z4"
   },
   "outputs": [],
   "source": [
    "# reducing the dataset\n",
    "reduced_train_dataset = []\n",
    "for images, labels in train_dataset:\n",
    "    if labels < 3:\n",
    "        reduced_train_dataset.append((images, labels))\n",
    "        \n",
    "reduced_test_dataset = []\n",
    "for images, labels in test_dataset:\n",
    "    if labels < 3:\n",
    "        reduced_test_dataset.append((images, labels))"
   ]
  },
  {
   "cell_type": "code",
   "execution_count": null,
   "metadata": {
    "colab": {
     "base_uri": "https://localhost:8080/",
     "height": 53
    },
    "executionInfo": {
     "elapsed": 63102,
     "status": "ok",
     "timestamp": 1549956520111,
     "user": {
      "displayName": "­이중협(대학원/일반대학원 전기전자공학과)",
      "photoUrl": "",
      "userId": "06027175232332113122"
     },
     "user_tz": -540
    },
    "id": "LWnYJ2cwj9Z6",
    "outputId": "eadaf55c-432b-4956-d36e-2e1064f10a62"
   },
   "outputs": [
    {
     "name": "stdout",
     "output_type": "stream",
     "text": [
      "The number of training images :  15000\n",
      "The number of test images :  3000\n"
     ]
    }
   ],
   "source": [
    "print(\"The number of training images : \", len(reduced_train_dataset))\n",
    "print(\"The number of test images : \", len(reduced_test_dataset))"
   ]
  },
  {
   "cell_type": "code",
   "execution_count": null,
   "metadata": {
    "colab": {
     "base_uri": "https://localhost:8080/",
     "height": 35
    },
    "executionInfo": {
     "elapsed": 63097,
     "status": "ok",
     "timestamp": 1549956520112,
     "user": {
      "displayName": "­이중협(대학원/일반대학원 전기전자공학과)",
      "photoUrl": "",
      "userId": "06027175232332113122"
     },
     "user_tz": -540
    },
    "id": "WFq0isyCj9Z-",
    "outputId": "0a486f6b-d1b2-4475-c20b-83fe0ac90fa0"
   },
   "outputs": [
    {
     "name": "stdout",
     "output_type": "stream",
     "text": [
      "STEP 2: MAKING DATASET ITERABLE\n"
     ]
    }
   ],
   "source": [
    "print('STEP 2: MAKING DATASET ITERABLE')\n",
    "\n",
    "train_loader = torch.utils.data.DataLoader(dataset=reduced_train_dataset, \n",
    "                                           batch_size=128, \n",
    "                                           shuffle=True)\n",
    "\n",
    "test_loader = torch.utils.data.DataLoader(dataset=reduced_test_dataset, \n",
    "                                          batch_size=100, \n",
    "                                          shuffle=False)\n",
    "\n",
    "class_names = ('plane', 'car', 'bird', 'cat', 'deer', 'dog', 'frog', 'horse', 'ship', 'truck')"
   ]
  },
  {
   "cell_type": "markdown",
   "metadata": {
    "id": "Wy7GW1lkj9aB"
   },
   "source": [
    "### Visualize a few images"
   ]
  },
  {
   "cell_type": "code",
   "execution_count": null,
   "metadata": {
    "id": "tJGv35Alj9aC"
   },
   "outputs": [],
   "source": [
    "import matplotlib.pyplot as plt\n",
    "%matplotlib inline  \n",
    "import numpy as np"
   ]
  },
  {
   "cell_type": "code",
   "execution_count": null,
   "metadata": {
    "id": "3PYou4Cuj9aE"
   },
   "outputs": [],
   "source": [
    "def imshow(inp, title=None):\n",
    "    \"\"\"Imshow for Tensor.\"\"\"\n",
    "    inp = inp.numpy().transpose((1, 2, 0))\n",
    "    mean = np.array([0.4914, 0.4822, 0.4465])\n",
    "    std = np.array([0.2023, 0.1994, 0.2010])\n",
    "    inp = std * inp + mean\n",
    "    inp = np.clip(inp, 0, 1)\n",
    "    plt.imshow(inp)\n",
    "    if title is not None:\n",
    "        plt.title(title)\n",
    "    plt.pause(0.001)  # pause a bit so that plots are updated"
   ]
  },
  {
   "cell_type": "code",
   "execution_count": null,
   "metadata": {
    "colab": {
     "base_uri": "https://localhost:8080/",
     "height": 150
    },
    "executionInfo": {
     "elapsed": 63086,
     "status": "ok",
     "timestamp": 1549956520118,
     "user": {
      "displayName": "­이중협(대학원/일반대학원 전기전자공학과)",
      "photoUrl": "",
      "userId": "06027175232332113122"
     },
     "user_tz": -540
    },
    "id": "jX59AE2pj9aH",
    "outputId": "795d995f-84c7-4cde-9524-95a3e78ccc6f"
   },
   "outputs": [
    {
     "name": "stdout",
     "output_type": "stream",
     "text": [
      "tensor([0, 2, 2, 0])\n",
      "torch.Size([4, 3, 32, 32])\n",
      "torch.Size([4, 3])\n",
      "tensor([ 5.1776, -3.4805, -1.8904], device='cuda:0', grad_fn=<SliceBackward0>)\n"
     ]
    },
    {
     "data": {
      "image/png": "[encoded data removed]",
      "text/plain": [
       "<Figure size 432x288 with 1 Axes>"
      ]
     },
     "metadata": {
      "needs_background": "light"
     },
     "output_type": "display_data"
    }
   ],
   "source": [
    "train_loader_sample = torch.utils.data.DataLoader(dataset=reduced_train_dataset, \n",
    "                                           batch_size=4, \n",
    "                                           shuffle=True)\n",
    "\n",
    "# Get a batch of training data\n",
    "inputs, classes = next(iter(train_loader_sample))\n",
    "# iter과 next 학습\n",
    "\n",
    "# Make a grid from batch\n",
    "out = torchvision.utils.make_grid(inputs)\n",
    "print(classes)\n",
    "print(inputs.size())\n",
    "outputs = model(inputs.to(device))\n",
    "print(outputs.size())\n",
    "print(outputs[0,:])\n",
    "imshow(out, title=[class_names[x] for x in classes])"
   ]
  },
  {
   "cell_type": "markdown",
   "metadata": {
    "id": "hzbc_fTrj9aM"
   },
   "source": [
    "### 1.1 Write code (VGG 16) [3 points]"
   ]
  },
  {
   "cell_type": "code",
   "execution_count": null,
   "metadata": {
    "colab": {
     "base_uri": "https://localhost:8080/",
     "height": 35
    },
    "executionInfo": {
     "elapsed": 63079,
     "status": "ok",
     "timestamp": 1549956520118,
     "user": {
      "displayName": "­이중협(대학원/일반대학원 전기전자공학과)",
      "photoUrl": "",
      "userId": "06027175232332113122"
     },
     "user_tz": -540
    },
    "id": "gjeNHb89j9aN",
    "outputId": "06f21fc1-d7d7-427a-d45d-f3118f915914"
   },
   "outputs": [
    {
     "name": "stdout",
     "output_type": "stream",
     "text": [
      "STEP 3: CREATE MODEL CLASS (VGG16)\n"
     ]
    }
   ],
   "source": [
    "print('STEP 3: CREATE MODEL CLASS (VGG16)')\n",
    "\n",
    "class VGG(nn.Module) : \n",
    "    def __init__(self) :\n",
    "        super(VGG,self).__init__()\n",
    "        self.conv = nn.Sequential(\n",
    "        # 3 32 32\n",
    "        # Convolution 1,2 -> conv3-64 , Max pool\n",
    "        # BatchNorm에 bias가 포함되어 있으므로, conv2d는 bias=False로 설정\n",
    "        nn.Conv2d(in_channels=3, out_channels = 64, kernel_size=3, padding=1,bias=False),nn.BatchNorm2d(64),nn.ReLU(),\n",
    "        nn.Conv2d(in_channels=64, out_channels = 64, kernel_size= 3, padding=1,bias=False),nn.BatchNorm2d(64),nn.ReLU(),\n",
    "        nn.MaxPool2d(kernel_size=2, stride=2),\n",
    "                    \n",
    "        # 64 16 16\n",
    "        # Convolution 3,4 -> conv3-128 , Max pool\n",
    "        nn.Conv2d(in_channels=64, out_channels = 128, kernel_size=3, padding=1,bias=False),nn.BatchNorm2d(128), nn.ReLU(),\n",
    "        nn.Conv2d(in_channels=128, out_channels = 128, kernel_size= 3, padding=1,bias=False),nn.BatchNorm2d(128), nn.ReLU(),\n",
    "        nn.MaxPool2d(kernel_size=2, stride=2),\n",
    "        \n",
    "        #128 8 8\n",
    "        # Convolution 5,6,7 -> conv3-256, Max pool\n",
    "        nn.Conv2d(in_channels=128, out_channels = 256, kernel_size=3, padding=1,bias=False),nn.BatchNorm2d(256), nn.ReLU(),\n",
    "        nn.Conv2d(in_channels=256, out_channels = 256, kernel_size= 3, padding=1,bias=False),nn.BatchNorm2d(256), nn.ReLU(),\n",
    "        nn.Conv2d(in_channels=256, out_channels = 256, kernel_size= 3, padding=1,bias=False),nn.BatchNorm2d(256), nn.ReLU(),\n",
    "        nn.MaxPool2d(kernel_size=2, stride=2),\n",
    "            \n",
    "        # 256 4 4 \n",
    "        # Convolution 8,9,10 -> conv3-512, Max pool\n",
    "        nn.Conv2d(in_channels=256, out_channels = 512, kernel_size=3, padding=1,bias=False),nn.BatchNorm2d(512), nn.ReLU(),\n",
    "        nn.Conv2d(in_channels=512, out_channels = 512, kernel_size= 3, padding=1,bias=False),nn.BatchNorm2d(512), nn.ReLU(),\n",
    "        nn.Conv2d(in_channels=512, out_channels = 512, kernel_size= 3, padding=1,bias=False),nn.BatchNorm2d(512), nn.ReLU(),\n",
    "        nn.MaxPool2d(kernel_size=2, stride=2),\n",
    "        \n",
    "        # 512 2 2\n",
    "        # Convolution 11,12,13 -> conv3-512, Max pool\n",
    "        nn.Conv2d(in_channels=512, out_channels = 512, kernel_size=3, padding=1,bias=False),nn.BatchNorm2d(512), nn.ReLU(),\n",
    "        nn.Conv2d(in_channels=512, out_channels = 512, kernel_size= 3, padding=1,bias=False),nn.BatchNorm2d(512), nn.ReLU(),\n",
    "        nn.Conv2d(in_channels=512, out_channels = 512, kernel_size= 3, padding=1,bias=False),nn.BatchNorm2d(512), nn.ReLU(),\n",
    "        nn.MaxPool2d(kernel_size=2, stride=2),    \n",
    "       #512 1 1\n",
    "        )\n",
    "        \n",
    "        self.classifier = nn.Linear(in_features=512*1*1, out_features=3) # 마지막이니깐 ReLU()는 필요없다.\n",
    "        \n",
    "#         self.classifier = nn.Sequential(\n",
    "#             nn.Linear(512 * 1 * 1, 4096),\n",
    "#             nn.ReLU(),\n",
    "#             nn.Linear(4096, 4096),\n",
    "#             nn.ReLU(),\n",
    "#             nn.Linear(4096, 3)\n",
    "#         )\n",
    "    def forward(self,x):\n",
    "        x = self.conv(x)\n",
    "        x= x.view(x.shape[0],-1) # x.shape[0] =batch size\n",
    "        # shape torch.Size([1, 2, 200, 100]), i.e [batch=1, ch=2, height=200, width=100 ]\n",
    "        #x= x.view(-1,512*1*1)\n",
    "        x= self.classifier(x)\n",
    "        return x"
   ]
  },
  {
   "cell_type": "code",
   "execution_count": null,
   "metadata": {
    "colab": {
     "base_uri": "https://localhost:8080/",
     "height": 935
    },
    "executionInfo": {
     "elapsed": 68844,
     "status": "ok",
     "timestamp": 1549956525890,
     "user": {
      "displayName": "­이중협(대학원/일반대학원 전기전자공학과)",
      "photoUrl": "",
      "userId": "06027175232332113122"
     },
     "user_tz": -540
    },
    "id": "iqoPZuR3j9aQ",
    "outputId": "6ac6e65f-85f6-4dc2-cd48-a4749bfa9810"
   },
   "outputs": [
    {
     "name": "stdout",
     "output_type": "stream",
     "text": [
      "STEP 4: INSTANTIATE MODEL CLASS\n",
      "The number of parameters :  14720451\n",
      "VGG(\n",
      "  (conv): Sequential(\n",
      "    (0): Conv2d(3, 64, kernel_size=(3, 3), stride=(1, 1), padding=(1, 1), bias=False)\n",
      "    (1): BatchNorm2d(64, eps=1e-05, momentum=0.1, affine=True, track_running_stats=True)\n",
      "    (2): ReLU()\n",
      "    (3): Conv2d(64, 64, kernel_size=(3, 3), stride=(1, 1), padding=(1, 1), bias=False)\n",
      "    (4): BatchNorm2d(64, eps=1e-05, momentum=0.1, affine=True, track_running_stats=True)\n",
      "    (5): ReLU()\n",
      "    (6): MaxPool2d(kernel_size=2, stride=2, padding=0, dilation=1, ceil_mode=False)\n",
      "    (7): Conv2d(64, 128, kernel_size=(3, 3), stride=(1, 1), padding=(1, 1), bias=False)\n",
      "    (8): BatchNorm2d(128, eps=1e-05, momentum=0.1, affine=True, track_running_stats=True)\n",
      "    (9): ReLU()\n",
      "    (10): Conv2d(128, 128, kernel_size=(3, 3), stride=(1, 1), padding=(1, 1), bias=False)\n",
      "    (11): BatchNorm2d(128, eps=1e-05, momentum=0.1, affine=True, track_running_stats=True)\n",
      "    (12): ReLU()\n",
      "    (13): MaxPool2d(kernel_size=2, stride=2, padding=0, dilation=1, ceil_mode=False)\n",
      "    (14): Conv2d(128, 256, kernel_size=(3, 3), stride=(1, 1), padding=(1, 1), bias=False)\n",
      "    (15): BatchNorm2d(256, eps=1e-05, momentum=0.1, affine=True, track_running_stats=True)\n",
      "    (16): ReLU()\n",
      "    (17): Conv2d(256, 256, kernel_size=(3, 3), stride=(1, 1), padding=(1, 1), bias=False)\n",
      "    (18): BatchNorm2d(256, eps=1e-05, momentum=0.1, affine=True, track_running_stats=True)\n",
      "    (19): ReLU()\n",
      "    (20): Conv2d(256, 256, kernel_size=(3, 3), stride=(1, 1), padding=(1, 1), bias=False)\n",
      "    (21): BatchNorm2d(256, eps=1e-05, momentum=0.1, affine=True, track_running_stats=True)\n",
      "    (22): ReLU()\n",
      "    (23): MaxPool2d(kernel_size=2, stride=2, padding=0, dilation=1, ceil_mode=False)\n",
      "    (24): Conv2d(256, 512, kernel_size=(3, 3), stride=(1, 1), padding=(1, 1), bias=False)\n",
      "    (25): BatchNorm2d(512, eps=1e-05, momentum=0.1, affine=True, track_running_stats=True)\n",
      "    (26): ReLU()\n",
      "    (27): Conv2d(512, 512, kernel_size=(3, 3), stride=(1, 1), padding=(1, 1), bias=False)\n",
      "    (28): BatchNorm2d(512, eps=1e-05, momentum=0.1, affine=True, track_running_stats=True)\n",
      "    (29): ReLU()\n",
      "    (30): Conv2d(512, 512, kernel_size=(3, 3), stride=(1, 1), padding=(1, 1), bias=False)\n",
      "    (31): BatchNorm2d(512, eps=1e-05, momentum=0.1, affine=True, track_running_stats=True)\n",
      "    (32): ReLU()\n",
      "    (33): MaxPool2d(kernel_size=2, stride=2, padding=0, dilation=1, ceil_mode=False)\n",
      "    (34): Conv2d(512, 512, kernel_size=(3, 3), stride=(1, 1), padding=(1, 1), bias=False)\n",
      "    (35): BatchNorm2d(512, eps=1e-05, momentum=0.1, affine=True, track_running_stats=True)\n",
      "    (36): ReLU()\n",
      "    (37): Conv2d(512, 512, kernel_size=(3, 3), stride=(1, 1), padding=(1, 1), bias=False)\n",
      "    (38): BatchNorm2d(512, eps=1e-05, momentum=0.1, affine=True, track_running_stats=True)\n",
      "    (39): ReLU()\n",
      "    (40): Conv2d(512, 512, kernel_size=(3, 3), stride=(1, 1), padding=(1, 1), bias=False)\n",
      "    (41): BatchNorm2d(512, eps=1e-05, momentum=0.1, affine=True, track_running_stats=True)\n",
      "    (42): ReLU()\n",
      "    (43): MaxPool2d(kernel_size=2, stride=2, padding=0, dilation=1, ceil_mode=False)\n",
      "  )\n",
      "  (classifier): Linear(in_features=512, out_features=3, bias=True)\n",
      ")\n",
      "cuda:0\n"
     ]
    }
   ],
   "source": [
    "print('STEP 4: INSTANTIATE MODEL CLASS')\n",
    "\n",
    "\n",
    "model = VGG()\n",
    "num_total_params = sum(p.numel() for p in model.parameters())\n",
    "print(\"The number of parameters : \", num_total_params)\n",
    "#######################\n",
    "#  USE GPU FOR MODEL  #\n",
    "#######################\n",
    "\n",
    "device = torch.device(\"cuda:0\" if torch.cuda.is_available() else \"cpu\")\n",
    "print(model.to(device))\n",
    "print(device)"
   ]
  },
  {
   "cell_type": "code",
   "execution_count": null,
   "metadata": {
    "colab": {
     "base_uri": "https://localhost:8080/",
     "height": 53
    },
    "executionInfo": {
     "elapsed": 68834,
     "status": "ok",
     "timestamp": 1549956525891,
     "user": {
      "displayName": "­이중협(대학원/일반대학원 전기전자공학과)",
      "photoUrl": "",
      "userId": "06027175232332113122"
     },
     "user_tz": -540
    },
    "id": "mFeamtXXj9aT",
    "outputId": "0cbbaa6a-65ff-4d79-d1e4-2b2580d04039"
   },
   "outputs": [
    {
     "name": "stdout",
     "output_type": "stream",
     "text": [
      "STEP 5: INSTANTIATE LOSS CLASS\n",
      "STEP 6: INSTANTIATE OPTIMIZER CLASS\n"
     ]
    }
   ],
   "source": [
    "print('STEP 5: INSTANTIATE LOSS CLASS')\n",
    "\n",
    "criterion = nn.CrossEntropyLoss()\n",
    "\n",
    "print('STEP 6: INSTANTIATE OPTIMIZER CLASS')\n",
    "\n",
    "learning_rate = 1e-2\n",
    "momentum = 0.9\n",
    "weight_decay = 5e-4\n",
    "\n",
    "optimizer = torch.optim.SGD(model.parameters(), lr=learning_rate, momentum = momentum, weight_decay = weight_decay)"
   ]
  },
  {
   "cell_type": "code",
   "execution_count": null,
   "metadata": {
    "id": "TQzesVcBS3Iq",
    "outputId": "534b345e-390c-4fd6-c63e-bbf45428d48d"
   },
   "outputs": [
    {
     "data": {
      "text/plain": [
       "device(type='cuda', index=0)"
      ]
     },
     "execution_count": 47,
     "metadata": {},
     "output_type": "execute_result"
    }
   ],
   "source": [
    "device"
   ]
  },
  {
   "cell_type": "markdown",
   "metadata": {
    "id": "PaWErvoRj9aY"
   },
   "source": [
    "### 1.2 Train the VGG 16 model and print test accuracy for every epochs [2 points]"
   ]
  },
  {
   "cell_type": "code",
   "execution_count": null,
   "metadata": {
    "colab": {
     "base_uri": "https://localhost:8080/",
     "height": 395
    },
    "executionInfo": {
     "elapsed": 1260714,
     "status": "ok",
     "timestamp": 1549957717778,
     "user": {
      "displayName": "­이중협(대학원/일반대학원 전기전자공학과)",
      "photoUrl": "",
      "userId": "06027175232332113122"
     },
     "user_tz": -540
    },
    "id": "bbi85f2Pj9aY",
    "outputId": "8483debb-2beb-4674-da28-0833c55d0a32",
    "scrolled": true
   },
   "outputs": [
    {
     "name": "stdout",
     "output_type": "stream",
     "text": [
      "STEP 7: TRAIN THE MODEL\n",
      "Epochs: 0. Loss: 0.51. Accuracy: 80.60. Elapsed time: 12.86sec\n",
      "Epochs: 1. Loss: 0.33. Accuracy: 85.90. Elapsed time: 4.58sec\n",
      "Epochs: 2. Loss: 0.41. Accuracy: 88.60. Elapsed time: 4.61sec\n",
      "Epochs: 3. Loss: 0.40. Accuracy: 90.30. Elapsed time: 4.58sec\n",
      "Epochs: 4. Loss: 0.08. Accuracy: 91.00. Elapsed time: 4.66sec\n",
      "Epochs: 5. Loss: 0.36. Accuracy: 89.53. Elapsed time: 4.64sec\n",
      "Epochs: 6. Loss: 0.17. Accuracy: 91.43. Elapsed time: 4.66sec\n",
      "Epochs: 7. Loss: 0.04. Accuracy: 92.30. Elapsed time: 4.64sec\n",
      "Epochs: 8. Loss: 0.24. Accuracy: 91.53. Elapsed time: 4.67sec\n",
      "Epochs: 9. Loss: 0.20. Accuracy: 90.20. Elapsed time: 4.62sec\n",
      "Epochs: 10. Loss: 0.03. Accuracy: 92.07. Elapsed time: 4.59sec\n",
      "Epochs: 11. Loss: 0.31. Accuracy: 91.87. Elapsed time: 4.59sec\n",
      "Epochs: 12. Loss: 0.02. Accuracy: 93.20. Elapsed time: 4.65sec\n",
      "Epochs: 13. Loss: 0.06. Accuracy: 91.27. Elapsed time: 4.76sec\n",
      "Epochs: 14. Loss: 0.01. Accuracy: 93.70. Elapsed time: 4.78sec\n",
      "Epochs: 15. Loss: 0.00. Accuracy: 93.33. Elapsed time: 4.62sec\n",
      "Epochs: 16. Loss: 0.02. Accuracy: 93.40. Elapsed time: 4.60sec\n",
      "Epochs: 17. Loss: 0.01. Accuracy: 93.23. Elapsed time: 4.61sec\n",
      "Epochs: 18. Loss: 0.00. Accuracy: 92.97. Elapsed time: 4.61sec\n",
      "Epochs: 19. Loss: 0.01. Accuracy: 93.63. Elapsed time: 4.62sec\n"
     ]
    }
   ],
   "source": [
    "import time\n",
    "\n",
    "print('STEP 7: TRAIN THE MODEL')\n",
    "num_epochs = 20\n",
    "\n",
    "for epoch in range(num_epochs) : \n",
    "    start = time.time()\n",
    "    model.train()\n",
    "    for i, (images, labels) in enumerate(train_loader):\n",
    "\n",
    "        #######################\n",
    "        #  USE GPU FOR MODEL  #\n",
    "        #######################\n",
    "        images = images.to(device)\n",
    "        labels = labels.to(device)\n",
    "        \n",
    "        # Clear gradients w.r.t. parameters\n",
    "        optimizer.zero_grad()\n",
    "\n",
    "        # Forward pass to get output/logits\n",
    "        outputs = model(images) \n",
    "\n",
    "        # Calculate Loss: softmax --> cross entropy loss\n",
    "        loss = criterion(outputs, labels)\n",
    "\n",
    "        # Getting gradients w.r.t. parameters\n",
    "        loss.backward()\n",
    "\n",
    "        # Updating parameters\n",
    "        optimizer.step()\n",
    "\n",
    "    # Calculate Accuracy\n",
    "    model.eval()\n",
    "    correct = 0\n",
    "    total = 0\n",
    "    # Iterate through test dataset\n",
    "    for images, labels in test_loader:\n",
    "        #######################\n",
    "        #  USE GPU FOR MODEL  #\n",
    "        #######################\n",
    "        images = images.to(device)\n",
    "        labels = labels.to(device)\n",
    "        \n",
    "        # Forward pass only to get logits/output\n",
    "        outputs = model(images)\n",
    "\n",
    "        # Get predictions from the maximum value\n",
    "        _, predicted = torch.max(outputs.data, 1)\n",
    "\n",
    "        # Total number of labels\n",
    "        total += labels.size(0)\n",
    "\n",
    "        # Total correct predictions\n",
    "        correct += (predicted == labels).sum()\n",
    "\n",
    "    accuracy = 100 * correct.item() / total\n",
    "\n",
    "    end = time.time()\n",
    "    # Print Loss\n",
    "    print('Epochs: {}. Loss: {:.2f}. Accuracy: {:.2f}. Elapsed time: {:.2f}sec'.format(epoch, loss.item(), accuracy, end - start))"
   ]
  },
  {
   "cell_type": "markdown",
   "metadata": {
    "id": "sN8yfBmeS3Ir"
   },
   "source": [
    " \"예상했던 점, 예상과 달랐던 점, 또는 개선할 점\"과 같은 요약 내용을 기술해주시면 되겠습니다. (예시) ~ 해서 ~ 결과를 얻었고, 이는 ~ 으로 인한 것으로 생각된다.\"\n",
    " \n",
    " FC layer가 변형된 VGG 16을 디자인해서 대략 93%의 정확도를 가지는 결과를 얻었고 이는  VGG net의 특징인 Convoluational layer depth를 높이면 정확도가 높아진다는 논문의 결과와 일치한다.\n",
    " 예상과 달랐던 점은 전처리 과정이 없이도 90%에 달하는 정확도를 간단한 이미지이지만 RGB 이미지에서 달성했다는 것이다.\n",
    " 좀 더 class가 많고 resolution이 높은 데이터에서 이같은 결과가 생기는지 궁금하고 만약 그렇담 당장 사용할 수 있는 모델이라는 생각이 들었다.\n",
    " \n",
    " \n",
    " 개선할 점 : 학습 데이터에 맞는 전처리 과정이 추가된다면 더 놓은 정확도를 얻을 것이다. epochs 당 실행시간이 길기 때문에 모델의 무게감이 있어 실시간 처리에는 적합하지 않을 것이다. "
   ]
  },
  {
   "cell_type": "markdown",
   "metadata": {
    "id": "Tb-Zo5yOj9ac"
   },
   "source": [
    "## 2. ResNet with PyTorch"
   ]
  },
  {
   "cell_type": "markdown",
   "metadata": {
    "id": "MQeESvzij9ad"
   },
   "source": [
    "### Implementing ResNet\n",
    "\n",
    "> 1. **Dataset**\n",
    ">> - The same dataset used for VGGNet\n",
    ">\n",
    "> 2. **Network architecture**\n",
    ">> - 50-layer ResNet with **bottleneck blocks**. <br>\n",
    "     Note. The initial convolution layer (i.e., conv1) is different from the one in the paper &<br>\n",
    "     the initial max-pooling layer is removed (because the size of CIFAR-10 images is too small).\n",
    ">> - ReLU activation.\n",
    ">> - Strided convolution for down-sampling instead of max-pooling layer. <br>\n",
    "     Note. Once down-sampled, a $1\\times1$ convolution/stride 2 is applied to residual for expanding the channel of the residual.\n",
    ">> - No dropout for simplicity.\n",
    ">> - Batch-normalization after every convolution.\n",
    ">>\n",
    ">>\n",
    ">> <table><tr>\n",
    ">> <td> <img src=\"http://drive.google.com/uc?export=view&id=1l3rC40WnBXZBagFIuME48SPvcqVY-56Y\" alt=\"no_image\" style=\"width: 500px;\"/> </td>\n",
    ">> <td> <img src=\"http://drive.google.com/uc?export=view&id=1r92UcNqn6ZT5pOk3emEijjTKlWdAYvCk\" alt=\"no_image\" style=\"width: 300px;\"/> </td>\n",
    ">> </tr></table>\n",
    ">>\n",
    ">> <img src=\"http://drive.google.com/uc?export=view&id=1n0NYyWWbDBd9PHjNEs7AHpOhMci5q6qk\" alt=\"no_image\" style=\"width: 870px;\"/>\n",
    ">>\n",
    ">> <font size=\"0.5\"> Figures from <br> \n",
    ">> [1] https://www.codeproject.com/Articles/1248963/Deep-Learning-using-Python-plus-Keras-Chapter-Re  <br> \n",
    ">> [2] Rezende et al., *Signal Processing: Image Communication*, 2018. </font>\n",
    ">\n",
    "> 3. **Loss function**\n",
    ">> - Cross-entropy loss between outputs & ground-truths. <br>\n",
    ">\n",
    "> 4. **Training**\n",
    ">> - Default weight initialization for simplicity.\n",
    ">> - SGD optimizer with `learning rate = 1e-2`, `momentum = 0.9`, and `weight_decay = 5e-4`.\n",
    ">> - 15 epochs without learning rate scheduling.\n",
    ">\n",
    "> 5. **Evaluation metric**\n",
    ">> - Classification accuracy (i.e., the percentage of correct predictions).\n",
    ">\n",
    "> "
   ]
  },
  {
   "cell_type": "markdown",
   "metadata": {
    "id": "j-guPbqGj9ae"
   },
   "source": [
    "### 2.1 Implement ResNet50 and train it with the CIFAR 10 dataset [4 points] "
   ]
  },
  {
   "cell_type": "code",
   "execution_count": 7,
   "metadata": {
    "colab": {
     "base_uri": "https://localhost:8080/",
     "height": 104,
     "referenced_widgets": [
      "f370d7336a2d4f2b837f2d5facd97dc9",
      "80e94dff268b4b6c8fb1e37675b6b8ed",
      "0d6ea99b60f74a7fa5c72f5b393a5b76",
      "53d4e1d7887040c392bc702803ae4a7e",
      "73b1e9c60bb84e4aa8cd43e284ae333c",
      "a107658c097d44f3a28b8576544ae43a",
      "a3994c9941f74f0a82feca71e676b6ca",
      "c64ded6e30454561a975ac0fe18903a9",
      "3c28cfe5b3994e899bfbe48b89858c60",
      "628b09986c414679bba5afa5470e1fa9",
      "36bdc6607a4f46b1a706665ccc12ea4f"
     ]
    },
    "executionInfo": {
     "elapsed": 10790,
     "status": "ok",
     "timestamp": 1647947053539,
     "user": {
      "displayName": "Lee gwan hui",
      "photoUrl": "https://lh3.googleusercontent.com/a/default-user=s64",
      "userId": "09079206913426271362"
     },
     "user_tz": -540
    },
    "id": "k1dZEH_ZS3Ir",
    "outputId": "4a1cb55a-553d-423f-9057-dd97e945d7f0"
   },
   "outputs": [
    {
     "name": "stdout",
     "output_type": "stream",
     "text": [
      "STEP 1: LOADING DATASET\n",
      "Downloading https://www.cs.toronto.edu/~kriz/cifar-10-python.tar.gz to ../dataset/lab03/cifar-10-python.tar.gz\n"
     ]
    },
    {
     "data": {
      "application/vnd.jupyter.widget-view+json": {
       "model_id": "f370d7336a2d4f2b837f2d5facd97dc9",
       "version_major": 2,
       "version_minor": 0
      },
      "text/plain": [
       "  0%|          | 0/170498071 [00:00<?, ?it/s]"
      ]
     },
     "metadata": {},
     "output_type": "display_data"
    },
    {
     "name": "stdout",
     "output_type": "stream",
     "text": [
      "Extracting ../dataset/lab03/cifar-10-python.tar.gz to ../dataset/lab03\n"
     ]
    }
   ],
   "source": [
    "print('STEP 1: LOADING DATASET')\n",
    "\n",
    "transform_train = transforms.Compose([\n",
    "    transforms.RandomCrop(32, padding=4),\n",
    "    transforms.RandomHorizontalFlip(),\n",
    "    transforms.ToTensor(),\n",
    "    transforms.Normalize((0.4914, 0.4822, 0.4465), (0.2023, 0.1994, 0.2010)),\n",
    "])\n",
    "\n",
    "transform_test = transforms.Compose([\n",
    "    transforms.ToTensor(),\n",
    "    transforms.Normalize((0.4914, 0.4822, 0.4465), (0.2023, 0.1994, 0.2010)),\n",
    "])\n",
    "\n",
    "train_dataset = dsets.CIFAR10(root='../dataset/lab03', \n",
    "                            train=True, \n",
    "                            transform=transform_train,\n",
    "                            download=True)\n",
    "\n",
    "test_dataset = dsets.CIFAR10(root='../dataset/lab03', \n",
    "                           train=False, \n",
    "                           transform=transform_test)"
   ]
  },
  {
   "cell_type": "code",
   "execution_count": 8,
   "metadata": {
    "executionInfo": {
     "elapsed": 23382,
     "status": "ok",
     "timestamp": 1647947076916,
     "user": {
      "displayName": "Lee gwan hui",
      "photoUrl": "https://lh3.googleusercontent.com/a/default-user=s64",
      "userId": "09079206913426271362"
     },
     "user_tz": -540
    },
    "id": "y0LW_E-uS3Ir"
   },
   "outputs": [],
   "source": [
    "# reducing the dataset\n",
    "reduced_train_dataset = []\n",
    "for images, labels in train_dataset:\n",
    "    if labels < 3:\n",
    "        reduced_train_dataset.append((images, labels))\n",
    "        \n",
    "reduced_test_dataset = []\n",
    "for images, labels in test_dataset:\n",
    "    if labels < 3:\n",
    "        reduced_test_dataset.append((images, labels))"
   ]
  },
  {
   "cell_type": "code",
   "execution_count": 9,
   "metadata": {
    "colab": {
     "base_uri": "https://localhost:8080/"
    },
    "executionInfo": {
     "elapsed": 8,
     "status": "ok",
     "timestamp": 1647947076916,
     "user": {
      "displayName": "Lee gwan hui",
      "photoUrl": "https://lh3.googleusercontent.com/a/default-user=s64",
      "userId": "09079206913426271362"
     },
     "user_tz": -540
    },
    "id": "6OFpAdmKS3Is",
    "outputId": "43b4afba-556d-4729-9929-1ff3af80e4f2"
   },
   "outputs": [
    {
     "name": "stdout",
     "output_type": "stream",
     "text": [
      "The number of training images :  15000\n",
      "The number of test images :  3000\n"
     ]
    }
   ],
   "source": [
    "print(\"The number of training images : \", len(reduced_train_dataset))\n",
    "print(\"The number of test images : \", len(reduced_test_dataset))"
   ]
  },
  {
   "cell_type": "code",
   "execution_count": 10,
   "metadata": {
    "colab": {
     "base_uri": "https://localhost:8080/"
    },
    "executionInfo": {
     "elapsed": 6,
     "status": "ok",
     "timestamp": 1647947076917,
     "user": {
      "displayName": "Lee gwan hui",
      "photoUrl": "https://lh3.googleusercontent.com/a/default-user=s64",
      "userId": "09079206913426271362"
     },
     "user_tz": -540
    },
    "id": "XVJKnLniS3Is",
    "outputId": "900433b4-2f2c-40c6-cba8-00916a2c27f5"
   },
   "outputs": [
    {
     "name": "stdout",
     "output_type": "stream",
     "text": [
      "STEP 2: MAKING DATASET ITERABLE\n"
     ]
    }
   ],
   "source": [
    "print('STEP 2: MAKING DATASET ITERABLE')\n",
    "\n",
    "train_loader = torch.utils.data.DataLoader(dataset=reduced_train_dataset, \n",
    "                                           batch_size=128, \n",
    "                                           shuffle=True)\n",
    "\n",
    "test_loader = torch.utils.data.DataLoader(dataset=reduced_test_dataset, \n",
    "                                          batch_size=100, \n",
    "                                          shuffle=False)\n",
    "\n",
    "class_names = ('plane', 'car', 'bird', 'cat', 'deer', 'dog', 'frog', 'horse', 'ship', 'truck')"
   ]
  },
  {
   "cell_type": "code",
   "execution_count": 11,
   "metadata": {
    "colab": {
     "base_uri": "https://localhost:8080/"
    },
    "executionInfo": {
     "elapsed": 4,
     "status": "ok",
     "timestamp": 1647947076917,
     "user": {
      "displayName": "Lee gwan hui",
      "photoUrl": "https://lh3.googleusercontent.com/a/default-user=s64",
      "userId": "09079206913426271362"
     },
     "user_tz": -540
    },
    "id": "8wvAZrrQS3Is",
    "outputId": "35232431-0d54-4c95-ef65-0e8197813040"
   },
   "outputs": [
    {
     "name": "stdout",
     "output_type": "stream",
     "text": [
      "STEP 3: CREATE MODEL CLASS (ResNet-50)\n"
     ]
    }
   ],
   "source": [
    "print('STEP 3: CREATE MODEL CLASS (ResNet-50)')\n",
    "#############\n",
    "# CODE HERE #\n",
    "#############\n",
    "\n",
    "import torch\n",
    "import torch.nn as nn\n",
    "from torch import Tensor\n",
    "\n",
    "class Bottleneck(nn.Module):\n",
    "    def __init__(self, in_channels,hidden_channels, out_channels, down= False, stride=1):\n",
    "        super().__init__()\n",
    "        self.relu = nn.ReLU()\n",
    "        if down == False :\n",
    "            self.bottleneck = nn.Sequential(\n",
    "                ## ex in_channels = 64, hidden_channels=64, out_chaannels =64\n",
    "                ##256x32x32 down이 아닐때: \n",
    "                nn.Conv2d(in_channels, hidden_channels, kernel_size=1, stride=1, bias=False),  ## 여기서 stride는 1이 될 수도 2가 될수도 있다.(down 여부에 따라 결정 혹은 stride 값으로 결정)\n",
    "                nn.BatchNorm2d(hidden_channels), nn.ReLU(),\n",
    "                ## 256x32x32\n",
    "                nn.Conv2d(hidden_channels, hidden_channels, kernel_size=3, stride=1, padding=1, bias=False),  ## 계산\n",
    "                nn.BatchNorm2d(hidden_channels), nn.ReLU(),\n",
    "                ## 256x32x32\n",
    "                nn.Conv2d(hidden_channels, out_channels, kernel_size=1, stride=1, bias=False),  ## 원상 복구\n",
    "                nn.BatchNorm2d(out_channels)\n",
    "                ## 256x32x32\n",
    "            )\n",
    "            self.shortcut = nn.Sequential(\n",
    "            )\n",
    "        elif down == True :\n",
    "            self.bottleneck = nn.Sequential(\n",
    "                ## ex in_channels = 64, hidden_channels=64, out_chaannels =64\n",
    "                ##256x32x32 down일때: \n",
    "                nn.Conv2d(in_channels, hidden_channels, kernel_size=1, stride=stride, bias=False),  ## 여기서 stride는 1이 될 수도 2가 될수도 있다.(down 여부에 따라 결정 혹은 stride 값으로 결정)\n",
    "                nn.BatchNorm2d(hidden_channels), nn.ReLU(),\n",
    "                ## 128x16x16\n",
    "                nn.Conv2d(hidden_channels, hidden_channels, kernel_size=3, stride=1, padding=1, bias=False),  ## 계산\n",
    "                nn.BatchNorm2d(hidden_channels), nn.ReLU(),\n",
    "                ## 128x16x16\n",
    "                nn.Conv2d(hidden_channels, out_channels, kernel_size=1, stride=1, bias=False),  ## 원상 복구\n",
    "                nn.BatchNorm2d(out_channels)\n",
    "                ## 512x16x16\n",
    "            )\n",
    "            self.shortcut = nn.Sequential(\n",
    "                nn.Conv2d(in_channels, out_channels, kernel_size=1, stride=stride, bias=False),\n",
    "                nn.BatchNorm2d(out_channels)\n",
    "            )\n",
    "\n",
    "    def forward(self, x: Tensor) -> Tensor:\n",
    "        x = self.bottleneck(x) + self.shortcut(x)\n",
    "        x = self.relu(x)\n",
    "        return x\n",
    "\n",
    "class ResNet_50(nn.Module):\n",
    "    def __init__(self,num_classes: int = 3) :\n",
    "        super().__init__()\n",
    "        # 3x32x32\n",
    "        self.conv = nn.Sequential(\n",
    "            nn.Conv2d(3, 64, kernel_size=3, stride=1, padding=1, bias=False),nn.BatchNorm2d(64),nn.ReLU(),\n",
    "            #cfg[0]=3 64x32x32\n",
    "            Bottleneck(64,64,256,down=True,stride=1),\n",
    "            Bottleneck(256,64,256,down=False,stride=1),\n",
    "            Bottleneck(256,64,256,down=False,stride=1),\n",
    "            #cfg[1]=4 256x32x32\n",
    "            Bottleneck(256,128,512,down=True,stride=2),\n",
    "            Bottleneck(512,128,512,down=False,stride=1),\n",
    "            Bottleneck(512,128,512,down=False,stride=1),\n",
    "            Bottleneck(512,128,512,down=False,stride=1),\n",
    "            #cfg[2]=6 512x16x16\n",
    "            Bottleneck(512,256,1024,down=True,stride=2),\n",
    "            Bottleneck(1024,256,1024,down=False,stride=1),\n",
    "            Bottleneck(1024,256,1024,down=False,stride=1),\n",
    "            Bottleneck(1024,256,1024,down=False,stride=1),\n",
    "            Bottleneck(1024,256,1024,down=False,stride=1),\n",
    "            Bottleneck(1024,256,1024,down=False,stride=1),\n",
    "            #cfg[3]=3 1024x8x8\n",
    "            Bottleneck(1024,512,2048,down=True,stride=2),\n",
    "            Bottleneck(2048,512,2048,down=False,stride=1),\n",
    "            Bottleneck(2048,512,2048,down=False,stride=1)\n",
    "            #2048x4x4\n",
    "        )\n",
    "        self.avgpool = nn.AvgPool2d(4,1)\n",
    "        self.fc = nn.Linear(2048, num_classes)\n",
    "\n",
    "    def forward(self, x: Tensor) -> Tensor:\n",
    "        # See note [TorchScript super()]\n",
    "        ## 3 x32 x 32\n",
    "        x = self.conv(x)\n",
    "        ## 2048x4x4\n",
    "        x = self.avgpool(x)\n",
    "        x = torch.flatten(x, 1)\n",
    "        x = self.fc(x)\n",
    "\n",
    "        return x"
   ]
  },
  {
   "cell_type": "code",
   "execution_count": 12,
   "metadata": {
    "colab": {
     "base_uri": "https://localhost:8080/"
    },
    "executionInfo": {
     "elapsed": 9119,
     "status": "ok",
     "timestamp": 1647947091616,
     "user": {
      "displayName": "Lee gwan hui",
      "photoUrl": "https://lh3.googleusercontent.com/a/default-user=s64",
      "userId": "09079206913426271362"
     },
     "user_tz": -540
    },
    "id": "O_PneCa2S3Is",
    "outputId": "e0eb0463-d715-4baf-bd0d-51c75b8fe0ca"
   },
   "outputs": [
    {
     "name": "stdout",
     "output_type": "stream",
     "text": [
      "STEP 4: INSTANTIATE MODEL CLASS\n",
      "The number of parameters :  23506499\n",
      "ResNet_50(\n",
      "  (conv): Sequential(\n",
      "    (0): Conv2d(3, 64, kernel_size=(3, 3), stride=(1, 1), padding=(1, 1), bias=False)\n",
      "    (1): BatchNorm2d(64, eps=1e-05, momentum=0.1, affine=True, track_running_stats=True)\n",
      "    (2): ReLU()\n",
      "    (3): Bottleneck(\n",
      "      (relu): ReLU()\n",
      "      (bottleneck): Sequential(\n",
      "        (0): Conv2d(64, 64, kernel_size=(1, 1), stride=(1, 1), bias=False)\n",
      "        (1): BatchNorm2d(64, eps=1e-05, momentum=0.1, affine=True, track_running_stats=True)\n",
      "        (2): ReLU()\n",
      "        (3): Conv2d(64, 64, kernel_size=(3, 3), stride=(1, 1), padding=(1, 1), bias=False)\n",
      "        (4): BatchNorm2d(64, eps=1e-05, momentum=0.1, affine=True, track_running_stats=True)\n",
      "        (5): ReLU()\n",
      "        (6): Conv2d(64, 256, kernel_size=(1, 1), stride=(1, 1), bias=False)\n",
      "        (7): BatchNorm2d(256, eps=1e-05, momentum=0.1, affine=True, track_running_stats=True)\n",
      "      )\n",
      "      (shortcut): Sequential(\n",
      "        (0): Conv2d(64, 256, kernel_size=(1, 1), stride=(1, 1), bias=False)\n",
      "        (1): BatchNorm2d(256, eps=1e-05, momentum=0.1, affine=True, track_running_stats=True)\n",
      "      )\n",
      "    )\n",
      "    (4): Bottleneck(\n",
      "      (relu): ReLU()\n",
      "      (bottleneck): Sequential(\n",
      "        (0): Conv2d(256, 64, kernel_size=(1, 1), stride=(1, 1), bias=False)\n",
      "        (1): BatchNorm2d(64, eps=1e-05, momentum=0.1, affine=True, track_running_stats=True)\n",
      "        (2): ReLU()\n",
      "        (3): Conv2d(64, 64, kernel_size=(3, 3), stride=(1, 1), padding=(1, 1), bias=False)\n",
      "        (4): BatchNorm2d(64, eps=1e-05, momentum=0.1, affine=True, track_running_stats=True)\n",
      "        (5): ReLU()\n",
      "        (6): Conv2d(64, 256, kernel_size=(1, 1), stride=(1, 1), bias=False)\n",
      "        (7): BatchNorm2d(256, eps=1e-05, momentum=0.1, affine=True, track_running_stats=True)\n",
      "      )\n",
      "      (shortcut): Sequential()\n",
      "    )\n",
      "    (5): Bottleneck(\n",
      "      (relu): ReLU()\n",
      "      (bottleneck): Sequential(\n",
      "        (0): Conv2d(256, 64, kernel_size=(1, 1), stride=(1, 1), bias=False)\n",
      "        (1): BatchNorm2d(64, eps=1e-05, momentum=0.1, affine=True, track_running_stats=True)\n",
      "        (2): ReLU()\n",
      "        (3): Conv2d(64, 64, kernel_size=(3, 3), stride=(1, 1), padding=(1, 1), bias=False)\n",
      "        (4): BatchNorm2d(64, eps=1e-05, momentum=0.1, affine=True, track_running_stats=True)\n",
      "        (5): ReLU()\n",
      "        (6): Conv2d(64, 256, kernel_size=(1, 1), stride=(1, 1), bias=False)\n",
      "        (7): BatchNorm2d(256, eps=1e-05, momentum=0.1, affine=True, track_running_stats=True)\n",
      "      )\n",
      "      (shortcut): Sequential()\n",
      "    )\n",
      "    (6): Bottleneck(\n",
      "      (relu): ReLU()\n",
      "      (bottleneck): Sequential(\n",
      "        (0): Conv2d(256, 128, kernel_size=(1, 1), stride=(2, 2), bias=False)\n",
      "        (1): BatchNorm2d(128, eps=1e-05, momentum=0.1, affine=True, track_running_stats=True)\n",
      "        (2): ReLU()\n",
      "        (3): Conv2d(128, 128, kernel_size=(3, 3), stride=(1, 1), padding=(1, 1), bias=False)\n",
      "        (4): BatchNorm2d(128, eps=1e-05, momentum=0.1, affine=True, track_running_stats=True)\n",
      "        (5): ReLU()\n",
      "        (6): Conv2d(128, 512, kernel_size=(1, 1), stride=(1, 1), bias=False)\n",
      "        (7): BatchNorm2d(512, eps=1e-05, momentum=0.1, affine=True, track_running_stats=True)\n",
      "      )\n",
      "      (shortcut): Sequential(\n",
      "        (0): Conv2d(256, 512, kernel_size=(1, 1), stride=(2, 2), bias=False)\n",
      "        (1): BatchNorm2d(512, eps=1e-05, momentum=0.1, affine=True, track_running_stats=True)\n",
      "      )\n",
      "    )\n",
      "    (7): Bottleneck(\n",
      "      (relu): ReLU()\n",
      "      (bottleneck): Sequential(\n",
      "        (0): Conv2d(512, 128, kernel_size=(1, 1), stride=(1, 1), bias=False)\n",
      "        (1): BatchNorm2d(128, eps=1e-05, momentum=0.1, affine=True, track_running_stats=True)\n",
      "        (2): ReLU()\n",
      "        (3): Conv2d(128, 128, kernel_size=(3, 3), stride=(1, 1), padding=(1, 1), bias=False)\n",
      "        (4): BatchNorm2d(128, eps=1e-05, momentum=0.1, affine=True, track_running_stats=True)\n",
      "        (5): ReLU()\n",
      "        (6): Conv2d(128, 512, kernel_size=(1, 1), stride=(1, 1), bias=False)\n",
      "        (7): BatchNorm2d(512, eps=1e-05, momentum=0.1, affine=True, track_running_stats=True)\n",
      "      )\n",
      "      (shortcut): Sequential()\n",
      "    )\n",
      "    (8): Bottleneck(\n",
      "      (relu): ReLU()\n",
      "      (bottleneck): Sequential(\n",
      "        (0): Conv2d(512, 128, kernel_size=(1, 1), stride=(1, 1), bias=False)\n",
      "        (1): BatchNorm2d(128, eps=1e-05, momentum=0.1, affine=True, track_running_stats=True)\n",
      "        (2): ReLU()\n",
      "        (3): Conv2d(128, 128, kernel_size=(3, 3), stride=(1, 1), padding=(1, 1), bias=False)\n",
      "        (4): BatchNorm2d(128, eps=1e-05, momentum=0.1, affine=True, track_running_stats=True)\n",
      "        (5): ReLU()\n",
      "        (6): Conv2d(128, 512, kernel_size=(1, 1), stride=(1, 1), bias=False)\n",
      "        (7): BatchNorm2d(512, eps=1e-05, momentum=0.1, affine=True, track_running_stats=True)\n",
      "      )\n",
      "      (shortcut): Sequential()\n",
      "    )\n",
      "    (9): Bottleneck(\n",
      "      (relu): ReLU()\n",
      "      (bottleneck): Sequential(\n",
      "        (0): Conv2d(512, 128, kernel_size=(1, 1), stride=(1, 1), bias=False)\n",
      "        (1): BatchNorm2d(128, eps=1e-05, momentum=0.1, affine=True, track_running_stats=True)\n",
      "        (2): ReLU()\n",
      "        (3): Conv2d(128, 128, kernel_size=(3, 3), stride=(1, 1), padding=(1, 1), bias=False)\n",
      "        (4): BatchNorm2d(128, eps=1e-05, momentum=0.1, affine=True, track_running_stats=True)\n",
      "        (5): ReLU()\n",
      "        (6): Conv2d(128, 512, kernel_size=(1, 1), stride=(1, 1), bias=False)\n",
      "        (7): BatchNorm2d(512, eps=1e-05, momentum=0.1, affine=True, track_running_stats=True)\n",
      "      )\n",
      "      (shortcut): Sequential()\n",
      "    )\n",
      "    (10): Bottleneck(\n",
      "      (relu): ReLU()\n",
      "      (bottleneck): Sequential(\n",
      "        (0): Conv2d(512, 256, kernel_size=(1, 1), stride=(2, 2), bias=False)\n",
      "        (1): BatchNorm2d(256, eps=1e-05, momentum=0.1, affine=True, track_running_stats=True)\n",
      "        (2): ReLU()\n",
      "        (3): Conv2d(256, 256, kernel_size=(3, 3), stride=(1, 1), padding=(1, 1), bias=False)\n",
      "        (4): BatchNorm2d(256, eps=1e-05, momentum=0.1, affine=True, track_running_stats=True)\n",
      "        (5): ReLU()\n",
      "        (6): Conv2d(256, 1024, kernel_size=(1, 1), stride=(1, 1), bias=False)\n",
      "        (7): BatchNorm2d(1024, eps=1e-05, momentum=0.1, affine=True, track_running_stats=True)\n",
      "      )\n",
      "      (shortcut): Sequential(\n",
      "        (0): Conv2d(512, 1024, kernel_size=(1, 1), stride=(2, 2), bias=False)\n",
      "        (1): BatchNorm2d(1024, eps=1e-05, momentum=0.1, affine=True, track_running_stats=True)\n",
      "      )\n",
      "    )\n",
      "    (11): Bottleneck(\n",
      "      (relu): ReLU()\n",
      "      (bottleneck): Sequential(\n",
      "        (0): Conv2d(1024, 256, kernel_size=(1, 1), stride=(1, 1), bias=False)\n",
      "        (1): BatchNorm2d(256, eps=1e-05, momentum=0.1, affine=True, track_running_stats=True)\n",
      "        (2): ReLU()\n",
      "        (3): Conv2d(256, 256, kernel_size=(3, 3), stride=(1, 1), padding=(1, 1), bias=False)\n",
      "        (4): BatchNorm2d(256, eps=1e-05, momentum=0.1, affine=True, track_running_stats=True)\n",
      "        (5): ReLU()\n",
      "        (6): Conv2d(256, 1024, kernel_size=(1, 1), stride=(1, 1), bias=False)\n",
      "        (7): BatchNorm2d(1024, eps=1e-05, momentum=0.1, affine=True, track_running_stats=True)\n",
      "      )\n",
      "      (shortcut): Sequential()\n",
      "    )\n",
      "    (12): Bottleneck(\n",
      "      (relu): ReLU()\n",
      "      (bottleneck): Sequential(\n",
      "        (0): Conv2d(1024, 256, kernel_size=(1, 1), stride=(1, 1), bias=False)\n",
      "        (1): BatchNorm2d(256, eps=1e-05, momentum=0.1, affine=True, track_running_stats=True)\n",
      "        (2): ReLU()\n",
      "        (3): Conv2d(256, 256, kernel_size=(3, 3), stride=(1, 1), padding=(1, 1), bias=False)\n",
      "        (4): BatchNorm2d(256, eps=1e-05, momentum=0.1, affine=True, track_running_stats=True)\n",
      "        (5): ReLU()\n",
      "        (6): Conv2d(256, 1024, kernel_size=(1, 1), stride=(1, 1), bias=False)\n",
      "        (7): BatchNorm2d(1024, eps=1e-05, momentum=0.1, affine=True, track_running_stats=True)\n",
      "      )\n",
      "      (shortcut): Sequential()\n",
      "    )\n",
      "    (13): Bottleneck(\n",
      "      (relu): ReLU()\n",
      "      (bottleneck): Sequential(\n",
      "        (0): Conv2d(1024, 256, kernel_size=(1, 1), stride=(1, 1), bias=False)\n",
      "        (1): BatchNorm2d(256, eps=1e-05, momentum=0.1, affine=True, track_running_stats=True)\n",
      "        (2): ReLU()\n",
      "        (3): Conv2d(256, 256, kernel_size=(3, 3), stride=(1, 1), padding=(1, 1), bias=False)\n",
      "        (4): BatchNorm2d(256, eps=1e-05, momentum=0.1, affine=True, track_running_stats=True)\n",
      "        (5): ReLU()\n",
      "        (6): Conv2d(256, 1024, kernel_size=(1, 1), stride=(1, 1), bias=False)\n",
      "        (7): BatchNorm2d(1024, eps=1e-05, momentum=0.1, affine=True, track_running_stats=True)\n",
      "      )\n",
      "      (shortcut): Sequential()\n",
      "    )\n",
      "    (14): Bottleneck(\n",
      "      (relu): ReLU()\n",
      "      (bottleneck): Sequential(\n",
      "        (0): Conv2d(1024, 256, kernel_size=(1, 1), stride=(1, 1), bias=False)\n",
      "        (1): BatchNorm2d(256, eps=1e-05, momentum=0.1, affine=True, track_running_stats=True)\n",
      "        (2): ReLU()\n",
      "        (3): Conv2d(256, 256, kernel_size=(3, 3), stride=(1, 1), padding=(1, 1), bias=False)\n",
      "        (4): BatchNorm2d(256, eps=1e-05, momentum=0.1, affine=True, track_running_stats=True)\n",
      "        (5): ReLU()\n",
      "        (6): Conv2d(256, 1024, kernel_size=(1, 1), stride=(1, 1), bias=False)\n",
      "        (7): BatchNorm2d(1024, eps=1e-05, momentum=0.1, affine=True, track_running_stats=True)\n",
      "      )\n",
      "      (shortcut): Sequential()\n",
      "    )\n",
      "    (15): Bottleneck(\n",
      "      (relu): ReLU()\n",
      "      (bottleneck): Sequential(\n",
      "        (0): Conv2d(1024, 256, kernel_size=(1, 1), stride=(1, 1), bias=False)\n",
      "        (1): BatchNorm2d(256, eps=1e-05, momentum=0.1, affine=True, track_running_stats=True)\n",
      "        (2): ReLU()\n",
      "        (3): Conv2d(256, 256, kernel_size=(3, 3), stride=(1, 1), padding=(1, 1), bias=False)\n",
      "        (4): BatchNorm2d(256, eps=1e-05, momentum=0.1, affine=True, track_running_stats=True)\n",
      "        (5): ReLU()\n",
      "        (6): Conv2d(256, 1024, kernel_size=(1, 1), stride=(1, 1), bias=False)\n",
      "        (7): BatchNorm2d(1024, eps=1e-05, momentum=0.1, affine=True, track_running_stats=True)\n",
      "      )\n",
      "      (shortcut): Sequential()\n",
      "    )\n",
      "    (16): Bottleneck(\n",
      "      (relu): ReLU()\n",
      "      (bottleneck): Sequential(\n",
      "        (0): Conv2d(1024, 512, kernel_size=(1, 1), stride=(2, 2), bias=False)\n",
      "        (1): BatchNorm2d(512, eps=1e-05, momentum=0.1, affine=True, track_running_stats=True)\n",
      "        (2): ReLU()\n",
      "        (3): Conv2d(512, 512, kernel_size=(3, 3), stride=(1, 1), padding=(1, 1), bias=False)\n",
      "        (4): BatchNorm2d(512, eps=1e-05, momentum=0.1, affine=True, track_running_stats=True)\n",
      "        (5): ReLU()\n",
      "        (6): Conv2d(512, 2048, kernel_size=(1, 1), stride=(1, 1), bias=False)\n",
      "        (7): BatchNorm2d(2048, eps=1e-05, momentum=0.1, affine=True, track_running_stats=True)\n",
      "      )\n",
      "      (shortcut): Sequential(\n",
      "        (0): Conv2d(1024, 2048, kernel_size=(1, 1), stride=(2, 2), bias=False)\n",
      "        (1): BatchNorm2d(2048, eps=1e-05, momentum=0.1, affine=True, track_running_stats=True)\n",
      "      )\n",
      "    )\n",
      "    (17): Bottleneck(\n",
      "      (relu): ReLU()\n",
      "      (bottleneck): Sequential(\n",
      "        (0): Conv2d(2048, 512, kernel_size=(1, 1), stride=(1, 1), bias=False)\n",
      "        (1): BatchNorm2d(512, eps=1e-05, momentum=0.1, affine=True, track_running_stats=True)\n",
      "        (2): ReLU()\n",
      "        (3): Conv2d(512, 512, kernel_size=(3, 3), stride=(1, 1), padding=(1, 1), bias=False)\n",
      "        (4): BatchNorm2d(512, eps=1e-05, momentum=0.1, affine=True, track_running_stats=True)\n",
      "        (5): ReLU()\n",
      "        (6): Conv2d(512, 2048, kernel_size=(1, 1), stride=(1, 1), bias=False)\n",
      "        (7): BatchNorm2d(2048, eps=1e-05, momentum=0.1, affine=True, track_running_stats=True)\n",
      "      )\n",
      "      (shortcut): Sequential()\n",
      "    )\n",
      "    (18): Bottleneck(\n",
      "      (relu): ReLU()\n",
      "      (bottleneck): Sequential(\n",
      "        (0): Conv2d(2048, 512, kernel_size=(1, 1), stride=(1, 1), bias=False)\n",
      "        (1): BatchNorm2d(512, eps=1e-05, momentum=0.1, affine=True, track_running_stats=True)\n",
      "        (2): ReLU()\n",
      "        (3): Conv2d(512, 512, kernel_size=(3, 3), stride=(1, 1), padding=(1, 1), bias=False)\n",
      "        (4): BatchNorm2d(512, eps=1e-05, momentum=0.1, affine=True, track_running_stats=True)\n",
      "        (5): ReLU()\n",
      "        (6): Conv2d(512, 2048, kernel_size=(1, 1), stride=(1, 1), bias=False)\n",
      "        (7): BatchNorm2d(2048, eps=1e-05, momentum=0.1, affine=True, track_running_stats=True)\n",
      "      )\n",
      "      (shortcut): Sequential()\n",
      "    )\n",
      "  )\n",
      "  (avgpool): AvgPool2d(kernel_size=4, stride=1, padding=0)\n",
      "  (fc): Linear(in_features=2048, out_features=3, bias=True)\n",
      ")\n",
      "cuda:0\n"
     ]
    }
   ],
   "source": [
    "print('STEP 4: INSTANTIATE MODEL CLASS')\n",
    "#############\n",
    "# CODE HERE #\n",
    "#############\n",
    "\n",
    "model = ResNet_50()\n",
    "num_total_params = sum(p.numel() for p in model.parameters())\n",
    "print(\"The number of parameters : \", num_total_params)\n",
    "#######################\n",
    "#  USE GPU FOR MODEL  #\n",
    "#######################\n",
    "\n",
    "device = torch.device(\"cuda:0\" if torch.cuda.is_available() else \"cpu\")\n",
    "print(model.to(device))\n",
    "print(device)"
   ]
  },
  {
   "cell_type": "markdown",
   "metadata": {
    "id": "PTFU8J5Uj9aj"
   },
   "source": [
    "### 2.2 Print test accuracy for every epochs. [1 points]"
   ]
  },
  {
   "cell_type": "code",
   "execution_count": 13,
   "metadata": {
    "colab": {
     "base_uri": "https://localhost:8080/"
    },
    "executionInfo": {
     "elapsed": 1657648,
     "status": "ok",
     "timestamp": 1647948754507,
     "user": {
      "displayName": "Lee gwan hui",
      "photoUrl": "https://lh3.googleusercontent.com/a/default-user=s64",
      "userId": "09079206913426271362"
     },
     "user_tz": -540
    },
    "id": "ydsAXR-qj9ak",
    "outputId": "7a4eb956-2759-42a4-bd33-124c2999dafb"
   },
   "outputs": [
    {
     "name": "stdout",
     "output_type": "stream",
     "text": [
      "STEP 5: INSTANTIATE LOSS CLASS\n",
      "STEP 6: INSTANTIATE OPTIMIZER CLASS\n",
      "STEP 7: TRAIN THE MODEL\n",
      "Epochs: 0. Loss: 0.67. Accuracy: 74.20. Elapsed time: 109.87sec\n",
      "Epochs: 1. Loss: 0.71. Accuracy: 69.93. Elapsed time: 109.84sec\n",
      "Epochs: 2. Loss: 0.65. Accuracy: 80.73. Elapsed time: 109.65sec\n",
      "Epochs: 3. Loss: 0.48. Accuracy: 82.77. Elapsed time: 109.84sec\n",
      "Epochs: 4. Loss: 0.24. Accuracy: 84.53. Elapsed time: 109.90sec\n",
      "Epochs: 5. Loss: 0.74. Accuracy: 86.27. Elapsed time: 110.14sec\n",
      "Epochs: 6. Loss: 0.35. Accuracy: 86.57. Elapsed time: 110.70sec\n",
      "Epochs: 7. Loss: 0.06. Accuracy: 85.03. Elapsed time: 111.04sec\n",
      "Epochs: 8. Loss: 0.18. Accuracy: 86.37. Elapsed time: 110.98sec\n",
      "Epochs: 9. Loss: 0.31. Accuracy: 87.03. Elapsed time: 110.94sec\n",
      "Epochs: 10. Loss: 0.12. Accuracy: 84.40. Elapsed time: 110.86sec\n",
      "Epochs: 11. Loss: 0.23. Accuracy: 86.30. Elapsed time: 110.96sec\n",
      "Epochs: 12. Loss: 0.24. Accuracy: 87.40. Elapsed time: 110.90sec\n",
      "Epochs: 13. Loss: 0.07. Accuracy: 86.33. Elapsed time: 111.02sec\n",
      "Epochs: 14. Loss: 0.05. Accuracy: 87.57. Elapsed time: 110.66sec\n"
     ]
    }
   ],
   "source": [
    "print('STEP 5: INSTANTIATE LOSS CLASS')\n",
    "#############\n",
    "# CODE HERE #\n",
    "#############\n",
    "criterion = nn.CrossEntropyLoss()\n",
    "\n",
    "print('STEP 6: INSTANTIATE OPTIMIZER CLASS')\n",
    "#############\n",
    "# CODE HERE #\n",
    "#############\n",
    "learning_rate = 1e-2\n",
    "momentum = 0.9\n",
    "weight_decay = 5e-4\n",
    "\n",
    "optimizer = torch.optim.SGD(model.parameters(), lr=learning_rate, momentum = momentum, weight_decay = weight_decay)\n",
    "\n",
    "print('STEP 7: TRAIN THE MODEL')\n",
    "#############\n",
    "# CODE HERE #\n",
    "#############\n",
    "num_epochs = 15\n",
    "\n",
    "for epoch in range(num_epochs) : \n",
    "    start = time.time()\n",
    "    model.train()\n",
    "    for i, (images, labels) in enumerate(train_loader):\n",
    "\n",
    "        #######################\n",
    "        #  USE GPU FOR MODEL  #\n",
    "        #######################\n",
    "        images = images.to(device)\n",
    "        labels = labels.to(device)\n",
    "        \n",
    "        # Clear gradients w.r.t. parameters\n",
    "        optimizer.zero_grad()\n",
    "\n",
    "        # Forward pass to get output/logits\n",
    "        outputs = model(images) \n",
    "\n",
    "        # Calculate Loss: softmax --> cross entropy loss\n",
    "        loss = criterion(outputs, labels)\n",
    "\n",
    "        # Getting gradients w.r.t. parameters\n",
    "        loss.backward()\n",
    "\n",
    "        # Updating parameters\n",
    "        optimizer.step()\n",
    "\n",
    "    # Calculate Accuracy\n",
    "    model.eval()\n",
    "    correct = 0\n",
    "    total = 0\n",
    "    # Iterate through test dataset\n",
    "    for images, labels in test_loader:\n",
    "        #######################\n",
    "        #  USE GPU FOR MODEL  #\n",
    "        #######################\n",
    "        images = images.to(device)\n",
    "        labels = labels.to(device)\n",
    "        \n",
    "        # Forward pass only to get logits/output\n",
    "        outputs = model(images)\n",
    "\n",
    "        # Get predictions from the maximum value\n",
    "        _, predicted = torch.max(outputs.data, 1)\n",
    "\n",
    "        # Total number of labels\n",
    "        total += labels.size(0)\n",
    "\n",
    "        # Total correct predictions\n",
    "        correct += (predicted == labels).sum()\n",
    "\n",
    "    accuracy = 100 * correct.item() / total\n",
    "\n",
    "    end = time.time()\n",
    "    # Print Loss\n",
    "    print('Epochs: {}. Loss: {:.2f}. Accuracy: {:.2f}. Elapsed time: {:.2f}sec'.format(epoch, loss.item(), accuracy, end - start))"
   ]
  },
  {
   "cell_type": "markdown",
   "metadata": {
    "id": "YiHX2ZPVS3It"
   },
   "source": [
    " 예상했던 점 : 분명 VGG보다 ResNet이 논문 상으로는 더 빨리 계산되어야 하고 더 높은 정확도를 보여야한다.\n",
    "\n",
    "예상과 달랐던 점 : ResNet이 더 많은 시간이 걸렸다 그 이유로는 모든 layer에 batch normalization을 적용하고 있기 때문인데 이 때문에 parameter 수가 23506499로 VGG16의 14720451보다 더 많아졌기 때문에 더 많은 속도가 걸린다.\n",
    "\n",
    "계선할 점 : initialzation을 잘하면 정확도가 더 높을 수 있다는데 따로 설정하지 않을 시 pytorch 는 default 로 uniform distribution 에서 randomly initialize 해준다고 한다. 정확도를 더 높이기 위해서는 input사진의 밝기등을 일정하게 해주면 더 좋은 결과가 나올수도 있을 것 같다. 또한 CIVAR 10 데이터 셋은 resoluation이 좋지 않은데 이것을 높은 해상도로 변환해주는 알고리즘을 사용하면 결과가 좀더 좋을 것 같다. 또한 ResNet의 경우에서만 한정한다면 여기서는 BatchNormalization을 너무 과도하게 사용했기 때문에 매우 오랜 시간이 걸리는데 이를 적절히 조절하면 좋을 것 같다. "
   ]
  },
  {
   "cell_type": "markdown",
   "metadata": {
    "id": "9ijLYvXKS3It"
   },
   "source": [
    "참고로 하자면 VGG16의 경우에는 GeForce RTX 3060Ti로 실시하였고 \n",
    "ResNet의 경우 GPU 용량 초과로 colab에서 진행하였다. \n",
    "ResNet의 경우 1epoch까지는 돌아갔는데 이 때 걸린 시간은 27s였다."
   ]
  },
  {
   "cell_type": "code",
   "execution_count": null,
   "metadata": {},
   "outputs": [],
   "source": []
  }
 ],
 "metadata": {
  "accelerator": "GPU",
  "colab": {
   "collapsed_sections": [],
   "name": "DLLAB_lab03_problem.ipynb",
   "provenance": []
  },
  "kernelspec": {
   "display_name": "gpu",
   "language": "python",
   "name": "deep"
  },
  "language_info": {
   "codemirror_mode": {
    "name": "ipython",
    "version": 3
   },
   "file_extension": ".py",
   "mimetype": "text/x-python",
   "name": "python",
   "nbconvert_exporter": "python",
   "pygments_lexer": "ipython3",
   "version": "3.8.12"
  },
  "widgets": {
   "application/vnd.jupyter.widget-state+json": {
    "0d6ea99b60f74a7fa5c72f5b393a5b76": {
     "model_module": "@jupyter-widgets/controls",
     "model_module_version": "1.5.0",
     "model_name": "FloatProgressModel",
     "state": {
      "_dom_classes": [],
      "_model_module": "@jupyter-widgets/controls",
      "_model_module_version": "1.5.0",
      "_model_name": "FloatProgressModel",
      "_view_count": null,
      "_view_module": "@jupyter-widgets/controls",
      "_view_module_version": "1.5.0",
      "_view_name": "ProgressView",
      "bar_style": "success",
      "description": "",
      "description_tooltip": null,
      "layout": "IPY_MODEL_c64ded6e30454561a975ac0fe18903a9",
      "max": 170498071,
      "min": 0,
      "orientation": "horizontal",
      "style": "IPY_MODEL_3c28cfe5b3994e899bfbe48b89858c60",
      "value": 170498071
     }
    },
    "36bdc6607a4f46b1a706665ccc12ea4f": {
     "model_module": "@jupyter-widgets/controls",
     "model_module_version": "1.5.0",
     "model_name": "DescriptionStyleModel",
     "state": {
      "_model_module": "@jupyter-widgets/controls",
      "_model_module_version": "1.5.0",
      "_model_name": "DescriptionStyleModel",
      "_view_count": null,
      "_view_module": "@jupyter-widgets/base",
      "_view_module_version": "1.2.0",
      "_view_name": "StyleView",
      "description_width": ""
     }
    },
    "3c28cfe5b3994e899bfbe48b89858c60": {
     "model_module": "@jupyter-widgets/controls",
     "model_module_version": "1.5.0",
     "model_name": "ProgressStyleModel",
     "state": {
      "_model_module": "@jupyter-widgets/controls",
      "_model_module_version": "1.5.0",
      "_model_name": "ProgressStyleModel",
      "_view_count": null,
      "_view_module": "@jupyter-widgets/base",
      "_view_module_version": "1.2.0",
      "_view_name": "StyleView",
      "bar_color": null,
      "description_width": ""
     }
    },
    "53d4e1d7887040c392bc702803ae4a7e": {
     "model_module": "@jupyter-widgets/controls",
     "model_module_version": "1.5.0",
     "model_name": "HTMLModel",
     "state": {
      "_dom_classes": [],
      "_model_module": "@jupyter-widgets/controls",
      "_model_module_version": "1.5.0",
      "_model_name": "HTMLModel",
      "_view_count": null,
      "_view_module": "@jupyter-widgets/controls",
      "_view_module_version": "1.5.0",
      "_view_name": "HTMLView",
      "description": "",
      "description_tooltip": null,
      "layout": "IPY_MODEL_628b09986c414679bba5afa5470e1fa9",
      "placeholder": "​",
      "style": "IPY_MODEL_36bdc6607a4f46b1a706665ccc12ea4f",
      "value": " 170499072/? [00:06&lt;00:00, 32665022.60it/s]"
     }
    },
    "628b09986c414679bba5afa5470e1fa9": {
     "model_module": "@jupyter-widgets/base",
     "model_module_version": "1.2.0",
     "model_name": "LayoutModel",
     "state": {
      "_model_module": "@jupyter-widgets/base",
      "_model_module_version": "1.2.0",
      "_model_name": "LayoutModel",
      "_view_count": null,
      "_view_module": "@jupyter-widgets/base",
      "_view_module_version": "1.2.0",
      "_view_name": "LayoutView",
      "align_content": null,
      "align_items": null,
      "align_self": null,
      "border": null,
      "bottom": null,
      "display": null,
      "flex": null,
      "flex_flow": null,
      "grid_area": null,
      "grid_auto_columns": null,
      "grid_auto_flow": null,
      "grid_auto_rows": null,
      "grid_column": null,
      "grid_gap": null,
      "grid_row": null,
      "grid_template_areas": null,
      "grid_template_columns": null,
      "grid_template_rows": null,
      "height": null,
      "justify_content": null,
      "justify_items": null,
      "left": null,
      "margin": null,
      "max_height": null,
      "max_width": null,
      "min_height": null,
      "min_width": null,
      "object_fit": null,
      "object_position": null,
      "order": null,
      "overflow": null,
      "overflow_x": null,
      "overflow_y": null,
      "padding": null,
      "right": null,
      "top": null,
      "visibility": null,
      "width": null
     }
    },
    "73b1e9c60bb84e4aa8cd43e284ae333c": {
     "model_module": "@jupyter-widgets/base",
     "model_module_version": "1.2.0",
     "model_name": "LayoutModel",
     "state": {
      "_model_module": "@jupyter-widgets/base",
      "_model_module_version": "1.2.0",
      "_model_name": "LayoutModel",
      "_view_count": null,
      "_view_module": "@jupyter-widgets/base",
      "_view_module_version": "1.2.0",
      "_view_name": "LayoutView",
      "align_content": null,
      "align_items": null,
      "align_self": null,
      "border": null,
      "bottom": null,
      "display": null,
      "flex": null,
      "flex_flow": null,
      "grid_area": null,
      "grid_auto_columns": null,
      "grid_auto_flow": null,
      "grid_auto_rows": null,
      "grid_column": null,
      "grid_gap": null,
      "grid_row": null,
      "grid_template_areas": null,
      "grid_template_columns": null,
      "grid_template_rows": null,
      "height": null,
      "justify_content": null,
      "justify_items": null,
      "left": null,
      "margin": null,
      "max_height": null,
      "max_width": null,
      "min_height": null,
      "min_width": null,
      "object_fit": null,
      "object_position": null,
      "order": null,
      "overflow": null,
      "overflow_x": null,
      "overflow_y": null,
      "padding": null,
      "right": null,
      "top": null,
      "visibility": null,
      "width": null
     }
    },
    "80e94dff268b4b6c8fb1e37675b6b8ed": {
     "model_module": "@jupyter-widgets/controls",
     "model_module_version": "1.5.0",
     "model_name": "HTMLModel",
     "state": {
      "_dom_classes": [],
      "_model_module": "@jupyter-widgets/controls",
      "_model_module_version": "1.5.0",
      "_model_name": "HTMLModel",
      "_view_count": null,
      "_view_module": "@jupyter-widgets/controls",
      "_view_module_version": "1.5.0",
      "_view_name": "HTMLView",
      "description": "",
      "description_tooltip": null,
      "layout": "IPY_MODEL_a107658c097d44f3a28b8576544ae43a",
      "placeholder": "​",
      "style": "IPY_MODEL_a3994c9941f74f0a82feca71e676b6ca",
      "value": ""
     }
    },
    "a107658c097d44f3a28b8576544ae43a": {
     "model_module": "@jupyter-widgets/base",
     "model_module_version": "1.2.0",
     "model_name": "LayoutModel",
     "state": {
      "_model_module": "@jupyter-widgets/base",
      "_model_module_version": "1.2.0",
      "_model_name": "LayoutModel",
      "_view_count": null,
      "_view_module": "@jupyter-widgets/base",
      "_view_module_version": "1.2.0",
      "_view_name": "LayoutView",
      "align_content": null,
      "align_items": null,
      "align_self": null,
      "border": null,
      "bottom": null,
      "display": null,
      "flex": null,
      "flex_flow": null,
      "grid_area": null,
      "grid_auto_columns": null,
      "grid_auto_flow": null,
      "grid_auto_rows": null,
      "grid_column": null,
      "grid_gap": null,
      "grid_row": null,
      "grid_template_areas": null,
      "grid_template_columns": null,
      "grid_template_rows": null,
      "height": null,
      "justify_content": null,
      "justify_items": null,
      "left": null,
      "margin": null,
      "max_height": null,
      "max_width": null,
      "min_height": null,
      "min_width": null,
      "object_fit": null,
      "object_position": null,
      "order": null,
      "overflow": null,
      "overflow_x": null,
      "overflow_y": null,
      "padding": null,
      "right": null,
      "top": null,
      "visibility": null,
      "width": null
     }
    },
    "a3994c9941f74f0a82feca71e676b6ca": {
     "model_module": "@jupyter-widgets/controls",
     "model_module_version": "1.5.0",
     "model_name": "DescriptionStyleModel",
     "state": {
      "_model_module": "@jupyter-widgets/controls",
      "_model_module_version": "1.5.0",
      "_model_name": "DescriptionStyleModel",
      "_view_count": null,
      "_view_module": "@jupyter-widgets/base",
      "_view_module_version": "1.2.0",
      "_view_name": "StyleView",
      "description_width": ""
     }
    },
    "c64ded6e30454561a975ac0fe18903a9": {
     "model_module": "@jupyter-widgets/base",
     "model_module_version": "1.2.0",
     "model_name": "LayoutModel",
     "state": {
      "_model_module": "@jupyter-widgets/base",
      "_model_module_version": "1.2.0",
      "_model_name": "LayoutModel",
      "_view_count": null,
      "_view_module": "@jupyter-widgets/base",
      "_view_module_version": "1.2.0",
      "_view_name": "LayoutView",
      "align_content": null,
      "align_items": null,
      "align_self": null,
      "border": null,
      "bottom": null,
      "display": null,
      "flex": null,
      "flex_flow": null,
      "grid_area": null,
      "grid_auto_columns": null,
      "grid_auto_flow": null,
      "grid_auto_rows": null,
      "grid_column": null,
      "grid_gap": null,
      "grid_row": null,
      "grid_template_areas": null,
      "grid_template_columns": null,
      "grid_template_rows": null,
      "height": null,
      "justify_content": null,
      "justify_items": null,
      "left": null,
      "margin": null,
      "max_height": null,
      "max_width": null,
      "min_height": null,
      "min_width": null,
      "object_fit": null,
      "object_position": null,
      "order": null,
      "overflow": null,
      "overflow_x": null,
      "overflow_y": null,
      "padding": null,
      "right": null,
      "top": null,
      "visibility": null,
      "width": null
     }
    },
    "f370d7336a2d4f2b837f2d5facd97dc9": {
     "model_module": "@jupyter-widgets/controls",
     "model_module_version": "1.5.0",
     "model_name": "HBoxModel",
     "state": {
      "_dom_classes": [],
      "_model_module": "@jupyter-widgets/controls",
      "_model_module_version": "1.5.0",
      "_model_name": "HBoxModel",
      "_view_count": null,
      "_view_module": "@jupyter-widgets/controls",
      "_view_module_version": "1.5.0",
      "_view_name": "HBoxView",
      "box_style": "",
      "children": [
       "IPY_MODEL_80e94dff268b4b6c8fb1e37675b6b8ed",
       "IPY_MODEL_0d6ea99b60f74a7fa5c72f5b393a5b76",
       "IPY_MODEL_53d4e1d7887040c392bc702803ae4a7e"
      ],
      "layout": "IPY_MODEL_73b1e9c60bb84e4aa8cd43e284ae333c"
     }
    }
   }
  }
 },
 "nbformat": 4,
 "nbformat_minor": 1
}
