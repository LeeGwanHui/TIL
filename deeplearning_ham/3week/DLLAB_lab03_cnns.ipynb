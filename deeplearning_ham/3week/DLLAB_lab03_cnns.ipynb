{
 "cells": [
  {
   "cell_type": "markdown",
   "metadata": {
    "colab_type": "text",
    "id": "b3B60UvFA5EB"
   },
   "source": [
    "> ### EEE4423: Deep Learning Lab\n",
    "\n",
    "# LAB \\#3: Convolutional Neural Networks"
   ]
  },
  {
   "cell_type": "code",
   "execution_count": 7,
   "metadata": {
    "colab": {},
    "colab_type": "code",
    "execution": {
     "iopub.execute_input": "2022-03-18T01:16:27.597693Z",
     "iopub.status.busy": "2022-03-18T01:16:27.597254Z",
     "iopub.status.idle": "2022-03-18T01:16:27.604685Z",
     "shell.execute_reply": "2022-03-18T01:16:27.603605Z",
     "shell.execute_reply.started": "2022-03-18T01:16:27.597645Z"
    },
    "id": "0MuQ_XTtA5ED",
    "outputId": "6936d214-053f-422f-8a04-cd107cbfade8",
    "tags": []
   },
   "outputs": [
    {
     "name": "stdout",
     "output_type": "stream",
     "text": [
      "This code is written at 2022-03-18 01:16:27.599836\n"
     ]
    }
   ],
   "source": [
    "import datetime\n",
    "print(\"This code is written at \" + str(datetime.datetime.now()))"
   ]
  },
  {
   "cell_type": "markdown",
   "metadata": {
    "colab_type": "text",
    "id": "C6uzxe1dA5EJ"
   },
   "source": [
    "# Convolutional Neural Network with PyTorch\n",
    "\n",
    "## 1. About Convolutional Neural Network\n",
    "\n",
    "\n",
    "### 1.1 Transition From Feedforward Neural Network\n",
    "\n",
    "#### Hidden Layer Feedforward Neural Network\n"
   ]
  },
  {
   "cell_type": "markdown",
   "metadata": {
    "colab_type": "text",
    "id": "HtR4seKHA5EK"
   },
   "source": [
    "> **Recap of FNN**\n",
    ">\n",
    "> So let's do a recap of what we covered in the Feedforward Neural Network (FNN) section using a simple FNN with 1 hidden layer (a pair of affine function and non-linear function)\n",
    ">    \n",
    "> 1. [Yellow box] Pass input into an affine function $\\boldsymbol{y} = A\\boldsymbol{x} + \\boldsymbol{b}$\n",
    "> 2. [Pink box] Pass logits to non-linear function, for example sigmoid, tanh (hyperbolic tangent), ReLU, or LeakyReLU\n",
    "> 3. [Blue box] Pass output of non-linear function to another affine function\n",
    "> 4. [Red box] Pass output of final affine function to softmax function to get our probability distribution over K classes\n",
    "> 5. [Purple box] Finally we can get our loss by using our cross entropy function \n",
    "\n",
    "<img src=\"http://drive.google.com/uc?export=view&id=1bvMjblA1vOzghVsCALdzknmQyYgotWQh\" alt=\"no_image\" style=\"width: 900px;\"/>"
   ]
  },
  {
   "cell_type": "markdown",
   "metadata": {
    "colab_type": "text",
    "id": "W0cOmJC6A5EL"
   },
   "source": [
    "#### Basic Convolutional Neural Network (CNN)\n",
    "\n",
    "- A basic CNN just requires 2 additional layers!\n",
    "    - **Convolution** and **pooling** layers **before our feedforward neural network**"
   ]
  },
  {
   "cell_type": "markdown",
   "metadata": {
    "colab_type": "text",
    "id": "jB1FulBdA5EN"
   },
   "source": [
    "<img src=\"http://drive.google.com/uc?export=view&id=17Kqhr497dI8fvm_Q4gs8MY5k8qJiu95z\" alt=\"no_image\" style=\"width: 900px;\"/>"
   ]
  },
  {
   "cell_type": "markdown",
   "metadata": {
    "colab_type": "text",
    "id": "DrXjsNI1A5EO"
   },
   "source": [
    "### 1.2 One Convolutional Layer: High Level View"
   ]
  },
  {
   "cell_type": "markdown",
   "metadata": {
    "colab_type": "text",
    "id": "iF4xVex2A5EP"
   },
   "source": [
    "<img src=\"http://drive.google.com/uc?export=view&id=14z2BzTdgGbX7KY826lpgBIJegTcD0qxa\" alt=\"no_image\" style=\"width: 900px;\"/>\n",
    "\n",
    "<img src=\"http://drive.google.com/uc?export=view&id=11OWj5PFD7i22GaSoNruTu70SbrxesPQx\" alt=\"no_image\" style=\"width: 900px;\"/>\n",
    "\n",
    "<img src=\"http://drive.google.com/uc?export=view&id=14z2BzTdgGbX7KY826lpgBIJegTcD0qxa\" alt=\"no_image\" style=\"width: 900px;\"/>\n",
    "\n",
    "<img src=\"http://drive.google.com/uc?export=view&id=1t0LEBHcVh8OzJP_q303_Vmj3YLB8Xebw\" alt=\"no_image\" style=\"width: 900px;\"/>\n",
    "\n",
    "<img src=\"http://drive.google.com/uc?export=view&id=1rFPdCPwMArBpAhWrLw2VjCo-OA6z5esZ\" alt=\"no_image\" style=\"width: 900px;\"/>"
   ]
  },
  {
   "cell_type": "markdown",
   "metadata": {
    "colab_type": "text",
    "id": "zaHBf8l_A5EQ",
    "jp-MarkdownHeadingCollapsed": true,
    "tags": []
   },
   "source": [
    "### 1.3 One Convolutional Layer: High Level View Summary\n",
    "<img src=\"http://drive.google.com/uc?export=view&id=14z2BzTdgGbX7KY826lpgBIJegTcD0qxa\" alt=\"no_image\" style=\"width: 900px;\"/>\n",
    "\n",
    "- As the **kernel is sliding/convolving** across the image $\\rightarrow$ 2 operations done **per patch**\n",
    "    1. Element-wise multiplication\n",
    "    2. Summation\n",
    "- More **kernels** $=$ more **feature map channels**\n",
    "    - Can capture **more information** about the input\n",
    "    \n",
    "\n",
    "### 1.4 Multiple Convolutional Layers: High Level View\n",
    "<img src=\"http://drive.google.com/uc?export=view&id=1X7v95vTFu5ZkS7H358-JK_fSiTS9GHou\" alt=\"no_image\" style=\"width: 900px;\"/>\n",
    "\n",
    "### 1.5 Pooling Layer: High Level View\n",
    "- 2 Common Types\n",
    "    - Max Pooling\n",
    "    - Average Pooling\n",
    "\n",
    "<img src=\"http://drive.google.com/uc?export=view&id=14Ppj52QvlrvL38DdGHCf5e69Img89OOZ\" alt=\"no_image\" style=\"width: 900px;\"/>\n",
    "\n",
    "### 1.6 Multiple Pooling Layers: High Level View\n",
    "<img src=\"http://drive.google.com/uc?export=view&id=1X7v95vTFu5ZkS7H358-JK_fSiTS9GHou\" alt=\"no_image\" style=\"width: 900px;\"/>\n",
    "\n",
    "### 1.7 Padding\n",
    "<img src=\"http://drive.google.com/uc?export=view&id=1ABrZpg_Kgp-SXcwEexAl50a0x8jDMEXJ\" alt=\"no_image\" style=\"width: 900px;\"/>\n",
    "\n",
    "### 1.8 Padding Summary\n",
    "- **Valid** Padding (Zero Padding)\n",
    "    - Output size < Input Size\n",
    "- **Same** Padding\n",
    "    - Output size = Input Size\n",
    "\n",
    "### 1.9 Dimension Calculations\n",
    "- $ O = \\frac {W - K + 2P}{S} + 1$\n",
    "    - $O$: output height/length\n",
    "    - $W$: input height/length\n",
    "    - $K$: filter size (kernel size)\n",
    "    - $P$: padding\n",
    "        - $ P = \\frac{K - 1}{2} $\n",
    "    - $S$: stride\n",
    "    \n",
    "#### Example 1: Output Dimension Calculation for Valid Padding\n",
    "<img src=\"http://drive.google.com/uc?export=view&id=1VcyULOZoF2pELwA5DYeqHVij10vQJgTS\" alt=\"no_image\" style=\"width: 900px;\"/>\n",
    "\n",
    "- $W = 4$\n",
    "- $K = 3$\n",
    "- $P = 0$\n",
    "- $S = 1$\n",
    "- $O = \\frac {4 - 3 + 2*0}{1} + 1 = \\frac {1}{1} + 1 = 1 + 1 = 2 $\n",
    "\n",
    "\n",
    "#### Example 2: Output Dimension Calculation for Same Padding\n",
    "<img src=\"http://drive.google.com/uc?export=view&id=1YbAZNmJK1DBA3swKg8muUis90JDmcQDm\" alt=\"no_image\" style=\"width: 900px;\"/>\n",
    "\n",
    "- $W = 5$\n",
    "- $K = 3$\n",
    "- $P = \\frac{3 - 1}{2} = \\frac{2}{2} = 1 $\n",
    "- $S = 1 $\n",
    "- $O = \\frac {5 - 3 + 2*1}{1} + 1 = \\frac {4}{1} + 1 = 5$"
   ]
  },
  {
   "cell_type": "markdown",
   "metadata": {
    "colab_type": "text",
    "id": "QX-UGaLJA5ER"
   },
   "source": [
    "## 2. Building a Convolutional Neural Network with PyTorch\n",
    "\n",
    "### Model A: \n",
    "- 2 Convolutional Layers\n",
    "    - Same Padding (same output size)\n",
    "- 2 Max Pooling Layers\n",
    "- 1 Fully Connected Layer\n",
    "<img src=\"http://drive.google.com/uc?export=view&id=1xQzHZ7okBvBGmRgfLH1dd95onwdTG6Gv\" alt=\"no_image\" style=\"width: 900px;\"/>\n",
    "\n",
    "### Steps\n",
    "- Step 1: Load Dataset\n",
    "- Step 2: Make Dataset Iterable\n",
    "- Step 3: Create Model Class\n",
    "- Step 4: Instantiate Model Class\n",
    "- Step 5: Instantiate Loss Class\n",
    "- Step 6: Instantiate Optimizer Class\n",
    "- Step 7: Train Model"
   ]
  },
  {
   "cell_type": "markdown",
   "metadata": {
    "colab_type": "text",
    "id": "DPDhJ6T4A5ES"
   },
   "source": [
    "### Step 1: Loading MNIST Train Dataset\n",
    "#### Images from 1 to 9"
   ]
  },
  {
   "cell_type": "markdown",
   "metadata": {
    "colab_type": "text",
    "id": "P6Vpgj5FA5ES"
   },
   "source": [
    "**MNIST Dataset and Size of Training Dataset (Excluding Labels)**"
   ]
  },
  {
   "cell_type": "code",
   "execution_count": 1,
   "metadata": {
    "colab": {},
    "colab_type": "code",
    "execution": {
     "iopub.execute_input": "2022-03-18T01:16:48.968635Z",
     "iopub.status.busy": "2022-03-18T01:16:48.967918Z",
     "iopub.status.idle": "2022-03-18T01:16:49.944991Z",
     "shell.execute_reply": "2022-03-18T01:16:49.944043Z",
     "shell.execute_reply.started": "2022-03-18T01:16:48.968476Z"
    },
    "id": "XzpjrB-uA5ET",
    "tags": []
   },
   "outputs": [],
   "source": [
    "import torch\n",
    "import torch.nn as nn\n",
    "import torchvision.transforms as transforms\n",
    "import torchvision.datasets as dsets"
   ]
  },
  {
   "cell_type": "code",
   "execution_count": 2,
   "metadata": {
    "colab": {},
    "colab_type": "code",
    "execution": {
     "iopub.execute_input": "2022-03-18T01:16:50.307360Z",
     "iopub.status.busy": "2022-03-18T01:16:50.307052Z",
     "iopub.status.idle": "2022-03-18T01:16:56.717548Z",
     "shell.execute_reply": "2022-03-18T01:16:56.715990Z",
     "shell.execute_reply.started": "2022-03-18T01:16:50.307316Z"
    },
    "id": "Z0a1R8eGA5EW",
    "tags": []
   },
   "outputs": [
    {
     "name": "stdout",
     "output_type": "stream",
     "text": [
      "Downloading http://yann.lecun.com/exdb/mnist/train-images-idx3-ubyte.gz\n",
      "Downloading http://yann.lecun.com/exdb/mnist/train-images-idx3-ubyte.gz to ../dataset/lab03/MNIST/raw/train-images-idx3-ubyte.gz\n"
     ]
    },
    {
     "data": {
      "application/vnd.jupyter.widget-view+json": {
       "model_id": "a747b0aa97384e58a95191fc76d91416",
       "version_major": 2,
       "version_minor": 0
      },
      "text/plain": [
       "  0%|          | 0/9912422 [00:00<?, ?it/s]"
      ]
     },
     "metadata": {},
     "output_type": "display_data"
    },
    {
     "name": "stdout",
     "output_type": "stream",
     "text": [
      "Extracting ../dataset/lab03/MNIST/raw/train-images-idx3-ubyte.gz to ../dataset/lab03/MNIST/raw\n",
      "\n",
      "Downloading http://yann.lecun.com/exdb/mnist/train-labels-idx1-ubyte.gz\n",
      "Downloading http://yann.lecun.com/exdb/mnist/train-labels-idx1-ubyte.gz to ../dataset/lab03/MNIST/raw/train-labels-idx1-ubyte.gz\n"
     ]
    },
    {
     "data": {
      "application/vnd.jupyter.widget-view+json": {
       "model_id": "5ebd4f45d5b74514ad9db3e548908de0",
       "version_major": 2,
       "version_minor": 0
      },
      "text/plain": [
       "  0%|          | 0/28881 [00:00<?, ?it/s]"
      ]
     },
     "metadata": {},
     "output_type": "display_data"
    },
    {
     "name": "stdout",
     "output_type": "stream",
     "text": [
      "Extracting ../dataset/lab03/MNIST/raw/train-labels-idx1-ubyte.gz to ../dataset/lab03/MNIST/raw\n",
      "\n",
      "Downloading http://yann.lecun.com/exdb/mnist/t10k-images-idx3-ubyte.gz\n",
      "Downloading http://yann.lecun.com/exdb/mnist/t10k-images-idx3-ubyte.gz to ../dataset/lab03/MNIST/raw/t10k-images-idx3-ubyte.gz\n"
     ]
    },
    {
     "data": {
      "application/vnd.jupyter.widget-view+json": {
       "model_id": "795845eb1038468daaa9af8bf4b37734",
       "version_major": 2,
       "version_minor": 0
      },
      "text/plain": [
       "  0%|          | 0/1648877 [00:00<?, ?it/s]"
      ]
     },
     "metadata": {},
     "output_type": "display_data"
    },
    {
     "name": "stdout",
     "output_type": "stream",
     "text": [
      "Extracting ../dataset/lab03/MNIST/raw/t10k-images-idx3-ubyte.gz to ../dataset/lab03/MNIST/raw\n",
      "\n",
      "Downloading http://yann.lecun.com/exdb/mnist/t10k-labels-idx1-ubyte.gz\n",
      "Downloading http://yann.lecun.com/exdb/mnist/t10k-labels-idx1-ubyte.gz to ../dataset/lab03/MNIST/raw/t10k-labels-idx1-ubyte.gz\n"
     ]
    },
    {
     "data": {
      "application/vnd.jupyter.widget-view+json": {
       "model_id": "a2ca262f95154660abb250de91799228",
       "version_major": 2,
       "version_minor": 0
      },
      "text/plain": [
       "  0%|          | 0/4542 [00:00<?, ?it/s]"
      ]
     },
     "metadata": {},
     "output_type": "display_data"
    },
    {
     "name": "stdout",
     "output_type": "stream",
     "text": [
      "Extracting ../dataset/lab03/MNIST/raw/t10k-labels-idx1-ubyte.gz to ../dataset/lab03/MNIST/raw\n",
      "\n"
     ]
    },
    {
     "name": "stderr",
     "output_type": "stream",
     "text": [
      "/home/jovyan/.venv/torch1.9.0-py3.8-cuda11.1/lib/python3.8/site-packages/torchvision/datasets/mnist.py:498: UserWarning: The given NumPy array is not writeable, and PyTorch does not support non-writeable tensors. This means you can write to the underlying (supposedly non-writeable) NumPy array using the tensor. You may want to copy the array to protect its data or make it writeable before converting it to a tensor. This type of warning will be suppressed for the rest of this program. (Triggered internally at  /pytorch/torch/csrc/utils/tensor_numpy.cpp:180.)\n",
      "  return torch.from_numpy(parsed.astype(m[2], copy=False)).view(*s)\n"
     ]
    }
   ],
   "source": [
    "train_dataset = dsets.MNIST(root='../dataset/lab03', \n",
    "                            train=True, \n",
    "                            transform=transforms.ToTensor(),\n",
    "                            download=True)\n",
    "\n",
    "test_dataset = dsets.MNIST(root='../dataset/lab03', \n",
    "                           train=False, \n",
    "                           transform=transforms.ToTensor())"
   ]
  },
  {
   "cell_type": "code",
   "execution_count": 3,
   "metadata": {
    "colab": {},
    "colab_type": "code",
    "execution": {
     "iopub.execute_input": "2022-03-18T01:16:56.720832Z",
     "iopub.status.busy": "2022-03-18T01:16:56.720532Z",
     "iopub.status.idle": "2022-03-18T01:16:56.727881Z",
     "shell.execute_reply": "2022-03-18T01:16:56.726740Z",
     "shell.execute_reply.started": "2022-03-18T01:16:56.720794Z"
    },
    "id": "iGOPMLaBA5EZ",
    "outputId": "84582421-5747-4f4b-bd94-1e2866ff42df",
    "tags": []
   },
   "outputs": [
    {
     "name": "stdout",
     "output_type": "stream",
     "text": [
      "torch.Size([60000, 28, 28])\n"
     ]
    }
   ],
   "source": [
    "print(train_dataset.data.size())"
   ]
  },
  {
   "cell_type": "markdown",
   "metadata": {
    "colab_type": "text",
    "id": "LRiLSALmA5Ec"
   },
   "source": [
    "**Size of our training dataset labels**"
   ]
  },
  {
   "cell_type": "code",
   "execution_count": 4,
   "metadata": {
    "colab": {},
    "colab_type": "code",
    "execution": {
     "iopub.execute_input": "2022-03-18T01:16:56.729302Z",
     "iopub.status.busy": "2022-03-18T01:16:56.729074Z",
     "iopub.status.idle": "2022-03-18T01:16:56.737286Z",
     "shell.execute_reply": "2022-03-18T01:16:56.736280Z",
     "shell.execute_reply.started": "2022-03-18T01:16:56.729274Z"
    },
    "id": "L9Kat_IlA5Ed",
    "outputId": "91c27ce2-1892-498d-f243-ce4b647d7cba",
    "tags": []
   },
   "outputs": [
    {
     "name": "stdout",
     "output_type": "stream",
     "text": [
      "torch.Size([60000])\n"
     ]
    }
   ],
   "source": [
    "print(train_dataset.targets.size())"
   ]
  },
  {
   "cell_type": "markdown",
   "metadata": {
    "colab_type": "text",
    "id": "w-INVWOEA5Eg"
   },
   "source": [
    "**Size of our testing dataset (excluding labels)**"
   ]
  },
  {
   "cell_type": "code",
   "execution_count": 5,
   "metadata": {
    "colab": {},
    "colab_type": "code",
    "execution": {
     "iopub.execute_input": "2022-03-18T01:16:56.763971Z",
     "iopub.status.busy": "2022-03-18T01:16:56.763641Z",
     "iopub.status.idle": "2022-03-18T01:16:56.768833Z",
     "shell.execute_reply": "2022-03-18T01:16:56.767972Z",
     "shell.execute_reply.started": "2022-03-18T01:16:56.763947Z"
    },
    "id": "0QOW_C4OA5Ei",
    "outputId": "bd434485-325d-47e8-ae92-fe00865f49ea",
    "tags": []
   },
   "outputs": [
    {
     "name": "stdout",
     "output_type": "stream",
     "text": [
      "torch.Size([10000, 28, 28])\n"
     ]
    }
   ],
   "source": [
    "print(test_dataset.data.size())"
   ]
  },
  {
   "cell_type": "markdown",
   "metadata": {
    "colab_type": "text",
    "id": "PGLRUKuSA5El"
   },
   "source": [
    "**Size of our testing dataset labels**"
   ]
  },
  {
   "cell_type": "code",
   "execution_count": 6,
   "metadata": {
    "colab": {},
    "colab_type": "code",
    "execution": {
     "iopub.execute_input": "2022-03-18T01:16:56.770129Z",
     "iopub.status.busy": "2022-03-18T01:16:56.769913Z",
     "iopub.status.idle": "2022-03-18T01:16:56.775712Z",
     "shell.execute_reply": "2022-03-18T01:16:56.774594Z",
     "shell.execute_reply.started": "2022-03-18T01:16:56.770106Z"
    },
    "id": "ySJwCIr-A5En",
    "outputId": "243aad78-81f1-48b2-d6cb-16e278d61595",
    "tags": []
   },
   "outputs": [
    {
     "name": "stdout",
     "output_type": "stream",
     "text": [
      "torch.Size([10000])\n"
     ]
    }
   ],
   "source": [
    "print(test_dataset.targets.size())"
   ]
  },
  {
   "cell_type": "markdown",
   "metadata": {
    "colab_type": "text",
    "id": "XHsWPONMA5Eq"
   },
   "source": [
    "### Step 2: Make Dataset Iterable"
   ]
  },
  {
   "cell_type": "markdown",
   "metadata": {
    "colab_type": "text",
    "id": "zAV8It8UA5Er"
   },
   "source": [
    "**Load Dataset into Dataloader**"
   ]
  },
  {
   "cell_type": "code",
   "execution_count": 7,
   "metadata": {
    "colab": {},
    "colab_type": "code",
    "execution": {
     "iopub.execute_input": "2022-03-18T01:16:56.779681Z",
     "iopub.status.busy": "2022-03-18T01:16:56.779448Z",
     "iopub.status.idle": "2022-03-18T01:16:56.786203Z",
     "shell.execute_reply": "2022-03-18T01:16:56.785197Z",
     "shell.execute_reply.started": "2022-03-18T01:16:56.779655Z"
    },
    "id": "UU0qxR5eA5Es",
    "tags": []
   },
   "outputs": [],
   "source": [
    "batch_size = 100\n",
    "n_iters = 3000\n",
    "num_epochs = n_iters / (len(train_dataset) / batch_size)\n",
    "num_epochs = int(num_epochs)\n",
    "\n",
    "train_loader = torch.utils.data.DataLoader(dataset=train_dataset, \n",
    "                                           batch_size=batch_size, \n",
    "                                           shuffle=True)\n",
    "\n",
    "test_loader = torch.utils.data.DataLoader(dataset=test_dataset, \n",
    "                                          batch_size=batch_size, \n",
    "                                          shuffle=False)"
   ]
  },
  {
   "cell_type": "code",
   "execution_count": 8,
   "metadata": {
    "colab": {},
    "colab_type": "code",
    "execution": {
     "iopub.execute_input": "2022-03-18T01:16:56.788333Z",
     "iopub.status.busy": "2022-03-18T01:16:56.788183Z",
     "iopub.status.idle": "2022-03-18T01:16:56.797080Z",
     "shell.execute_reply": "2022-03-18T01:16:56.796472Z",
     "shell.execute_reply.started": "2022-03-18T01:16:56.788318Z"
    },
    "id": "ciztnPfDA5Ev",
    "outputId": "7ea1579f-49ae-435b-aad2-9b7150a8219d",
    "tags": []
   },
   "outputs": [
    {
     "data": {
      "text/plain": [
       "5"
      ]
     },
     "execution_count": 8,
     "metadata": {},
     "output_type": "execute_result"
    }
   ],
   "source": [
    "num_epochs"
   ]
  },
  {
   "cell_type": "markdown",
   "metadata": {
    "colab_type": "text",
    "id": "u2tNNXPPA5Ez"
   },
   "source": [
    "### Step 3: Create Model Class\n",
    "<img src=\"http://drive.google.com/uc?export=view&id=1xQzHZ7okBvBGmRgfLH1dd95onwdTG6Gv\" alt=\"no_image\" style=\"width: 900px;\"/>\n",
    "\n",
    "#### Output Formula for Convolution\n",
    "- $ O = \\frac {W - K + 2P}{S} + 1$\n",
    "    - $O$: output height/length\n",
    "    - $W$: input height/length\n",
    "    - $K$: **filter size (kernel size) = 5**\n",
    "    - $P$: **same padding (non-zero)**\n",
    "        - $P = \\frac{K - 1}{2}  = \\frac{5 - 1}{2} = 2$\n",
    "    - $S$: **stride = 1**\n",
    "    \n",
    "#### Output Formula for Pooling\n",
    "- $ O = \\frac {W - K}{S} + 1$\n",
    "    - W: input height/width\n",
    "    - K: **filter size = 2**\n",
    "    - S: **stride size = filter size**, PyTorch defaults the stride to kernel filter size\n",
    "        - If using PyTorch default stride, this will result in the formula $ O = \\frac {W}{K}$\n",
    "        - By default, in our tutorials, we do this for simplicity.\n",
    "    \n",
    "<img src=\"http://drive.google.com/uc?export=view&id=1EVR_GeSZhE_gRPw0kjDtzd0rVG9ccuOU\" alt=\"no_image\" style=\"width: 900px;\"/>"
   ]
  },
  {
   "cell_type": "markdown",
   "metadata": {
    "colab_type": "text",
    "id": "hXY2RNw8A5E0"
   },
   "source": [
    "**Define our simple 2 convolutional layer CNN**"
   ]
  },
  {
   "cell_type": "code",
   "execution_count": 9,
   "metadata": {
    "colab": {},
    "colab_type": "code",
    "execution": {
     "iopub.execute_input": "2022-03-18T01:16:56.798247Z",
     "iopub.status.busy": "2022-03-18T01:16:56.798120Z",
     "iopub.status.idle": "2022-03-18T01:16:56.804937Z",
     "shell.execute_reply": "2022-03-18T01:16:56.804029Z",
     "shell.execute_reply.started": "2022-03-18T01:16:56.798234Z"
    },
    "id": "VtzUznyzA5E1",
    "tags": []
   },
   "outputs": [],
   "source": [
    "class CNNModel(nn.Module):\n",
    "    def __init__(self):\n",
    "        super(CNNModel, self).__init__()\n",
    "\n",
    "        # Convolution 1\n",
    "        self.cnn1 = nn.Conv2d(in_channels=1, out_channels=16, kernel_size=5, stride=1, padding=2)\n",
    "        self.relu1 = nn.ReLU()\n",
    "\n",
    "        # Max pool 1\n",
    "        self.maxpool1 = nn.MaxPool2d(kernel_size=2)\n",
    "\n",
    "        # Convolution 2\n",
    "        self.cnn2 = nn.Conv2d(in_channels=16, out_channels=32, kernel_size=5, stride=1, padding=2)\n",
    "        self.relu2 = nn.ReLU()\n",
    "\n",
    "        # Max pool 2\n",
    "        self.maxpool2 = nn.MaxPool2d(kernel_size=2)\n",
    "\n",
    "        # Fully connected 1 (readout)\n",
    "        self.fc1 = nn.Linear(32 * 7 * 7, 10) \n",
    "\n",
    "    def forward(self, x):\n",
    "        # Convolution 1\n",
    "        out = self.cnn1(x)\n",
    "        out = self.relu1(out)\n",
    "\n",
    "        # Max pool 1\n",
    "        out = self.maxpool1(out)\n",
    "\n",
    "        # Convolution 2 \n",
    "        out = self.cnn2(out)\n",
    "        out = self.relu2(out)\n",
    "\n",
    "        # Max pool 2 \n",
    "        out = self.maxpool2(out)\n",
    "\n",
    "        # Resize\n",
    "        # Original size: (100, 32, 7, 7)\n",
    "        # out.size(0): 100\n",
    "        # New out size: (100, 32*7*7)\n",
    "        out = out.view(out.size(0), -1)\n",
    "\n",
    "        # Linear function (readout)\n",
    "        out = self.fc1(out)\n",
    "\n",
    "        return out"
   ]
  },
  {
   "cell_type": "markdown",
   "metadata": {
    "colab_type": "text",
    "id": "PfP94uK-A5E5"
   },
   "source": [
    "### Step 4: Instantiate Model Class"
   ]
  },
  {
   "cell_type": "markdown",
   "metadata": {
    "colab_type": "text",
    "id": "D2ydgaSbA5E7"
   },
   "source": [
    "**Our model**"
   ]
  },
  {
   "cell_type": "code",
   "execution_count": 10,
   "metadata": {
    "colab": {},
    "colab_type": "code",
    "execution": {
     "iopub.execute_input": "2022-03-18T01:16:56.806077Z",
     "iopub.status.busy": "2022-03-18T01:16:56.805948Z",
     "iopub.status.idle": "2022-03-18T01:16:56.811668Z",
     "shell.execute_reply": "2022-03-18T01:16:56.811021Z",
     "shell.execute_reply.started": "2022-03-18T01:16:56.806063Z"
    },
    "id": "uh13QyQnA5E9",
    "tags": []
   },
   "outputs": [],
   "source": [
    "model = CNNModel()"
   ]
  },
  {
   "cell_type": "markdown",
   "metadata": {
    "colab_type": "text",
    "id": "m0ce_8h7A5FC"
   },
   "source": [
    "### Step 5: Instantiate Loss Class"
   ]
  },
  {
   "cell_type": "code",
   "execution_count": 11,
   "metadata": {
    "colab": {},
    "colab_type": "code",
    "execution": {
     "iopub.execute_input": "2022-03-18T01:16:56.812705Z",
     "iopub.status.busy": "2022-03-18T01:16:56.812575Z",
     "iopub.status.idle": "2022-03-18T01:16:56.816206Z",
     "shell.execute_reply": "2022-03-18T01:16:56.815544Z",
     "shell.execute_reply.started": "2022-03-18T01:16:56.812690Z"
    },
    "id": "AjVQhzDtA5FC",
    "tags": []
   },
   "outputs": [],
   "source": [
    "criterion = nn.CrossEntropyLoss()"
   ]
  },
  {
   "cell_type": "markdown",
   "metadata": {
    "colab_type": "text",
    "id": "cXX8ZxDwA5FG"
   },
   "source": [
    "### Step 6: Instantiate Optimizer Class"
   ]
  },
  {
   "cell_type": "markdown",
   "metadata": {
    "colab_type": "text",
    "id": "0-Rda-v4A5FG"
   },
   "source": [
    "- Simplified equation\n",
    "    - $\\theta = \\theta - \\eta \\cdot \\nabla_\\theta$\n",
    "        - $\\theta$: parameters\n",
    "        - $\\eta$: learning rate (how fast we want to learn)\n",
    "        - $\\nabla_\\theta$: parameters' gradients\n",
    "- Even simplier equation\n",
    "    - `parameters = parameters - learning_rate * parameters_gradients`\n",
    "    - **At every iteration, we update our model's parameters**"
   ]
  },
  {
   "cell_type": "markdown",
   "metadata": {
    "colab_type": "text",
    "id": "xNXSsrSmA5FG"
   },
   "source": [
    "**Optimizer**"
   ]
  },
  {
   "cell_type": "code",
   "execution_count": 12,
   "metadata": {
    "colab": {},
    "colab_type": "code",
    "execution": {
     "iopub.execute_input": "2022-03-18T01:16:56.817247Z",
     "iopub.status.busy": "2022-03-18T01:16:56.817105Z",
     "iopub.status.idle": "2022-03-18T01:16:56.820885Z",
     "shell.execute_reply": "2022-03-18T01:16:56.820221Z",
     "shell.execute_reply.started": "2022-03-18T01:16:56.817232Z"
    },
    "id": "AIs775ZfA5FH",
    "tags": []
   },
   "outputs": [],
   "source": [
    "learning_rate = 0.01\n",
    "\n",
    "optimizer = torch.optim.SGD(model.parameters(), lr=learning_rate) "
   ]
  },
  {
   "cell_type": "markdown",
   "metadata": {
    "colab_type": "text",
    "id": "sVJx5x9tA5FJ"
   },
   "source": [
    "### Parameters In-Depth"
   ]
  },
  {
   "cell_type": "markdown",
   "metadata": {
    "colab_type": "text",
    "id": "mbx665D3A5FK"
   },
   "source": [
    "**Print model's parameter**"
   ]
  },
  {
   "cell_type": "code",
   "execution_count": 13,
   "metadata": {
    "colab": {},
    "colab_type": "code",
    "execution": {
     "iopub.execute_input": "2022-03-18T01:16:56.821884Z",
     "iopub.status.busy": "2022-03-18T01:16:56.821749Z",
     "iopub.status.idle": "2022-03-18T01:16:56.826231Z",
     "shell.execute_reply": "2022-03-18T01:16:56.825388Z",
     "shell.execute_reply.started": "2022-03-18T01:16:56.821869Z"
    },
    "id": "X_2U8s_nA5FK",
    "outputId": "16462a95-3550-450e-b800-7c9d76a77871",
    "tags": []
   },
   "outputs": [
    {
     "name": "stdout",
     "output_type": "stream",
     "text": [
      "<generator object Module.parameters at 0x7f115c565200>\n"
     ]
    }
   ],
   "source": [
    "print(model.parameters())"
   ]
  },
  {
   "cell_type": "code",
   "execution_count": 14,
   "metadata": {
    "colab": {},
    "colab_type": "code",
    "execution": {
     "iopub.execute_input": "2022-03-18T01:16:56.827861Z",
     "iopub.status.busy": "2022-03-18T01:16:56.827529Z",
     "iopub.status.idle": "2022-03-18T01:16:56.832572Z",
     "shell.execute_reply": "2022-03-18T01:16:56.831830Z",
     "shell.execute_reply.started": "2022-03-18T01:16:56.827843Z"
    },
    "id": "hs3Y1XFZA5FN",
    "outputId": "611cac59-c9e6-4886-ad5e-627c09cbbe22",
    "tags": []
   },
   "outputs": [
    {
     "name": "stdout",
     "output_type": "stream",
     "text": [
      "6\n"
     ]
    }
   ],
   "source": [
    "print(len(list(model.parameters())))"
   ]
  },
  {
   "cell_type": "code",
   "execution_count": 15,
   "metadata": {
    "colab": {},
    "colab_type": "code",
    "execution": {
     "iopub.execute_input": "2022-03-18T01:16:56.833644Z",
     "iopub.status.busy": "2022-03-18T01:16:56.833481Z",
     "iopub.status.idle": "2022-03-18T01:16:56.838291Z",
     "shell.execute_reply": "2022-03-18T01:16:56.837408Z",
     "shell.execute_reply.started": "2022-03-18T01:16:56.833625Z"
    },
    "id": "lTNj170hA5FR",
    "outputId": "9bb7b475-5dab-46c4-bad1-7242077abb49",
    "tags": []
   },
   "outputs": [
    {
     "name": "stdout",
     "output_type": "stream",
     "text": [
      "torch.Size([16, 1, 5, 5])\n"
     ]
    }
   ],
   "source": [
    "# Convolution 1: 16 Kernels\n",
    "print(list(model.parameters())[0].size())"
   ]
  },
  {
   "cell_type": "code",
   "execution_count": 16,
   "metadata": {
    "colab": {},
    "colab_type": "code",
    "execution": {
     "iopub.execute_input": "2022-03-18T01:16:56.839448Z",
     "iopub.status.busy": "2022-03-18T01:16:56.839244Z",
     "iopub.status.idle": "2022-03-18T01:16:56.844581Z",
     "shell.execute_reply": "2022-03-18T01:16:56.843664Z",
     "shell.execute_reply.started": "2022-03-18T01:16:56.839424Z"
    },
    "id": "T0ByiWfZA5FV",
    "outputId": "a265d613-5851-47a2-a163-17ebbc1d0ce7",
    "tags": []
   },
   "outputs": [
    {
     "name": "stdout",
     "output_type": "stream",
     "text": [
      "torch.Size([16])\n"
     ]
    }
   ],
   "source": [
    "# Convolution 1 Bias: 16 Kernels\n",
    "print(list(model.parameters())[1].size())"
   ]
  },
  {
   "cell_type": "code",
   "execution_count": 17,
   "metadata": {
    "colab": {},
    "colab_type": "code",
    "execution": {
     "iopub.execute_input": "2022-03-18T01:16:56.846081Z",
     "iopub.status.busy": "2022-03-18T01:16:56.845803Z",
     "iopub.status.idle": "2022-03-18T01:16:56.851551Z",
     "shell.execute_reply": "2022-03-18T01:16:56.850530Z",
     "shell.execute_reply.started": "2022-03-18T01:16:56.846048Z"
    },
    "id": "rKgK_-OxA5FZ",
    "outputId": "fddcb9a5-3097-4bff-d01d-f3529cabe923",
    "tags": []
   },
   "outputs": [
    {
     "name": "stdout",
     "output_type": "stream",
     "text": [
      "torch.Size([32, 16, 5, 5])\n"
     ]
    }
   ],
   "source": [
    "# Convolution 2: 32 Kernels with depth = 16\n",
    "print(list(model.parameters())[2].size())"
   ]
  },
  {
   "cell_type": "code",
   "execution_count": 18,
   "metadata": {
    "colab": {},
    "colab_type": "code",
    "execution": {
     "iopub.execute_input": "2022-03-18T01:16:56.853532Z",
     "iopub.status.busy": "2022-03-18T01:16:56.852813Z",
     "iopub.status.idle": "2022-03-18T01:16:56.858863Z",
     "shell.execute_reply": "2022-03-18T01:16:56.857750Z",
     "shell.execute_reply.started": "2022-03-18T01:16:56.853495Z"
    },
    "id": "Ex8vaY90A5Fb",
    "outputId": "e9dd5a5b-7a69-42d0-bbe6-614932ef0562",
    "tags": []
   },
   "outputs": [
    {
     "name": "stdout",
     "output_type": "stream",
     "text": [
      "torch.Size([32])\n"
     ]
    }
   ],
   "source": [
    "# Convolution 2 Bias: 32 Kernels with depth = 16\n",
    "print(list(model.parameters())[3].size())"
   ]
  },
  {
   "cell_type": "code",
   "execution_count": 19,
   "metadata": {
    "colab": {},
    "colab_type": "code",
    "execution": {
     "iopub.execute_input": "2022-03-18T01:16:56.860745Z",
     "iopub.status.busy": "2022-03-18T01:16:56.860470Z",
     "iopub.status.idle": "2022-03-18T01:16:56.866151Z",
     "shell.execute_reply": "2022-03-18T01:16:56.864868Z",
     "shell.execute_reply.started": "2022-03-18T01:16:56.860712Z"
    },
    "id": "F-ahcxWqA5Fe",
    "outputId": "a7b2979e-2974-4c71-835a-e43943c5333e",
    "tags": []
   },
   "outputs": [
    {
     "name": "stdout",
     "output_type": "stream",
     "text": [
      "torch.Size([10, 1568])\n"
     ]
    }
   ],
   "source": [
    "# Fully Connected Layer 1\n",
    "print(list(model.parameters())[4].size())"
   ]
  },
  {
   "cell_type": "code",
   "execution_count": 20,
   "metadata": {
    "colab": {},
    "colab_type": "code",
    "execution": {
     "iopub.execute_input": "2022-03-18T01:16:56.957954Z",
     "iopub.status.busy": "2022-03-18T01:16:56.957634Z",
     "iopub.status.idle": "2022-03-18T01:16:56.964297Z",
     "shell.execute_reply": "2022-03-18T01:16:56.963126Z",
     "shell.execute_reply.started": "2022-03-18T01:16:56.957917Z"
    },
    "id": "Bp2E3yErA5Fh",
    "outputId": "00029de5-7cd9-4331-8be7-61c9ccf2286b",
    "tags": []
   },
   "outputs": [
    {
     "name": "stdout",
     "output_type": "stream",
     "text": [
      "torch.Size([10])\n"
     ]
    }
   ],
   "source": [
    "# Fully Connected Layer Bias\n",
    "print(list(model.parameters())[5].size())"
   ]
  },
  {
   "cell_type": "markdown",
   "metadata": {
    "colab_type": "text",
    "id": "SjZEsuW6A5Fk"
   },
   "source": [
    "### Step 7: Train Model"
   ]
  },
  {
   "cell_type": "markdown",
   "metadata": {
    "colab_type": "text",
    "id": "pVjKjbiAA5Fk"
   },
   "source": [
    "- Process \n",
    "    1. **Convert inputs to tensors with gradient accumulation abilities**\n",
    "        - CNN Input: (1, 28, 28) \n",
    "        - Feedforward NN Input: (1, 28*28)\n",
    "    2. Clear gradient buffets\n",
    "    3. Get output given inputs \n",
    "    4. Get loss\n",
    "    5. Get gradients w.r.t. parameters\n",
    "    6. Update parameters using gradients\n",
    "        - `parameters = parameters - learning_rate * parameters_gradients`\n",
    "    7. REPEAT"
   ]
  },
  {
   "cell_type": "markdown",
   "metadata": {
    "colab_type": "text",
    "id": "9e1dkyTIA5Fk"
   },
   "source": [
    "**Model training**"
   ]
  },
  {
   "cell_type": "code",
   "execution_count": 21,
   "metadata": {
    "colab": {},
    "colab_type": "code",
    "execution": {
     "iopub.execute_input": "2022-03-18T01:16:57.744309Z",
     "iopub.status.busy": "2022-03-18T01:16:57.743918Z",
     "iopub.status.idle": "2022-03-18T01:39:06.970385Z",
     "shell.execute_reply": "2022-03-18T01:39:06.879833Z",
     "shell.execute_reply.started": "2022-03-18T01:16:57.744262Z"
    },
    "id": "4DRZxWQkA5Fm",
    "outputId": "724505fa-1048-45ca-c0b1-d7ddca7851bb",
    "tags": []
   },
   "outputs": [
    {
     "name": "stderr",
     "output_type": "stream",
     "text": [
      "/home/jovyan/.venv/torch1.9.0-py3.8-cuda11.1/lib/python3.8/site-packages/torch/nn/functional.py:718: UserWarning: Named tensors and all their associated APIs are an experimental feature and subject to change. Please do not use them for anything important until they are released as stable. (Triggered internally at  /pytorch/c10/core/TensorImpl.h:1156.)\n",
      "  return torch.max_pool2d(input, kernel_size, stride, padding, dilation, ceil_mode)\n"
     ]
    },
    {
     "name": "stdout",
     "output_type": "stream",
     "text": [
      "Iteration: 500. Loss: 0.40781375765800476. Accuracy: 89.43\n",
      "Iteration: 1000. Loss: 0.27097100019454956. Accuracy: 93.3\n",
      "Iteration: 1500. Loss: 0.2126084268093109. Accuracy: 94.97\n",
      "Iteration: 2000. Loss: 0.13274389505386353. Accuracy: 95.47\n",
      "Iteration: 2500. Loss: 0.14994828402996063. Accuracy: 96.44\n",
      "Iteration: 3000. Loss: 0.07693599164485931. Accuracy: 96.68\n"
     ]
    }
   ],
   "source": [
    "iter = 0\n",
    "\n",
    "for epoch in range(num_epochs):\n",
    "    for i, (images, labels) in enumerate(train_loader):\n",
    "\n",
    "        # Clear gradients w.r.t. parameters\n",
    "        optimizer.zero_grad()\n",
    "\n",
    "        # Forward pass to get output/logits\n",
    "        outputs = model(images) # 100 x 10\n",
    "\n",
    "        # Calculate Loss: softmax --> cross entropy loss\n",
    "        loss = criterion(outputs, labels)\n",
    "\n",
    "        # Getting gradients w.r.t. parameters\n",
    "        loss.backward()\n",
    "\n",
    "        # Updating parameters\n",
    "        optimizer.step()\n",
    "\n",
    "        iter += 1\n",
    "\n",
    "        if iter % 500 == 0:\n",
    "            # Calculate Accuracy\n",
    "            model.eval()\n",
    "            \n",
    "            correct = 0\n",
    "            total = 0\n",
    "            # Iterate through test dataset\n",
    "            for images, labels in test_loader:\n",
    "                \n",
    "                # Forward pass only to get logits/output\n",
    "                outputs = model(images)\n",
    "\n",
    "                # Get predictions from the maximum value\n",
    "                _, predicted = torch.max(outputs.data, 1)\n",
    "\n",
    "                # Total number of labels\n",
    "                total += labels.size(0)\n",
    "\n",
    "                # Total correct predictions\n",
    "                correct += (predicted == labels).sum()\n",
    "\n",
    "            accuracy = 100 * correct.item() / total\n",
    "\n",
    "            # Print Loss\n",
    "            print('Iteration: {}. Loss: {}. Accuracy: {}'.format(iter, loss.item(), accuracy))"
   ]
  },
  {
   "cell_type": "markdown",
   "metadata": {
    "colab_type": "text",
    "id": "L_VqlmwMA5Fo"
   },
   "source": [
    "### Model B: \n",
    "- 2 Convolutional Layers\n",
    "    - Same Padding (same output size)\n",
    "- 2 **Average Pooling** Layers\n",
    "- 1 Fully Connected Layer\n",
    "<img src=\"http://drive.google.com/uc?export=view&id=1QLYPmAgR9PLIZH4TUBhqA2vvPH3GO4ql\" alt=\"no_image\" style=\"width: 900px;\"/>\n",
    "<img src=\"http://drive.google.com/uc?export=view&id=15HExUU-nvnvcPYe2EcmwBqSo0rzbrnci\" alt=\"no_image\" style=\"width: 900px;\"/>\n",
    "\n",
    "### Steps\n",
    "- Step 1: Load Dataset\n",
    "- Step 2: Make Dataset Iterable\n",
    "- Step 3: Create Model Class\n",
    "- Step 4: Instantiate Model Class\n",
    "- Step 5: Instantiate Loss Class\n",
    "- Step 6: Instantiate Optimizer Class\n",
    "- Step 7: Train Model"
   ]
  },
  {
   "cell_type": "markdown",
   "metadata": {
    "colab_type": "text",
    "id": "ugHaGhkzA5Fp"
   },
   "source": [
    "**2 Conv + 2 Average Pool + 1 FC (Zero Padding, Same Padding)**"
   ]
  },
  {
   "cell_type": "code",
   "execution_count": null,
   "metadata": {
    "colab": {},
    "colab_type": "code",
    "execution": {
     "iopub.execute_input": "2022-03-18T01:39:07.006266Z",
     "iopub.status.busy": "2022-03-18T01:39:07.006064Z"
    },
    "id": "Ccmckw-7A5Fq",
    "outputId": "69d42c9a-a199-4c1e-fe71-7c5a939ad652",
    "tags": []
   },
   "outputs": [
    {
     "name": "stdout",
     "output_type": "stream",
     "text": [
      "Iteration: 500. Loss: 0.49215224385261536. Accuracy: 85.56\n"
     ]
    }
   ],
   "source": [
    "import torch\n",
    "import torch.nn as nn\n",
    "import torchvision.transforms as transforms\n",
    "import torchvision.datasets as dsets\n",
    "\n",
    "'''\n",
    "STEP 1: LOADING DATASET\n",
    "'''\n",
    "\n",
    "train_dataset = dsets.MNIST(root='../dataset/lab03', \n",
    "                            train=True, \n",
    "                            transform=transforms.ToTensor(),\n",
    "                            download=True)\n",
    "\n",
    "test_dataset = dsets.MNIST(root='../dataset/lab03', \n",
    "                           train=False, \n",
    "                           transform=transforms.ToTensor())\n",
    "\n",
    "'''\n",
    "STEP 2: MAKING DATASET ITERABLE\n",
    "'''\n",
    "\n",
    "batch_size = 100\n",
    "n_iters = 3000\n",
    "num_epochs = n_iters / (len(train_dataset) / batch_size)\n",
    "num_epochs = int(num_epochs)\n",
    "\n",
    "train_loader = torch.utils.data.DataLoader(dataset=train_dataset, \n",
    "                                           batch_size=batch_size, \n",
    "                                           shuffle=True)\n",
    "\n",
    "test_loader = torch.utils.data.DataLoader(dataset=test_dataset, \n",
    "                                          batch_size=batch_size, \n",
    "                                          shuffle=False)\n",
    "\n",
    "'''\n",
    "STEP 3: CREATE MODEL CLASS\n",
    "'''\n",
    "class CNNModel(nn.Module):\n",
    "    def __init__(self):\n",
    "        super(CNNModel, self).__init__()\n",
    "\n",
    "        # Convolution 1\n",
    "        self.cnn1 = nn.Conv2d(in_channels=1, out_channels=16, kernel_size=5, stride=1, padding=2)\n",
    "        self.relu1 = nn.ReLU()\n",
    "\n",
    "        # Average pool 1\n",
    "        self.avgpool1 = nn.AvgPool2d(kernel_size=2)\n",
    "\n",
    "        # Convolution 2\n",
    "        self.cnn2 = nn.Conv2d(in_channels=16, out_channels=32, kernel_size=5, stride=1, padding=2)\n",
    "        self.relu2 = nn.ReLU()\n",
    "\n",
    "        # Average pool 2\n",
    "        self.avgpool2 = nn.AvgPool2d(kernel_size=2)\n",
    "\n",
    "        # Fully connected 1 (readout)\n",
    "        self.fc1 = nn.Linear(32 * 7 * 7, 10) \n",
    "\n",
    "    def forward(self, x):\n",
    "        # Convolution 1\n",
    "        out = self.cnn1(x)\n",
    "        out = self.relu1(out)\n",
    "\n",
    "        # Average pool 1\n",
    "        out = self.avgpool1(out)\n",
    "\n",
    "        # Convolution 2 \n",
    "        out = self.cnn2(out)\n",
    "        out = self.relu2(out)\n",
    "\n",
    "        # Max pool 2 \n",
    "        out = self.avgpool2(out)\n",
    "\n",
    "        # Resize\n",
    "        # Original size: (100, 32, 7, 7)\n",
    "        # out.size(0): 100\n",
    "        # New out size: (100, 32*7*7)\n",
    "        out = out.view(out.size(0), -1)\n",
    "\n",
    "        # Linear function (readout)\n",
    "        out = self.fc1(out)\n",
    "\n",
    "        return out\n",
    "\n",
    "'''\n",
    "STEP 4: INSTANTIATE MODEL CLASS\n",
    "'''\n",
    "\n",
    "model = CNNModel()\n",
    "\n",
    "'''\n",
    "STEP 5: INSTANTIATE LOSS CLASS\n",
    "'''\n",
    "criterion = nn.CrossEntropyLoss()\n",
    "\n",
    "\n",
    "'''\n",
    "STEP 6: INSTANTIATE OPTIMIZER CLASS\n",
    "'''\n",
    "learning_rate = 0.01\n",
    "\n",
    "optimizer = torch.optim.SGD(model.parameters(), lr=learning_rate)\n",
    "\n",
    "'''\n",
    "STEP 7: TRAIN THE MODEL\n",
    "'''\n",
    "iter = 0\n",
    "for epoch in range(num_epochs):\n",
    "    for i, (images, labels) in enumerate(train_loader):\n",
    "\n",
    "        # Clear gradients w.r.t. parameters\n",
    "        optimizer.zero_grad()\n",
    "\n",
    "        # Forward pass to get output/logits\n",
    "        outputs = model(images)\n",
    "\n",
    "        # Calculate Loss: softmax --> cross entropy loss\n",
    "        loss = criterion(outputs, labels)\n",
    "\n",
    "        # Getting gradients w.r.t. parameters\n",
    "        loss.backward()\n",
    "\n",
    "        # Updating parameters\n",
    "        optimizer.step()\n",
    "\n",
    "        iter += 1\n",
    "\n",
    "        if iter % 500 == 0:\n",
    "            # Calculate Accuracy         \n",
    "            correct = 0\n",
    "            total = 0\n",
    "            # Iterate through test dataset\n",
    "            for images, labels in test_loader:\n",
    "\n",
    "                # Forward pass only to get logits/output\n",
    "                outputs = model(images)\n",
    "\n",
    "                # Get predictions from the maximum value\n",
    "                _, predicted = torch.max(outputs.data, 1)\n",
    "\n",
    "                # Total number of labels\n",
    "                total += labels.size(0)\n",
    "\n",
    "                # Total correct predictions\n",
    "                correct += (predicted == labels).sum()\n",
    "\n",
    "            accuracy = 100 * correct.item() / total\n",
    "\n",
    "            # Print Loss\n",
    "            print('Iteration: {}. Loss: {}. Accuracy: {}'.format(iter, loss.item(), accuracy))"
   ]
  },
  {
   "cell_type": "markdown",
   "metadata": {
    "colab_type": "text",
    "id": "5d_bP9b1A5Fs"
   },
   "source": [
    "> **Comparison of accuracies**\n",
    ">\n",
    "> It seems like average pooling test accuracy is less than the max pooling accuracy! Does this mean average pooling is better? This is not definitive and depends on a lot of factors including the model's architecture, seed (that affects random weight initialization) and more."
   ]
  },
  {
   "cell_type": "markdown",
   "metadata": {
    "colab_type": "text",
    "id": "09ooCflcA5Ft"
   },
   "source": [
    "### Average Pooling Test Accuracy < Max Pooling Test Accuracy"
   ]
  },
  {
   "cell_type": "markdown",
   "metadata": {
    "colab_type": "text",
    "id": "rAFsRJU8A5Ft"
   },
   "source": [
    "### Model C: \n",
    "- 2 Convolutional Layers\n",
    "    - **Valid Padding** (smaller output size)\n",
    "- 2 **Max Pooling** Layers\n",
    "- 1 Fully Connected Layer\n",
    "<img src=\"http://drive.google.com/uc?export=view&id=1tPKsY1gfbjsjk3hVA_K2U5ZRNCEIVrKl\" alt=\"no_image\" style=\"width: 900px;\"/>\n",
    "<img src=\"http://drive.google.com/uc?export=view&id=1K4L289pUYpLPis0xAy54lHRTcAa03N8G\" alt=\"no_image\" style=\"width: 900px;\"/>\n",
    "\n",
    "### Steps\n",
    "- Step 1: Load Dataset\n",
    "- Step 2: Make Dataset Iterable\n",
    "- Step 3: Create Model Class\n",
    "- Step 4: Instantiate Model Class\n",
    "- Step 5: Instantiate Loss Class\n",
    "- Step 6: Instantiate Optimizer Class\n",
    "- Step 7: Train Model"
   ]
  },
  {
   "cell_type": "markdown",
   "metadata": {
    "colab_type": "text",
    "id": "x65XdvYGA5Fu"
   },
   "source": [
    "**2 Conv + 2 Max Pool + 1 FC (Valid Padding, No Padding)**"
   ]
  },
  {
   "cell_type": "code",
   "execution_count": null,
   "metadata": {
    "colab": {},
    "colab_type": "code",
    "id": "1OG2drgdA5Fv",
    "outputId": "8c7e34a5-825d-4b4d-d2f1-ca84dae55819"
   },
   "outputs": [],
   "source": [
    "import torch\n",
    "import torch.nn as nn\n",
    "import torchvision.transforms as transforms\n",
    "import torchvision.datasets as dsets\n",
    "\n",
    "'''\n",
    "STEP 1: LOADING DATASET\n",
    "'''\n",
    "\n",
    "train_dataset = dsets.MNIST(root='../dataset/lab03', \n",
    "                            train=True, \n",
    "                            transform=transforms.ToTensor(),\n",
    "                            download=True)\n",
    "\n",
    "test_dataset = dsets.MNIST(root='../dataset/lab03', \n",
    "                           train=False, \n",
    "                           transform=transforms.ToTensor())\n",
    "\n",
    "'''\n",
    "STEP 2: MAKING DATASET ITERABLE\n",
    "'''\n",
    "\n",
    "batch_size = 100\n",
    "n_iters = 3000\n",
    "num_epochs = n_iters / (len(train_dataset) / batch_size)\n",
    "num_epochs = int(num_epochs)\n",
    "\n",
    "train_loader = torch.utils.data.DataLoader(dataset=train_dataset, \n",
    "                                           batch_size=batch_size, \n",
    "                                           shuffle=True)\n",
    "\n",
    "test_loader = torch.utils.data.DataLoader(dataset=test_dataset, \n",
    "                                          batch_size=batch_size, \n",
    "                                          shuffle=False)\n",
    "\n",
    "'''\n",
    "STEP 3: CREATE MODEL CLASS\n",
    "'''\n",
    "class CNNModel(nn.Module):\n",
    "    def __init__(self):\n",
    "        super(CNNModel, self).__init__()\n",
    "\n",
    "        # Convolution 1\n",
    "        self.cnn1 = nn.Conv2d(in_channels=1, out_channels=16, kernel_size=5, stride=1, padding=0)\n",
    "        self.relu1 = nn.ReLU()\n",
    "\n",
    "        # Max pool 1\n",
    "        self.maxpool1 = nn.MaxPool2d(kernel_size=2)\n",
    "\n",
    "        # Convolution 2\n",
    "        self.cnn2 = nn.Conv2d(in_channels=16, out_channels=32, kernel_size=5, stride=1, padding=0)\n",
    "        self.relu2 = nn.ReLU()\n",
    "\n",
    "        # Max pool 2\n",
    "        self.maxpool2 = nn.MaxPool2d(kernel_size=2)\n",
    "\n",
    "        # Fully connected 1 (readout)\n",
    "        self.fc1 = nn.Linear(32 * 4 * 4, 10) \n",
    "\n",
    "    def forward(self, x):\n",
    "        # Convolution 1\n",
    "        out = self.cnn1(x)\n",
    "        out = self.relu1(out)\n",
    "\n",
    "        # Max pool 1\n",
    "        out = self.maxpool1(out)\n",
    "\n",
    "        # Convolution 2 \n",
    "        out = self.cnn2(out)\n",
    "        out = self.relu2(out)\n",
    "\n",
    "        # Max pool 2 \n",
    "        out = self.maxpool2(out)\n",
    "\n",
    "        # Resize\n",
    "        # Original size: (100, 32, 7, 7)\n",
    "        # out.size(0): 100\n",
    "        # New out size: (100, 32*7*7)\n",
    "        out = out.view(out.size(0), -1)\n",
    "\n",
    "        # Linear function (readout)\n",
    "        out = self.fc1(out)\n",
    "\n",
    "        return out\n",
    "\n",
    "'''\n",
    "STEP 4: INSTANTIATE MODEL CLASS\n",
    "'''\n",
    "\n",
    "model = CNNModel()\n",
    "\n",
    "'''\n",
    "STEP 5: INSTANTIATE LOSS CLASS\n",
    "'''\n",
    "criterion = nn.CrossEntropyLoss()\n",
    "\n",
    "\n",
    "'''\n",
    "STEP 6: INSTANTIATE OPTIMIZER CLASS\n",
    "'''\n",
    "learning_rate = 0.01\n",
    "\n",
    "optimizer = torch.optim.SGD(model.parameters(), lr=learning_rate)\n",
    "\n",
    "'''\n",
    "STEP 7: TRAIN THE MODEL\n",
    "'''\n",
    "iter = 0\n",
    "for epoch in range(num_epochs):\n",
    "    for i, (images, labels) in enumerate(train_loader):\n",
    "\n",
    "        # Clear gradients w.r.t. parameters\n",
    "        optimizer.zero_grad()\n",
    "\n",
    "        # Forward pass to get output/logits\n",
    "        outputs = model(images)\n",
    "\n",
    "        # Calculate Loss: softmax --> cross entropy loss\n",
    "        loss = criterion(outputs, labels)\n",
    "\n",
    "        # Getting gradients w.r.t. parameters\n",
    "        loss.backward()\n",
    "\n",
    "        # Updating parameters\n",
    "        optimizer.step()\n",
    "\n",
    "        iter += 1\n",
    "\n",
    "        if iter % 500 == 0:\n",
    "            # Calculate Accuracy         \n",
    "            correct = 0\n",
    "            total = 0\n",
    "            # Iterate through test dataset\n",
    "            for images, labels in test_loader:\n",
    "               \n",
    "                # Forward pass only to get logits/output\n",
    "                outputs = model(images)\n",
    "\n",
    "                # Get predictions from the maximum value\n",
    "                _, predicted = torch.max(outputs.data, 1)\n",
    "\n",
    "                # Total number of labels\n",
    "                total += labels.size(0)\n",
    "\n",
    "                # Total correct predictions\n",
    "                correct += (predicted == labels).sum()\n",
    "\n",
    "            accuracy = 100 * correct.item() / total\n",
    "\n",
    "            # Print Loss\n",
    "            print('Iteration: {}. Loss: {}. Accuracy: {}'.format(iter, loss.item(), accuracy))"
   ]
  },
  {
   "cell_type": "markdown",
   "metadata": {
    "colab_type": "text",
    "id": "ndfLOe9lA5F0"
   },
   "source": [
    "### Summary of Results\n",
    "\n",
    "| Model A | Model B | Model C | \n",
    "|------|------|------|\n",
    "|   Max Pooling  | Average Pooling | Max Pooling |\n",
    "| Same Padding | Same Padding | Valid Padding | \n",
    "| 97.04% | 93.59% | 96.5% | \n",
    "\n",
    "\n",
    "| All Models |\n",
    "|------|\n",
    "| INPUT $\\rightarrow$ CONV $\\rightarrow$ POOL $\\rightarrow$ CONV $\\rightarrow$ POOL $\\rightarrow$ FC | \n",
    "| Convolution Kernel Size = 5 x 5 |\n",
    "| Convolution Kernel Stride = 1 |\n",
    "| Pooling Kernel Size = 2 x 2 |\n",
    "\n",
    "### General Deep Learning Notes on CNN and FNN\n",
    "- 3 ways to expand a convolutional neural network\n",
    "    - More convolutional layers \n",
    "    - Less aggressive downsampling\n",
    "        - Smaller kernel size for pooling (gradually downsampling)\n",
    "    - More fully connected layers \n",
    "- Cons\n",
    "    - Need a larger dataset\n",
    "        - Curse of dimensionality\n",
    "    - Does not necessarily mean higher accuracy\n"
   ]
  },
  {
   "cell_type": "markdown",
   "metadata": {
    "colab_type": "text",
    "id": "cIUg4BtXA5F0"
   },
   "source": [
    "## 3. Building a Convolutional Neural Network with PyTorch (GPU)\n",
    "### Model A\n",
    "\n",
    "<img src=\"http://drive.google.com/uc?export=view&id=1xQzHZ7okBvBGmRgfLH1dd95onwdTG6Gv\" alt=\"no_image\" style=\"width: 900px;\"/>\n",
    "<img src=\"http://drive.google.com/uc?export=view&id=1EVR_GeSZhE_gRPw0kjDtzd0rVG9ccuOU\" alt=\"no_image\" style=\"width: 900px;\"/>\n",
    "\n",
    "GPU: 2 things must be on GPU\n",
    "- `model`\n",
    "- `tensors`\n",
    "\n",
    "### Steps\n",
    "- Step 1: Load Dataset\n",
    "- Step 2: Make Dataset Iterable\n",
    "- Step 3: Create Model Class\n",
    "- **Step 4: Instantiate Model Class**\n",
    "- Step 5: Instantiate Loss Class\n",
    "- Step 6: Instantiate Optimizer Class\n",
    "- **Step 7: Train Model**"
   ]
  },
  {
   "cell_type": "markdown",
   "metadata": {
    "colab_type": "text",
    "id": "Is9HbJQJA5F0"
   },
   "source": [
    "**2 Conv + 2 Max Pooling + 1 FC (Same Padding, Zero Padding)**"
   ]
  },
  {
   "cell_type": "code",
   "execution_count": null,
   "metadata": {
    "colab": {},
    "colab_type": "code",
    "id": "kw2ghnLdA5F1",
    "outputId": "95bf90a2-e488-4600-ee64-811f380b06d8"
   },
   "outputs": [],
   "source": [
    "import torch\n",
    "import torch.nn as nn\n",
    "import torchvision.transforms as transforms\n",
    "import torchvision.datasets as dsets \n",
    "\n",
    "'''\n",
    "STEP 1: LOADING DATASET\n",
    "'''\n",
    "\n",
    "train_dataset = dsets.MNIST(root='../dataset/lab03', \n",
    "                            train=True, \n",
    "                            transform=transforms.ToTensor(),\n",
    "                            download=True)\n",
    "\n",
    "test_dataset = dsets.MNIST(root='../dataset/lab03', \n",
    "                           train=False, \n",
    "                           transform=transforms.ToTensor())\n",
    "\n",
    "'''\n",
    "STEP 2: MAKING DATASET ITERABLE\n",
    "'''\n",
    "\n",
    "batch_size = 100\n",
    "n_iters = 3000\n",
    "num_epochs = n_iters / (len(train_dataset) / batch_size)\n",
    "num_epochs = int(num_epochs)\n",
    "\n",
    "train_loader = torch.utils.data.DataLoader(dataset=train_dataset, \n",
    "                                           batch_size=batch_size, \n",
    "                                           shuffle=True)\n",
    "\n",
    "test_loader = torch.utils.data.DataLoader(dataset=test_dataset, \n",
    "                                          batch_size=batch_size, \n",
    "                                          shuffle=False)\n",
    "\n",
    "'''\n",
    "STEP 3: CREATE MODEL CLASS\n",
    "'''\n",
    "class CNNModel(nn.Module):\n",
    "    def __init__(self):\n",
    "        super(CNNModel, self).__init__()\n",
    "\n",
    "        # Convolution 1\n",
    "        self.cnn1 = nn.Conv2d(in_channels=1, out_channels=16, kernel_size=5, stride=1, padding=0)\n",
    "        self.relu1 = nn.ReLU()\n",
    "\n",
    "        # Max pool 1\n",
    "        self.maxpool1 = nn.MaxPool2d(kernel_size=2)\n",
    "\n",
    "        # Convolution 2\n",
    "        self.cnn2 = nn.Conv2d(in_channels=16, out_channels=32, kernel_size=5, stride=1, padding=0)\n",
    "        self.relu2 = nn.ReLU()\n",
    "\n",
    "        # Max pool 2\n",
    "        self.maxpool2 = nn.MaxPool2d(kernel_size=2)\n",
    "\n",
    "        # Fully connected 1 (readout)\n",
    "        self.fc1 = nn.Linear(32 * 4 * 4, 10) \n",
    "\n",
    "    def forward(self, x):\n",
    "        # Convolution 1\n",
    "        out = self.cnn1(x)\n",
    "        out = self.relu1(out)\n",
    "\n",
    "        # Max pool 1\n",
    "        out = self.maxpool1(out)\n",
    "\n",
    "        # Convolution 2 \n",
    "        out = self.cnn2(out)\n",
    "        out = self.relu2(out)\n",
    "\n",
    "        # Max pool 2 \n",
    "        out = self.maxpool2(out)\n",
    "\n",
    "        # Resize\n",
    "        # Original size: (100, 32, 7, 7)\n",
    "        # out.size(0): 100\n",
    "        # New out size: (100, 32*7*7)\n",
    "        out = out.view(out.size(0), -1)\n",
    "\n",
    "        # Linear function (readout)\n",
    "        out = self.fc1(out)\n",
    "\n",
    "        return out\n",
    "\n",
    "'''\n",
    "STEP 4: INSTANTIATE MODEL CLASS\n",
    "'''\n",
    "\n",
    "model = CNNModel()\n",
    "\n",
    "#######################\n",
    "#  USE GPU FOR MODEL  #\n",
    "#######################\n",
    "\n",
    "device = torch.device(\"cuda:0\" if torch.cuda.is_available() else \"cpu\")\n",
    "model.to(device)\n",
    "\n",
    "'''\n",
    "STEP 5: INSTANTIATE LOSS CLASS\n",
    "'''\n",
    "criterion = nn.CrossEntropyLoss()\n",
    "\n",
    "\n",
    "'''\n",
    "STEP 6: INSTANTIATE OPTIMIZER CLASS\n",
    "'''\n",
    "learning_rate = 0.01\n",
    "\n",
    "optimizer = torch.optim.SGD(model.parameters(), lr=learning_rate)\n",
    "\n",
    "'''\n",
    "STEP 7: TRAIN THE MODEL\n",
    "'''\n",
    "iter = 0\n",
    "for epoch in range(num_epochs):\n",
    "    for i, (images, labels) in enumerate(train_loader):\n",
    "\n",
    "        #######################\n",
    "        #  USE GPU FOR MODEL  #\n",
    "        #######################\n",
    "        images = images.to(device)\n",
    "        labels = labels.to(device)\n",
    "\n",
    "        # Clear gradients w.r.t. parameters\n",
    "        optimizer.zero_grad()\n",
    "\n",
    "        # Forward pass to get output/logits\n",
    "        outputs = model(images)\n",
    "\n",
    "        # Calculate Loss: softmax --> cross entropy loss\n",
    "        loss = criterion(outputs, labels)\n",
    "\n",
    "        # Getting gradients w.r.t. parameters\n",
    "        loss.backward()\n",
    "\n",
    "        # Updating parameters\n",
    "        optimizer.step()\n",
    "\n",
    "        iter += 1\n",
    "\n",
    "        if iter % 500 == 0:\n",
    "            # Calculate Accuracy         \n",
    "            correct = 0\n",
    "            total = 0\n",
    "            # Iterate through test dataset\n",
    "            for images, labels in test_loader:\n",
    "                #######################\n",
    "                #  USE GPU FOR MODEL  #\n",
    "                #######################\n",
    "                images = images.to(device)\n",
    "                labels = labels.to(device)\n",
    "\n",
    "                # Forward pass only to get logits/output\n",
    "                outputs = model(images)\n",
    "\n",
    "                # Get predictions from the maximum value\n",
    "                _, predicted = torch.max(outputs.data, 1)\n",
    "\n",
    "                # Total number of labels\n",
    "                total += labels.size(0)\n",
    "\n",
    "                #######################\n",
    "                #  USE GPU FOR MODEL  #\n",
    "                #######################\n",
    "                # Total correct predictions\n",
    "                if torch.cuda.is_available():\n",
    "                    correct += (predicted.cpu() == labels.cpu()).sum()\n",
    "                else:\n",
    "                    correct += (predicted == labels).sum()\n",
    "\n",
    "            accuracy = 100 * correct.item() / total\n",
    "\n",
    "            # Print Loss\n",
    "            print('Iteration: {}. Loss: {}. Accuracy: {}'.format(iter, loss.item(), accuracy))"
   ]
  },
  {
   "cell_type": "markdown",
   "metadata": {
    "colab_type": "text",
    "id": "ASpRhzDXA5F5"
   },
   "source": [
    "> **More Efficient Convolutions via Toeplitz Matrices**\n",
    ">\n",
    "> This is beyond the scope of this particular lesson. But now that we understand how convolutions work, it is critical to know that it is quite an inefficient operation if we use for-loops to perform our 2D convolutions (5 x 5 convolution kernel size for example) on our 2D images (28 x 28 MNIST image for example).\n",
    ">\n",
    "> A more efficient implementation is in converting our convolution kernel into a Toeplitz matrix and our image into a vector. Then, we will do just one matrix operation using our Toeplitz matrix and vector.\n",
    ">\n",
    "> There will be a whole lesson dedicated to this operation released down the road."
   ]
  },
  {
   "cell_type": "markdown",
   "metadata": {
    "colab_type": "text",
    "id": "kNSaJTzOA5F5"
   },
   "source": [
    "## Summary\n",
    "\n",
    "- Transition from **Feedforward Neural Network**\n",
    "    - Addition of **Convolutional** & **Pooling** Layers before Linear Layers\n",
    "- One **Convolutional** Layer Basics\n",
    "- One **Pooling** Layer Basics\n",
    "    - Max pooling\n",
    "    - Average pooling\n",
    "- **Padding**\n",
    "- **Output Dimension** Calculations and Examples\n",
    "    -  $ O = \\frac {W - K + 2P}{S} + 1$\n",
    "- Convolutional Neural Networks\n",
    "    - **Model A**: 2 Conv + 2 Max pool + 1 FC\n",
    "        - Same Padding\n",
    "    - **Model B**: 2 Conv + 2 Average pool + 1 FC\n",
    "        - Same Padding\n",
    "    - **Model C**: 2 Conv + 2 Max pool + 1 FC\n",
    "        - Valid Padding\n",
    "- Model Variation in **Code**\n",
    "    - Modifying only step 3\n",
    "- Ways to Expand Model’s **Capacity**\n",
    "    - More convolutions\n",
    "    - Gradual pooling\n",
    "    - More fully connected layers\n",
    "- **GPU** Code\n",
    "    - 2 things on GPU\n",
    "        - **model**\n",
    "        - **variable**\n",
    "    - Modifying only **Step 4 & Step 7**\n",
    "- **7 Step** Model Building Recap\n",
    "    - Step 1: Load Dataset\n",
    "    - Step 2: Make Dataset Iterable\n",
    "    - Step 3: Create Model Class\n",
    "    - Step 4: Instantiate Model Class\n",
    "    - Step 5: Instantiate Loss Class\n",
    "    - Step 6: Instantiate Optimizer Class\n",
    "    - Step 7: Train Model"
   ]
  },
  {
   "cell_type": "markdown",
   "metadata": {
    "colab_type": "text",
    "id": "wT_7e4eTA5F6"
   },
   "source": [
    "### *References*\n",
    "[1] [DOI](https://zenodo.org/badge/139945544.svg)(https://zenodo.org/badge/latestdoi/139945544)"
   ]
  },
  {
   "cell_type": "code",
   "execution_count": null,
   "metadata": {},
   "outputs": [],
   "source": []
  }
 ],
 "metadata": {
  "colab": {
   "name": "EEE4423_lab3_cnns.ipynb",
   "provenance": [],
   "version": "0.3.2"
  },
  "kernelspec": {
   "display_name": "torch1.9.0-py3.8-cuda11.1",
   "language": "python",
   "name": "torch1.9.0-py3.8-cuda11.1"
  },
  "language_info": {
   "codemirror_mode": {
    "name": "ipython",
    "version": 3
   },
   "file_extension": ".py",
   "mimetype": "text/x-python",
   "name": "python",
   "nbconvert_exporter": "python",
   "pygments_lexer": "ipython3",
   "version": "3.8.10"
  }
 },
 "nbformat": 4,
 "nbformat_minor": 4
}
